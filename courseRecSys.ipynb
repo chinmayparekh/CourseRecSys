{
 "cells": [
  {
   "cell_type": "code",
   "execution_count": null,
   "metadata": {},
   "outputs": [
    {
     "ename": "",
     "evalue": "",
     "output_type": "error",
     "traceback": [
      "\u001b[1;31mFailed to start the Kernel. \n",
      "Kernel Python 3.10.8 64-bit is not usable. Check the Jupyter output tab for more information. \n",
      "View Jupyter <a href='command:jupyter.viewOutput'>log</a> for further details."
     ]
    }
   ],
   "source": [
    "import pandas as pd\n",
    "import numpy as np\n",
    "from sklearn.preprocessing import StandardScaler\n",
    "from sklearn.cluster import KMeans\n",
    "import matplotlib.pyplot as plt\n",
    "from sklearn.decomposition import TruncatedSVD\n",
    "from sklearn.model_selection import train_test_split\n",
    "import sys\n"
   ]
  },
  {
   "cell_type": "code",
   "execution_count": null,
   "metadata": {},
   "outputs": [],
   "source": [
    "filename = 'courseRecSys.xlsx'\n",
    "splitProp = 0.95"
   ]
  },
  {
   "cell_type": "code",
   "execution_count": null,
   "metadata": {},
   "outputs": [],
   "source": [
    "def read_data(filename):\n",
    "    df = pd.read_excel(filename,\n",
    "    header=0,\n",
    "    index_col=False,\n",
    "    keep_default_na=True\n",
    "    )\n",
    "    return df"
   ]
  },
  {
   "cell_type": "code",
   "execution_count": null,
   "metadata": {},
   "outputs": [],
   "source": [
    "def preprocess(df):\n",
    "    df=df.drop(['Start time','Completion time','Email','Name','Name(not mandatory)\\n','ID'], axis=1)\n",
    "    #replacing nan with mean of users\n",
    "    # df[\"avg\"] = df.mean(axis = 1, skipna=True, numeric_only=True)\n",
    "    # df=df.apply(lambda row: row.fillna(row[\"avg\"]), axis=1)\n",
    "    # df = df.drop([\"avg\"],axis =1)\n",
    "    #replacing nan with mean of courses\n",
    "    df[\"avg\"] = df.mean(axis = 0, skipna=True, numeric_only=True)\n",
    "    df=df.apply(lambda x: x.fillna(x.mean()),axis=0)\n",
    "    df = df.drop([\"avg\"],axis =1)\n",
    "    return df"
   ]
  },
  {
   "cell_type": "code",
   "execution_count": null,
   "metadata": {},
   "outputs": [
    {
     "data": {
      "text/plain": [
       "\" na_df = read_data(filename)\\nna_df = na_df.drop(['Start time','Completion time','Email','Name','Name(not mandatory)\\n','ID'], axis=1)\\nna_df \""
      ]
     },
     "execution_count": 12,
     "metadata": {},
     "output_type": "execute_result"
    }
   ],
   "source": [
    "\"\"\" na_df = read_data(filename)\n",
    "na_df = na_df.drop(['Start time',\"\"\"  \"\"\"'Completion time','Email','Name','Name(not mandatory)\\n','ID'], axis=1)\n",
    "na_df \"\"\""
   ]
  },
  {
   "cell_type": "code",
   "execution_count": null,
   "metadata": {},
   "outputs": [
    {
     "name": "stdout",
     "output_type": "stream",
     "text": [
      "Requirement already satisfied: openpyxl in /opt/homebrew/lib/python3.10/site-packages (3.1.1)\n",
      "Requirement already satisfied: et-xmlfile in /opt/homebrew/lib/python3.10/site-packages (from openpyxl) (1.1.0)\n"
     ]
    }
   ],
   "source": [
    "! pip install openpyxl"
   ]
  },
  {
   "cell_type": "code",
   "execution_count": null,
   "metadata": {},
   "outputs": [
    {
     "ename": "ImportError",
     "evalue": "Missing optional dependency 'openpyxl'.  Use pip or conda to install openpyxl.",
     "output_type": "error",
     "traceback": [
      "\u001b[0;31m---------------------------------------------------------------------------\u001b[0m",
      "\u001b[0;31mModuleNotFoundError\u001b[0m                       Traceback (most recent call last)",
      "File \u001b[0;32m~/Library/Python/3.9/lib/python/site-packages/pandas/compat/_optional.py:142\u001b[0m, in \u001b[0;36mimport_optional_dependency\u001b[0;34m(name, extra, errors, min_version)\u001b[0m\n\u001b[1;32m    <a href='file:///~/Library/Python/3.9/lib/python/site-packages/pandas/compat/_optional.py?line=140'>141</a>\u001b[0m \u001b[39mtry\u001b[39;00m:\n\u001b[0;32m--> <a href='file:///~/Library/Python/3.9/lib/python/site-packages/pandas/compat/_optional.py?line=141'>142</a>\u001b[0m     module \u001b[39m=\u001b[39m importlib\u001b[39m.\u001b[39;49mimport_module(name)\n\u001b[1;32m    <a href='file:///~/Library/Python/3.9/lib/python/site-packages/pandas/compat/_optional.py?line=142'>143</a>\u001b[0m \u001b[39mexcept\u001b[39;00m \u001b[39mImportError\u001b[39;00m:\n",
      "File \u001b[0;32m/Library/Developer/CommandLineTools/Library/Frameworks/Python3.framework/Versions/3.9/lib/python3.9/importlib/__init__.py:127\u001b[0m, in \u001b[0;36mimport_module\u001b[0;34m(name, package)\u001b[0m\n\u001b[1;32m    <a href='file:///Library/Developer/CommandLineTools/Library/Frameworks/Python3.framework/Versions/3.9/lib/python3.9/importlib/__init__.py?line=125'>126</a>\u001b[0m         level \u001b[39m+\u001b[39m\u001b[39m=\u001b[39m \u001b[39m1\u001b[39m\n\u001b[0;32m--> <a href='file:///Library/Developer/CommandLineTools/Library/Frameworks/Python3.framework/Versions/3.9/lib/python3.9/importlib/__init__.py?line=126'>127</a>\u001b[0m \u001b[39mreturn\u001b[39;00m _bootstrap\u001b[39m.\u001b[39;49m_gcd_import(name[level:], package, level)\n",
      "File \u001b[0;32m<frozen importlib._bootstrap>:1030\u001b[0m, in \u001b[0;36m_gcd_import\u001b[0;34m(name, package, level)\u001b[0m\n",
      "File \u001b[0;32m<frozen importlib._bootstrap>:1007\u001b[0m, in \u001b[0;36m_find_and_load\u001b[0;34m(name, import_)\u001b[0m\n",
      "File \u001b[0;32m<frozen importlib._bootstrap>:984\u001b[0m, in \u001b[0;36m_find_and_load_unlocked\u001b[0;34m(name, import_)\u001b[0m\n",
      "\u001b[0;31mModuleNotFoundError\u001b[0m: No module named 'openpyxl'",
      "\nDuring handling of the above exception, another exception occurred:\n",
      "\u001b[0;31mImportError\u001b[0m                               Traceback (most recent call last)",
      "Cell \u001b[0;32mIn [14], line 1\u001b[0m\n\u001b[0;32m----> 1\u001b[0m df\u001b[38;5;241m=\u001b[39m\u001b[43mread_data\u001b[49m\u001b[43m(\u001b[49m\u001b[43mfilename\u001b[49m\u001b[43m)\u001b[49m\n\u001b[1;32m      2\u001b[0m df \u001b[38;5;241m=\u001b[39m preprocess(df)\n\u001b[1;32m      3\u001b[0m df\n",
      "Cell \u001b[0;32mIn [10], line 2\u001b[0m, in \u001b[0;36mread_data\u001b[0;34m(filename)\u001b[0m\n\u001b[1;32m      1\u001b[0m \u001b[38;5;28;01mdef\u001b[39;00m \u001b[38;5;21mread_data\u001b[39m(filename):\n\u001b[0;32m----> 2\u001b[0m     df \u001b[38;5;241m=\u001b[39m \u001b[43mpd\u001b[49m\u001b[38;5;241;43m.\u001b[39;49m\u001b[43mread_excel\u001b[49m\u001b[43m(\u001b[49m\u001b[43mfilename\u001b[49m\u001b[43m,\u001b[49m\n\u001b[1;32m      3\u001b[0m \u001b[43m    \u001b[49m\u001b[43mheader\u001b[49m\u001b[38;5;241;43m=\u001b[39;49m\u001b[38;5;241;43m0\u001b[39;49m\u001b[43m,\u001b[49m\n\u001b[1;32m      4\u001b[0m \u001b[43m    \u001b[49m\u001b[43mindex_col\u001b[49m\u001b[38;5;241;43m=\u001b[39;49m\u001b[38;5;28;43;01mFalse\u001b[39;49;00m\u001b[43m,\u001b[49m\n\u001b[1;32m      5\u001b[0m \u001b[43m    \u001b[49m\u001b[43mkeep_default_na\u001b[49m\u001b[38;5;241;43m=\u001b[39;49m\u001b[38;5;28;43;01mTrue\u001b[39;49;00m\n\u001b[1;32m      6\u001b[0m \u001b[43m    \u001b[49m\u001b[43m)\u001b[49m\n\u001b[1;32m      7\u001b[0m     \u001b[38;5;28;01mreturn\u001b[39;00m df\n",
      "File \u001b[0;32m~/Library/Python/3.9/lib/python/site-packages/pandas/util/_decorators.py:211\u001b[0m, in \u001b[0;36mdeprecate_kwarg.<locals>._deprecate_kwarg.<locals>.wrapper\u001b[0;34m(*args, **kwargs)\u001b[0m\n\u001b[1;32m    <a href='file:///~/Library/Python/3.9/lib/python/site-packages/pandas/util/_decorators.py?line=208'>209</a>\u001b[0m     \u001b[39melse\u001b[39;00m:\n\u001b[1;32m    <a href='file:///~/Library/Python/3.9/lib/python/site-packages/pandas/util/_decorators.py?line=209'>210</a>\u001b[0m         kwargs[new_arg_name] \u001b[39m=\u001b[39m new_arg_value\n\u001b[0;32m--> <a href='file:///~/Library/Python/3.9/lib/python/site-packages/pandas/util/_decorators.py?line=210'>211</a>\u001b[0m \u001b[39mreturn\u001b[39;00m func(\u001b[39m*\u001b[39;49margs, \u001b[39m*\u001b[39;49m\u001b[39m*\u001b[39;49mkwargs)\n",
      "File \u001b[0;32m~/Library/Python/3.9/lib/python/site-packages/pandas/util/_decorators.py:317\u001b[0m, in \u001b[0;36mdeprecate_nonkeyword_arguments.<locals>.decorate.<locals>.wrapper\u001b[0;34m(*args, **kwargs)\u001b[0m\n\u001b[1;32m    <a href='file:///~/Library/Python/3.9/lib/python/site-packages/pandas/util/_decorators.py?line=310'>311</a>\u001b[0m \u001b[39mif\u001b[39;00m \u001b[39mlen\u001b[39m(args) \u001b[39m>\u001b[39m num_allow_args:\n\u001b[1;32m    <a href='file:///~/Library/Python/3.9/lib/python/site-packages/pandas/util/_decorators.py?line=311'>312</a>\u001b[0m     warnings\u001b[39m.\u001b[39mwarn(\n\u001b[1;32m    <a href='file:///~/Library/Python/3.9/lib/python/site-packages/pandas/util/_decorators.py?line=312'>313</a>\u001b[0m         msg\u001b[39m.\u001b[39mformat(arguments\u001b[39m=\u001b[39marguments),\n\u001b[1;32m    <a href='file:///~/Library/Python/3.9/lib/python/site-packages/pandas/util/_decorators.py?line=313'>314</a>\u001b[0m         \u001b[39mFutureWarning\u001b[39;00m,\n\u001b[1;32m    <a href='file:///~/Library/Python/3.9/lib/python/site-packages/pandas/util/_decorators.py?line=314'>315</a>\u001b[0m         stacklevel\u001b[39m=\u001b[39mfind_stack_level(inspect\u001b[39m.\u001b[39mcurrentframe()),\n\u001b[1;32m    <a href='file:///~/Library/Python/3.9/lib/python/site-packages/pandas/util/_decorators.py?line=315'>316</a>\u001b[0m     )\n\u001b[0;32m--> <a href='file:///~/Library/Python/3.9/lib/python/site-packages/pandas/util/_decorators.py?line=316'>317</a>\u001b[0m \u001b[39mreturn\u001b[39;00m func(\u001b[39m*\u001b[39;49margs, \u001b[39m*\u001b[39;49m\u001b[39m*\u001b[39;49mkwargs)\n",
      "File \u001b[0;32m~/Library/Python/3.9/lib/python/site-packages/pandas/io/excel/_base.py:483\u001b[0m, in \u001b[0;36mread_excel\u001b[0;34m(io, sheet_name, header, names, index_col, usecols, squeeze, dtype, engine, converters, true_values, false_values, skiprows, nrows, na_values, keep_default_na, na_filter, verbose, parse_dates, date_parser, thousands, decimal, comment, skipfooter, convert_float, mangle_dupe_cols, storage_options)\u001b[0m\n\u001b[1;32m    <a href='file:///~/Library/Python/3.9/lib/python/site-packages/pandas/io/excel/_base.py?line=480'>481</a>\u001b[0m \u001b[39mif\u001b[39;00m \u001b[39mnot\u001b[39;00m \u001b[39misinstance\u001b[39m(io, ExcelFile):\n\u001b[1;32m    <a href='file:///~/Library/Python/3.9/lib/python/site-packages/pandas/io/excel/_base.py?line=481'>482</a>\u001b[0m     should_close \u001b[39m=\u001b[39m \u001b[39mTrue\u001b[39;00m\n\u001b[0;32m--> <a href='file:///~/Library/Python/3.9/lib/python/site-packages/pandas/io/excel/_base.py?line=482'>483</a>\u001b[0m     io \u001b[39m=\u001b[39m ExcelFile(io, storage_options\u001b[39m=\u001b[39;49mstorage_options, engine\u001b[39m=\u001b[39;49mengine)\n\u001b[1;32m    <a href='file:///~/Library/Python/3.9/lib/python/site-packages/pandas/io/excel/_base.py?line=483'>484</a>\u001b[0m \u001b[39melif\u001b[39;00m engine \u001b[39mand\u001b[39;00m engine \u001b[39m!=\u001b[39m io\u001b[39m.\u001b[39mengine:\n\u001b[1;32m    <a href='file:///~/Library/Python/3.9/lib/python/site-packages/pandas/io/excel/_base.py?line=484'>485</a>\u001b[0m     \u001b[39mraise\u001b[39;00m \u001b[39mValueError\u001b[39;00m(\n\u001b[1;32m    <a href='file:///~/Library/Python/3.9/lib/python/site-packages/pandas/io/excel/_base.py?line=485'>486</a>\u001b[0m         \u001b[39m\"\u001b[39m\u001b[39mEngine should not be specified when passing \u001b[39m\u001b[39m\"\u001b[39m\n\u001b[1;32m    <a href='file:///~/Library/Python/3.9/lib/python/site-packages/pandas/io/excel/_base.py?line=486'>487</a>\u001b[0m         \u001b[39m\"\u001b[39m\u001b[39man ExcelFile - ExcelFile already has the engine set\u001b[39m\u001b[39m\"\u001b[39m\n\u001b[1;32m    <a href='file:///~/Library/Python/3.9/lib/python/site-packages/pandas/io/excel/_base.py?line=487'>488</a>\u001b[0m     )\n",
      "File \u001b[0;32m~/Library/Python/3.9/lib/python/site-packages/pandas/io/excel/_base.py:1672\u001b[0m, in \u001b[0;36mExcelFile.__init__\u001b[0;34m(self, path_or_buffer, engine, storage_options)\u001b[0m\n\u001b[1;32m   <a href='file:///~/Library/Python/3.9/lib/python/site-packages/pandas/io/excel/_base.py?line=1668'>1669</a>\u001b[0m \u001b[39mself\u001b[39m\u001b[39m.\u001b[39mengine \u001b[39m=\u001b[39m engine\n\u001b[1;32m   <a href='file:///~/Library/Python/3.9/lib/python/site-packages/pandas/io/excel/_base.py?line=1669'>1670</a>\u001b[0m \u001b[39mself\u001b[39m\u001b[39m.\u001b[39mstorage_options \u001b[39m=\u001b[39m storage_options\n\u001b[0;32m-> <a href='file:///~/Library/Python/3.9/lib/python/site-packages/pandas/io/excel/_base.py?line=1671'>1672</a>\u001b[0m \u001b[39mself\u001b[39m\u001b[39m.\u001b[39m_reader \u001b[39m=\u001b[39m \u001b[39mself\u001b[39;49m\u001b[39m.\u001b[39;49m_engines[engine](\u001b[39mself\u001b[39;49m\u001b[39m.\u001b[39;49m_io, storage_options\u001b[39m=\u001b[39;49mstorage_options)\n",
      "File \u001b[0;32m~/Library/Python/3.9/lib/python/site-packages/pandas/io/excel/_openpyxl.py:548\u001b[0m, in \u001b[0;36mOpenpyxlReader.__init__\u001b[0;34m(self, filepath_or_buffer, storage_options)\u001b[0m\n\u001b[1;32m    <a href='file:///~/Library/Python/3.9/lib/python/site-packages/pandas/io/excel/_openpyxl.py?line=532'>533</a>\u001b[0m \u001b[39m@doc\u001b[39m(storage_options\u001b[39m=\u001b[39m_shared_docs[\u001b[39m\"\u001b[39m\u001b[39mstorage_options\u001b[39m\u001b[39m\"\u001b[39m])\n\u001b[1;32m    <a href='file:///~/Library/Python/3.9/lib/python/site-packages/pandas/io/excel/_openpyxl.py?line=533'>534</a>\u001b[0m \u001b[39mdef\u001b[39;00m \u001b[39m__init__\u001b[39m(\n\u001b[1;32m    <a href='file:///~/Library/Python/3.9/lib/python/site-packages/pandas/io/excel/_openpyxl.py?line=534'>535</a>\u001b[0m     \u001b[39mself\u001b[39m,\n\u001b[1;32m    <a href='file:///~/Library/Python/3.9/lib/python/site-packages/pandas/io/excel/_openpyxl.py?line=535'>536</a>\u001b[0m     filepath_or_buffer: FilePath \u001b[39m|\u001b[39m ReadBuffer[\u001b[39mbytes\u001b[39m],\n\u001b[1;32m    <a href='file:///~/Library/Python/3.9/lib/python/site-packages/pandas/io/excel/_openpyxl.py?line=536'>537</a>\u001b[0m     storage_options: StorageOptions \u001b[39m=\u001b[39m \u001b[39mNone\u001b[39;00m,\n\u001b[1;32m    <a href='file:///~/Library/Python/3.9/lib/python/site-packages/pandas/io/excel/_openpyxl.py?line=537'>538</a>\u001b[0m ) \u001b[39m-\u001b[39m\u001b[39m>\u001b[39m \u001b[39mNone\u001b[39;00m:\n\u001b[1;32m    <a href='file:///~/Library/Python/3.9/lib/python/site-packages/pandas/io/excel/_openpyxl.py?line=538'>539</a>\u001b[0m     \u001b[39m\"\"\"\u001b[39;00m\n\u001b[1;32m    <a href='file:///~/Library/Python/3.9/lib/python/site-packages/pandas/io/excel/_openpyxl.py?line=539'>540</a>\u001b[0m \u001b[39m    Reader using openpyxl engine.\u001b[39;00m\n\u001b[1;32m    <a href='file:///~/Library/Python/3.9/lib/python/site-packages/pandas/io/excel/_openpyxl.py?line=540'>541</a>\u001b[0m \n\u001b[0;32m   (...)\u001b[0m\n\u001b[1;32m    <a href='file:///~/Library/Python/3.9/lib/python/site-packages/pandas/io/excel/_openpyxl.py?line=545'>546</a>\u001b[0m \u001b[39m    {storage_options}\u001b[39;00m\n\u001b[1;32m    <a href='file:///~/Library/Python/3.9/lib/python/site-packages/pandas/io/excel/_openpyxl.py?line=546'>547</a>\u001b[0m \u001b[39m    \"\"\"\u001b[39;00m\n\u001b[0;32m--> <a href='file:///~/Library/Python/3.9/lib/python/site-packages/pandas/io/excel/_openpyxl.py?line=547'>548</a>\u001b[0m     import_optional_dependency(\u001b[39m\"\u001b[39;49m\u001b[39mopenpyxl\u001b[39;49m\u001b[39m\"\u001b[39;49m)\n\u001b[1;32m    <a href='file:///~/Library/Python/3.9/lib/python/site-packages/pandas/io/excel/_openpyxl.py?line=548'>549</a>\u001b[0m     \u001b[39msuper\u001b[39m()\u001b[39m.\u001b[39m\u001b[39m__init__\u001b[39m(filepath_or_buffer, storage_options\u001b[39m=\u001b[39mstorage_options)\n",
      "File \u001b[0;32m~/Library/Python/3.9/lib/python/site-packages/pandas/compat/_optional.py:145\u001b[0m, in \u001b[0;36mimport_optional_dependency\u001b[0;34m(name, extra, errors, min_version)\u001b[0m\n\u001b[1;32m    <a href='file:///~/Library/Python/3.9/lib/python/site-packages/pandas/compat/_optional.py?line=142'>143</a>\u001b[0m \u001b[39mexcept\u001b[39;00m \u001b[39mImportError\u001b[39;00m:\n\u001b[1;32m    <a href='file:///~/Library/Python/3.9/lib/python/site-packages/pandas/compat/_optional.py?line=143'>144</a>\u001b[0m     \u001b[39mif\u001b[39;00m errors \u001b[39m==\u001b[39m \u001b[39m\"\u001b[39m\u001b[39mraise\u001b[39m\u001b[39m\"\u001b[39m:\n\u001b[0;32m--> <a href='file:///~/Library/Python/3.9/lib/python/site-packages/pandas/compat/_optional.py?line=144'>145</a>\u001b[0m         \u001b[39mraise\u001b[39;00m \u001b[39mImportError\u001b[39;00m(msg)\n\u001b[1;32m    <a href='file:///~/Library/Python/3.9/lib/python/site-packages/pandas/compat/_optional.py?line=145'>146</a>\u001b[0m     \u001b[39melse\u001b[39;00m:\n\u001b[1;32m    <a href='file:///~/Library/Python/3.9/lib/python/site-packages/pandas/compat/_optional.py?line=146'>147</a>\u001b[0m         \u001b[39mreturn\u001b[39;00m \u001b[39mNone\u001b[39;00m\n",
      "\u001b[0;31mImportError\u001b[0m: Missing optional dependency 'openpyxl'.  Use pip or conda to install openpyxl."
     ]
    }
   ],
   "source": [
    "df=read_data(filename)\n",
    "df = preprocess(df)\n",
    "df"
   ]
  },
  {
   "cell_type": "markdown",
   "metadata": {},
   "source": [
    "change 0.5 to average of ratings of that user"
   ]
  },
  {
   "cell_type": "code",
   "execution_count": null,
   "metadata": {},
   "outputs": [],
   "source": [
    "train,test = train_test_split(df,train_size=splitProp, random_state=42,shuffle = True)"
   ]
  },
  {
   "cell_type": "code",
   "execution_count": null,
   "metadata": {},
   "outputs": [
    {
     "data": {
      "text/plain": [
       "(162, 25)"
      ]
     },
     "execution_count": 294,
     "metadata": {},
     "output_type": "execute_result"
    }
   ],
   "source": [
    "df.shape"
   ]
  },
  {
   "cell_type": "code",
   "execution_count": null,
   "metadata": {},
   "outputs": [
    {
     "data": {
      "text/plain": [
       "(9, 25)"
      ]
     },
     "execution_count": 295,
     "metadata": {},
     "output_type": "execute_result"
    }
   ],
   "source": [
    "test.shape"
   ]
  },
  {
   "cell_type": "code",
   "execution_count": null,
   "metadata": {},
   "outputs": [
    {
     "data": {
      "text/plain": [
       "Data Structures and Algorithms                                0\n",
       "Computer Architecture\\n                                       0\n",
       "Discrete Mathematics\\n                                        0\n",
       "Economics                                                     0\n",
       "Programming-2                                                 0\n",
       "Machine Learning\\n                                            0\n",
       "Mathematics For Machine Learning\\n                            0\n",
       "Visual Recognition\\n                                          0\n",
       "Natural Language Processing\\n                                 0\n",
       "Reinforcement Learning                                        0\n",
       "Software Production Engineering\\n                             0\n",
       "Computer Graphics\\n                                           0\n",
       "Data Visualization\\n                                          0\n",
       "Programming Languages\\n                                       0\n",
       "Cloud Computing\\n                                             0\n",
       "Digital CMOS VLSI Design                                      0\n",
       "System design with FPGA                                       0\n",
       "ASIC design                                                   0\n",
       "VLSI Architecture Design\\n                                    0\n",
       "High level synthesis and optimization of Digital Circuits     0\n",
       "Digital Sociology                                             0\n",
       "Privacy in the Digital Age                                    0\n",
       "Technology Ethics and AI                                      0\n",
       "Techno-economics of networks                                  0\n",
       "The Web and the Mind                                          0\n",
       "dtype: int64"
      ]
     },
     "execution_count": 296,
     "metadata": {},
     "output_type": "execute_result"
    }
   ],
   "source": [
    "df.isna().sum()"
   ]
  },
  {
   "cell_type": "code",
   "execution_count": null,
   "metadata": {},
   "outputs": [
    {
     "data": {
      "text/plain": [
       "Index(['Data Structures and Algorithms', 'Computer Architecture\\n',\n",
       "       'Discrete Mathematics\\n', 'Economics', 'Programming-2',\n",
       "       'Machine Learning\\n', 'Mathematics For Machine Learning\\n',\n",
       "       'Visual Recognition\\n', 'Natural Language Processing\\n',\n",
       "       'Reinforcement Learning', 'Software Production Engineering\\n',\n",
       "       'Computer Graphics\\n', 'Data Visualization\\n',\n",
       "       'Programming Languages\\n', 'Cloud Computing\\n',\n",
       "       'Digital CMOS VLSI Design ', 'System design with FPGA ', 'ASIC design ',\n",
       "       'VLSI Architecture Design\\n',\n",
       "       'High level synthesis and optimization of Digital Circuits ',\n",
       "       'Digital Sociology ', 'Privacy in the Digital Age',\n",
       "       'Technology Ethics and AI ', 'Techno-economics of networks ',\n",
       "       'The Web and the Mind '],\n",
       "      dtype='object')"
      ]
     },
     "execution_count": 297,
     "metadata": {},
     "output_type": "execute_result"
    }
   ],
   "source": [
    "courses = df.columns\n",
    "courses"
   ]
  },
  {
   "cell_type": "code",
   "execution_count": null,
   "metadata": {},
   "outputs": [],
   "source": [
    "core_courses = ['Data Structures and Algorithms','Computer Architecture\\n','Discrete Mathematics\\n','Economics','Programming-2']"
   ]
  },
  {
   "cell_type": "code",
   "execution_count": null,
   "metadata": {},
   "outputs": [],
   "source": [
    "def visualize(point):\n",
    "    wcss = []  #Within Cluster Sum of Squares\n",
    "    for number_of_clusters in range(1, 15): \n",
    "        kmeans = KMeans(n_clusters = number_of_clusters, random_state = 42)\n",
    "        kmeans.fit(df[core_courses]) \n",
    "        wcss.append(kmeans.inertia_)\n",
    "    ks = np.arange(1,15,1)\n",
    "    plt.plot(ks, wcss)\n",
    "    plt.axvline(point, linestyle='--', color='r')\n",
    "    return wcss"
   ]
  },
  {
   "cell_type": "code",
   "execution_count": null,
   "metadata": {},
   "outputs": [
    {
     "data": {
      "text/plain": [
       "[82.11226015529861,\n",
       " 63.240786484853075,\n",
       " 51.758327711871004,\n",
       " 44.960536327093386,\n",
       " 39.893986878723226,\n",
       " 36.144823683120876,\n",
       " 33.398702023260036,\n",
       " 30.5695359693512,\n",
       " 28.1421428563879,\n",
       " 25.495720837938926,\n",
       " 24.303521924994463,\n",
       " 22.250775245363172,\n",
       " 21.26505642848126,\n",
       " 19.7185773653146]"
      ]
     },
     "execution_count": 300,
     "metadata": {},
     "output_type": "execute_result"
    },
    {
     "data": {
      "image/png": "[encoded data removed]",
      "text/plain": [
       "<Figure size 640x480 with 1 Axes>"
      ]
     },
     "metadata": {},
     "output_type": "display_data"
    }
   ],
   "source": [
    "visualize(5)"
   ]
  },
  {
   "cell_type": "code",
   "execution_count": null,
   "metadata": {},
   "outputs": [],
   "source": [
    "def K_means(df, num_clusters, iters):\n",
    "    np_dat = df.to_numpy()\n",
    "    # Initialize the centroids\n",
    "    range_min = np.min(np_dat, axis = 0)\n",
    "    range_max = np.max(np_dat, axis = 0)\n",
    "    curr_centroids = []\n",
    "    np.random.seed(75)\n",
    "    for i in range(num_clusters):\n",
    "        curr_centroids.append(np.random.uniform(range_min, range_max))\n",
    "    clusters = {}\n",
    "    for it in range(iters):\n",
    "        # Repopulate clusters\n",
    "        clusters.clear()\n",
    "        for j in range(np_dat.shape[0]):\n",
    "            datapoint = np_dat[j]\n",
    "            min = sys.maxsize\n",
    "            min_index = 10\n",
    "            for k in range(num_clusters):\n",
    "                dist = np.linalg.norm(curr_centroids[k] - datapoint)\n",
    "                if(dist < min):\n",
    "                    min = dist\n",
    "                    min_index = k\n",
    "            if(clusters.get(str(min_index)) == None):\n",
    "                clusters[str(min_index)] = []\n",
    "            clusters[str(min_index)].append(j)\n",
    "        \n",
    "        # Recalculate Centroids\n",
    "        new_centroids = []\n",
    "        for k in range(num_clusters):\n",
    "            key = str(k)\n",
    "            if(clusters.get(key) == None): \n",
    "                n_centr = curr_centroids[k]\n",
    "                #n_centr = np.random.uniform(range_min, range_max)\n",
    "            else: n_centr = np.mean(np_dat[np.array(clusters[key])], axis = 0)\n",
    "            new_centroids.append(n_centr)\n",
    "        \n",
    "        #if((np.not_equal(new_centroids, curr_centroids).any()) != True ): break\n",
    "        curr_centroids = new_centroids\n",
    "        #print(it)\n",
    "    return clusters\n"
   ]
  },
  {
   "cell_type": "code",
   "execution_count": null,
   "metadata": {},
   "outputs": [],
   "source": [
    "def get_clustered_df(df,num_clusters):\n",
    "    \"\"\" kmeans = KMeans(n_clusters = num_clusters, random_state = 42)\n",
    "    clustered_matrix = kmeans.fit_predict(df[core_courses]) \n",
    "    print(clustered_matrix.shape) \"\"\"\n",
    "    cluster_dict = K_means(df[core_courses], num_clusters, 50)\n",
    "    print(cluster_dict)\n",
    "    clustered_df =[]\n",
    "    arr = df.to_numpy()\n",
    "    for k in range(num_clusters):\n",
    "        key = str(k)\n",
    "        centr = np.nanmean(arr[np.array(cluster_dict[key])], axis = 0)\n",
    "        clustered_df.append(centr)\n",
    "    \"\"\" for i in range(k):\n",
    "        users = 0\n",
    "        s=np.zeros(25)\n",
    "        for j in range(len(clustered_matrix)):#162\n",
    "            \n",
    "            if clustered_matrix[j]==i:\n",
    "                s+=arr[j]\n",
    "                users = users + 1\n",
    "        mean = s/users\n",
    "        clustered_df.append(mean) \"\"\"\n",
    "    return clustered_df"
   ]
  },
  {
   "cell_type": "code",
   "execution_count": null,
   "metadata": {},
   "outputs": [],
   "source": [
    "def old_get_clustered_df(df,num_clusters):\n",
    "    kmeans = KMeans(n_clusters = num_clusters, random_state = 42)\n",
    "    clustered_matrix = kmeans.fit_predict(df[core_courses]) \n",
    "    # print(clustered_matrix.shape)\n",
    "    arr = df.to_numpy()\n",
    "    clustered_df = []\n",
    "    for i in range(num_clusters):\n",
    "        users = 0\n",
    "        s=np.zeros(25)\n",
    "        for j in range(len(clustered_matrix)):#162\n",
    "            \n",
    "            if clustered_matrix[j]==i:\n",
    "                s+=arr[j]\n",
    "                users = users + 1\n",
    "        mean = s/users\n",
    "        clustered_df.append(mean)\n",
    "    return clustered_df"
   ]
  },
  {
   "cell_type": "code",
   "execution_count": null,
   "metadata": {},
   "outputs": [],
   "source": [
    "clustered_df = old_get_clustered_df(df,10)"
   ]
  },
  {
   "cell_type": "code",
   "execution_count": null,
   "metadata": {},
   "outputs": [
    {
     "data": {
      "text/plain": [
       "' clustered_df '"
      ]
     },
     "execution_count": 305,
     "metadata": {},
     "output_type": "execute_result"
    }
   ],
   "source": [
    "\"\"\" clustered_df \"\"\""
   ]
  },
  {
   "cell_type": "code",
   "execution_count": null,
   "metadata": {},
   "outputs": [
    {
     "data": {
      "text/plain": [
       "' nan_clustered_df = get_clustered_df(na_df,10) '"
      ]
     },
     "execution_count": 306,
     "metadata": {},
     "output_type": "execute_result"
    }
   ],
   "source": [
    "\"\"\" nan_clustered_df = get_clustered_df(na_df,10) \"\"\""
   ]
  },
  {
   "cell_type": "code",
   "execution_count": null,
   "metadata": {},
   "outputs": [
    {
     "data": {
      "text/plain": [
       "' nan_clustered_df '"
      ]
     },
     "execution_count": 307,
     "metadata": {},
     "output_type": "execute_result"
    }
   ],
   "source": [
    "\"\"\" nan_clustered_df \"\"\""
   ]
  },
  {
   "cell_type": "code",
   "execution_count": null,
   "metadata": {},
   "outputs": [
    {
     "data": {
      "text/plain": [
       "' nan_df = pd.DataFrame(nan_clustered_df, columns = courses)\\nnan_df '"
      ]
     },
     "execution_count": 308,
     "metadata": {},
     "output_type": "execute_result"
    }
   ],
   "source": [
    "\"\"\" nan_df = pd.DataFrame(nan_clustered_df, columns = courses)\n",
    "nan_df \"\"\""
   ]
  },
  {
   "cell_type": "code",
   "execution_count": null,
   "metadata": {},
   "outputs": [
    {
     "data": {
      "text/plain": [
       "' nan_df[\"avg\"] = nan_df.mean(axis = 1, skipna=True, numeric_only=True)\\nnan_df=nan_df.apply(lambda row: row.fillna(row[\"avg\"]), axis=1)\\nnan_df = nan_df.drop([\"avg\"],axis =1) '"
      ]
     },
     "execution_count": 309,
     "metadata": {},
     "output_type": "execute_result"
    }
   ],
   "source": [
    "\"\"\" nan_df[\"avg\"] = nan_df.mean(axis = 1, skipna=True, numeric_only=True)\n",
    "nan_df=nan_df.apply(lambda row: row.fillna(row[\"avg\"]), axis=1)\n",
    "nan_df = nan_df.drop([\"avg\"],axis =1) \"\"\""
   ]
  },
  {
   "cell_type": "code",
   "execution_count": null,
   "metadata": {},
   "outputs": [
    {
     "data": {
      "text/plain": [
       "' nan_df '"
      ]
     },
     "execution_count": 310,
     "metadata": {},
     "output_type": "execute_result"
    }
   ],
   "source": [
    "\"\"\" nan_df \"\"\""
   ]
  },
  {
   "cell_type": "code",
   "execution_count": null,
   "metadata": {},
   "outputs": [
    {
     "data": {
      "text/html": [
       "<div>\n",
       "<style scoped>\n",
       "    .dataframe tbody tr th:only-of-type {\n",
       "        vertical-align: middle;\n",
       "    }\n",
       "\n",
       "    .dataframe tbody tr th {\n",
       "        vertical-align: top;\n",
       "    }\n",
       "\n",
       "    .dataframe thead th {\n",
       "        text-align: right;\n",
       "    }\n",
       "</style>\n",
       "<table border=\"1\" class=\"dataframe\">\n",
       "  <thead>\n",
       "    <tr style=\"text-align: right;\">\n",
       "      <th></th>\n",
       "      <th>Data Structures and Algorithms</th>\n",
       "      <th>Computer Architecture\\n</th>\n",
       "      <th>Discrete Mathematics\\n</th>\n",
       "      <th>Economics</th>\n",
       "      <th>Programming-2</th>\n",
       "      <th>Machine Learning\\n</th>\n",
       "      <th>Mathematics For Machine Learning\\n</th>\n",
       "      <th>Visual Recognition\\n</th>\n",
       "      <th>Natural Language Processing\\n</th>\n",
       "      <th>Reinforcement Learning</th>\n",
       "      <th>...</th>\n",
       "      <th>Digital CMOS VLSI Design</th>\n",
       "      <th>System design with FPGA</th>\n",
       "      <th>ASIC design</th>\n",
       "      <th>VLSI Architecture Design\\n</th>\n",
       "      <th>High level synthesis and optimization of Digital Circuits</th>\n",
       "      <th>Digital Sociology</th>\n",
       "      <th>Privacy in the Digital Age</th>\n",
       "      <th>Technology Ethics and AI</th>\n",
       "      <th>Techno-economics of networks</th>\n",
       "      <th>The Web and the Mind</th>\n",
       "    </tr>\n",
       "  </thead>\n",
       "  <tbody>\n",
       "    <tr>\n",
       "      <th>0</th>\n",
       "      <td>0.642857</td>\n",
       "      <td>0.042857</td>\n",
       "      <td>0.914286</td>\n",
       "      <td>0.021429</td>\n",
       "      <td>0.914286</td>\n",
       "      <td>0.971429</td>\n",
       "      <td>0.957143</td>\n",
       "      <td>0.800000</td>\n",
       "      <td>0.510377</td>\n",
       "      <td>0.629071</td>\n",
       "      <td>...</td>\n",
       "      <td>0.193077</td>\n",
       "      <td>0.049474</td>\n",
       "      <td>0.059258</td>\n",
       "      <td>0.190695</td>\n",
       "      <td>0.052579</td>\n",
       "      <td>0.124035</td>\n",
       "      <td>0.207530</td>\n",
       "      <td>0.260469</td>\n",
       "      <td>0.128089</td>\n",
       "      <td>0.431685</td>\n",
       "    </tr>\n",
       "    <tr>\n",
       "      <th>1</th>\n",
       "      <td>0.925455</td>\n",
       "      <td>0.875455</td>\n",
       "      <td>0.915758</td>\n",
       "      <td>0.873030</td>\n",
       "      <td>0.943636</td>\n",
       "      <td>0.810201</td>\n",
       "      <td>0.808428</td>\n",
       "      <td>0.710027</td>\n",
       "      <td>0.546654</td>\n",
       "      <td>0.574316</td>\n",
       "      <td>...</td>\n",
       "      <td>0.256946</td>\n",
       "      <td>0.267464</td>\n",
       "      <td>0.260488</td>\n",
       "      <td>0.251435</td>\n",
       "      <td>0.223064</td>\n",
       "      <td>0.436261</td>\n",
       "      <td>0.427980</td>\n",
       "      <td>0.466537</td>\n",
       "      <td>0.529771</td>\n",
       "      <td>0.501729</td>\n",
       "    </tr>\n",
       "    <tr>\n",
       "      <th>2</th>\n",
       "      <td>0.650000</td>\n",
       "      <td>0.200000</td>\n",
       "      <td>0.216667</td>\n",
       "      <td>0.761111</td>\n",
       "      <td>0.794444</td>\n",
       "      <td>0.722592</td>\n",
       "      <td>0.527778</td>\n",
       "      <td>0.478894</td>\n",
       "      <td>0.471173</td>\n",
       "      <td>0.484887</td>\n",
       "      <td>...</td>\n",
       "      <td>0.198333</td>\n",
       "      <td>0.200117</td>\n",
       "      <td>0.171804</td>\n",
       "      <td>0.186294</td>\n",
       "      <td>0.138040</td>\n",
       "      <td>0.423273</td>\n",
       "      <td>0.509537</td>\n",
       "      <td>0.471079</td>\n",
       "      <td>0.453116</td>\n",
       "      <td>0.649288</td>\n",
       "    </tr>\n",
       "    <tr>\n",
       "      <th>3</th>\n",
       "      <td>0.842500</td>\n",
       "      <td>0.505000</td>\n",
       "      <td>0.165000</td>\n",
       "      <td>0.100000</td>\n",
       "      <td>0.880000</td>\n",
       "      <td>0.787833</td>\n",
       "      <td>0.596129</td>\n",
       "      <td>0.534510</td>\n",
       "      <td>0.526528</td>\n",
       "      <td>0.580024</td>\n",
       "      <td>...</td>\n",
       "      <td>0.238038</td>\n",
       "      <td>0.188895</td>\n",
       "      <td>0.164442</td>\n",
       "      <td>0.182204</td>\n",
       "      <td>0.108819</td>\n",
       "      <td>0.197297</td>\n",
       "      <td>0.313448</td>\n",
       "      <td>0.329314</td>\n",
       "      <td>0.213649</td>\n",
       "      <td>0.378269</td>\n",
       "    </tr>\n",
       "    <tr>\n",
       "      <th>4</th>\n",
       "      <td>0.976923</td>\n",
       "      <td>0.961538</td>\n",
       "      <td>0.983846</td>\n",
       "      <td>0.046154</td>\n",
       "      <td>0.969231</td>\n",
       "      <td>0.892308</td>\n",
       "      <td>0.830769</td>\n",
       "      <td>0.509238</td>\n",
       "      <td>0.780406</td>\n",
       "      <td>0.708230</td>\n",
       "      <td>...</td>\n",
       "      <td>0.365740</td>\n",
       "      <td>0.345020</td>\n",
       "      <td>0.296863</td>\n",
       "      <td>0.303036</td>\n",
       "      <td>0.205556</td>\n",
       "      <td>0.199324</td>\n",
       "      <td>0.535240</td>\n",
       "      <td>0.393571</td>\n",
       "      <td>0.229470</td>\n",
       "      <td>0.638807</td>\n",
       "    </tr>\n",
       "    <tr>\n",
       "      <th>5</th>\n",
       "      <td>0.771429</td>\n",
       "      <td>0.914286</td>\n",
       "      <td>0.885714</td>\n",
       "      <td>0.442857</td>\n",
       "      <td>0.185714</td>\n",
       "      <td>0.843809</td>\n",
       "      <td>0.788941</td>\n",
       "      <td>0.577171</td>\n",
       "      <td>0.631131</td>\n",
       "      <td>0.529570</td>\n",
       "      <td>...</td>\n",
       "      <td>0.179231</td>\n",
       "      <td>0.219850</td>\n",
       "      <td>0.092059</td>\n",
       "      <td>0.272086</td>\n",
       "      <td>0.157738</td>\n",
       "      <td>0.136390</td>\n",
       "      <td>0.186488</td>\n",
       "      <td>0.267122</td>\n",
       "      <td>0.227124</td>\n",
       "      <td>0.247527</td>\n",
       "    </tr>\n",
       "    <tr>\n",
       "      <th>6</th>\n",
       "      <td>0.919231</td>\n",
       "      <td>0.907692</td>\n",
       "      <td>0.146154</td>\n",
       "      <td>0.903846</td>\n",
       "      <td>0.803846</td>\n",
       "      <td>0.839486</td>\n",
       "      <td>0.653475</td>\n",
       "      <td>0.693099</td>\n",
       "      <td>0.619519</td>\n",
       "      <td>0.648574</td>\n",
       "      <td>...</td>\n",
       "      <td>0.269941</td>\n",
       "      <td>0.344453</td>\n",
       "      <td>0.306833</td>\n",
       "      <td>0.277632</td>\n",
       "      <td>0.116346</td>\n",
       "      <td>0.449688</td>\n",
       "      <td>0.551042</td>\n",
       "      <td>0.454582</td>\n",
       "      <td>0.544335</td>\n",
       "      <td>0.522929</td>\n",
       "    </tr>\n",
       "    <tr>\n",
       "      <th>7</th>\n",
       "      <td>0.888889</td>\n",
       "      <td>0.213333</td>\n",
       "      <td>0.850000</td>\n",
       "      <td>0.850000</td>\n",
       "      <td>0.888889</td>\n",
       "      <td>0.734073</td>\n",
       "      <td>0.691399</td>\n",
       "      <td>0.571133</td>\n",
       "      <td>0.552515</td>\n",
       "      <td>0.545221</td>\n",
       "      <td>...</td>\n",
       "      <td>0.189573</td>\n",
       "      <td>0.176140</td>\n",
       "      <td>0.195469</td>\n",
       "      <td>0.171053</td>\n",
       "      <td>0.152469</td>\n",
       "      <td>0.406081</td>\n",
       "      <td>0.616968</td>\n",
       "      <td>0.543683</td>\n",
       "      <td>0.588138</td>\n",
       "      <td>0.560399</td>\n",
       "    </tr>\n",
       "    <tr>\n",
       "      <th>8</th>\n",
       "      <td>0.212637</td>\n",
       "      <td>0.895000</td>\n",
       "      <td>0.486235</td>\n",
       "      <td>0.947253</td>\n",
       "      <td>0.738788</td>\n",
       "      <td>0.692587</td>\n",
       "      <td>0.632776</td>\n",
       "      <td>0.566297</td>\n",
       "      <td>0.604173</td>\n",
       "      <td>0.667003</td>\n",
       "      <td>...</td>\n",
       "      <td>0.196077</td>\n",
       "      <td>0.182421</td>\n",
       "      <td>0.150364</td>\n",
       "      <td>0.164408</td>\n",
       "      <td>0.137639</td>\n",
       "      <td>0.222770</td>\n",
       "      <td>0.535708</td>\n",
       "      <td>0.426300</td>\n",
       "      <td>0.447973</td>\n",
       "      <td>0.596538</td>\n",
       "    </tr>\n",
       "    <tr>\n",
       "      <th>9</th>\n",
       "      <td>0.835312</td>\n",
       "      <td>0.794688</td>\n",
       "      <td>0.640312</td>\n",
       "      <td>0.606563</td>\n",
       "      <td>0.830313</td>\n",
       "      <td>0.825833</td>\n",
       "      <td>0.777823</td>\n",
       "      <td>0.676277</td>\n",
       "      <td>0.578507</td>\n",
       "      <td>0.661232</td>\n",
       "      <td>...</td>\n",
       "      <td>0.293822</td>\n",
       "      <td>0.294967</td>\n",
       "      <td>0.239091</td>\n",
       "      <td>0.274445</td>\n",
       "      <td>0.212413</td>\n",
       "      <td>0.295355</td>\n",
       "      <td>0.499538</td>\n",
       "      <td>0.444862</td>\n",
       "      <td>0.375697</td>\n",
       "      <td>0.502804</td>\n",
       "    </tr>\n",
       "  </tbody>\n",
       "</table>\n",
       "<p>10 rows × 25 columns</p>\n",
       "</div>"
      ],
      "text/plain": [
       "   Data Structures and Algorithms  Computer Architecture\\n  \\\n",
       "0                        0.642857                 0.042857   \n",
       "1                        0.925455                 0.875455   \n",
       "2                        0.650000                 0.200000   \n",
       "3                        0.842500                 0.505000   \n",
       "4                        0.976923                 0.961538   \n",
       "5                        0.771429                 0.914286   \n",
       "6                        0.919231                 0.907692   \n",
       "7                        0.888889                 0.213333   \n",
       "8                        0.212637                 0.895000   \n",
       "9                        0.835312                 0.794688   \n",
       "\n",
       "   Discrete Mathematics\\n  Economics  Programming-2  Machine Learning\\n  \\\n",
       "0                0.914286   0.021429       0.914286            0.971429   \n",
       "1                0.915758   0.873030       0.943636            0.810201   \n",
       "2                0.216667   0.761111       0.794444            0.722592   \n",
       "3                0.165000   0.100000       0.880000            0.787833   \n",
       "4                0.983846   0.046154       0.969231            0.892308   \n",
       "5                0.885714   0.442857       0.185714            0.843809   \n",
       "6                0.146154   0.903846       0.803846            0.839486   \n",
       "7                0.850000   0.850000       0.888889            0.734073   \n",
       "8                0.486235   0.947253       0.738788            0.692587   \n",
       "9                0.640312   0.606563       0.830313            0.825833   \n",
       "\n",
       "   Mathematics For Machine Learning\\n  Visual Recognition\\n  \\\n",
       "0                            0.957143              0.800000   \n",
       "1                            0.808428              0.710027   \n",
       "2                            0.527778              0.478894   \n",
       "3                            0.596129              0.534510   \n",
       "4                            0.830769              0.509238   \n",
       "5                            0.788941              0.577171   \n",
       "6                            0.653475              0.693099   \n",
       "7                            0.691399              0.571133   \n",
       "8                            0.632776              0.566297   \n",
       "9                            0.777823              0.676277   \n",
       "\n",
       "   Natural Language Processing\\n  Reinforcement Learning  ...  \\\n",
       "0                       0.510377                0.629071  ...   \n",
       "1                       0.546654                0.574316  ...   \n",
       "2                       0.471173                0.484887  ...   \n",
       "3                       0.526528                0.580024  ...   \n",
       "4                       0.780406                0.708230  ...   \n",
       "5                       0.631131                0.529570  ...   \n",
       "6                       0.619519                0.648574  ...   \n",
       "7                       0.552515                0.545221  ...   \n",
       "8                       0.604173                0.667003  ...   \n",
       "9                       0.578507                0.661232  ...   \n",
       "\n",
       "   Digital CMOS VLSI Design   System design with FPGA   ASIC design   \\\n",
       "0                   0.193077                  0.049474      0.059258   \n",
       "1                   0.256946                  0.267464      0.260488   \n",
       "2                   0.198333                  0.200117      0.171804   \n",
       "3                   0.238038                  0.188895      0.164442   \n",
       "4                   0.365740                  0.345020      0.296863   \n",
       "5                   0.179231                  0.219850      0.092059   \n",
       "6                   0.269941                  0.344453      0.306833   \n",
       "7                   0.189573                  0.176140      0.195469   \n",
       "8                   0.196077                  0.182421      0.150364   \n",
       "9                   0.293822                  0.294967      0.239091   \n",
       "\n",
       "   VLSI Architecture Design\\n  \\\n",
       "0                    0.190695   \n",
       "1                    0.251435   \n",
       "2                    0.186294   \n",
       "3                    0.182204   \n",
       "4                    0.303036   \n",
       "5                    0.272086   \n",
       "6                    0.277632   \n",
       "7                    0.171053   \n",
       "8                    0.164408   \n",
       "9                    0.274445   \n",
       "\n",
       "   High level synthesis and optimization of Digital Circuits   \\\n",
       "0                                           0.052579            \n",
       "1                                           0.223064            \n",
       "2                                           0.138040            \n",
       "3                                           0.108819            \n",
       "4                                           0.205556            \n",
       "5                                           0.157738            \n",
       "6                                           0.116346            \n",
       "7                                           0.152469            \n",
       "8                                           0.137639            \n",
       "9                                           0.212413            \n",
       "\n",
       "   Digital Sociology   Privacy in the Digital Age  Technology Ethics and AI   \\\n",
       "0            0.124035                    0.207530                   0.260469   \n",
       "1            0.436261                    0.427980                   0.466537   \n",
       "2            0.423273                    0.509537                   0.471079   \n",
       "3            0.197297                    0.313448                   0.329314   \n",
       "4            0.199324                    0.535240                   0.393571   \n",
       "5            0.136390                    0.186488                   0.267122   \n",
       "6            0.449688                    0.551042                   0.454582   \n",
       "7            0.406081                    0.616968                   0.543683   \n",
       "8            0.222770                    0.535708                   0.426300   \n",
       "9            0.295355                    0.499538                   0.444862   \n",
       "\n",
       "   Techno-economics of networks   The Web and the Mind   \n",
       "0                       0.128089               0.431685  \n",
       "1                       0.529771               0.501729  \n",
       "2                       0.453116               0.649288  \n",
       "3                       0.213649               0.378269  \n",
       "4                       0.229470               0.638807  \n",
       "5                       0.227124               0.247527  \n",
       "6                       0.544335               0.522929  \n",
       "7                       0.588138               0.560399  \n",
       "8                       0.447973               0.596538  \n",
       "9                       0.375697               0.502804  \n",
       "\n",
       "[10 rows x 25 columns]"
      ]
     },
     "execution_count": 311,
     "metadata": {},
     "output_type": "execute_result"
    }
   ],
   "source": [
    "df = pd.DataFrame(clustered_df, columns = courses)\n",
    "df"
   ]
  },
  {
   "cell_type": "code",
   "execution_count": null,
   "metadata": {},
   "outputs": [],
   "source": [
    "def svd(A):\n",
    "    \n",
    "    # Step 1: Compute the transpose of A\n",
    "    AT = A.T\n",
    "    # Step 2: Compute the product A x AT\n",
    "    ATA = A.dot(AT)\n",
    "    # Step 3: Compute the eigenvalues and eigenvectors of ATA\n",
    "    eigenvalues, eigenvectors = np.linalg.eig(ATA)\n",
    "    # Step 4: Sort the eigenvalues in descending order\n",
    "    sorted_idx = eigenvalues.argsort()[::-1]\n",
    "    eigenvalues = eigenvalues[sorted_idx]\n",
    "    eigenvectors = eigenvectors[:, sorted_idx]\n",
    "    # Step 5: Compute the diagonal matrix Sigma\n",
    "    Sigma = np.sqrt(eigenvalues)\n",
    "    # Step 6: Compute the pseudo-inverse of Sigma\n",
    "    inv_Sigma = np.zeros((A.shape[1], A.shape[0]))\n",
    "    print(A.shape)\n",
    "    inv_Sigma[:A.shape[0], :A.shape[0]] = np.diag(1.0 / Sigma)\n",
    "    # Step 7: Compute the product AT x V x inv(Sigma)\n",
    "    V = AT.dot(eigenvectors)\n",
    "    # Step 8: Normalize the columns of V\n",
    "    V = V / np.linalg.norm(V, axis=0)\n",
    "    # Step 9: Compute the product A x U x Sigma^-1\n",
    "    U = A.dot(V) / Sigma\n",
    "    return U, Sigma, V.T"
   ]
  },
  {
   "cell_type": "code",
   "execution_count": null,
   "metadata": {},
   "outputs": [
    {
     "name": "stdout",
     "output_type": "stream",
     "text": [
      "(10, 25)\n"
     ]
    }
   ],
   "source": [
    "U,sigma,VT = svd(np.array(clustered_df))"
   ]
  },
  {
   "cell_type": "code",
   "execution_count": null,
   "metadata": {},
   "outputs": [
    {
     "data": {
      "text/plain": [
       "((10, 10), (10,), (10, 25))"
      ]
     },
     "execution_count": 314,
     "metadata": {},
     "output_type": "execute_result"
    }
   ],
   "source": [
    "U.shape,sigma.shape,VT.shape"
   ]
  },
  {
   "cell_type": "code",
   "execution_count": null,
   "metadata": {},
   "outputs": [],
   "source": [
    "k=6"
   ]
  },
  {
   "cell_type": "code",
   "execution_count": null,
   "metadata": {},
   "outputs": [],
   "source": [
    "def reduced_svd(k,A):\n",
    "    U,sigma,VT = svd(A)\n",
    "    reduced_matrix = np.dot(np.dot(U[:,:k],np.diag(sigma[:k])),VT[:k,:])\n",
    "    return reduced_matrix\n"
   ]
  },
  {
   "cell_type": "code",
   "execution_count": null,
   "metadata": {},
   "outputs": [
    {
     "name": "stdout",
     "output_type": "stream",
     "text": [
      "(10, 25)\n"
     ]
    },
    {
     "data": {
      "text/plain": [
       "list"
      ]
     },
     "execution_count": 317,
     "metadata": {},
     "output_type": "execute_result"
    }
   ],
   "source": [
    "reduced_matrix = reduced_svd(k,np.array(clustered_df))\n",
    "type(clustered_df)"
   ]
  },
  {
   "cell_type": "code",
   "execution_count": null,
   "metadata": {},
   "outputs": [],
   "source": [
    "# reduced_matrix = truncated_matrix"
   ]
  },
  {
   "cell_type": "code",
   "execution_count": null,
   "metadata": {},
   "outputs": [],
   "source": [
    "def EuclDist(vec1,vec2):\n",
    "    return np.linalg.norm(vec1 - vec2)"
   ]
  },
  {
   "cell_type": "markdown",
   "metadata": {},
   "source": [
    "new user with just core courses ratings. Now we need elective courses"
   ]
  },
  {
   "cell_type": "code",
   "execution_count": null,
   "metadata": {},
   "outputs": [],
   "source": [
    "new_user = [0.2,0.8,0.2,0.6,0.9]\n",
    "new_user2 =[ 0.699459,\t0.545405\t,0.325405\t,0.615135\t,0.737838]\n",
    "sooraj = [0.4, 0.8,0.85,0.9,0.7]\n",
    "chinmay = [0.9,0.2,0.4,0.6 ,0.8]\n",
    "kritin = [0,0,0,0,0]"
   ]
  },
  {
   "cell_type": "code",
   "execution_count": null,
   "metadata": {},
   "outputs": [],
   "source": [
    "\n",
    "def find_cluster(reduced_matrix,new_user):\n",
    "    \n",
    "    min=EuclDist(reduced_matrix[0,:5],new_user)\n",
    "    cluster = 0\n",
    "    for i in range(len(reduced_matrix)):\n",
    "        sim = EuclDist(reduced_matrix[i,:5],new_user)#euclidean distance\n",
    "        # print(sim)\n",
    "        if sim<min:\n",
    "            min = sim\n",
    "            cluster=i\n",
    "    return cluster\n"
   ]
  },
  {
   "cell_type": "code",
   "execution_count": null,
   "metadata": {},
   "outputs": [
    {
     "data": {
      "text/plain": [
       "3"
      ]
     },
     "execution_count": 322,
     "metadata": {},
     "output_type": "execute_result"
    }
   ],
   "source": [
    "find_cluster(reduced_matrix,kritin)#testing"
   ]
  },
  {
   "cell_type": "code",
   "execution_count": null,
   "metadata": {},
   "outputs": [],
   "source": [
    "def find_elective_ratings(reduced_matrix,new_user):\n",
    "    cluster = find_cluster(reduced_matrix,new_user)\n",
    "    elective_ratings = reduced_matrix[cluster,5:]\n",
    "    return elective_ratings\n"
   ]
  },
  {
   "cell_type": "code",
   "execution_count": null,
   "metadata": {},
   "outputs": [],
   "source": [
    "def find_elective_ratings_from_og(reduced_matrix,original,new_user):\n",
    "    cluster = find_cluster(reduced_matrix,new_user)\n",
    "    elective_ratings = original[cluster,5:]\n",
    "    return elective_ratings\n"
   ]
  },
  {
   "cell_type": "code",
   "execution_count": null,
   "metadata": {},
   "outputs": [],
   "source": [
    "elective_ratings = find_elective_ratings(reduced_matrix,kritin)"
   ]
  },
  {
   "cell_type": "code",
   "execution_count": null,
   "metadata": {},
   "outputs": [],
   "source": [
    "elective_ratings2 = find_elective_ratings_from_og(reduced_matrix,np.array(clustered_df),kritin)"
   ]
  },
  {
   "cell_type": "markdown",
   "metadata": {},
   "source": [
    "# ranking of electives"
   ]
  },
  {
   "cell_type": "code",
   "execution_count": null,
   "metadata": {},
   "outputs": [],
   "source": [
    "def get_electives_ranked(courses,elective_ratings):\n",
    "    d={courses[5:][i]: elective_ratings[i] for i in range(20)}\n",
    "\n",
    "    elective_ranked = sorted(courses[5:], key=lambda x : -d[x])\n",
    "    return elective_ranked  "
   ]
  },
  {
   "cell_type": "code",
   "execution_count": null,
   "metadata": {},
   "outputs": [],
   "source": [
    "elective_ranked = get_electives_ranked(courses,elective_ratings)\n"
   ]
  },
  {
   "cell_type": "code",
   "execution_count": null,
   "metadata": {},
   "outputs": [
    {
     "data": {
      "text/plain": [
       "['Machine Learning\\n',\n",
       " 'Software Production Engineering\\n',\n",
       " 'Mathematics For Machine Learning\\n',\n",
       " 'Reinforcement Learning',\n",
       " 'Visual Recognition\\n',\n",
       " 'Cloud Computing\\n',\n",
       " 'Programming Languages\\n',\n",
       " 'Natural Language Processing\\n',\n",
       " 'Data Visualization\\n',\n",
       " 'The Web and the Mind ',\n",
       " 'Computer Graphics\\n',\n",
       " 'Privacy in the Digital Age',\n",
       " 'Technology Ethics and AI ',\n",
       " 'Digital CMOS VLSI Design ',\n",
       " 'VLSI Architecture Design\\n',\n",
       " 'System design with FPGA ',\n",
       " 'Digital Sociology ',\n",
       " 'Techno-economics of networks ',\n",
       " 'ASIC design ',\n",
       " 'High level synthesis and optimization of Digital Circuits ']"
      ]
     },
     "execution_count": 329,
     "metadata": {},
     "output_type": "execute_result"
    }
   ],
   "source": [
    "elective_ranked"
   ]
  },
  {
   "cell_type": "code",
   "execution_count": null,
   "metadata": {},
   "outputs": [
    {
     "data": {
      "text/plain": [
       "['Machine Learning\\n',\n",
       " 'Software Production Engineering\\n',\n",
       " 'Programming Languages\\n',\n",
       " 'Mathematics For Machine Learning\\n',\n",
       " 'Reinforcement Learning',\n",
       " 'Cloud Computing\\n',\n",
       " 'Visual Recognition\\n',\n",
       " 'Natural Language Processing\\n',\n",
       " 'Data Visualization\\n',\n",
       " 'Computer Graphics\\n',\n",
       " 'The Web and the Mind ',\n",
       " 'Technology Ethics and AI ',\n",
       " 'Privacy in the Digital Age',\n",
       " 'Digital CMOS VLSI Design ',\n",
       " 'Techno-economics of networks ',\n",
       " 'Digital Sociology ',\n",
       " 'System design with FPGA ',\n",
       " 'VLSI Architecture Design\\n',\n",
       " 'ASIC design ',\n",
       " 'High level synthesis and optimization of Digital Circuits ']"
      ]
     },
     "execution_count": 330,
     "metadata": {},
     "output_type": "execute_result"
    }
   ],
   "source": [
    "elective_ranked2 = get_electives_ranked(courses,elective_ratings2)\n",
    "elective_ranked2"
   ]
  },
  {
   "cell_type": "markdown",
   "metadata": {},
   "source": [
    "change the nan values to average of the item instead of average of user ratings. -- done\n",
    "\n",
    "in find elective rating find the ratings from the clustered matrix and not reduced matrix."
   ]
  },
  {
   "cell_type": "code",
   "execution_count": null,
   "metadata": {},
   "outputs": [],
   "source": [
    "def train_recommendations(X_train,num_clusters):\n",
    "    clustered_df=get_clustered_df(X_train,num_clusters)\n",
    "    reduced_matrix=reduced_svd(6,np.array(clustered_df))\n",
    "    return reduced_matrix"
   ]
  },
  {
   "cell_type": "code",
   "execution_count": null,
   "metadata": {},
   "outputs": [],
   "source": [
    "def train_recommendations(X_train,num_clusters):\n",
    "    clustered_df=old_get_clustered_df(X_train,num_clusters)\n",
    "    reduced_matrix=reduced_svd(6,np.array(clustered_df))\n",
    "    return reduced_matrix"
   ]
  },
  {
   "cell_type": "code",
   "execution_count": null,
   "metadata": {},
   "outputs": [],
   "source": [
    "def test_recommendations(X_test,reduced_matrix):\n",
    "    pred = []\n",
    "    for i in range(len(X_test)):\n",
    "        new_user = X_test[i]\n",
    "        elective_ratings = find_elective_ratings(reduced_matrix,new_user[:5])\n",
    "        elective_ranked = get_electives_ranked(courses,elective_ratings)\n",
    "        pred.append(elective_ratings)\n",
    "    return pred\n"
   ]
  },
  {
   "cell_type": "code",
   "execution_count": null,
   "metadata": {},
   "outputs": [
    {
     "name": "stdout",
     "output_type": "stream",
     "text": [
      "(10, 25)\n"
     ]
    }
   ],
   "source": [
    "reduced_matrix = train_recommendations(train,10)"
   ]
  },
  {
   "cell_type": "code",
   "execution_count": null,
   "metadata": {},
   "outputs": [],
   "source": [
    "pred=test_recommendations(test.to_numpy(),reduced_matrix)"
   ]
  },
  {
   "cell_type": "code",
   "execution_count": null,
   "metadata": {},
   "outputs": [],
   "source": [
    "def accuracy(pred,test):\n",
    "    mse =[]\n",
    "    for i in range(len(pred)):\n",
    "        mse.append((EuclDist(pred[i],test[i][5:])))\n",
    "\n",
    "    return sum(mse)/len(mse)"
   ]
  },
  {
   "cell_type": "code",
   "execution_count": null,
   "metadata": {},
   "outputs": [
    {
     "data": {
      "text/plain": [
       "1.3376557198501717"
      ]
     },
     "execution_count": 337,
     "metadata": {},
     "output_type": "execute_result"
    }
   ],
   "source": [
    "accuracy(pred,test.to_numpy())"
   ]
  },
  {
   "cell_type": "code",
   "execution_count": null,
   "metadata": {},
   "outputs": [
    {
     "name": "stdout",
     "output_type": "stream",
     "text": [
      "['Machine Learning\\n', 'Software Production Engineering\\n', 'The Web and the Mind ', 'Cloud Computing\\n', 'Mathematics For Machine Learning\\n', 'Visual Recognition\\n', 'Privacy in the Digital Age', 'Data Visualization\\n', 'Reinforcement Learning', 'Techno-economics of networks ', 'Technology Ethics and AI ', 'Programming Languages\\n', 'Natural Language Processing\\n', 'Computer Graphics\\n', 'Digital Sociology ', 'Digital CMOS VLSI Design ', 'VLSI Architecture Design\\n', 'System design with FPGA ', 'ASIC design ', 'High level synthesis and optimization of Digital Circuits ']\n",
      "*****************\n",
      "['Machine Learning\\n', 'Software Production Engineering\\n', 'Data Visualization\\n', 'Visual Recognition\\n', 'Cloud Computing\\n', 'Mathematics For Machine Learning\\n', 'Reinforcement Learning', 'Computer Graphics\\n', 'Techno-economics of networks ', 'The Web and the Mind ', 'Privacy in the Digital Age', 'Programming Languages\\n', 'Natural Language Processing\\n', 'Technology Ethics and AI ', 'Digital Sociology ', 'System design with FPGA ', 'Digital CMOS VLSI Design ', 'ASIC design ', 'VLSI Architecture Design\\n', 'High level synthesis and optimization of Digital Circuits ']\n",
      "*****************\n",
      "['Machine Learning\\n', 'Mathematics For Machine Learning\\n', 'Visual Recognition\\n', 'Data Visualization\\n', 'Reinforcement Learning', 'Natural Language Processing\\n', 'Software Production Engineering\\n', 'Cloud Computing\\n', 'Programming Languages\\n', 'Techno-economics of networks ', 'Privacy in the Digital Age', 'Computer Graphics\\n', 'Technology Ethics and AI ', 'The Web and the Mind ', 'Digital Sociology ', 'System design with FPGA ', 'Digital CMOS VLSI Design ', 'ASIC design ', 'VLSI Architecture Design\\n', 'High level synthesis and optimization of Digital Circuits ']\n",
      "*****************\n",
      "['Machine Learning\\n', 'Software Production Engineering\\n', 'Data Visualization\\n', 'Visual Recognition\\n', 'Cloud Computing\\n', 'Mathematics For Machine Learning\\n', 'Reinforcement Learning', 'Computer Graphics\\n', 'Techno-economics of networks ', 'The Web and the Mind ', 'Privacy in the Digital Age', 'Programming Languages\\n', 'Natural Language Processing\\n', 'Technology Ethics and AI ', 'Digital Sociology ', 'System design with FPGA ', 'Digital CMOS VLSI Design ', 'ASIC design ', 'VLSI Architecture Design\\n', 'High level synthesis and optimization of Digital Circuits ']\n",
      "*****************\n",
      "['Machine Learning\\n', 'Mathematics For Machine Learning\\n', 'Software Production Engineering\\n', 'Natural Language Processing\\n', 'Reinforcement Learning', 'Programming Languages\\n', 'Cloud Computing\\n', 'Visual Recognition\\n', 'The Web and the Mind ', 'Data Visualization\\n', 'Privacy in the Digital Age', 'Technology Ethics and AI ', 'Computer Graphics\\n', 'Digital Sociology ', 'Digital CMOS VLSI Design ', 'Techno-economics of networks ', 'VLSI Architecture Design\\n', 'System design with FPGA ', 'ASIC design ', 'High level synthesis and optimization of Digital Circuits ']\n",
      "*****************\n",
      "['Machine Learning\\n', 'Mathematics For Machine Learning\\n', 'Software Production Engineering\\n', 'Natural Language Processing\\n', 'Reinforcement Learning', 'Programming Languages\\n', 'Cloud Computing\\n', 'Visual Recognition\\n', 'The Web and the Mind ', 'Data Visualization\\n', 'Privacy in the Digital Age', 'Technology Ethics and AI ', 'Computer Graphics\\n', 'Digital Sociology ', 'Digital CMOS VLSI Design ', 'Techno-economics of networks ', 'VLSI Architecture Design\\n', 'System design with FPGA ', 'ASIC design ', 'High level synthesis and optimization of Digital Circuits ']\n",
      "*****************\n",
      "['Machine Learning\\n', 'Software Production Engineering\\n', 'Visual Recognition\\n', 'Mathematics For Machine Learning\\n', 'Cloud Computing\\n', 'Reinforcement Learning', 'Programming Languages\\n', 'Data Visualization\\n', 'Computer Graphics\\n', 'Natural Language Processing\\n', 'The Web and the Mind ', 'Technology Ethics and AI ', 'Privacy in the Digital Age', 'Digital CMOS VLSI Design ', 'Techno-economics of networks ', 'VLSI Architecture Design\\n', 'System design with FPGA ', 'ASIC design ', 'Digital Sociology ', 'High level synthesis and optimization of Digital Circuits ']\n",
      "*****************\n",
      "['Machine Learning\\n', 'Mathematics For Machine Learning\\n', 'Software Production Engineering\\n', 'Visual Recognition\\n', 'Reinforcement Learning', 'Data Visualization\\n', 'Natural Language Processing\\n', 'Cloud Computing\\n', 'Programming Languages\\n', 'The Web and the Mind ', 'Privacy in the Digital Age', 'Computer Graphics\\n', 'Techno-economics of networks ', 'Technology Ethics and AI ', 'Digital Sociology ', 'System design with FPGA ', 'Digital CMOS VLSI Design ', 'VLSI Architecture Design\\n', 'ASIC design ', 'High level synthesis and optimization of Digital Circuits ']\n",
      "*****************\n",
      "['Machine Learning\\n', 'Mathematics For Machine Learning\\n', 'Visual Recognition\\n', 'Data Visualization\\n', 'Reinforcement Learning', 'Natural Language Processing\\n', 'Software Production Engineering\\n', 'Cloud Computing\\n', 'Programming Languages\\n', 'Techno-economics of networks ', 'Privacy in the Digital Age', 'Computer Graphics\\n', 'Technology Ethics and AI ', 'The Web and the Mind ', 'Digital Sociology ', 'System design with FPGA ', 'Digital CMOS VLSI Design ', 'ASIC design ', 'VLSI Architecture Design\\n', 'High level synthesis and optimization of Digital Circuits ']\n",
      "*****************\n"
     ]
    }
   ],
   "source": [
    "for i in pred:\n",
    "    elective_ranked = get_electives_ranked(courses,i)\n",
    "    print(elective_ranked)\n",
    "    print(\"*****************\")"
   ]
  },
  {
   "cell_type": "code",
   "execution_count": null,
   "metadata": {},
   "outputs": [
    {
     "data": {
      "text/html": [
       "<div>\n",
       "<style scoped>\n",
       "    .dataframe tbody tr th:only-of-type {\n",
       "        vertical-align: middle;\n",
       "    }\n",
       "\n",
       "    .dataframe tbody tr th {\n",
       "        vertical-align: top;\n",
       "    }\n",
       "\n",
       "    .dataframe thead th {\n",
       "        text-align: right;\n",
       "    }\n",
       "</style>\n",
       "<table border=\"1\" class=\"dataframe\">\n",
       "  <thead>\n",
       "    <tr style=\"text-align: right;\">\n",
       "      <th></th>\n",
       "      <th>Data Structures and Algorithms</th>\n",
       "      <th>Computer Architecture\\n</th>\n",
       "      <th>Discrete Mathematics\\n</th>\n",
       "      <th>Economics</th>\n",
       "      <th>Programming-2</th>\n",
       "      <th>Machine Learning\\n</th>\n",
       "      <th>Mathematics For Machine Learning\\n</th>\n",
       "      <th>Visual Recognition\\n</th>\n",
       "      <th>Natural Language Processing\\n</th>\n",
       "      <th>Reinforcement Learning</th>\n",
       "      <th>...</th>\n",
       "      <th>Digital CMOS VLSI Design</th>\n",
       "      <th>System design with FPGA</th>\n",
       "      <th>ASIC design</th>\n",
       "      <th>VLSI Architecture Design\\n</th>\n",
       "      <th>High level synthesis and optimization of Digital Circuits</th>\n",
       "      <th>Digital Sociology</th>\n",
       "      <th>Privacy in the Digital Age</th>\n",
       "      <th>Technology Ethics and AI</th>\n",
       "      <th>Techno-economics of networks</th>\n",
       "      <th>The Web and the Mind</th>\n",
       "    </tr>\n",
       "  </thead>\n",
       "  <tbody>\n",
       "    <tr>\n",
       "      <th>0</th>\n",
       "      <td>0.642857</td>\n",
       "      <td>0.042857</td>\n",
       "      <td>0.914286</td>\n",
       "      <td>0.021429</td>\n",
       "      <td>0.914286</td>\n",
       "      <td>0.971429</td>\n",
       "      <td>0.957143</td>\n",
       "      <td>0.800000</td>\n",
       "      <td>0.510377</td>\n",
       "      <td>0.629071</td>\n",
       "      <td>...</td>\n",
       "      <td>0.193077</td>\n",
       "      <td>0.049474</td>\n",
       "      <td>0.059258</td>\n",
       "      <td>0.190695</td>\n",
       "      <td>0.052579</td>\n",
       "      <td>0.124035</td>\n",
       "      <td>0.207530</td>\n",
       "      <td>0.260469</td>\n",
       "      <td>0.128089</td>\n",
       "      <td>0.431685</td>\n",
       "    </tr>\n",
       "    <tr>\n",
       "      <th>1</th>\n",
       "      <td>0.925455</td>\n",
       "      <td>0.875455</td>\n",
       "      <td>0.915758</td>\n",
       "      <td>0.873030</td>\n",
       "      <td>0.943636</td>\n",
       "      <td>0.810201</td>\n",
       "      <td>0.808428</td>\n",
       "      <td>0.710027</td>\n",
       "      <td>0.546654</td>\n",
       "      <td>0.574316</td>\n",
       "      <td>...</td>\n",
       "      <td>0.256946</td>\n",
       "      <td>0.267464</td>\n",
       "      <td>0.260488</td>\n",
       "      <td>0.251435</td>\n",
       "      <td>0.223064</td>\n",
       "      <td>0.436261</td>\n",
       "      <td>0.427980</td>\n",
       "      <td>0.466537</td>\n",
       "      <td>0.529771</td>\n",
       "      <td>0.501729</td>\n",
       "    </tr>\n",
       "    <tr>\n",
       "      <th>2</th>\n",
       "      <td>0.650000</td>\n",
       "      <td>0.200000</td>\n",
       "      <td>0.216667</td>\n",
       "      <td>0.761111</td>\n",
       "      <td>0.794444</td>\n",
       "      <td>0.722592</td>\n",
       "      <td>0.527778</td>\n",
       "      <td>0.478894</td>\n",
       "      <td>0.471173</td>\n",
       "      <td>0.484887</td>\n",
       "      <td>...</td>\n",
       "      <td>0.198333</td>\n",
       "      <td>0.200117</td>\n",
       "      <td>0.171804</td>\n",
       "      <td>0.186294</td>\n",
       "      <td>0.138040</td>\n",
       "      <td>0.423273</td>\n",
       "      <td>0.509537</td>\n",
       "      <td>0.471079</td>\n",
       "      <td>0.453116</td>\n",
       "      <td>0.649288</td>\n",
       "    </tr>\n",
       "    <tr>\n",
       "      <th>3</th>\n",
       "      <td>0.842500</td>\n",
       "      <td>0.505000</td>\n",
       "      <td>0.165000</td>\n",
       "      <td>0.100000</td>\n",
       "      <td>0.880000</td>\n",
       "      <td>0.787833</td>\n",
       "      <td>0.596129</td>\n",
       "      <td>0.534510</td>\n",
       "      <td>0.526528</td>\n",
       "      <td>0.580024</td>\n",
       "      <td>...</td>\n",
       "      <td>0.238038</td>\n",
       "      <td>0.188895</td>\n",
       "      <td>0.164442</td>\n",
       "      <td>0.182204</td>\n",
       "      <td>0.108819</td>\n",
       "      <td>0.197297</td>\n",
       "      <td>0.313448</td>\n",
       "      <td>0.329314</td>\n",
       "      <td>0.213649</td>\n",
       "      <td>0.378269</td>\n",
       "    </tr>\n",
       "    <tr>\n",
       "      <th>4</th>\n",
       "      <td>0.976923</td>\n",
       "      <td>0.961538</td>\n",
       "      <td>0.983846</td>\n",
       "      <td>0.046154</td>\n",
       "      <td>0.969231</td>\n",
       "      <td>0.892308</td>\n",
       "      <td>0.830769</td>\n",
       "      <td>0.509238</td>\n",
       "      <td>0.780406</td>\n",
       "      <td>0.708230</td>\n",
       "      <td>...</td>\n",
       "      <td>0.365740</td>\n",
       "      <td>0.345020</td>\n",
       "      <td>0.296863</td>\n",
       "      <td>0.303036</td>\n",
       "      <td>0.205556</td>\n",
       "      <td>0.199324</td>\n",
       "      <td>0.535240</td>\n",
       "      <td>0.393571</td>\n",
       "      <td>0.229470</td>\n",
       "      <td>0.638807</td>\n",
       "    </tr>\n",
       "    <tr>\n",
       "      <th>5</th>\n",
       "      <td>0.771429</td>\n",
       "      <td>0.914286</td>\n",
       "      <td>0.885714</td>\n",
       "      <td>0.442857</td>\n",
       "      <td>0.185714</td>\n",
       "      <td>0.843809</td>\n",
       "      <td>0.788941</td>\n",
       "      <td>0.577171</td>\n",
       "      <td>0.631131</td>\n",
       "      <td>0.529570</td>\n",
       "      <td>...</td>\n",
       "      <td>0.179231</td>\n",
       "      <td>0.219850</td>\n",
       "      <td>0.092059</td>\n",
       "      <td>0.272086</td>\n",
       "      <td>0.157738</td>\n",
       "      <td>0.136390</td>\n",
       "      <td>0.186488</td>\n",
       "      <td>0.267122</td>\n",
       "      <td>0.227124</td>\n",
       "      <td>0.247527</td>\n",
       "    </tr>\n",
       "    <tr>\n",
       "      <th>6</th>\n",
       "      <td>0.919231</td>\n",
       "      <td>0.907692</td>\n",
       "      <td>0.146154</td>\n",
       "      <td>0.903846</td>\n",
       "      <td>0.803846</td>\n",
       "      <td>0.839486</td>\n",
       "      <td>0.653475</td>\n",
       "      <td>0.693099</td>\n",
       "      <td>0.619519</td>\n",
       "      <td>0.648574</td>\n",
       "      <td>...</td>\n",
       "      <td>0.269941</td>\n",
       "      <td>0.344453</td>\n",
       "      <td>0.306833</td>\n",
       "      <td>0.277632</td>\n",
       "      <td>0.116346</td>\n",
       "      <td>0.449688</td>\n",
       "      <td>0.551042</td>\n",
       "      <td>0.454582</td>\n",
       "      <td>0.544335</td>\n",
       "      <td>0.522929</td>\n",
       "    </tr>\n",
       "    <tr>\n",
       "      <th>7</th>\n",
       "      <td>0.888889</td>\n",
       "      <td>0.213333</td>\n",
       "      <td>0.850000</td>\n",
       "      <td>0.850000</td>\n",
       "      <td>0.888889</td>\n",
       "      <td>0.734073</td>\n",
       "      <td>0.691399</td>\n",
       "      <td>0.571133</td>\n",
       "      <td>0.552515</td>\n",
       "      <td>0.545221</td>\n",
       "      <td>...</td>\n",
       "      <td>0.189573</td>\n",
       "      <td>0.176140</td>\n",
       "      <td>0.195469</td>\n",
       "      <td>0.171053</td>\n",
       "      <td>0.152469</td>\n",
       "      <td>0.406081</td>\n",
       "      <td>0.616968</td>\n",
       "      <td>0.543683</td>\n",
       "      <td>0.588138</td>\n",
       "      <td>0.560399</td>\n",
       "    </tr>\n",
       "    <tr>\n",
       "      <th>8</th>\n",
       "      <td>0.212637</td>\n",
       "      <td>0.895000</td>\n",
       "      <td>0.486235</td>\n",
       "      <td>0.947253</td>\n",
       "      <td>0.738788</td>\n",
       "      <td>0.692587</td>\n",
       "      <td>0.632776</td>\n",
       "      <td>0.566297</td>\n",
       "      <td>0.604173</td>\n",
       "      <td>0.667003</td>\n",
       "      <td>...</td>\n",
       "      <td>0.196077</td>\n",
       "      <td>0.182421</td>\n",
       "      <td>0.150364</td>\n",
       "      <td>0.164408</td>\n",
       "      <td>0.137639</td>\n",
       "      <td>0.222770</td>\n",
       "      <td>0.535708</td>\n",
       "      <td>0.426300</td>\n",
       "      <td>0.447973</td>\n",
       "      <td>0.596538</td>\n",
       "    </tr>\n",
       "    <tr>\n",
       "      <th>9</th>\n",
       "      <td>0.835312</td>\n",
       "      <td>0.794688</td>\n",
       "      <td>0.640312</td>\n",
       "      <td>0.606563</td>\n",
       "      <td>0.830313</td>\n",
       "      <td>0.825833</td>\n",
       "      <td>0.777823</td>\n",
       "      <td>0.676277</td>\n",
       "      <td>0.578507</td>\n",
       "      <td>0.661232</td>\n",
       "      <td>...</td>\n",
       "      <td>0.293822</td>\n",
       "      <td>0.294967</td>\n",
       "      <td>0.239091</td>\n",
       "      <td>0.274445</td>\n",
       "      <td>0.212413</td>\n",
       "      <td>0.295355</td>\n",
       "      <td>0.499538</td>\n",
       "      <td>0.444862</td>\n",
       "      <td>0.375697</td>\n",
       "      <td>0.502804</td>\n",
       "    </tr>\n",
       "  </tbody>\n",
       "</table>\n",
       "<p>10 rows × 25 columns</p>\n",
       "</div>"
      ],
      "text/plain": [
       "   Data Structures and Algorithms  Computer Architecture\\n  \\\n",
       "0                        0.642857                 0.042857   \n",
       "1                        0.925455                 0.875455   \n",
       "2                        0.650000                 0.200000   \n",
       "3                        0.842500                 0.505000   \n",
       "4                        0.976923                 0.961538   \n",
       "5                        0.771429                 0.914286   \n",
       "6                        0.919231                 0.907692   \n",
       "7                        0.888889                 0.213333   \n",
       "8                        0.212637                 0.895000   \n",
       "9                        0.835312                 0.794688   \n",
       "\n",
       "   Discrete Mathematics\\n  Economics  Programming-2  Machine Learning\\n  \\\n",
       "0                0.914286   0.021429       0.914286            0.971429   \n",
       "1                0.915758   0.873030       0.943636            0.810201   \n",
       "2                0.216667   0.761111       0.794444            0.722592   \n",
       "3                0.165000   0.100000       0.880000            0.787833   \n",
       "4                0.983846   0.046154       0.969231            0.892308   \n",
       "5                0.885714   0.442857       0.185714            0.843809   \n",
       "6                0.146154   0.903846       0.803846            0.839486   \n",
       "7                0.850000   0.850000       0.888889            0.734073   \n",
       "8                0.486235   0.947253       0.738788            0.692587   \n",
       "9                0.640312   0.606563       0.830313            0.825833   \n",
       "\n",
       "   Mathematics For Machine Learning\\n  Visual Recognition\\n  \\\n",
       "0                            0.957143              0.800000   \n",
       "1                            0.808428              0.710027   \n",
       "2                            0.527778              0.478894   \n",
       "3                            0.596129              0.534510   \n",
       "4                            0.830769              0.509238   \n",
       "5                            0.788941              0.577171   \n",
       "6                            0.653475              0.693099   \n",
       "7                            0.691399              0.571133   \n",
       "8                            0.632776              0.566297   \n",
       "9                            0.777823              0.676277   \n",
       "\n",
       "   Natural Language Processing\\n  Reinforcement Learning  ...  \\\n",
       "0                       0.510377                0.629071  ...   \n",
       "1                       0.546654                0.574316  ...   \n",
       "2                       0.471173                0.484887  ...   \n",
       "3                       0.526528                0.580024  ...   \n",
       "4                       0.780406                0.708230  ...   \n",
       "5                       0.631131                0.529570  ...   \n",
       "6                       0.619519                0.648574  ...   \n",
       "7                       0.552515                0.545221  ...   \n",
       "8                       0.604173                0.667003  ...   \n",
       "9                       0.578507                0.661232  ...   \n",
       "\n",
       "   Digital CMOS VLSI Design   System design with FPGA   ASIC design   \\\n",
       "0                   0.193077                  0.049474      0.059258   \n",
       "1                   0.256946                  0.267464      0.260488   \n",
       "2                   0.198333                  0.200117      0.171804   \n",
       "3                   0.238038                  0.188895      0.164442   \n",
       "4                   0.365740                  0.345020      0.296863   \n",
       "5                   0.179231                  0.219850      0.092059   \n",
       "6                   0.269941                  0.344453      0.306833   \n",
       "7                   0.189573                  0.176140      0.195469   \n",
       "8                   0.196077                  0.182421      0.150364   \n",
       "9                   0.293822                  0.294967      0.239091   \n",
       "\n",
       "   VLSI Architecture Design\\n  \\\n",
       "0                    0.190695   \n",
       "1                    0.251435   \n",
       "2                    0.186294   \n",
       "3                    0.182204   \n",
       "4                    0.303036   \n",
       "5                    0.272086   \n",
       "6                    0.277632   \n",
       "7                    0.171053   \n",
       "8                    0.164408   \n",
       "9                    0.274445   \n",
       "\n",
       "   High level synthesis and optimization of Digital Circuits   \\\n",
       "0                                           0.052579            \n",
       "1                                           0.223064            \n",
       "2                                           0.138040            \n",
       "3                                           0.108819            \n",
       "4                                           0.205556            \n",
       "5                                           0.157738            \n",
       "6                                           0.116346            \n",
       "7                                           0.152469            \n",
       "8                                           0.137639            \n",
       "9                                           0.212413            \n",
       "\n",
       "   Digital Sociology   Privacy in the Digital Age  Technology Ethics and AI   \\\n",
       "0            0.124035                    0.207530                   0.260469   \n",
       "1            0.436261                    0.427980                   0.466537   \n",
       "2            0.423273                    0.509537                   0.471079   \n",
       "3            0.197297                    0.313448                   0.329314   \n",
       "4            0.199324                    0.535240                   0.393571   \n",
       "5            0.136390                    0.186488                   0.267122   \n",
       "6            0.449688                    0.551042                   0.454582   \n",
       "7            0.406081                    0.616968                   0.543683   \n",
       "8            0.222770                    0.535708                   0.426300   \n",
       "9            0.295355                    0.499538                   0.444862   \n",
       "\n",
       "   Techno-economics of networks   The Web and the Mind   \n",
       "0                       0.128089               0.431685  \n",
       "1                       0.529771               0.501729  \n",
       "2                       0.453116               0.649288  \n",
       "3                       0.213649               0.378269  \n",
       "4                       0.229470               0.638807  \n",
       "5                       0.227124               0.247527  \n",
       "6                       0.544335               0.522929  \n",
       "7                       0.588138               0.560399  \n",
       "8                       0.447973               0.596538  \n",
       "9                       0.375697               0.502804  \n",
       "\n",
       "[10 rows x 25 columns]"
      ]
     },
     "execution_count": 339,
     "metadata": {},
     "output_type": "execute_result"
    }
   ],
   "source": [
    "df"
   ]
  },
  {
   "cell_type": "markdown",
   "metadata": {},
   "source": [
    "https://medium.com/more-python-less-problems/principal-component-analysis-and-k-means-clustering-to-visualize-a-high-dimensional-dataset-577b2a7a5fe2"
   ]
  },
  {
   "cell_type": "code",
   "execution_count": null,
   "metadata": {},
   "outputs": [
    {
     "data": {
      "image/png": "[encoded data removed]",
      "text/plain": [
       "<Figure size 640x480 with 1 Axes>"
      ]
     },
     "metadata": {},
     "output_type": "display_data"
    }
   ],
   "source": [
    "from sklearn.decomposition import PCA\n",
    "X_std = StandardScaler().fit_transform(df)\n",
    "pca = PCA(n_components=4)\n",
    "principalComponents = pca.fit_transform(X_std)\n",
    "# Plot the explained variances\n",
    "features = range(pca.n_components_)\n",
    "plt.bar(features, pca.explained_variance_ratio_, color='black')\n",
    "plt.xlabel('PCA features')\n",
    "plt.ylabel('variance %')\n",
    "plt.xticks(features)\n",
    "# Save components to a DataFrame\n",
    "PCA_components = pd.DataFrame(principalComponents)"
   ]
  },
  {
   "cell_type": "code",
   "execution_count": null,
   "metadata": {},
   "outputs": [
    {
     "data": {
      "text/plain": [
       "Text(0, 0.5, 'PCA 3')"
      ]
     },
     "execution_count": 341,
     "metadata": {},
     "output_type": "execute_result"
    },
    {
     "data": {
      "image/png": "[encoded data removed]",
      "text/plain": [
       "<Figure size 640x480 with 1 Axes>"
      ]
     },
     "metadata": {},
     "output_type": "display_data"
    }
   ],
   "source": [
    "plt.scatter(PCA_components[1], PCA_components[2], alpha=.5, color='black')\n",
    "plt.xlabel('PCA 2')\n",
    "plt.ylabel('PCA 3')\n"
   ]
  },
  {
   "cell_type": "code",
   "execution_count": null,
   "metadata": {},
   "outputs": [
    {
     "data": {
      "image/png": "[encoded data removed]",
      "text/plain": [
       "<Figure size 640x480 with 1 Axes>"
      ]
     },
     "metadata": {},
     "output_type": "display_data"
    }
   ],
   "source": [
    "ks = range(1, 10)\n",
    "inertias = []\n",
    "for k in ks:\n",
    "    # Create a KMeans instance with k clusters: model\n",
    "    model = KMeans(n_clusters=k)\n",
    "    \n",
    "    # Fit model to samples\n",
    "    model.fit(PCA_components.iloc[:,:3])\n",
    "    \n",
    "    # Append the inertia to the list of inertias\n",
    "    inertias.append(model.inertia_)\n",
    "    \n",
    "plt.plot(ks, inertias, '-o', color='black')\n",
    "plt.xlabel('number of clusters, k')\n",
    "plt.ylabel('inertia')\n",
    "plt.xticks(ks)\n",
    "plt.show()"
   ]
  },
  {
   "cell_type": "code",
   "execution_count": null,
   "metadata": {},
   "outputs": [],
   "source": []
  }
 ],
 "metadata": {
  "kernelspec": {
   "display_name": "Python 3.10.6 64-bit",
   "language": "python",
   "name": "python3"
  },
  "language_info": {
   "codemirror_mode": {
    "name": "ipython",
    "version": 3
   },
   "file_extension": ".py",
   "mimetype": "text/x-python",
   "name": "python",
   "nbconvert_exporter": "python",
   "pygments_lexer": "ipython3",
   "version": "3.10.8"
  },
  "orig_nbformat": 4,
  "vscode": {
   "interpreter": {
    "hash": "e7370f93d1d0cde622a1f8e1c04877d8463912d04d973331ad4851f04de6915a"
   }
  }
 },
 "nbformat": 4,
 "nbformat_minor": 2
}
