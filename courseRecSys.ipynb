{
 "cells": [
  {
   "attachments": {},
   "cell_type": "markdown",
   "metadata": {},
   "source": [
    "# Imports and Reading Data"
   ]
  },
  {
   "cell_type": "code",
   "execution_count": 1307,
   "metadata": {},
   "outputs": [],
   "source": [
    "import pandas as pd\n",
    "import numpy as np\n",
    "from sklearn.preprocessing import StandardScaler\n",
    "from sklearn.cluster import KMeans\n",
    "import matplotlib.pyplot as plt\n",
    "from sklearn.decomposition import TruncatedSVD\n",
    "from sklearn.model_selection import train_test_split\n",
    "import sys\n"
   ]
  },
  {
   "cell_type": "code",
   "execution_count": 1308,
   "metadata": {},
   "outputs": [],
   "source": [
    "filename = 'courseRecSys.xlsx'\n",
    "splitProp = 0.95"
   ]
  },
  {
   "cell_type": "code",
   "execution_count": 1309,
   "metadata": {},
   "outputs": [],
   "source": [
    "def read_data(filename):\n",
    "    df = pd.read_excel(filename,\n",
    "    header=0,\n",
    "    index_col=False,\n",
    "    keep_default_na=True\n",
    "    )\n",
    "    return df"
   ]
  },
  {
   "cell_type": "code",
   "execution_count": 1310,
   "metadata": {},
   "outputs": [],
   "source": [
    "def preprocess(df):\n",
    "    df=df.drop(['Start time','Completion time','Email','Name','Name(not mandatory)\\n','ID'], axis=1)\n",
    "    #replacing nan with mean of users\n",
    "    # df[\"avg\"] = df.mean(axis = 1, skipna=True, numeric_only=True)\n",
    "    # df=df.apply(lambda row: row.fillna(row[\"avg\"]), axis=1)\n",
    "    # df = df.drop([\"avg\"],axis =1)\n",
    "    #replacing nan with mean of courses\n",
    "    df=df.apply(lambda x: x.fillna(x.mean()),axis=0)\n",
    "    return df"
   ]
  },
  {
   "cell_type": "code",
   "execution_count": 1311,
   "metadata": {},
   "outputs": [
    {
     "data": {
      "text/html": [
       "<div>\n",
       "<style scoped>\n",
       "    .dataframe tbody tr th:only-of-type {\n",
       "        vertical-align: middle;\n",
       "    }\n",
       "\n",
       "    .dataframe tbody tr th {\n",
       "        vertical-align: top;\n",
       "    }\n",
       "\n",
       "    .dataframe thead th {\n",
       "        text-align: right;\n",
       "    }\n",
       "</style>\n",
       "<table border=\"1\" class=\"dataframe\">\n",
       "  <thead>\n",
       "    <tr style=\"text-align: right;\">\n",
       "      <th></th>\n",
       "      <th>Data Structures and Algorithms</th>\n",
       "      <th>Computer Architecture\\n</th>\n",
       "      <th>Discrete Mathematics\\n</th>\n",
       "      <th>Economics</th>\n",
       "      <th>Programming-2</th>\n",
       "      <th>Machine Learning\\n</th>\n",
       "      <th>Mathematics For Machine Learning\\n</th>\n",
       "      <th>Visual Recognition\\n</th>\n",
       "      <th>Natural Language Processing\\n</th>\n",
       "      <th>Reinforcement Learning</th>\n",
       "      <th>...</th>\n",
       "      <th>Digital CMOS VLSI Design</th>\n",
       "      <th>System design with FPGA</th>\n",
       "      <th>ASIC design</th>\n",
       "      <th>VLSI Architecture Design\\n</th>\n",
       "      <th>High level synthesis and optimization of Digital Circuits</th>\n",
       "      <th>Digital Sociology</th>\n",
       "      <th>Privacy in the Digital Age</th>\n",
       "      <th>Technology Ethics and AI</th>\n",
       "      <th>Techno-economics of networks</th>\n",
       "      <th>The Web and the Mind</th>\n",
       "    </tr>\n",
       "  </thead>\n",
       "  <tbody>\n",
       "    <tr>\n",
       "      <th>0</th>\n",
       "      <td>0.30</td>\n",
       "      <td>0.85</td>\n",
       "      <td>0.85</td>\n",
       "      <td>0.90</td>\n",
       "      <td>0.70</td>\n",
       "      <td>0.70</td>\n",
       "      <td>0.80</td>\n",
       "      <td>0.620098</td>\n",
       "      <td>0.572638</td>\n",
       "      <td>0.603495</td>\n",
       "      <td>...</td>\n",
       "      <td>0.251538</td>\n",
       "      <td>0.246316</td>\n",
       "      <td>0.214805</td>\n",
       "      <td>0.234868</td>\n",
       "      <td>0.168056</td>\n",
       "      <td>0.318243</td>\n",
       "      <td>0.600000</td>\n",
       "      <td>0.423286</td>\n",
       "      <td>0.396622</td>\n",
       "      <td>0.510897</td>\n",
       "    </tr>\n",
       "    <tr>\n",
       "      <th>1</th>\n",
       "      <td>0.70</td>\n",
       "      <td>0.80</td>\n",
       "      <td>0.20</td>\n",
       "      <td>0.80</td>\n",
       "      <td>0.80</td>\n",
       "      <td>0.50</td>\n",
       "      <td>0.10</td>\n",
       "      <td>0.200000</td>\n",
       "      <td>0.572638</td>\n",
       "      <td>0.603495</td>\n",
       "      <td>...</td>\n",
       "      <td>0.251538</td>\n",
       "      <td>0.246316</td>\n",
       "      <td>0.214805</td>\n",
       "      <td>0.234868</td>\n",
       "      <td>0.168056</td>\n",
       "      <td>0.318243</td>\n",
       "      <td>0.500000</td>\n",
       "      <td>0.423286</td>\n",
       "      <td>0.396622</td>\n",
       "      <td>0.510897</td>\n",
       "    </tr>\n",
       "    <tr>\n",
       "      <th>2</th>\n",
       "      <td>0.70</td>\n",
       "      <td>0.00</td>\n",
       "      <td>1.00</td>\n",
       "      <td>1.00</td>\n",
       "      <td>1.00</td>\n",
       "      <td>1.00</td>\n",
       "      <td>1.00</td>\n",
       "      <td>0.800000</td>\n",
       "      <td>0.900000</td>\n",
       "      <td>1.000000</td>\n",
       "      <td>...</td>\n",
       "      <td>0.251538</td>\n",
       "      <td>0.246316</td>\n",
       "      <td>0.214805</td>\n",
       "      <td>0.234868</td>\n",
       "      <td>0.168056</td>\n",
       "      <td>0.318243</td>\n",
       "      <td>0.400000</td>\n",
       "      <td>0.423286</td>\n",
       "      <td>0.396622</td>\n",
       "      <td>0.510897</td>\n",
       "    </tr>\n",
       "    <tr>\n",
       "      <th>3</th>\n",
       "      <td>0.65</td>\n",
       "      <td>0.70</td>\n",
       "      <td>0.20</td>\n",
       "      <td>0.75</td>\n",
       "      <td>0.75</td>\n",
       "      <td>0.75</td>\n",
       "      <td>0.75</td>\n",
       "      <td>0.750000</td>\n",
       "      <td>0.572638</td>\n",
       "      <td>0.603495</td>\n",
       "      <td>...</td>\n",
       "      <td>0.251538</td>\n",
       "      <td>0.246316</td>\n",
       "      <td>0.214805</td>\n",
       "      <td>0.234868</td>\n",
       "      <td>0.168056</td>\n",
       "      <td>0.800000</td>\n",
       "      <td>0.452708</td>\n",
       "      <td>0.423286</td>\n",
       "      <td>0.800000</td>\n",
       "      <td>0.510897</td>\n",
       "    </tr>\n",
       "    <tr>\n",
       "      <th>4</th>\n",
       "      <td>0.70</td>\n",
       "      <td>0.60</td>\n",
       "      <td>0.20</td>\n",
       "      <td>0.00</td>\n",
       "      <td>0.80</td>\n",
       "      <td>0.50</td>\n",
       "      <td>0.60</td>\n",
       "      <td>0.400000</td>\n",
       "      <td>0.400000</td>\n",
       "      <td>0.200000</td>\n",
       "      <td>...</td>\n",
       "      <td>0.000000</td>\n",
       "      <td>0.000000</td>\n",
       "      <td>0.000000</td>\n",
       "      <td>0.000000</td>\n",
       "      <td>0.000000</td>\n",
       "      <td>0.000000</td>\n",
       "      <td>0.000000</td>\n",
       "      <td>0.000000</td>\n",
       "      <td>0.000000</td>\n",
       "      <td>0.000000</td>\n",
       "    </tr>\n",
       "    <tr>\n",
       "      <th>...</th>\n",
       "      <td>...</td>\n",
       "      <td>...</td>\n",
       "      <td>...</td>\n",
       "      <td>...</td>\n",
       "      <td>...</td>\n",
       "      <td>...</td>\n",
       "      <td>...</td>\n",
       "      <td>...</td>\n",
       "      <td>...</td>\n",
       "      <td>...</td>\n",
       "      <td>...</td>\n",
       "      <td>...</td>\n",
       "      <td>...</td>\n",
       "      <td>...</td>\n",
       "      <td>...</td>\n",
       "      <td>...</td>\n",
       "      <td>...</td>\n",
       "      <td>...</td>\n",
       "      <td>...</td>\n",
       "      <td>...</td>\n",
       "      <td>...</td>\n",
       "    </tr>\n",
       "    <tr>\n",
       "      <th>157</th>\n",
       "      <td>0.00</td>\n",
       "      <td>1.00</td>\n",
       "      <td>0.50</td>\n",
       "      <td>0.70</td>\n",
       "      <td>0.60</td>\n",
       "      <td>0.50</td>\n",
       "      <td>0.30</td>\n",
       "      <td>0.700000</td>\n",
       "      <td>0.572638</td>\n",
       "      <td>0.603495</td>\n",
       "      <td>...</td>\n",
       "      <td>0.251538</td>\n",
       "      <td>0.246316</td>\n",
       "      <td>0.214805</td>\n",
       "      <td>0.234868</td>\n",
       "      <td>0.168056</td>\n",
       "      <td>0.318243</td>\n",
       "      <td>0.000000</td>\n",
       "      <td>0.423286</td>\n",
       "      <td>0.396622</td>\n",
       "      <td>0.510897</td>\n",
       "    </tr>\n",
       "    <tr>\n",
       "      <th>158</th>\n",
       "      <td>1.00</td>\n",
       "      <td>0.00</td>\n",
       "      <td>0.00</td>\n",
       "      <td>0.70</td>\n",
       "      <td>0.70</td>\n",
       "      <td>0.00</td>\n",
       "      <td>0.00</td>\n",
       "      <td>0.000000</td>\n",
       "      <td>0.572638</td>\n",
       "      <td>0.603495</td>\n",
       "      <td>...</td>\n",
       "      <td>0.251538</td>\n",
       "      <td>0.246316</td>\n",
       "      <td>0.214805</td>\n",
       "      <td>0.234868</td>\n",
       "      <td>0.168056</td>\n",
       "      <td>0.318243</td>\n",
       "      <td>0.452708</td>\n",
       "      <td>0.423286</td>\n",
       "      <td>0.396622</td>\n",
       "      <td>0.200000</td>\n",
       "    </tr>\n",
       "    <tr>\n",
       "      <th>159</th>\n",
       "      <td>0.60</td>\n",
       "      <td>0.30</td>\n",
       "      <td>0.40</td>\n",
       "      <td>0.90</td>\n",
       "      <td>0.80</td>\n",
       "      <td>0.70</td>\n",
       "      <td>0.40</td>\n",
       "      <td>0.500000</td>\n",
       "      <td>0.400000</td>\n",
       "      <td>0.200000</td>\n",
       "      <td>...</td>\n",
       "      <td>0.251538</td>\n",
       "      <td>0.246316</td>\n",
       "      <td>0.214805</td>\n",
       "      <td>0.234868</td>\n",
       "      <td>0.168056</td>\n",
       "      <td>0.318243</td>\n",
       "      <td>1.000000</td>\n",
       "      <td>0.423286</td>\n",
       "      <td>0.396622</td>\n",
       "      <td>1.000000</td>\n",
       "    </tr>\n",
       "    <tr>\n",
       "      <th>160</th>\n",
       "      <td>0.80</td>\n",
       "      <td>0.60</td>\n",
       "      <td>0.20</td>\n",
       "      <td>0.40</td>\n",
       "      <td>0.70</td>\n",
       "      <td>0.70</td>\n",
       "      <td>0.80</td>\n",
       "      <td>0.620098</td>\n",
       "      <td>0.572638</td>\n",
       "      <td>0.700000</td>\n",
       "      <td>...</td>\n",
       "      <td>0.251538</td>\n",
       "      <td>0.246316</td>\n",
       "      <td>0.214805</td>\n",
       "      <td>0.234868</td>\n",
       "      <td>0.168056</td>\n",
       "      <td>0.318243</td>\n",
       "      <td>0.452708</td>\n",
       "      <td>0.423286</td>\n",
       "      <td>0.396622</td>\n",
       "      <td>0.510897</td>\n",
       "    </tr>\n",
       "    <tr>\n",
       "      <th>161</th>\n",
       "      <td>0.40</td>\n",
       "      <td>0.70</td>\n",
       "      <td>0.90</td>\n",
       "      <td>0.40</td>\n",
       "      <td>0.40</td>\n",
       "      <td>0.70</td>\n",
       "      <td>0.90</td>\n",
       "      <td>0.620098</td>\n",
       "      <td>0.572638</td>\n",
       "      <td>0.800000</td>\n",
       "      <td>...</td>\n",
       "      <td>0.251538</td>\n",
       "      <td>0.246316</td>\n",
       "      <td>0.214805</td>\n",
       "      <td>0.234868</td>\n",
       "      <td>0.168056</td>\n",
       "      <td>0.318243</td>\n",
       "      <td>0.452708</td>\n",
       "      <td>0.423286</td>\n",
       "      <td>0.396622</td>\n",
       "      <td>0.510897</td>\n",
       "    </tr>\n",
       "  </tbody>\n",
       "</table>\n",
       "<p>162 rows × 25 columns</p>\n",
       "</div>"
      ],
      "text/plain": [
       "     Data Structures and Algorithms  Computer Architecture\\n  \\\n",
       "0                              0.30                     0.85   \n",
       "1                              0.70                     0.80   \n",
       "2                              0.70                     0.00   \n",
       "3                              0.65                     0.70   \n",
       "4                              0.70                     0.60   \n",
       "..                              ...                      ...   \n",
       "157                            0.00                     1.00   \n",
       "158                            1.00                     0.00   \n",
       "159                            0.60                     0.30   \n",
       "160                            0.80                     0.60   \n",
       "161                            0.40                     0.70   \n",
       "\n",
       "     Discrete Mathematics\\n  Economics  Programming-2  Machine Learning\\n  \\\n",
       "0                      0.85       0.90           0.70                0.70   \n",
       "1                      0.20       0.80           0.80                0.50   \n",
       "2                      1.00       1.00           1.00                1.00   \n",
       "3                      0.20       0.75           0.75                0.75   \n",
       "4                      0.20       0.00           0.80                0.50   \n",
       "..                      ...        ...            ...                 ...   \n",
       "157                    0.50       0.70           0.60                0.50   \n",
       "158                    0.00       0.70           0.70                0.00   \n",
       "159                    0.40       0.90           0.80                0.70   \n",
       "160                    0.20       0.40           0.70                0.70   \n",
       "161                    0.90       0.40           0.40                0.70   \n",
       "\n",
       "     Mathematics For Machine Learning\\n  Visual Recognition\\n  \\\n",
       "0                                  0.80              0.620098   \n",
       "1                                  0.10              0.200000   \n",
       "2                                  1.00              0.800000   \n",
       "3                                  0.75              0.750000   \n",
       "4                                  0.60              0.400000   \n",
       "..                                  ...                   ...   \n",
       "157                                0.30              0.700000   \n",
       "158                                0.00              0.000000   \n",
       "159                                0.40              0.500000   \n",
       "160                                0.80              0.620098   \n",
       "161                                0.90              0.620098   \n",
       "\n",
       "     Natural Language Processing\\n  Reinforcement Learning  ...  \\\n",
       "0                         0.572638                0.603495  ...   \n",
       "1                         0.572638                0.603495  ...   \n",
       "2                         0.900000                1.000000  ...   \n",
       "3                         0.572638                0.603495  ...   \n",
       "4                         0.400000                0.200000  ...   \n",
       "..                             ...                     ...  ...   \n",
       "157                       0.572638                0.603495  ...   \n",
       "158                       0.572638                0.603495  ...   \n",
       "159                       0.400000                0.200000  ...   \n",
       "160                       0.572638                0.700000  ...   \n",
       "161                       0.572638                0.800000  ...   \n",
       "\n",
       "     Digital CMOS VLSI Design   System design with FPGA   ASIC design   \\\n",
       "0                     0.251538                  0.246316      0.214805   \n",
       "1                     0.251538                  0.246316      0.214805   \n",
       "2                     0.251538                  0.246316      0.214805   \n",
       "3                     0.251538                  0.246316      0.214805   \n",
       "4                     0.000000                  0.000000      0.000000   \n",
       "..                         ...                       ...           ...   \n",
       "157                   0.251538                  0.246316      0.214805   \n",
       "158                   0.251538                  0.246316      0.214805   \n",
       "159                   0.251538                  0.246316      0.214805   \n",
       "160                   0.251538                  0.246316      0.214805   \n",
       "161                   0.251538                  0.246316      0.214805   \n",
       "\n",
       "     VLSI Architecture Design\\n  \\\n",
       "0                      0.234868   \n",
       "1                      0.234868   \n",
       "2                      0.234868   \n",
       "3                      0.234868   \n",
       "4                      0.000000   \n",
       "..                          ...   \n",
       "157                    0.234868   \n",
       "158                    0.234868   \n",
       "159                    0.234868   \n",
       "160                    0.234868   \n",
       "161                    0.234868   \n",
       "\n",
       "     High level synthesis and optimization of Digital Circuits   \\\n",
       "0                                             0.168056            \n",
       "1                                             0.168056            \n",
       "2                                             0.168056            \n",
       "3                                             0.168056            \n",
       "4                                             0.000000            \n",
       "..                                                 ...            \n",
       "157                                           0.168056            \n",
       "158                                           0.168056            \n",
       "159                                           0.168056            \n",
       "160                                           0.168056            \n",
       "161                                           0.168056            \n",
       "\n",
       "     Digital Sociology   Privacy in the Digital Age  \\\n",
       "0              0.318243                    0.600000   \n",
       "1              0.318243                    0.500000   \n",
       "2              0.318243                    0.400000   \n",
       "3              0.800000                    0.452708   \n",
       "4              0.000000                    0.000000   \n",
       "..                  ...                         ...   \n",
       "157            0.318243                    0.000000   \n",
       "158            0.318243                    0.452708   \n",
       "159            0.318243                    1.000000   \n",
       "160            0.318243                    0.452708   \n",
       "161            0.318243                    0.452708   \n",
       "\n",
       "     Technology Ethics and AI   Techno-economics of networks   \\\n",
       "0                     0.423286                       0.396622   \n",
       "1                     0.423286                       0.396622   \n",
       "2                     0.423286                       0.396622   \n",
       "3                     0.423286                       0.800000   \n",
       "4                     0.000000                       0.000000   \n",
       "..                         ...                            ...   \n",
       "157                   0.423286                       0.396622   \n",
       "158                   0.423286                       0.396622   \n",
       "159                   0.423286                       0.396622   \n",
       "160                   0.423286                       0.396622   \n",
       "161                   0.423286                       0.396622   \n",
       "\n",
       "     The Web and the Mind   \n",
       "0                 0.510897  \n",
       "1                 0.510897  \n",
       "2                 0.510897  \n",
       "3                 0.510897  \n",
       "4                 0.000000  \n",
       "..                     ...  \n",
       "157               0.510897  \n",
       "158               0.200000  \n",
       "159               1.000000  \n",
       "160               0.510897  \n",
       "161               0.510897  \n",
       "\n",
       "[162 rows x 25 columns]"
      ]
     },
     "execution_count": 1311,
     "metadata": {},
     "output_type": "execute_result"
    }
   ],
   "source": [
    "df=read_data(filename)\n",
    "df = preprocess(df)\n",
    "df"
   ]
  },
  {
   "cell_type": "code",
   "execution_count": 1312,
   "metadata": {},
   "outputs": [],
   "source": [
    "train,test = train_test_split(df,train_size=splitProp, random_state=42,shuffle = True)"
   ]
  },
  {
   "cell_type": "code",
   "execution_count": 1313,
   "metadata": {},
   "outputs": [
    {
     "data": {
      "text/plain": [
       "(162, 25)"
      ]
     },
     "execution_count": 1313,
     "metadata": {},
     "output_type": "execute_result"
    }
   ],
   "source": [
    "df.shape"
   ]
  },
  {
   "cell_type": "code",
   "execution_count": 1314,
   "metadata": {},
   "outputs": [
    {
     "data": {
      "text/plain": [
       "(9, 25)"
      ]
     },
     "execution_count": 1314,
     "metadata": {},
     "output_type": "execute_result"
    }
   ],
   "source": [
    "test.shape"
   ]
  },
  {
   "cell_type": "code",
   "execution_count": 1315,
   "metadata": {},
   "outputs": [
    {
     "data": {
      "text/plain": [
       "Data Structures and Algorithms                                0\n",
       "Computer Architecture\\n                                       0\n",
       "Discrete Mathematics\\n                                        0\n",
       "Economics                                                     0\n",
       "Programming-2                                                 0\n",
       "Machine Learning\\n                                            0\n",
       "Mathematics For Machine Learning\\n                            0\n",
       "Visual Recognition\\n                                          0\n",
       "Natural Language Processing\\n                                 0\n",
       "Reinforcement Learning                                        0\n",
       "Software Production Engineering\\n                             0\n",
       "Computer Graphics\\n                                           0\n",
       "Data Visualization\\n                                          0\n",
       "Programming Languages\\n                                       0\n",
       "Cloud Computing\\n                                             0\n",
       "Digital CMOS VLSI Design                                      0\n",
       "System design with FPGA                                       0\n",
       "ASIC design                                                   0\n",
       "VLSI Architecture Design\\n                                    0\n",
       "High level synthesis and optimization of Digital Circuits     0\n",
       "Digital Sociology                                             0\n",
       "Privacy in the Digital Age                                    0\n",
       "Technology Ethics and AI                                      0\n",
       "Techno-economics of networks                                  0\n",
       "The Web and the Mind                                          0\n",
       "dtype: int64"
      ]
     },
     "execution_count": 1315,
     "metadata": {},
     "output_type": "execute_result"
    }
   ],
   "source": [
    "df.isna().sum()"
   ]
  },
  {
   "cell_type": "code",
   "execution_count": 1316,
   "metadata": {},
   "outputs": [
    {
     "data": {
      "text/plain": [
       "Index(['Data Structures and Algorithms', 'Computer Architecture\\n',\n",
       "       'Discrete Mathematics\\n', 'Economics', 'Programming-2',\n",
       "       'Machine Learning\\n', 'Mathematics For Machine Learning\\n',\n",
       "       'Visual Recognition\\n', 'Natural Language Processing\\n',\n",
       "       'Reinforcement Learning', 'Software Production Engineering\\n',\n",
       "       'Computer Graphics\\n', 'Data Visualization\\n',\n",
       "       'Programming Languages\\n', 'Cloud Computing\\n',\n",
       "       'Digital CMOS VLSI Design ', 'System design with FPGA ', 'ASIC design ',\n",
       "       'VLSI Architecture Design\\n',\n",
       "       'High level synthesis and optimization of Digital Circuits ',\n",
       "       'Digital Sociology ', 'Privacy in the Digital Age',\n",
       "       'Technology Ethics and AI ', 'Techno-economics of networks ',\n",
       "       'The Web and the Mind '],\n",
       "      dtype='object')"
      ]
     },
     "execution_count": 1316,
     "metadata": {},
     "output_type": "execute_result"
    }
   ],
   "source": [
    "courses = df.columns\n",
    "courses"
   ]
  },
  {
   "cell_type": "code",
   "execution_count": 1317,
   "metadata": {},
   "outputs": [],
   "source": [
    "core_courses = ['Data Structures and Algorithms','Computer Architecture\\n','Discrete Mathematics\\n','Economics','Programming-2']"
   ]
  },
  {
   "attachments": {},
   "cell_type": "markdown",
   "metadata": {},
   "source": [
    "# K-means"
   ]
  },
  {
   "cell_type": "code",
   "execution_count": 1318,
   "metadata": {},
   "outputs": [],
   "source": [
    "def visualize(point):\n",
    "    wcss = []  #Within Cluster Sum of Squares\n",
    "    for number_of_clusters in range(1, 15): \n",
    "        kmeans = KMeans(n_clusters = number_of_clusters, random_state = 42)\n",
    "        kmeans.fit(df[core_courses]) \n",
    "        wcss.append(kmeans.inertia_)\n",
    "    ks = np.arange(1,15,1)\n",
    "    plt.plot(ks, wcss)\n",
    "    plt.axvline(point, linestyle='--', color='r')\n",
    "    return wcss"
   ]
  },
  {
   "cell_type": "code",
   "execution_count": 1319,
   "metadata": {},
   "outputs": [
    {
     "data": {
      "text/plain": [
       "[82.11226015529861,\n",
       " 63.24078648485308,\n",
       " 51.59371019141971,\n",
       " 44.925208436514524,\n",
       " 39.88330675972086,\n",
       " 36.1746361281475,\n",
       " 33.398702023260036,\n",
       " 30.5695359693512,\n",
       " 28.1421428563879,\n",
       " 25.519097800451988,\n",
       " 24.303521924994463,\n",
       " 22.250775245363172,\n",
       " 21.26505642848125,\n",
       " 19.7185773653146]"
      ]
     },
     "execution_count": 1319,
     "metadata": {},
     "output_type": "execute_result"
    },
    {
     "data": {
      "image/png": "[encoded data removed]",
      "text/plain": [
       "<Figure size 640x480 with 1 Axes>"
      ]
     },
     "metadata": {},
     "output_type": "display_data"
    }
   ],
   "source": [
    "visualize(5)"
   ]
  },
  {
   "cell_type": "code",
   "execution_count": 1320,
   "metadata": {},
   "outputs": [],
   "source": [
    "def K_means(df, num_clusters, iters):\n",
    "    np_dat = df.to_numpy()\n",
    "    # Initialize the centroids\n",
    "    range_min = np.min(np_dat, axis = 0)\n",
    "    range_max = np.max(np_dat, axis = 0)\n",
    "    curr_centroids = []\n",
    "    np.random.seed(200)\n",
    "    for i in range(num_clusters):\n",
    "        curr_centroids.append(np.random.uniform(range_min, range_max))\n",
    "    clusters = {}\n",
    "    for it in range(iters):\n",
    "        # Repopulate clusters\n",
    "        clusters.clear()\n",
    "        for j in range(np_dat.shape[0]):\n",
    "            datapoint = np_dat[j]\n",
    "            min = sys.maxsize\n",
    "            min_index = 10\n",
    "            for k in range(num_clusters):\n",
    "                dist = np.linalg.norm(curr_centroids[k] - datapoint)\n",
    "                if(dist < min):\n",
    "                    min = dist\n",
    "                    min_index = k\n",
    "            if(clusters.get(str(min_index)) == None):\n",
    "                clusters[str(min_index)] = []\n",
    "            clusters[str(min_index)].append(j)\n",
    "        \n",
    "        # Recalculate Centroids\n",
    "        new_centroids = []\n",
    "        for k in range(num_clusters):\n",
    "            key = str(k)\n",
    "            if(clusters.get(key) == None): \n",
    "                n_centr = curr_centroids[k]\n",
    "                #n_centr = np.random.uniform(range_min, range_max)\n",
    "            else: n_centr = np.mean(np_dat[np.array(clusters[key])], axis = 0)\n",
    "            new_centroids.append(n_centr)\n",
    "        \n",
    "        #if((np.not_equal(new_centroids, curr_centroids).any()) != True ): break\n",
    "        curr_centroids = new_centroids\n",
    "    return clusters\n"
   ]
  },
  {
   "cell_type": "code",
   "execution_count": 1321,
   "metadata": {},
   "outputs": [],
   "source": [
    "def get_clustered_df(df,num_clusters):\n",
    "    cluster_dict = K_means(df[core_courses], num_clusters, 50)\n",
    "    clustered_df =[]\n",
    "    arr = df.to_numpy()\n",
    "    for k in range(num_clusters):\n",
    "        key = str(k)\n",
    "        centr = np.nanmean(arr[np.array(cluster_dict[key])], axis = 0)\n",
    "        clustered_df.append(centr)\n",
    "    return clustered_df"
   ]
  },
  {
   "cell_type": "code",
   "execution_count": 1322,
   "metadata": {},
   "outputs": [],
   "source": [
    "def old_get_clustered_df(df,num_clusters):\n",
    "    kmeans = KMeans(n_clusters = num_clusters, random_state = 42)\n",
    "    clustered_matrix = kmeans.fit_predict(df[core_courses]) \n",
    "    # print(clustered_matrix.shape)\n",
    "    arr = df.to_numpy()\n",
    "    clustered_df = []\n",
    "    for i in range(num_clusters):\n",
    "        users = 0\n",
    "        s=np.zeros(25)\n",
    "        for j in range(len(clustered_matrix)):#162\n",
    "            \n",
    "            if clustered_matrix[j]==i:\n",
    "                s+=arr[j]\n",
    "                users = users + 1\n",
    "        mean = s/users\n",
    "        clustered_df.append(mean)\n",
    "    return clustered_df"
   ]
  },
  {
   "cell_type": "code",
   "execution_count": 1323,
   "metadata": {},
   "outputs": [],
   "source": [
    "clustered_df = old_get_clustered_df(df,10)"
   ]
  },
  {
   "attachments": {},
   "cell_type": "markdown",
   "metadata": {},
   "source": [
    "# SVD"
   ]
  },
  {
   "cell_type": "code",
   "execution_count": 1324,
   "metadata": {},
   "outputs": [],
   "source": [
    "def svd(A):\n",
    "    # Step 1: Compute the transpose of A\n",
    "    AT = A.T\n",
    "    # Step 2: Compute the product A x AT\n",
    "    ATA = A.dot(AT)\n",
    "    # Step 3: Compute the eigenvalues and eigenvectors of ATA\n",
    "    eigenvalues, eigenvectors = np.linalg.eig(ATA)\n",
    "    # Step 4: Sort the eigenvalues in descending order\n",
    "    sorted_idx = eigenvalues.argsort()[::-1]\n",
    "    eigenvalues = eigenvalues[sorted_idx]\n",
    "    eigenvectors = eigenvectors[:, sorted_idx]\n",
    "    # Step 5: Compute the diagonal matrix Sigma\n",
    "    Sigma = np.sqrt(eigenvalues)\n",
    "    # Step 6: Compute the pseudo-inverse of Sigma\n",
    "    inv_Sigma = np.zeros((A.shape[1], A.shape[0]))\n",
    "    #print(A.shape)\n",
    "    inv_Sigma[:A.shape[0], :A.shape[0]] = np.diag(1.0 / Sigma)\n",
    "    # Step 7: Compute the product AT x V x inv(Sigma)\n",
    "    V = AT.dot(eigenvectors)\n",
    "    # Step 8: Normalize the columns of V\n",
    "    V = V / np.linalg.norm(V, axis=0)\n",
    "    # Step 9: Compute the product A x U x Sigma^-1\n",
    "    U = A.dot(V) / Sigma\n",
    "    return U, Sigma, V.T"
   ]
  },
  {
   "cell_type": "code",
   "execution_count": 1325,
   "metadata": {},
   "outputs": [],
   "source": [
    "U,sigma,VT = svd(np.array(clustered_df))"
   ]
  },
  {
   "cell_type": "code",
   "execution_count": 1326,
   "metadata": {},
   "outputs": [
    {
     "data": {
      "text/plain": [
       "((10, 10), (10,), (10, 25))"
      ]
     },
     "execution_count": 1326,
     "metadata": {},
     "output_type": "execute_result"
    }
   ],
   "source": [
    "U.shape,sigma.shape,VT.shape"
   ]
  },
  {
   "cell_type": "code",
   "execution_count": 1327,
   "metadata": {},
   "outputs": [],
   "source": [
    "k=6"
   ]
  },
  {
   "cell_type": "code",
   "execution_count": 1328,
   "metadata": {},
   "outputs": [],
   "source": [
    "def reduced_svd(k,A):\n",
    "    U,sigma,VT = svd(A)\n",
    "    reduced_matrix = np.dot(np.dot(U[:,:k],np.diag(sigma[:k])),VT[:k,:])\n",
    "    return reduced_matrix\n"
   ]
  },
  {
   "cell_type": "code",
   "execution_count": 1329,
   "metadata": {},
   "outputs": [],
   "source": [
    "reduced_matrix = reduced_svd(k,np.array(clustered_df))"
   ]
  },
  {
   "attachments": {},
   "cell_type": "markdown",
   "metadata": {},
   "source": [
    "# Prediction"
   ]
  },
  {
   "cell_type": "code",
   "execution_count": 1330,
   "metadata": {},
   "outputs": [],
   "source": [
    "def EuclDist(vec1,vec2):\n",
    "    return np.linalg.norm(vec1 - vec2)"
   ]
  },
  {
   "cell_type": "markdown",
   "metadata": {},
   "source": [
    "new user with just core courses ratings. Now we need elective courses"
   ]
  },
  {
   "cell_type": "code",
   "execution_count": 1331,
   "metadata": {},
   "outputs": [],
   "source": [
    "new_user = [0.2,0.8,0.2,0.6,0.9]\n",
    "new_user2 =[ 0.699459,\t0.545405\t,0.325405\t,0.615135\t,0.737838]\n",
    "sooraj = [0.4, 0.8,0.85,0.9,0.7]\n",
    "chinmay = [0.9,0.2,0.4,0.6 ,0.8]\n",
    "kritin = [0,0,0,0,0]"
   ]
  },
  {
   "cell_type": "code",
   "execution_count": 1332,
   "metadata": {},
   "outputs": [],
   "source": [
    "def find_cluster(reduced_matrix,new_user):\n",
    "    \n",
    "    min=EuclDist(reduced_matrix[0,:5],new_user)\n",
    "    cluster = 0\n",
    "    for i in range(len(reduced_matrix)):\n",
    "        sim = EuclDist(reduced_matrix[i,:5],new_user)#euclidean distance\n",
    "        # print(sim)\n",
    "        if sim<min:\n",
    "            min = sim\n",
    "            cluster=i\n",
    "    return cluster\n"
   ]
  },
  {
   "cell_type": "code",
   "execution_count": 1333,
   "metadata": {},
   "outputs": [
    {
     "data": {
      "text/plain": [
       "3"
      ]
     },
     "execution_count": 1333,
     "metadata": {},
     "output_type": "execute_result"
    }
   ],
   "source": [
    "find_cluster(reduced_matrix,kritin)#testing"
   ]
  },
  {
   "cell_type": "code",
   "execution_count": 1334,
   "metadata": {},
   "outputs": [],
   "source": [
    "def find_elective_ratings(reduced_matrix,new_user):\n",
    "    cluster = find_cluster(reduced_matrix,new_user)\n",
    "    elective_ratings = reduced_matrix[cluster,5:]\n",
    "    return elective_ratings\n"
   ]
  },
  {
   "cell_type": "code",
   "execution_count": 1335,
   "metadata": {},
   "outputs": [],
   "source": [
    "def find_elective_ratings_from_og(reduced_matrix,original,new_user):\n",
    "    cluster = find_cluster(reduced_matrix,new_user)\n",
    "    elective_ratings = original[cluster,5:]\n",
    "    return elective_ratings\n"
   ]
  },
  {
   "cell_type": "code",
   "execution_count": 1336,
   "metadata": {},
   "outputs": [],
   "source": [
    "elective_ratings = find_elective_ratings(reduced_matrix,kritin)"
   ]
  },
  {
   "cell_type": "code",
   "execution_count": 1337,
   "metadata": {},
   "outputs": [],
   "source": [
    "elective_ratings2 = find_elective_ratings_from_og(reduced_matrix,np.array(clustered_df),kritin)"
   ]
  },
  {
   "attachments": {},
   "cell_type": "markdown",
   "metadata": {},
   "source": [
    "# Ranking of electives"
   ]
  },
  {
   "cell_type": "code",
   "execution_count": 1338,
   "metadata": {},
   "outputs": [],
   "source": [
    "def get_electives_ranked(courses,elective_ratings):\n",
    "    d={courses[5:][i]: elective_ratings[i] for i in range(20)}\n",
    "\n",
    "    elective_ranked = sorted(courses[5:], key=lambda x : -d[x])\n",
    "    return elective_ranked  "
   ]
  },
  {
   "cell_type": "code",
   "execution_count": 1339,
   "metadata": {},
   "outputs": [],
   "source": [
    "elective_ranked = get_electives_ranked(courses,elective_ratings)\n"
   ]
  },
  {
   "cell_type": "code",
   "execution_count": 1340,
   "metadata": {},
   "outputs": [
    {
     "data": {
      "text/plain": [
       "['Machine Learning\\n',\n",
       " 'Software Production Engineering\\n',\n",
       " 'Mathematics For Machine Learning\\n',\n",
       " 'Reinforcement Learning',\n",
       " 'Visual Recognition\\n',\n",
       " 'Cloud Computing\\n',\n",
       " 'Programming Languages\\n',\n",
       " 'Natural Language Processing\\n',\n",
       " 'Data Visualization\\n',\n",
       " 'The Web and the Mind ',\n",
       " 'Computer Graphics\\n',\n",
       " 'Privacy in the Digital Age',\n",
       " 'Technology Ethics and AI ',\n",
       " 'Digital CMOS VLSI Design ',\n",
       " 'Digital Sociology ',\n",
       " 'VLSI Architecture Design\\n',\n",
       " 'System design with FPGA ',\n",
       " 'Techno-economics of networks ',\n",
       " 'ASIC design ',\n",
       " 'High level synthesis and optimization of Digital Circuits ']"
      ]
     },
     "execution_count": 1340,
     "metadata": {},
     "output_type": "execute_result"
    }
   ],
   "source": [
    "elective_ranked"
   ]
  },
  {
   "cell_type": "code",
   "execution_count": 1341,
   "metadata": {},
   "outputs": [
    {
     "data": {
      "text/plain": [
       "['Machine Learning\\n',\n",
       " 'Software Production Engineering\\n',\n",
       " 'Programming Languages\\n',\n",
       " 'Mathematics For Machine Learning\\n',\n",
       " 'Reinforcement Learning',\n",
       " 'Cloud Computing\\n',\n",
       " 'Visual Recognition\\n',\n",
       " 'Natural Language Processing\\n',\n",
       " 'Data Visualization\\n',\n",
       " 'Computer Graphics\\n',\n",
       " 'The Web and the Mind ',\n",
       " 'Technology Ethics and AI ',\n",
       " 'Privacy in the Digital Age',\n",
       " 'Digital CMOS VLSI Design ',\n",
       " 'Techno-economics of networks ',\n",
       " 'Digital Sociology ',\n",
       " 'System design with FPGA ',\n",
       " 'VLSI Architecture Design\\n',\n",
       " 'ASIC design ',\n",
       " 'High level synthesis and optimization of Digital Circuits ']"
      ]
     },
     "execution_count": 1341,
     "metadata": {},
     "output_type": "execute_result"
    }
   ],
   "source": [
    "elective_ranked2 = get_electives_ranked(courses,elective_ratings2)\n",
    "elective_ranked2"
   ]
  },
  {
   "cell_type": "markdown",
   "metadata": {},
   "source": [
    "change the nan values to average of the item instead of average of user ratings. -- done\n",
    "\n",
    "in find elective rating find the ratings from the clustered matrix and not reduced matrix."
   ]
  },
  {
   "attachments": {},
   "cell_type": "markdown",
   "metadata": {},
   "source": [
    "# Training and Testing"
   ]
  },
  {
   "cell_type": "code",
   "execution_count": 1342,
   "metadata": {},
   "outputs": [],
   "source": [
    "def train_recommendations(X_train,num_clusters, k_svd):\n",
    "    clustered_df=get_clustered_df(X_train,num_clusters)\n",
    "    reduced_matrix=reduced_svd(k_svd,np.array(clustered_df))\n",
    "    return reduced_matrix"
   ]
  },
  {
   "cell_type": "code",
   "execution_count": 1343,
   "metadata": {},
   "outputs": [],
   "source": [
    "def old_train_recommendations(X_train,num_clusters):\n",
    "    clustered_df=old_get_clustered_df(X_train,num_clusters)\n",
    "    reduced_matrix=reduced_svd(6,np.array(clustered_df))\n",
    "    return reduced_matrix"
   ]
  },
  {
   "cell_type": "code",
   "execution_count": 1344,
   "metadata": {},
   "outputs": [],
   "source": [
    "def test_recommendations(X_test,reduced_matrix):\n",
    "    pred = []\n",
    "    for i in range(len(X_test)):\n",
    "        new_user = X_test[i]\n",
    "        elective_ratings = find_elective_ratings(reduced_matrix,new_user[:5])\n",
    "        elective_ranked = get_electives_ranked(courses,elective_ratings)\n",
    "        pred.append(elective_ratings)\n",
    "    return pred\n"
   ]
  },
  {
   "cell_type": "code",
   "execution_count": 1345,
   "metadata": {},
   "outputs": [],
   "source": [
    "def accuracy(pred,test):\n",
    "    mse =[]\n",
    "    for i in range(len(pred)):\n",
    "        mse.append((EuclDist(pred[i],test[i][5:])))\n",
    "\n",
    "    return sum(mse)/len(mse)"
   ]
  },
  {
   "cell_type": "code",
   "execution_count": 1346,
   "metadata": {},
   "outputs": [],
   "source": [
    "reduced_matrix = train_recommendations(train, 10, 5)"
   ]
  },
  {
   "cell_type": "code",
   "execution_count": 1347,
   "metadata": {},
   "outputs": [],
   "source": [
    "pred=test_recommendations(test.to_numpy(),reduced_matrix)"
   ]
  },
  {
   "cell_type": "code",
   "execution_count": 1348,
   "metadata": {},
   "outputs": [
    {
     "data": {
      "text/plain": [
       "1.3524119519186255"
      ]
     },
     "execution_count": 1348,
     "metadata": {},
     "output_type": "execute_result"
    }
   ],
   "source": [
    "accuracy(pred,test.to_numpy())"
   ]
  },
  {
   "attachments": {},
   "cell_type": "markdown",
   "metadata": {},
   "source": [
    "# Analysis"
   ]
  },
  {
   "attachments": {},
   "cell_type": "markdown",
   "metadata": {},
   "source": [
    "## Cluster Size, Singular Values"
   ]
  },
  {
   "cell_type": "code",
   "execution_count": 1349,
   "metadata": {},
   "outputs": [
    {
     "data": {
      "image/png": "[encoded data removed]",
      "text/plain": [
       "<Figure size 640x480 with 1 Axes>"
      ]
     },
     "metadata": {},
     "output_type": "display_data"
    }
   ],
   "source": [
    "lt = [3,4,5,6,7,8,9,10,11,12]\n",
    "acc = []\n",
    "for num_clusters in lt:\n",
    "    reduced_matrix = train_recommendations(train,num_clusters, 6)\n",
    "    pred=test_recommendations(test.to_numpy(),reduced_matrix)\n",
    "    acc.append(accuracy(pred,test.to_numpy()))\n",
    "x = lt\n",
    "default_x_ticks = range(len(x))\n",
    "plt.plot(default_x_ticks, acc)\n",
    "plt.xticks(default_x_ticks, x)\n",
    "plt.show()   "
   ]
  },
  {
   "cell_type": "code",
   "execution_count": 1350,
   "metadata": {},
   "outputs": [
    {
     "data": {
      "text/plain": [
       "([<matplotlib.axis.XTick at 0x157d0d190>,\n",
       "  <matplotlib.axis.XTick at 0x157d0d1c0>,\n",
       "  <matplotlib.axis.XTick at 0x157d0d310>,\n",
       "  <matplotlib.axis.XTick at 0x1680f1370>,\n",
       "  <matplotlib.axis.XTick at 0x1680f1070>,\n",
       "  <matplotlib.axis.XTick at 0x1566a8640>,\n",
       "  <matplotlib.axis.XTick at 0x1680f1ac0>,\n",
       "  <matplotlib.axis.XTick at 0x1566a80d0>,\n",
       "  <matplotlib.axis.XTick at 0x1564bd4c0>],\n",
       " [Text(0, 0, '2'),\n",
       "  Text(1, 0, '3'),\n",
       "  Text(2, 0, '4'),\n",
       "  Text(3, 0, '5'),\n",
       "  Text(4, 0, '6'),\n",
       "  Text(5, 0, '7'),\n",
       "  Text(6, 0, '8'),\n",
       "  Text(7, 0, '9'),\n",
       "  Text(8, 0, '10')])"
      ]
     },
     "execution_count": 1350,
     "metadata": {},
     "output_type": "execute_result"
    },
    {
     "data": {
      "image/png": "[encoded data removed]",
      "text/plain": [
       "<Figure size 640x480 with 1 Axes>"
      ]
     },
     "metadata": {},
     "output_type": "display_data"
    }
   ],
   "source": [
    "k_list = [2,3,4,5,6,7,8,9,10]\n",
    "acc = []\n",
    "for k_svd in k_list:\n",
    "    reduced_matrix = train_recommendations(train,10, k_svd)\n",
    "    pred=test_recommendations(test.to_numpy(),reduced_matrix)\n",
    "    acc.append(accuracy(pred,test.to_numpy()))\n",
    "x = k_list\n",
    "default_x_ticks = range(len(x))\n",
    "plt.plot(default_x_ticks, acc)\n",
    "plt.xticks(default_x_ticks, x)"
   ]
  },
  {
   "cell_type": "code",
   "execution_count": 1351,
   "metadata": {},
   "outputs": [],
   "source": [
    "# for i in pred:\n",
    "#     elective_ranked = get_electives_ranked(courses,i)\n",
    "#     print(elective_ranked)\n",
    "#     print(\"*****************\")"
   ]
  },
  {
   "attachments": {},
   "cell_type": "markdown",
   "metadata": {},
   "source": [
    "## Cluster Visualisation"
   ]
  },
  {
   "cell_type": "code",
   "execution_count": 1352,
   "metadata": {},
   "outputs": [
    {
     "ename": "ValueError",
     "evalue": "n_components=3 must be between 0 and min(n_samples, n_features)=2 with svd_solver='full'",
     "output_type": "error",
     "traceback": [
      "\u001b[0;31m---------------------------------------------------------------------------\u001b[0m",
      "\u001b[0;31mValueError\u001b[0m                                Traceback (most recent call last)",
      "\u001b[1;32m/Users/keshav/Documents/academics/recsys/CourseRecSys/courseRecSys.ipynb Cell 57\u001b[0m in \u001b[0;36m1\n\u001b[1;32m     <a href='vscode-notebook-cell:/Users/keshav/Documents/academics/recsys/CourseRecSys/courseRecSys.ipynb#Y466sZmlsZQ%3D%3D?line=9'>10</a>\u001b[0m X_std \u001b[39m=\u001b[39m StandardScaler()\u001b[39m.\u001b[39mfit_transform(df\u001b[39m.\u001b[39mloc[df\u001b[39m.\u001b[39mindex\u001b[39m.\u001b[39misin(cluster_dict[\u001b[39mstr\u001b[39m(k)])])\n\u001b[1;32m     <a href='vscode-notebook-cell:/Users/keshav/Documents/academics/recsys/CourseRecSys/courseRecSys.ipynb#Y466sZmlsZQ%3D%3D?line=10'>11</a>\u001b[0m pca \u001b[39m=\u001b[39m PCA(n_components\u001b[39m=\u001b[39m\u001b[39m3\u001b[39m)\n\u001b[0;32m---> <a href='vscode-notebook-cell:/Users/keshav/Documents/academics/recsys/CourseRecSys/courseRecSys.ipynb#Y466sZmlsZQ%3D%3D?line=11'>12</a>\u001b[0m principalComponents \u001b[39m=\u001b[39m pca\u001b[39m.\u001b[39;49mfit_transform(X_std)\n\u001b[1;32m     <a href='vscode-notebook-cell:/Users/keshav/Documents/academics/recsys/CourseRecSys/courseRecSys.ipynb#Y466sZmlsZQ%3D%3D?line=12'>13</a>\u001b[0m \u001b[39m# Plot the explained variances\u001b[39;00m\n\u001b[1;32m     <a href='vscode-notebook-cell:/Users/keshav/Documents/academics/recsys/CourseRecSys/courseRecSys.ipynb#Y466sZmlsZQ%3D%3D?line=13'>14</a>\u001b[0m features \u001b[39m=\u001b[39m \u001b[39mrange\u001b[39m(pca\u001b[39m.\u001b[39mn_components_)\n",
      "File \u001b[0;32m/opt/homebrew/Caskroom/miniconda/base/envs/sklearn-env/lib/python3.9/site-packages/sklearn/decomposition/_pca.py:433\u001b[0m, in \u001b[0;36mPCA.fit_transform\u001b[0;34m(self, X, y)\u001b[0m\n\u001b[1;32m    411\u001b[0m \u001b[39mdef\u001b[39;00m \u001b[39mfit_transform\u001b[39m(\u001b[39mself\u001b[39m, X, y\u001b[39m=\u001b[39m\u001b[39mNone\u001b[39;00m):\n\u001b[1;32m    412\u001b[0m     \u001b[39m\"\"\"Fit the model with X and apply the dimensionality reduction on X.\u001b[39;00m\n\u001b[1;32m    413\u001b[0m \n\u001b[1;32m    414\u001b[0m \u001b[39m    Parameters\u001b[39;00m\n\u001b[0;32m   (...)\u001b[0m\n\u001b[1;32m    431\u001b[0m \u001b[39m    C-ordered array, use 'np.ascontiguousarray'.\u001b[39;00m\n\u001b[1;32m    432\u001b[0m \u001b[39m    \"\"\"\u001b[39;00m\n\u001b[0;32m--> 433\u001b[0m     U, S, Vt \u001b[39m=\u001b[39m \u001b[39mself\u001b[39;49m\u001b[39m.\u001b[39;49m_fit(X)\n\u001b[1;32m    434\u001b[0m     U \u001b[39m=\u001b[39m U[:, : \u001b[39mself\u001b[39m\u001b[39m.\u001b[39mn_components_]\n\u001b[1;32m    436\u001b[0m     \u001b[39mif\u001b[39;00m \u001b[39mself\u001b[39m\u001b[39m.\u001b[39mwhiten:\n\u001b[1;32m    437\u001b[0m         \u001b[39m# X_new = X * V / S * sqrt(n_samples) = U * sqrt(n_samples)\u001b[39;00m\n",
      "File \u001b[0;32m/opt/homebrew/Caskroom/miniconda/base/envs/sklearn-env/lib/python3.9/site-packages/sklearn/decomposition/_pca.py:483\u001b[0m, in \u001b[0;36mPCA._fit\u001b[0;34m(self, X)\u001b[0m\n\u001b[1;32m    481\u001b[0m \u001b[39m# Call different fits for either full or truncated SVD\u001b[39;00m\n\u001b[1;32m    482\u001b[0m \u001b[39mif\u001b[39;00m \u001b[39mself\u001b[39m\u001b[39m.\u001b[39m_fit_svd_solver \u001b[39m==\u001b[39m \u001b[39m\"\u001b[39m\u001b[39mfull\u001b[39m\u001b[39m\"\u001b[39m:\n\u001b[0;32m--> 483\u001b[0m     \u001b[39mreturn\u001b[39;00m \u001b[39mself\u001b[39;49m\u001b[39m.\u001b[39;49m_fit_full(X, n_components)\n\u001b[1;32m    484\u001b[0m \u001b[39melif\u001b[39;00m \u001b[39mself\u001b[39m\u001b[39m.\u001b[39m_fit_svd_solver \u001b[39min\u001b[39;00m [\u001b[39m\"\u001b[39m\u001b[39marpack\u001b[39m\u001b[39m\"\u001b[39m, \u001b[39m\"\u001b[39m\u001b[39mrandomized\u001b[39m\u001b[39m\"\u001b[39m]:\n\u001b[1;32m    485\u001b[0m     \u001b[39mreturn\u001b[39;00m \u001b[39mself\u001b[39m\u001b[39m.\u001b[39m_fit_truncated(X, n_components, \u001b[39mself\u001b[39m\u001b[39m.\u001b[39m_fit_svd_solver)\n",
      "File \u001b[0;32m/opt/homebrew/Caskroom/miniconda/base/envs/sklearn-env/lib/python3.9/site-packages/sklearn/decomposition/_pca.py:501\u001b[0m, in \u001b[0;36mPCA._fit_full\u001b[0;34m(self, X, n_components)\u001b[0m\n\u001b[1;32m    497\u001b[0m         \u001b[39mraise\u001b[39;00m \u001b[39mValueError\u001b[39;00m(\n\u001b[1;32m    498\u001b[0m             \u001b[39m\"\u001b[39m\u001b[39mn_components=\u001b[39m\u001b[39m'\u001b[39m\u001b[39mmle\u001b[39m\u001b[39m'\u001b[39m\u001b[39m is only supported if n_samples >= n_features\u001b[39m\u001b[39m\"\u001b[39m\n\u001b[1;32m    499\u001b[0m         )\n\u001b[1;32m    500\u001b[0m \u001b[39melif\u001b[39;00m \u001b[39mnot\u001b[39;00m \u001b[39m0\u001b[39m \u001b[39m<\u001b[39m\u001b[39m=\u001b[39m n_components \u001b[39m<\u001b[39m\u001b[39m=\u001b[39m \u001b[39mmin\u001b[39m(n_samples, n_features):\n\u001b[0;32m--> 501\u001b[0m     \u001b[39mraise\u001b[39;00m \u001b[39mValueError\u001b[39;00m(\n\u001b[1;32m    502\u001b[0m         \u001b[39m\"\u001b[39m\u001b[39mn_components=\u001b[39m\u001b[39m%r\u001b[39;00m\u001b[39m must be between 0 and \u001b[39m\u001b[39m\"\u001b[39m\n\u001b[1;32m    503\u001b[0m         \u001b[39m\"\u001b[39m\u001b[39mmin(n_samples, n_features)=\u001b[39m\u001b[39m%r\u001b[39;00m\u001b[39m with \u001b[39m\u001b[39m\"\u001b[39m\n\u001b[1;32m    504\u001b[0m         \u001b[39m\"\u001b[39m\u001b[39msvd_solver=\u001b[39m\u001b[39m'\u001b[39m\u001b[39mfull\u001b[39m\u001b[39m'\u001b[39m\u001b[39m\"\u001b[39m \u001b[39m%\u001b[39m (n_components, \u001b[39mmin\u001b[39m(n_samples, n_features))\n\u001b[1;32m    505\u001b[0m     )\n\u001b[1;32m    506\u001b[0m \u001b[39melif\u001b[39;00m n_components \u001b[39m>\u001b[39m\u001b[39m=\u001b[39m \u001b[39m1\u001b[39m:\n\u001b[1;32m    507\u001b[0m     \u001b[39mif\u001b[39;00m \u001b[39mnot\u001b[39;00m \u001b[39misinstance\u001b[39m(n_components, numbers\u001b[39m.\u001b[39mIntegral):\n",
      "\u001b[0;31mValueError\u001b[0m: n_components=3 must be between 0 and min(n_samples, n_features)=2 with svd_solver='full'"
     ]
    },
    {
     "data": {
      "image/png": "[encoded data removed]",
      "text/plain": [
       "<Figure size 2000x700 with 1 Axes>"
      ]
     },
     "metadata": {},
     "output_type": "display_data"
    }
   ],
   "source": [
    "from sklearn.decomposition import PCA\n",
    "cluster_dict = K_means(df[core_courses], 10, 50) \n",
    "PCA_components = []\n",
    "colours = [\"red\", \"green\", \"blue\", \"yellow\", \"black\", \"purple\", \"pink\", \"orange\", \"cyan\", \"olive\"]\n",
    "plt.figure(figsize = (20, 7))\n",
    "ax = plt.axes(projection =\"3d\")\n",
    "for k in range(10):\n",
    "    # pand = pd.DataFrame(arr[np.array(cluster_dict[str(k)])], columns=courses)\n",
    "    # print(arr[np.array(cluster_dict[str(k)])])\n",
    "    X_std = StandardScaler().fit_transform(df.loc[df.index.isin(cluster_dict[str(k)])])\n",
    "    pca = PCA(n_components=3)\n",
    "    principalComponents = pca.fit_transform(X_std)\n",
    "    # Plot the explained variances\n",
    "    features = range(pca.n_components_)\n",
    "    # plt.bar(features, pca.explained_variance_ratio_, color=\"red\")\n",
    "    # plt.xlabel('PCA features')\n",
    "    # plt.ylabel('variance %')\n",
    "    # plt.xticks(features)\n",
    "    # Save components to a DataFrame\n",
    "    PCA_components = pd.DataFrame(principalComponents)\n",
    "    ax.scatter3D(PCA_components[0], PCA_components[1],PCA_components[2], alpha=.5, color=colours[k])"
   ]
  },
  {
   "cell_type": "code",
   "execution_count": null,
   "metadata": {},
   "outputs": [],
   "source": [
    "# ks = range(1, 10)\n",
    "# inertias = []\n",
    "# for k in ks:\n",
    "#     # Create a KMeans instance with k clusters: model\n",
    "#     model = KMeans(n_clusters=k)\n",
    "    \n",
    "#     # Fit model to samples\n",
    "#     model.fit(PCA_components.iloc[:,:3])\n",
    "    \n",
    "#     # Append the inertia to the list of inertias\n",
    "#     inertias.append(model.inertia_)\n",
    "    \n",
    "# plt.plot(ks, inertias, '-o', color='black')\n",
    "# plt.xlabel('number of clusters, k')\n",
    "# plt.ylabel('inertia')\n",
    "# plt.xticks(ks)\n",
    "# plt.show()"
   ]
  }
 ],
 "metadata": {
  "kernelspec": {
   "display_name": "Python 3.10.6 64-bit",
   "language": "python",
   "name": "python3"
  },
  "language_info": {
   "codemirror_mode": {
    "name": "ipython",
    "version": 3
   },
   "file_extension": ".py",
   "mimetype": "text/x-python",
   "name": "python",
   "nbconvert_exporter": "python",
   "pygments_lexer": "ipython3",
   "version": "3.9.15"
  },
  "orig_nbformat": 4,
  "vscode": {
   "interpreter": {
    "hash": "e7370f93d1d0cde622a1f8e1c04877d8463912d04d973331ad4851f04de6915a"
   }
  }
 },
 "nbformat": 4,
 "nbformat_minor": 2
}
