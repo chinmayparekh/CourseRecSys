{
 "cells": [
  {
   "attachments": {},
   "cell_type": "markdown",
   "metadata": {},
   "source": [
    "# Imports and Reading Data"
   ]
  },
  {
   "cell_type": "code",
   "execution_count": 391,
   "metadata": {},
   "outputs": [],
   "source": [
    "import pandas as pd\n",
    "import numpy as np\n",
    "from sklearn.preprocessing import StandardScaler\n",
    "from sklearn.cluster import KMeans\n",
    "import matplotlib.pyplot as plt\n",
    "from sklearn.decomposition import TruncatedSVD\n",
    "from sklearn.model_selection import train_test_split\n",
    "import sys\n"
   ]
  },
  {
   "cell_type": "code",
   "execution_count": 392,
   "metadata": {},
   "outputs": [],
   "source": [
    "filename = 'courseRecSys.xlsx'\n",
    "splitProp = 0.95"
   ]
  },
  {
   "cell_type": "code",
   "execution_count": 393,
   "metadata": {},
   "outputs": [],
   "source": [
    "def read_data(filename):\n",
    "    df = pd.read_excel(filename,\n",
    "    header=0,\n",
    "    index_col=False,\n",
    "    keep_default_na=True\n",
    "    )\n",
    "    return df"
   ]
  },
  {
   "cell_type": "code",
   "execution_count": 394,
   "metadata": {},
   "outputs": [],
   "source": [
    "def preprocess(df):\n",
    "    df=df.drop(['Start time','Completion time','Email','Name','Name(not mandatory)\\n','ID'], axis=1)\n",
    "    #replacing nan with mean of users\n",
    "    # df[\"avg\"] = df.mean(axis = 1, skipna=True, numeric_only=True)\n",
    "    # df=df.apply(lambda row: row.fillna(row[\"avg\"]), axis=1)\n",
    "    # df = df.drop([\"avg\"],axis =1)\n",
    "    #replacing nan with mean of courses\n",
    "    df[\"avg\"] = df.mean(axis = 0, skipna=True, numeric_only=True)\n",
    "    df=df.apply(lambda x: x.fillna(x.mean()),axis=0)\n",
    "    df = df.drop([\"avg\"],axis =1)\n",
    "    return df"
   ]
  },
  {
   "cell_type": "code",
   "execution_count": 395,
   "metadata": {},
   "outputs": [
    {
     "data": {
      "text/html": [
       "<div>\n",
       "<style scoped>\n",
       "    .dataframe tbody tr th:only-of-type {\n",
       "        vertical-align: middle;\n",
       "    }\n",
       "\n",
       "    .dataframe tbody tr th {\n",
       "        vertical-align: top;\n",
       "    }\n",
       "\n",
       "    .dataframe thead th {\n",
       "        text-align: right;\n",
       "    }\n",
       "</style>\n",
       "<table border=\"1\" class=\"dataframe\">\n",
       "  <thead>\n",
       "    <tr style=\"text-align: right;\">\n",
       "      <th></th>\n",
       "      <th>Data Structures and Algorithms</th>\n",
       "      <th>Computer Architecture\\n</th>\n",
       "      <th>Discrete Mathematics\\n</th>\n",
       "      <th>Economics</th>\n",
       "      <th>Programming-2</th>\n",
       "      <th>Machine Learning\\n</th>\n",
       "      <th>Mathematics For Machine Learning\\n</th>\n",
       "      <th>Visual Recognition\\n</th>\n",
       "      <th>Natural Language Processing\\n</th>\n",
       "      <th>Reinforcement Learning</th>\n",
       "      <th>...</th>\n",
       "      <th>Digital CMOS VLSI Design</th>\n",
       "      <th>System design with FPGA</th>\n",
       "      <th>ASIC design</th>\n",
       "      <th>VLSI Architecture Design\\n</th>\n",
       "      <th>High level synthesis and optimization of Digital Circuits</th>\n",
       "      <th>Digital Sociology</th>\n",
       "      <th>Privacy in the Digital Age</th>\n",
       "      <th>Technology Ethics and AI</th>\n",
       "      <th>Techno-economics of networks</th>\n",
       "      <th>The Web and the Mind</th>\n",
       "    </tr>\n",
       "  </thead>\n",
       "  <tbody>\n",
       "    <tr>\n",
       "      <th>0</th>\n",
       "      <td>0.30</td>\n",
       "      <td>0.85</td>\n",
       "      <td>0.85</td>\n",
       "      <td>0.90</td>\n",
       "      <td>0.70</td>\n",
       "      <td>0.70</td>\n",
       "      <td>0.80</td>\n",
       "      <td>0.620098</td>\n",
       "      <td>0.572638</td>\n",
       "      <td>0.603495</td>\n",
       "      <td>...</td>\n",
       "      <td>0.251538</td>\n",
       "      <td>0.246316</td>\n",
       "      <td>0.214805</td>\n",
       "      <td>0.234868</td>\n",
       "      <td>0.168056</td>\n",
       "      <td>0.318243</td>\n",
       "      <td>0.600000</td>\n",
       "      <td>0.423286</td>\n",
       "      <td>0.396622</td>\n",
       "      <td>0.510897</td>\n",
       "    </tr>\n",
       "    <tr>\n",
       "      <th>1</th>\n",
       "      <td>0.70</td>\n",
       "      <td>0.80</td>\n",
       "      <td>0.20</td>\n",
       "      <td>0.80</td>\n",
       "      <td>0.80</td>\n",
       "      <td>0.50</td>\n",
       "      <td>0.10</td>\n",
       "      <td>0.200000</td>\n",
       "      <td>0.572638</td>\n",
       "      <td>0.603495</td>\n",
       "      <td>...</td>\n",
       "      <td>0.251538</td>\n",
       "      <td>0.246316</td>\n",
       "      <td>0.214805</td>\n",
       "      <td>0.234868</td>\n",
       "      <td>0.168056</td>\n",
       "      <td>0.318243</td>\n",
       "      <td>0.500000</td>\n",
       "      <td>0.423286</td>\n",
       "      <td>0.396622</td>\n",
       "      <td>0.510897</td>\n",
       "    </tr>\n",
       "    <tr>\n",
       "      <th>2</th>\n",
       "      <td>0.70</td>\n",
       "      <td>0.00</td>\n",
       "      <td>1.00</td>\n",
       "      <td>1.00</td>\n",
       "      <td>1.00</td>\n",
       "      <td>1.00</td>\n",
       "      <td>1.00</td>\n",
       "      <td>0.800000</td>\n",
       "      <td>0.900000</td>\n",
       "      <td>1.000000</td>\n",
       "      <td>...</td>\n",
       "      <td>0.251538</td>\n",
       "      <td>0.246316</td>\n",
       "      <td>0.214805</td>\n",
       "      <td>0.234868</td>\n",
       "      <td>0.168056</td>\n",
       "      <td>0.318243</td>\n",
       "      <td>0.400000</td>\n",
       "      <td>0.423286</td>\n",
       "      <td>0.396622</td>\n",
       "      <td>0.510897</td>\n",
       "    </tr>\n",
       "    <tr>\n",
       "      <th>3</th>\n",
       "      <td>0.65</td>\n",
       "      <td>0.70</td>\n",
       "      <td>0.20</td>\n",
       "      <td>0.75</td>\n",
       "      <td>0.75</td>\n",
       "      <td>0.75</td>\n",
       "      <td>0.75</td>\n",
       "      <td>0.750000</td>\n",
       "      <td>0.572638</td>\n",
       "      <td>0.603495</td>\n",
       "      <td>...</td>\n",
       "      <td>0.251538</td>\n",
       "      <td>0.246316</td>\n",
       "      <td>0.214805</td>\n",
       "      <td>0.234868</td>\n",
       "      <td>0.168056</td>\n",
       "      <td>0.800000</td>\n",
       "      <td>0.452708</td>\n",
       "      <td>0.423286</td>\n",
       "      <td>0.800000</td>\n",
       "      <td>0.510897</td>\n",
       "    </tr>\n",
       "    <tr>\n",
       "      <th>4</th>\n",
       "      <td>0.70</td>\n",
       "      <td>0.60</td>\n",
       "      <td>0.20</td>\n",
       "      <td>0.00</td>\n",
       "      <td>0.80</td>\n",
       "      <td>0.50</td>\n",
       "      <td>0.60</td>\n",
       "      <td>0.400000</td>\n",
       "      <td>0.400000</td>\n",
       "      <td>0.200000</td>\n",
       "      <td>...</td>\n",
       "      <td>0.000000</td>\n",
       "      <td>0.000000</td>\n",
       "      <td>0.000000</td>\n",
       "      <td>0.000000</td>\n",
       "      <td>0.000000</td>\n",
       "      <td>0.000000</td>\n",
       "      <td>0.000000</td>\n",
       "      <td>0.000000</td>\n",
       "      <td>0.000000</td>\n",
       "      <td>0.000000</td>\n",
       "    </tr>\n",
       "    <tr>\n",
       "      <th>...</th>\n",
       "      <td>...</td>\n",
       "      <td>...</td>\n",
       "      <td>...</td>\n",
       "      <td>...</td>\n",
       "      <td>...</td>\n",
       "      <td>...</td>\n",
       "      <td>...</td>\n",
       "      <td>...</td>\n",
       "      <td>...</td>\n",
       "      <td>...</td>\n",
       "      <td>...</td>\n",
       "      <td>...</td>\n",
       "      <td>...</td>\n",
       "      <td>...</td>\n",
       "      <td>...</td>\n",
       "      <td>...</td>\n",
       "      <td>...</td>\n",
       "      <td>...</td>\n",
       "      <td>...</td>\n",
       "      <td>...</td>\n",
       "      <td>...</td>\n",
       "    </tr>\n",
       "    <tr>\n",
       "      <th>157</th>\n",
       "      <td>0.00</td>\n",
       "      <td>1.00</td>\n",
       "      <td>0.50</td>\n",
       "      <td>0.70</td>\n",
       "      <td>0.60</td>\n",
       "      <td>0.50</td>\n",
       "      <td>0.30</td>\n",
       "      <td>0.700000</td>\n",
       "      <td>0.572638</td>\n",
       "      <td>0.603495</td>\n",
       "      <td>...</td>\n",
       "      <td>0.251538</td>\n",
       "      <td>0.246316</td>\n",
       "      <td>0.214805</td>\n",
       "      <td>0.234868</td>\n",
       "      <td>0.168056</td>\n",
       "      <td>0.318243</td>\n",
       "      <td>0.000000</td>\n",
       "      <td>0.423286</td>\n",
       "      <td>0.396622</td>\n",
       "      <td>0.510897</td>\n",
       "    </tr>\n",
       "    <tr>\n",
       "      <th>158</th>\n",
       "      <td>1.00</td>\n",
       "      <td>0.00</td>\n",
       "      <td>0.00</td>\n",
       "      <td>0.70</td>\n",
       "      <td>0.70</td>\n",
       "      <td>0.00</td>\n",
       "      <td>0.00</td>\n",
       "      <td>0.000000</td>\n",
       "      <td>0.572638</td>\n",
       "      <td>0.603495</td>\n",
       "      <td>...</td>\n",
       "      <td>0.251538</td>\n",
       "      <td>0.246316</td>\n",
       "      <td>0.214805</td>\n",
       "      <td>0.234868</td>\n",
       "      <td>0.168056</td>\n",
       "      <td>0.318243</td>\n",
       "      <td>0.452708</td>\n",
       "      <td>0.423286</td>\n",
       "      <td>0.396622</td>\n",
       "      <td>0.200000</td>\n",
       "    </tr>\n",
       "    <tr>\n",
       "      <th>159</th>\n",
       "      <td>0.60</td>\n",
       "      <td>0.30</td>\n",
       "      <td>0.40</td>\n",
       "      <td>0.90</td>\n",
       "      <td>0.80</td>\n",
       "      <td>0.70</td>\n",
       "      <td>0.40</td>\n",
       "      <td>0.500000</td>\n",
       "      <td>0.400000</td>\n",
       "      <td>0.200000</td>\n",
       "      <td>...</td>\n",
       "      <td>0.251538</td>\n",
       "      <td>0.246316</td>\n",
       "      <td>0.214805</td>\n",
       "      <td>0.234868</td>\n",
       "      <td>0.168056</td>\n",
       "      <td>0.318243</td>\n",
       "      <td>1.000000</td>\n",
       "      <td>0.423286</td>\n",
       "      <td>0.396622</td>\n",
       "      <td>1.000000</td>\n",
       "    </tr>\n",
       "    <tr>\n",
       "      <th>160</th>\n",
       "      <td>0.80</td>\n",
       "      <td>0.60</td>\n",
       "      <td>0.20</td>\n",
       "      <td>0.40</td>\n",
       "      <td>0.70</td>\n",
       "      <td>0.70</td>\n",
       "      <td>0.80</td>\n",
       "      <td>0.620098</td>\n",
       "      <td>0.572638</td>\n",
       "      <td>0.700000</td>\n",
       "      <td>...</td>\n",
       "      <td>0.251538</td>\n",
       "      <td>0.246316</td>\n",
       "      <td>0.214805</td>\n",
       "      <td>0.234868</td>\n",
       "      <td>0.168056</td>\n",
       "      <td>0.318243</td>\n",
       "      <td>0.452708</td>\n",
       "      <td>0.423286</td>\n",
       "      <td>0.396622</td>\n",
       "      <td>0.510897</td>\n",
       "    </tr>\n",
       "    <tr>\n",
       "      <th>161</th>\n",
       "      <td>0.40</td>\n",
       "      <td>0.70</td>\n",
       "      <td>0.90</td>\n",
       "      <td>0.40</td>\n",
       "      <td>0.40</td>\n",
       "      <td>0.70</td>\n",
       "      <td>0.90</td>\n",
       "      <td>0.620098</td>\n",
       "      <td>0.572638</td>\n",
       "      <td>0.800000</td>\n",
       "      <td>...</td>\n",
       "      <td>0.251538</td>\n",
       "      <td>0.246316</td>\n",
       "      <td>0.214805</td>\n",
       "      <td>0.234868</td>\n",
       "      <td>0.168056</td>\n",
       "      <td>0.318243</td>\n",
       "      <td>0.452708</td>\n",
       "      <td>0.423286</td>\n",
       "      <td>0.396622</td>\n",
       "      <td>0.510897</td>\n",
       "    </tr>\n",
       "  </tbody>\n",
       "</table>\n",
       "<p>162 rows × 25 columns</p>\n",
       "</div>"
      ],
      "text/plain": [
       "     Data Structures and Algorithms  Computer Architecture\\n  \\\n",
       "0                              0.30                     0.85   \n",
       "1                              0.70                     0.80   \n",
       "2                              0.70                     0.00   \n",
       "3                              0.65                     0.70   \n",
       "4                              0.70                     0.60   \n",
       "..                              ...                      ...   \n",
       "157                            0.00                     1.00   \n",
       "158                            1.00                     0.00   \n",
       "159                            0.60                     0.30   \n",
       "160                            0.80                     0.60   \n",
       "161                            0.40                     0.70   \n",
       "\n",
       "     Discrete Mathematics\\n  Economics  Programming-2  Machine Learning\\n  \\\n",
       "0                      0.85       0.90           0.70                0.70   \n",
       "1                      0.20       0.80           0.80                0.50   \n",
       "2                      1.00       1.00           1.00                1.00   \n",
       "3                      0.20       0.75           0.75                0.75   \n",
       "4                      0.20       0.00           0.80                0.50   \n",
       "..                      ...        ...            ...                 ...   \n",
       "157                    0.50       0.70           0.60                0.50   \n",
       "158                    0.00       0.70           0.70                0.00   \n",
       "159                    0.40       0.90           0.80                0.70   \n",
       "160                    0.20       0.40           0.70                0.70   \n",
       "161                    0.90       0.40           0.40                0.70   \n",
       "\n",
       "     Mathematics For Machine Learning\\n  Visual Recognition\\n  \\\n",
       "0                                  0.80              0.620098   \n",
       "1                                  0.10              0.200000   \n",
       "2                                  1.00              0.800000   \n",
       "3                                  0.75              0.750000   \n",
       "4                                  0.60              0.400000   \n",
       "..                                  ...                   ...   \n",
       "157                                0.30              0.700000   \n",
       "158                                0.00              0.000000   \n",
       "159                                0.40              0.500000   \n",
       "160                                0.80              0.620098   \n",
       "161                                0.90              0.620098   \n",
       "\n",
       "     Natural Language Processing\\n  Reinforcement Learning  ...  \\\n",
       "0                         0.572638                0.603495  ...   \n",
       "1                         0.572638                0.603495  ...   \n",
       "2                         0.900000                1.000000  ...   \n",
       "3                         0.572638                0.603495  ...   \n",
       "4                         0.400000                0.200000  ...   \n",
       "..                             ...                     ...  ...   \n",
       "157                       0.572638                0.603495  ...   \n",
       "158                       0.572638                0.603495  ...   \n",
       "159                       0.400000                0.200000  ...   \n",
       "160                       0.572638                0.700000  ...   \n",
       "161                       0.572638                0.800000  ...   \n",
       "\n",
       "     Digital CMOS VLSI Design   System design with FPGA   ASIC design   \\\n",
       "0                     0.251538                  0.246316      0.214805   \n",
       "1                     0.251538                  0.246316      0.214805   \n",
       "2                     0.251538                  0.246316      0.214805   \n",
       "3                     0.251538                  0.246316      0.214805   \n",
       "4                     0.000000                  0.000000      0.000000   \n",
       "..                         ...                       ...           ...   \n",
       "157                   0.251538                  0.246316      0.214805   \n",
       "158                   0.251538                  0.246316      0.214805   \n",
       "159                   0.251538                  0.246316      0.214805   \n",
       "160                   0.251538                  0.246316      0.214805   \n",
       "161                   0.251538                  0.246316      0.214805   \n",
       "\n",
       "     VLSI Architecture Design\\n  \\\n",
       "0                      0.234868   \n",
       "1                      0.234868   \n",
       "2                      0.234868   \n",
       "3                      0.234868   \n",
       "4                      0.000000   \n",
       "..                          ...   \n",
       "157                    0.234868   \n",
       "158                    0.234868   \n",
       "159                    0.234868   \n",
       "160                    0.234868   \n",
       "161                    0.234868   \n",
       "\n",
       "     High level synthesis and optimization of Digital Circuits   \\\n",
       "0                                             0.168056            \n",
       "1                                             0.168056            \n",
       "2                                             0.168056            \n",
       "3                                             0.168056            \n",
       "4                                             0.000000            \n",
       "..                                                 ...            \n",
       "157                                           0.168056            \n",
       "158                                           0.168056            \n",
       "159                                           0.168056            \n",
       "160                                           0.168056            \n",
       "161                                           0.168056            \n",
       "\n",
       "     Digital Sociology   Privacy in the Digital Age  \\\n",
       "0              0.318243                    0.600000   \n",
       "1              0.318243                    0.500000   \n",
       "2              0.318243                    0.400000   \n",
       "3              0.800000                    0.452708   \n",
       "4              0.000000                    0.000000   \n",
       "..                  ...                         ...   \n",
       "157            0.318243                    0.000000   \n",
       "158            0.318243                    0.452708   \n",
       "159            0.318243                    1.000000   \n",
       "160            0.318243                    0.452708   \n",
       "161            0.318243                    0.452708   \n",
       "\n",
       "     Technology Ethics and AI   Techno-economics of networks   \\\n",
       "0                     0.423286                       0.396622   \n",
       "1                     0.423286                       0.396622   \n",
       "2                     0.423286                       0.396622   \n",
       "3                     0.423286                       0.800000   \n",
       "4                     0.000000                       0.000000   \n",
       "..                         ...                            ...   \n",
       "157                   0.423286                       0.396622   \n",
       "158                   0.423286                       0.396622   \n",
       "159                   0.423286                       0.396622   \n",
       "160                   0.423286                       0.396622   \n",
       "161                   0.423286                       0.396622   \n",
       "\n",
       "     The Web and the Mind   \n",
       "0                 0.510897  \n",
       "1                 0.510897  \n",
       "2                 0.510897  \n",
       "3                 0.510897  \n",
       "4                 0.000000  \n",
       "..                     ...  \n",
       "157               0.510897  \n",
       "158               0.200000  \n",
       "159               1.000000  \n",
       "160               0.510897  \n",
       "161               0.510897  \n",
       "\n",
       "[162 rows x 25 columns]"
      ]
     },
     "execution_count": 395,
     "metadata": {},
     "output_type": "execute_result"
    }
   ],
   "source": [
    "df=read_data(filename)\n",
    "df = preprocess(df)\n",
    "df"
   ]
  },
  {
   "cell_type": "code",
   "execution_count": 396,
   "metadata": {},
   "outputs": [],
   "source": [
    "train,test = train_test_split(df,train_size=splitProp, random_state=42,shuffle = True)"
   ]
  },
  {
   "cell_type": "code",
   "execution_count": 397,
   "metadata": {},
   "outputs": [
    {
     "data": {
      "text/plain": [
       "(162, 25)"
      ]
     },
     "execution_count": 397,
     "metadata": {},
     "output_type": "execute_result"
    }
   ],
   "source": [
    "df.shape"
   ]
  },
  {
   "cell_type": "code",
   "execution_count": 398,
   "metadata": {},
   "outputs": [
    {
     "data": {
      "text/plain": [
       "(9, 25)"
      ]
     },
     "execution_count": 398,
     "metadata": {},
     "output_type": "execute_result"
    }
   ],
   "source": [
    "test.shape"
   ]
  },
  {
   "cell_type": "code",
   "execution_count": 399,
   "metadata": {},
   "outputs": [
    {
     "data": {
      "text/plain": [
       "Data Structures and Algorithms                                0\n",
       "Computer Architecture\\n                                       0\n",
       "Discrete Mathematics\\n                                        0\n",
       "Economics                                                     0\n",
       "Programming-2                                                 0\n",
       "Machine Learning\\n                                            0\n",
       "Mathematics For Machine Learning\\n                            0\n",
       "Visual Recognition\\n                                          0\n",
       "Natural Language Processing\\n                                 0\n",
       "Reinforcement Learning                                        0\n",
       "Software Production Engineering\\n                             0\n",
       "Computer Graphics\\n                                           0\n",
       "Data Visualization\\n                                          0\n",
       "Programming Languages\\n                                       0\n",
       "Cloud Computing\\n                                             0\n",
       "Digital CMOS VLSI Design                                      0\n",
       "System design with FPGA                                       0\n",
       "ASIC design                                                   0\n",
       "VLSI Architecture Design\\n                                    0\n",
       "High level synthesis and optimization of Digital Circuits     0\n",
       "Digital Sociology                                             0\n",
       "Privacy in the Digital Age                                    0\n",
       "Technology Ethics and AI                                      0\n",
       "Techno-economics of networks                                  0\n",
       "The Web and the Mind                                          0\n",
       "dtype: int64"
      ]
     },
     "execution_count": 399,
     "metadata": {},
     "output_type": "execute_result"
    }
   ],
   "source": [
    "df.isna().sum()"
   ]
  },
  {
   "cell_type": "code",
   "execution_count": 400,
   "metadata": {},
   "outputs": [
    {
     "data": {
      "text/plain": [
       "Index(['Data Structures and Algorithms', 'Computer Architecture\\n',\n",
       "       'Discrete Mathematics\\n', 'Economics', 'Programming-2',\n",
       "       'Machine Learning\\n', 'Mathematics For Machine Learning\\n',\n",
       "       'Visual Recognition\\n', 'Natural Language Processing\\n',\n",
       "       'Reinforcement Learning', 'Software Production Engineering\\n',\n",
       "       'Computer Graphics\\n', 'Data Visualization\\n',\n",
       "       'Programming Languages\\n', 'Cloud Computing\\n',\n",
       "       'Digital CMOS VLSI Design ', 'System design with FPGA ', 'ASIC design ',\n",
       "       'VLSI Architecture Design\\n',\n",
       "       'High level synthesis and optimization of Digital Circuits ',\n",
       "       'Digital Sociology ', 'Privacy in the Digital Age',\n",
       "       'Technology Ethics and AI ', 'Techno-economics of networks ',\n",
       "       'The Web and the Mind '],\n",
       "      dtype='object')"
      ]
     },
     "execution_count": 400,
     "metadata": {},
     "output_type": "execute_result"
    }
   ],
   "source": [
    "courses = df.columns\n",
    "courses"
   ]
  },
  {
   "cell_type": "code",
   "execution_count": 401,
   "metadata": {},
   "outputs": [],
   "source": [
    "core_courses = ['Data Structures and Algorithms','Computer Architecture\\n','Discrete Mathematics\\n','Economics','Programming-2']"
   ]
  },
  {
   "attachments": {},
   "cell_type": "markdown",
   "metadata": {},
   "source": [
    "# K-means"
   ]
  },
  {
   "cell_type": "code",
   "execution_count": 402,
   "metadata": {},
   "outputs": [],
   "source": [
    "def visualize(point):\n",
    "    wcss = []  #Within Cluster Sum of Squares\n",
    "    for number_of_clusters in range(1, 15): \n",
    "        kmeans = KMeans(n_clusters = number_of_clusters, random_state = 42)\n",
    "        kmeans.fit(df[core_courses]) \n",
    "        wcss.append(kmeans.inertia_)\n",
    "    ks = np.arange(1,15,1)\n",
    "    plt.plot(ks, wcss)\n",
    "    plt.axvline(point, linestyle='--', color='r')\n",
    "    return wcss"
   ]
  },
  {
   "cell_type": "code",
   "execution_count": 403,
   "metadata": {},
   "outputs": [
    {
     "data": {
      "text/plain": [
       "[82.11226015529861,\n",
       " 63.24078648485308,\n",
       " 51.59371019141971,\n",
       " 44.925208436514524,\n",
       " 39.88330675972086,\n",
       " 36.1746361281475,\n",
       " 33.398702023260036,\n",
       " 30.5695359693512,\n",
       " 28.1421428563879,\n",
       " 25.519097800451988,\n",
       " 24.303521924994463,\n",
       " 22.250775245363172,\n",
       " 21.26505642848125,\n",
       " 19.7185773653146]"
      ]
     },
     "execution_count": 403,
     "metadata": {},
     "output_type": "execute_result"
    },
    {
     "data": {
      "image/png": "[encoded data removed]",
      "text/plain": [
       "<Figure size 640x480 with 1 Axes>"
      ]
     },
     "metadata": {},
     "output_type": "display_data"
    }
   ],
   "source": [
    "visualize(5)"
   ]
  },
  {
   "cell_type": "code",
   "execution_count": 404,
   "metadata": {},
   "outputs": [],
   "source": [
    "def K_means(df, num_clusters, iters):\n",
    "    np_dat = df.to_numpy()\n",
    "    # Initialize the centroids\n",
    "    range_min = np.min(np_dat, axis = 0)\n",
    "    range_max = np.max(np_dat, axis = 0)\n",
    "    curr_centroids = []\n",
    "    np.random.seed(100)\n",
    "    for i in range(num_clusters):\n",
    "        curr_centroids.append(np.random.uniform(range_min, range_max))\n",
    "    clusters = {}\n",
    "    for it in range(iters):\n",
    "        # Repopulate clusters\n",
    "        clusters.clear()\n",
    "        for j in range(np_dat.shape[0]):\n",
    "            datapoint = np_dat[j]\n",
    "            min = sys.maxsize\n",
    "            min_index = 10\n",
    "            for k in range(num_clusters):\n",
    "                dist = np.linalg.norm(curr_centroids[k] - datapoint)\n",
    "                if(dist < min):\n",
    "                    min = dist\n",
    "                    min_index = k\n",
    "            if(clusters.get(str(min_index)) == None):\n",
    "                clusters[str(min_index)] = []\n",
    "            clusters[str(min_index)].append(j)\n",
    "        \n",
    "        # Recalculate Centroids\n",
    "        new_centroids = []\n",
    "        for k in range(num_clusters):\n",
    "            key = str(k)\n",
    "            if(clusters.get(key) == None): \n",
    "                n_centr = curr_centroids[k]\n",
    "                #n_centr = np.random.uniform(range_min, range_max)\n",
    "            else: n_centr = np.mean(np_dat[np.array(clusters[key])], axis = 0)\n",
    "            new_centroids.append(n_centr)\n",
    "        \n",
    "        #if((np.not_equal(new_centroids, curr_centroids).any()) != True ): break\n",
    "        curr_centroids = new_centroids\n",
    "    return clusters\n"
   ]
  },
  {
   "cell_type": "code",
   "execution_count": 405,
   "metadata": {},
   "outputs": [],
   "source": [
    "def get_clustered_df(df,num_clusters):\n",
    "    cluster_dict = K_means(df[core_courses], num_clusters, 50)\n",
    "    print(cluster_dict)\n",
    "    clustered_df =[]\n",
    "    arr = df.to_numpy()\n",
    "    for k in range(num_clusters):\n",
    "        key = str(k)\n",
    "        centr = np.nanmean(arr[np.array(cluster_dict[key])], axis = 0)\n",
    "        clustered_df.append(centr)\n",
    "    return clustered_df"
   ]
  },
  {
   "cell_type": "code",
   "execution_count": 406,
   "metadata": {},
   "outputs": [],
   "source": [
    "def old_get_clustered_df(df,num_clusters):\n",
    "    kmeans = KMeans(n_clusters = num_clusters, random_state = 42)\n",
    "    clustered_matrix = kmeans.fit_predict(df[core_courses]) \n",
    "    # print(clustered_matrix.shape)\n",
    "    arr = df.to_numpy()\n",
    "    clustered_df = []\n",
    "    for i in range(num_clusters):\n",
    "        users = 0\n",
    "        s=np.zeros(25)\n",
    "        for j in range(len(clustered_matrix)):#162\n",
    "            \n",
    "            if clustered_matrix[j]==i:\n",
    "                s+=arr[j]\n",
    "                users = users + 1\n",
    "        mean = s/users\n",
    "        clustered_df.append(mean)\n",
    "    return clustered_df"
   ]
  },
  {
   "cell_type": "code",
   "execution_count": 407,
   "metadata": {},
   "outputs": [],
   "source": [
    "clustered_df = old_get_clustered_df(df,10)"
   ]
  },
  {
   "attachments": {},
   "cell_type": "markdown",
   "metadata": {},
   "source": [
    "# SVD"
   ]
  },
  {
   "cell_type": "code",
   "execution_count": 408,
   "metadata": {},
   "outputs": [],
   "source": [
    "def svd(A):\n",
    "    # Step 1: Compute the transpose of A\n",
    "    AT = A.T\n",
    "    # Step 2: Compute the product A x AT\n",
    "    ATA = A.dot(AT)\n",
    "    # Step 3: Compute the eigenvalues and eigenvectors of ATA\n",
    "    eigenvalues, eigenvectors = np.linalg.eig(ATA)\n",
    "    # Step 4: Sort the eigenvalues in descending order\n",
    "    sorted_idx = eigenvalues.argsort()[::-1]\n",
    "    eigenvalues = eigenvalues[sorted_idx]\n",
    "    eigenvectors = eigenvectors[:, sorted_idx]\n",
    "    # Step 5: Compute the diagonal matrix Sigma\n",
    "    Sigma = np.sqrt(eigenvalues)\n",
    "    # Step 6: Compute the pseudo-inverse of Sigma\n",
    "    inv_Sigma = np.zeros((A.shape[1], A.shape[0]))\n",
    "    print(A.shape)\n",
    "    inv_Sigma[:A.shape[0], :A.shape[0]] = np.diag(1.0 / Sigma)\n",
    "    # Step 7: Compute the product AT x V x inv(Sigma)\n",
    "    V = AT.dot(eigenvectors)\n",
    "    # Step 8: Normalize the columns of V\n",
    "    V = V / np.linalg.norm(V, axis=0)\n",
    "    # Step 9: Compute the product A x U x Sigma^-1\n",
    "    U = A.dot(V) / Sigma\n",
    "    return U, Sigma, V.T"
   ]
  },
  {
   "cell_type": "code",
   "execution_count": 409,
   "metadata": {},
   "outputs": [
    {
     "name": "stdout",
     "output_type": "stream",
     "text": [
      "(10, 25)\n"
     ]
    }
   ],
   "source": [
    "U,sigma,VT = svd(np.array(clustered_df))"
   ]
  },
  {
   "cell_type": "code",
   "execution_count": 410,
   "metadata": {},
   "outputs": [
    {
     "data": {
      "text/plain": [
       "((10, 10), (10,), (10, 25))"
      ]
     },
     "execution_count": 410,
     "metadata": {},
     "output_type": "execute_result"
    }
   ],
   "source": [
    "U.shape,sigma.shape,VT.shape"
   ]
  },
  {
   "cell_type": "code",
   "execution_count": 411,
   "metadata": {},
   "outputs": [],
   "source": [
    "k=6"
   ]
  },
  {
   "cell_type": "code",
   "execution_count": 412,
   "metadata": {},
   "outputs": [],
   "source": [
    "def reduced_svd(k,A):\n",
    "    U,sigma,VT = svd(A)\n",
    "    reduced_matrix = np.dot(np.dot(U[:,:k],np.diag(sigma[:k])),VT[:k,:])\n",
    "    return reduced_matrix\n"
   ]
  },
  {
   "cell_type": "code",
   "execution_count": 413,
   "metadata": {},
   "outputs": [
    {
     "name": "stdout",
     "output_type": "stream",
     "text": [
      "(10, 25)\n"
     ]
    },
    {
     "data": {
      "text/plain": [
       "list"
      ]
     },
     "execution_count": 413,
     "metadata": {},
     "output_type": "execute_result"
    }
   ],
   "source": [
    "reduced_matrix = reduced_svd(k,np.array(clustered_df))\n",
    "type(clustered_df)"
   ]
  },
  {
   "attachments": {},
   "cell_type": "markdown",
   "metadata": {},
   "source": [
    "# Prediction"
   ]
  },
  {
   "cell_type": "code",
   "execution_count": 414,
   "metadata": {},
   "outputs": [],
   "source": [
    "def EuclDist(vec1,vec2):\n",
    "    return np.linalg.norm(vec1 - vec2)"
   ]
  },
  {
   "cell_type": "markdown",
   "metadata": {},
   "source": [
    "new user with just core courses ratings. Now we need elective courses"
   ]
  },
  {
   "cell_type": "code",
   "execution_count": 415,
   "metadata": {},
   "outputs": [],
   "source": [
    "new_user = [0.2,0.8,0.2,0.6,0.9]\n",
    "new_user2 =[ 0.699459,\t0.545405\t,0.325405\t,0.615135\t,0.737838]\n",
    "sooraj = [0.4, 0.8,0.85,0.9,0.7]\n",
    "chinmay = [0.9,0.2,0.4,0.6 ,0.8]\n",
    "kritin = [0,0,0,0,0]"
   ]
  },
  {
   "cell_type": "code",
   "execution_count": 416,
   "metadata": {},
   "outputs": [],
   "source": [
    "def find_cluster(reduced_matrix,new_user):\n",
    "    \n",
    "    min=EuclDist(reduced_matrix[0,:5],new_user)\n",
    "    cluster = 0\n",
    "    for i in range(len(reduced_matrix)):\n",
    "        sim = EuclDist(reduced_matrix[i,:5],new_user)#euclidean distance\n",
    "        # print(sim)\n",
    "        if sim<min:\n",
    "            min = sim\n",
    "            cluster=i\n",
    "    return cluster\n"
   ]
  },
  {
   "cell_type": "code",
   "execution_count": 417,
   "metadata": {},
   "outputs": [
    {
     "data": {
      "text/plain": [
       "3"
      ]
     },
     "execution_count": 417,
     "metadata": {},
     "output_type": "execute_result"
    }
   ],
   "source": [
    "find_cluster(reduced_matrix,kritin)#testing"
   ]
  },
  {
   "cell_type": "code",
   "execution_count": 418,
   "metadata": {},
   "outputs": [],
   "source": [
    "def find_elective_ratings(reduced_matrix,new_user):\n",
    "    cluster = find_cluster(reduced_matrix,new_user)\n",
    "    elective_ratings = reduced_matrix[cluster,5:]\n",
    "    return elective_ratings\n"
   ]
  },
  {
   "cell_type": "code",
   "execution_count": 419,
   "metadata": {},
   "outputs": [],
   "source": [
    "def find_elective_ratings_from_og(reduced_matrix,original,new_user):\n",
    "    cluster = find_cluster(reduced_matrix,new_user)\n",
    "    elective_ratings = original[cluster,5:]\n",
    "    return elective_ratings\n"
   ]
  },
  {
   "cell_type": "code",
   "execution_count": 420,
   "metadata": {},
   "outputs": [],
   "source": [
    "elective_ratings = find_elective_ratings(reduced_matrix,kritin)"
   ]
  },
  {
   "cell_type": "code",
   "execution_count": 421,
   "metadata": {},
   "outputs": [],
   "source": [
    "elective_ratings2 = find_elective_ratings_from_og(reduced_matrix,np.array(clustered_df),kritin)"
   ]
  },
  {
   "attachments": {},
   "cell_type": "markdown",
   "metadata": {},
   "source": [
    "# Ranking of electives"
   ]
  },
  {
   "cell_type": "code",
   "execution_count": 422,
   "metadata": {},
   "outputs": [],
   "source": [
    "def get_electives_ranked(courses,elective_ratings):\n",
    "    d={courses[5:][i]: elective_ratings[i] for i in range(20)}\n",
    "\n",
    "    elective_ranked = sorted(courses[5:], key=lambda x : -d[x])\n",
    "    return elective_ranked  "
   ]
  },
  {
   "cell_type": "code",
   "execution_count": 423,
   "metadata": {},
   "outputs": [],
   "source": [
    "elective_ranked = get_electives_ranked(courses,elective_ratings)\n"
   ]
  },
  {
   "cell_type": "code",
   "execution_count": 424,
   "metadata": {},
   "outputs": [
    {
     "data": {
      "text/plain": [
       "['Machine Learning\\n',\n",
       " 'Software Production Engineering\\n',\n",
       " 'Mathematics For Machine Learning\\n',\n",
       " 'Reinforcement Learning',\n",
       " 'Visual Recognition\\n',\n",
       " 'Cloud Computing\\n',\n",
       " 'Programming Languages\\n',\n",
       " 'Natural Language Processing\\n',\n",
       " 'Data Visualization\\n',\n",
       " 'The Web and the Mind ',\n",
       " 'Computer Graphics\\n',\n",
       " 'Privacy in the Digital Age',\n",
       " 'Technology Ethics and AI ',\n",
       " 'Digital CMOS VLSI Design ',\n",
       " 'Digital Sociology ',\n",
       " 'VLSI Architecture Design\\n',\n",
       " 'System design with FPGA ',\n",
       " 'Techno-economics of networks ',\n",
       " 'ASIC design ',\n",
       " 'High level synthesis and optimization of Digital Circuits ']"
      ]
     },
     "execution_count": 424,
     "metadata": {},
     "output_type": "execute_result"
    }
   ],
   "source": [
    "elective_ranked"
   ]
  },
  {
   "cell_type": "code",
   "execution_count": 425,
   "metadata": {},
   "outputs": [
    {
     "data": {
      "text/plain": [
       "['Machine Learning\\n',\n",
       " 'Software Production Engineering\\n',\n",
       " 'Programming Languages\\n',\n",
       " 'Mathematics For Machine Learning\\n',\n",
       " 'Reinforcement Learning',\n",
       " 'Cloud Computing\\n',\n",
       " 'Visual Recognition\\n',\n",
       " 'Natural Language Processing\\n',\n",
       " 'Data Visualization\\n',\n",
       " 'Computer Graphics\\n',\n",
       " 'The Web and the Mind ',\n",
       " 'Technology Ethics and AI ',\n",
       " 'Privacy in the Digital Age',\n",
       " 'Digital CMOS VLSI Design ',\n",
       " 'Techno-economics of networks ',\n",
       " 'Digital Sociology ',\n",
       " 'System design with FPGA ',\n",
       " 'VLSI Architecture Design\\n',\n",
       " 'ASIC design ',\n",
       " 'High level synthesis and optimization of Digital Circuits ']"
      ]
     },
     "execution_count": 425,
     "metadata": {},
     "output_type": "execute_result"
    }
   ],
   "source": [
    "elective_ranked2 = get_electives_ranked(courses,elective_ratings2)\n",
    "elective_ranked2"
   ]
  },
  {
   "cell_type": "markdown",
   "metadata": {},
   "source": [
    "change the nan values to average of the item instead of average of user ratings. -- done\n",
    "\n",
    "in find elective rating find the ratings from the clustered matrix and not reduced matrix."
   ]
  },
  {
   "attachments": {},
   "cell_type": "markdown",
   "metadata": {},
   "source": [
    "# Training and Testing"
   ]
  },
  {
   "cell_type": "code",
   "execution_count": 426,
   "metadata": {},
   "outputs": [],
   "source": [
    "def train_recommendations(X_train,num_clusters, k_svd):\n",
    "    clustered_df=get_clustered_df(X_train,num_clusters)\n",
    "    reduced_matrix=reduced_svd(k_svd,np.array(clustered_df))\n",
    "    return reduced_matrix"
   ]
  },
  {
   "cell_type": "code",
   "execution_count": 427,
   "metadata": {},
   "outputs": [],
   "source": [
    "def old_train_recommendations(X_train,num_clusters):\n",
    "    clustered_df=old_get_clustered_df(X_train,num_clusters)\n",
    "    reduced_matrix=reduced_svd(6,np.array(clustered_df))\n",
    "    return reduced_matrix"
   ]
  },
  {
   "cell_type": "code",
   "execution_count": 428,
   "metadata": {},
   "outputs": [],
   "source": [
    "def test_recommendations(X_test,reduced_matrix):\n",
    "    pred = []\n",
    "    for i in range(len(X_test)):\n",
    "        new_user = X_test[i]\n",
    "        elective_ratings = find_elective_ratings(reduced_matrix,new_user[:5])\n",
    "        elective_ranked = get_electives_ranked(courses,elective_ratings)\n",
    "        pred.append(elective_ratings)\n",
    "    return pred\n"
   ]
  },
  {
   "cell_type": "code",
   "execution_count": 429,
   "metadata": {},
   "outputs": [],
   "source": [
    "def accuracy(pred,test):\n",
    "    mse =[]\n",
    "    for i in range(len(pred)):\n",
    "        mse.append((EuclDist(pred[i],test[i][5:])))\n",
    "\n",
    "    return sum(mse)/len(mse)"
   ]
  },
  {
   "cell_type": "code",
   "execution_count": 430,
   "metadata": {},
   "outputs": [
    {
     "data": {
      "text/plain": [
       "1.4089920111065444"
      ]
     },
     "execution_count": 430,
     "metadata": {},
     "output_type": "execute_result"
    }
   ],
   "source": [
    "accuracy(pred,test.to_numpy())"
   ]
  },
  {
   "attachments": {},
   "cell_type": "markdown",
   "metadata": {},
   "source": [
    "# Analysis"
   ]
  },
  {
   "attachments": {},
   "cell_type": "markdown",
   "metadata": {},
   "source": [
    "## Cluster Size, Singular Values"
   ]
  },
  {
   "cell_type": "code",
   "execution_count": 431,
   "metadata": {},
   "outputs": [
    {
     "name": "stdout",
     "output_type": "stream",
     "text": [
      "{'1': [0, 1, 4, 5, 7, 13, 14, 16, 17, 19, 20, 21, 26, 27, 29, 30, 32, 33, 34, 36, 37, 39, 42, 43, 44, 45, 47, 48, 50, 52, 54, 56, 57, 60, 62, 69, 70, 72, 73, 79, 81, 84, 86, 88, 89, 90, 91, 92, 93, 94, 98, 99, 100, 102, 103, 104, 105, 107, 111, 112, 113, 115, 117, 118, 119, 122, 123, 124, 125, 128, 131, 132, 134, 135, 138, 139, 140, 142, 143, 145, 146, 150, 151], '2': [2, 6, 8, 9, 18, 24, 35, 41, 46, 49, 51, 53, 55, 61, 66, 71, 75, 77, 78, 83, 85, 87, 96, 97, 106, 108, 110, 120, 121, 136], '0': [3, 10, 11, 12, 15, 22, 23, 25, 28, 31, 38, 40, 58, 59, 63, 64, 65, 67, 68, 74, 76, 80, 82, 95, 101, 109, 114, 116, 126, 127, 129, 130, 133, 137, 141, 144, 147, 148, 149, 152]}\n",
      "(3, 25)\n",
      "{'1': [0, 1, 4, 13, 14, 20, 30, 32, 33, 43, 44, 45, 48, 49, 57, 73, 77, 81, 85, 89, 93, 98, 104, 105, 107, 108, 118, 124, 138, 139, 146], '2': [2, 6, 8, 9, 18, 24, 35, 41, 46, 51, 53, 55, 61, 63, 66, 71, 75, 78, 83, 87, 96, 97, 106, 110, 120, 121, 136], '3': [3, 5, 10, 12, 15, 16, 17, 19, 21, 22, 26, 27, 29, 34, 36, 37, 39, 42, 47, 50, 52, 54, 56, 58, 60, 62, 69, 70, 72, 76, 79, 82, 84, 86, 88, 90, 91, 92, 94, 99, 100, 102, 103, 109, 111, 112, 113, 115, 117, 119, 122, 123, 125, 126, 128, 131, 132, 134, 135, 140, 142, 143, 144, 145, 147, 149, 150, 151], '0': [7, 11, 23, 25, 28, 31, 38, 40, 59, 64, 65, 67, 68, 74, 80, 95, 101, 114, 116, 127, 129, 130, 133, 137, 141, 148, 152]}\n",
      "(4, 25)\n",
      "{'4': [0, 1, 13, 14, 33, 36, 42, 43, 44, 48, 49, 50, 57, 62, 77, 79, 89, 93, 98, 111, 113, 122, 123, 124, 128, 139, 146, 151], '2': [2, 6, 8, 9, 18, 24, 35, 41, 46, 51, 53, 55, 61, 63, 66, 71, 75, 78, 83, 87, 96, 97, 106, 108, 110, 120, 121, 136], '3': [3, 5, 10, 12, 15, 16, 17, 19, 21, 22, 26, 27, 29, 34, 37, 47, 52, 54, 56, 58, 60, 69, 70, 72, 76, 82, 84, 86, 88, 90, 91, 92, 94, 99, 100, 102, 103, 109, 112, 115, 117, 119, 125, 126, 129, 130, 131, 132, 134, 135, 137, 140, 142, 143, 144, 145, 147, 149, 150], '1': [4, 20, 30, 32, 45, 73, 81, 85, 104, 105, 107, 118, 138], '0': [7, 11, 23, 25, 28, 31, 38, 39, 40, 59, 64, 65, 67, 68, 74, 80, 95, 101, 114, 116, 127, 133, 141, 148, 152]}\n",
      "(5, 25)\n",
      "{'4': [0, 1, 13, 14, 33, 36, 42, 43, 44, 48, 49, 50, 57, 62, 77, 79, 89, 98, 113, 122, 124, 128, 139, 146], '2': [2, 6, 8, 9, 18, 24, 35, 46, 51, 53, 61, 63, 66, 71, 74, 75, 78, 87, 96, 97, 106, 108, 110, 120, 121, 136], '3': [3, 5, 10, 11, 12, 15, 16, 17, 19, 21, 22, 26, 27, 29, 34, 37, 47, 52, 54, 56, 58, 60, 69, 70, 72, 82, 84, 86, 88, 90, 91, 92, 94, 99, 100, 102, 103, 109, 111, 112, 115, 117, 119, 126, 131, 132, 134, 135, 137, 140, 142, 143, 144, 145, 147, 149, 151], '1': [4, 20, 30, 32, 41, 45, 55, 73, 81, 85, 104, 105, 107, 118, 138], '0': [7, 23, 25, 39, 64, 93, 101, 114, 123, 125, 133, 150], '5': [28, 31, 38, 40, 59, 65, 67, 68, 76, 80, 83, 95, 116, 127, 129, 130, 141, 148, 152]}\n",
      "(6, 25)\n",
      "{'4': [0, 1, 14, 33, 36, 42, 43, 44, 48, 49, 50, 57, 62, 79, 89, 98, 113, 122, 124, 128, 139, 146], '2': [2, 6, 9, 24, 35, 46, 51, 53, 61, 63, 66, 77, 78, 87, 96, 97, 106, 110, 120, 121, 136], '3': [3, 5, 10, 12, 15, 16, 17, 19, 21, 22, 26, 27, 29, 34, 37, 47, 52, 54, 56, 60, 69, 70, 72, 82, 84, 86, 88, 90, 91, 92, 94, 99, 100, 102, 103, 109, 111, 112, 115, 117, 119, 126, 131, 132, 134, 135, 137, 140, 142, 143, 144, 145, 147, 149, 150, 151], '1': [4, 8, 13, 18, 20, 30, 32, 41, 45, 55, 71, 73, 75, 81, 85, 104, 105, 107, 108, 118, 138], '0': [7, 25, 39, 93, 114, 123, 125, 133], '5': [11, 23, 28, 31, 38, 40, 59, 64, 67, 68, 74, 80, 83, 95, 101, 116, 127, 141, 148, 152], '6': [58, 65, 76, 129, 130]}\n",
      "(7, 25)\n",
      "{'4': [0, 1, 13, 14, 33, 36, 42, 44, 48, 49, 57, 62, 77, 89, 91, 98, 99, 102, 108, 113, 122, 124, 128, 139, 146], '2': [2, 8, 9, 18, 24, 35, 41, 51, 53, 55, 61, 66, 71, 75, 78, 83, 96, 97, 106, 110, 120, 121], '3': [3, 6, 10, 11, 12, 15, 16, 17, 22, 29, 46, 58, 63, 72, 87, 100, 109, 116, 119, 126, 136, 137, 144, 147, 149], '1': [4, 20, 30, 32, 45, 73, 81, 85, 104, 105, 107, 118, 138], '7': [5, 19, 21, 26, 27, 34, 37, 43, 47, 50, 52, 54, 56, 60, 69, 70, 79, 82, 84, 86, 88, 90, 92, 94, 103, 111, 112, 115, 117, 131, 132, 134, 135, 140, 142, 143, 145, 150, 151], '0': [7, 25, 39, 93, 114, 123, 125, 133], '5': [23, 28, 31, 38, 40, 59, 64, 67, 68, 74, 80, 95, 101, 127, 141, 148, 152], '6': [65, 76, 129, 130]}\n",
      "(8, 25)\n",
      "{'8': [0, 4, 8, 13, 18, 20, 30, 32, 45, 71, 73, 75, 81, 85, 104, 105, 107, 108, 118, 138], '7': [1, 5, 19, 21, 26, 27, 34, 43, 44, 47, 48, 50, 52, 54, 56, 57, 60, 70, 82, 84, 86, 88, 90, 92, 94, 98, 103, 111, 112, 113, 115, 117, 122, 124, 128, 131, 132, 134, 135, 139, 140, 142, 143, 145, 150, 151], '2': [2, 6, 9, 24, 35, 51, 53, 61, 63, 66, 77, 78, 87, 96, 97, 106, 110, 120, 121, 136], '3': [3, 10, 11, 12, 15, 16, 17, 22, 29, 37, 46, 58, 69, 72, 91, 99, 100, 102, 109, 116, 119, 126, 137, 144, 147, 149], '0': [7, 25, 39, 93, 114, 123, 125, 133], '4': [14, 33, 36, 42, 49, 62, 79, 89, 146], '5': [23, 28, 31, 38, 40, 59, 64, 67, 68, 74, 80, 95, 101, 127, 141, 148, 152], '1': [41, 55, 83], '6': [65, 76, 129, 130]}\n",
      "(9, 25)\n",
      "{'9': [0, 1, 4, 13, 20, 30, 32, 43, 44, 45, 48, 57, 73, 77, 81, 85, 98, 104, 105, 107, 108, 118, 138, 139], '2': [2, 6, 9, 24, 35, 46, 51, 53, 61, 63, 66, 78, 83, 87, 96, 97, 106, 110, 120, 121, 136], '7': [3, 5, 10, 12, 15, 16, 17, 19, 21, 22, 26, 27, 29, 34, 37, 42, 47, 52, 54, 56, 69, 70, 84, 86, 88, 90, 91, 94, 99, 100, 102, 103, 109, 111, 112, 113, 115, 119, 122, 124, 126, 128, 131, 132, 134, 135, 140, 142, 143, 144, 145, 147, 149, 150, 151], '0': [7, 25, 39, 93, 114, 123, 125, 133], '8': [8, 18, 71, 75], '5': [11, 23, 28, 31, 38, 40, 59, 64, 67, 68, 74, 80, 95, 101, 116, 127, 137, 141, 148, 152], '4': [14, 33, 49, 146], '3': [36, 58, 62, 72, 79, 89], '1': [41, 50, 55, 60, 82, 92, 117], '6': [65, 76, 129, 130]}\n",
      "(10, 25)\n",
      "{'10': [0, 1, 5, 12, 19, 21, 26, 27, 34, 36, 37, 42, 43, 44, 47, 48, 50, 52, 54, 56, 57, 62, 69, 70, 72, 79, 84, 86, 88, 90, 91, 94, 98, 102, 103, 111, 112, 113, 115, 117, 122, 124, 128, 131, 132, 134, 135, 139, 140, 142, 143, 145, 150, 151], '2': [2, 9, 24, 35, 51, 53, 61, 66, 78, 83, 96, 97, 106, 110, 120, 121], '7': [3, 6, 10, 11, 15, 16, 17, 22, 29, 46, 63, 77, 87, 99, 100, 109, 116, 119, 126, 136, 137, 144, 147, 149], '9': [4, 13, 20, 30, 32, 45, 73, 81, 85, 104, 105, 107, 108, 118, 138], '0': [7, 25, 39, 93, 114, 123, 125, 133], '8': [8, 18, 71, 75], '4': [14, 33, 49, 89, 146], '5': [23, 28, 31, 38, 40, 59, 64, 67, 68, 74, 80, 95, 101, 127, 141, 148, 152], '1': [41, 55, 60, 82, 92], '3': [58], '6': [65, 76, 129, 130]}\n",
      "(11, 25)\n",
      "{'9': [0, 4, 13, 20, 30, 32, 45, 73, 81, 85, 98, 104, 105, 107, 108, 118, 138, 139], '10': [1, 5, 12, 19, 21, 26, 27, 34, 36, 37, 42, 43, 44, 47, 48, 50, 52, 54, 56, 57, 62, 69, 70, 72, 79, 84, 86, 88, 90, 91, 94, 103, 111, 112, 113, 115, 117, 122, 124, 128, 131, 132, 134, 135, 140, 142, 143, 145, 150, 151], '2': [2, 24, 35, 51, 53, 61, 63, 78, 96, 110, 120, 121], '7': [3, 6, 10, 11, 15, 16, 17, 22, 29, 46, 77, 87, 99, 100, 102, 109, 116, 119, 126, 136, 137, 144, 147, 149], '0': [7, 25, 39, 93, 114, 123, 125, 133], '8': [8, 18, 71, 75], '11': [9, 23, 31, 64, 66, 74, 83, 95, 97, 101, 106, 141], '4': [14, 33, 49, 89, 146], '5': [28, 38, 40, 59, 67, 68, 80, 127, 148, 152], '1': [41, 55, 60, 82, 92], '3': [58], '6': [65, 76, 129, 130]}\n",
      "(12, 25)\n"
     ]
    },
    {
     "data": {
      "image/png": "[encoded data removed]",
      "text/plain": [
       "<Figure size 640x480 with 1 Axes>"
      ]
     },
     "metadata": {},
     "output_type": "display_data"
    }
   ],
   "source": [
    "lt = [3,4,5,6,7,8,9,10,11,12]\n",
    "acc = []\n",
    "for num_clusters in lt:\n",
    "    reduced_matrix = train_recommendations(train,num_clusters, 6)\n",
    "    pred=test_recommendations(test.to_numpy(),reduced_matrix)\n",
    "    acc.append(accuracy(pred,test.to_numpy()))\n",
    "x = lt\n",
    "default_x_ticks = range(len(x))\n",
    "plt.plot(default_x_ticks, acc)\n",
    "plt.xticks(default_x_ticks, x)\n",
    "plt.show()   "
   ]
  },
  {
   "cell_type": "code",
   "execution_count": 432,
   "metadata": {},
   "outputs": [
    {
     "name": "stdout",
     "output_type": "stream",
     "text": [
      "{'9': [0, 1, 4, 13, 20, 30, 32, 43, 44, 45, 48, 57, 73, 77, 81, 85, 98, 104, 105, 107, 108, 118, 138, 139], '2': [2, 6, 9, 24, 35, 46, 51, 53, 61, 63, 66, 78, 83, 87, 96, 97, 106, 110, 120, 121, 136], '7': [3, 5, 10, 12, 15, 16, 17, 19, 21, 22, 26, 27, 29, 34, 37, 42, 47, 52, 54, 56, 69, 70, 84, 86, 88, 90, 91, 94, 99, 100, 102, 103, 109, 111, 112, 113, 115, 119, 122, 124, 126, 128, 131, 132, 134, 135, 140, 142, 143, 144, 145, 147, 149, 150, 151], '0': [7, 25, 39, 93, 114, 123, 125, 133], '8': [8, 18, 71, 75], '5': [11, 23, 28, 31, 38, 40, 59, 64, 67, 68, 74, 80, 95, 101, 116, 127, 137, 141, 148, 152], '4': [14, 33, 49, 146], '3': [36, 58, 62, 72, 79, 89], '1': [41, 50, 55, 60, 82, 92, 117], '6': [65, 76, 129, 130]}\n",
      "(10, 25)\n",
      "{'9': [0, 1, 4, 13, 20, 30, 32, 43, 44, 45, 48, 57, 73, 77, 81, 85, 98, 104, 105, 107, 108, 118, 138, 139], '2': [2, 6, 9, 24, 35, 46, 51, 53, 61, 63, 66, 78, 83, 87, 96, 97, 106, 110, 120, 121, 136], '7': [3, 5, 10, 12, 15, 16, 17, 19, 21, 22, 26, 27, 29, 34, 37, 42, 47, 52, 54, 56, 69, 70, 84, 86, 88, 90, 91, 94, 99, 100, 102, 103, 109, 111, 112, 113, 115, 119, 122, 124, 126, 128, 131, 132, 134, 135, 140, 142, 143, 144, 145, 147, 149, 150, 151], '0': [7, 25, 39, 93, 114, 123, 125, 133], '8': [8, 18, 71, 75], '5': [11, 23, 28, 31, 38, 40, 59, 64, 67, 68, 74, 80, 95, 101, 116, 127, 137, 141, 148, 152], '4': [14, 33, 49, 146], '3': [36, 58, 62, 72, 79, 89], '1': [41, 50, 55, 60, 82, 92, 117], '6': [65, 76, 129, 130]}\n",
      "(10, 25)\n",
      "{'9': [0, 1, 4, 13, 20, 30, 32, 43, 44, 45, 48, 57, 73, 77, 81, 85, 98, 104, 105, 107, 108, 118, 138, 139], '2': [2, 6, 9, 24, 35, 46, 51, 53, 61, 63, 66, 78, 83, 87, 96, 97, 106, 110, 120, 121, 136], '7': [3, 5, 10, 12, 15, 16, 17, 19, 21, 22, 26, 27, 29, 34, 37, 42, 47, 52, 54, 56, 69, 70, 84, 86, 88, 90, 91, 94, 99, 100, 102, 103, 109, 111, 112, 113, 115, 119, 122, 124, 126, 128, 131, 132, 134, 135, 140, 142, 143, 144, 145, 147, 149, 150, 151], '0': [7, 25, 39, 93, 114, 123, 125, 133], '8': [8, 18, 71, 75], '5': [11, 23, 28, 31, 38, 40, 59, 64, 67, 68, 74, 80, 95, 101, 116, 127, 137, 141, 148, 152], '4': [14, 33, 49, 146], '3': [36, 58, 62, 72, 79, 89], '1': [41, 50, 55, 60, 82, 92, 117], '6': [65, 76, 129, 130]}\n",
      "(10, 25)\n",
      "{'9': [0, 1, 4, 13, 20, 30, 32, 43, 44, 45, 48, 57, 73, 77, 81, 85, 98, 104, 105, 107, 108, 118, 138, 139], '2': [2, 6, 9, 24, 35, 46, 51, 53, 61, 63, 66, 78, 83, 87, 96, 97, 106, 110, 120, 121, 136], '7': [3, 5, 10, 12, 15, 16, 17, 19, 21, 22, 26, 27, 29, 34, 37, 42, 47, 52, 54, 56, 69, 70, 84, 86, 88, 90, 91, 94, 99, 100, 102, 103, 109, 111, 112, 113, 115, 119, 122, 124, 126, 128, 131, 132, 134, 135, 140, 142, 143, 144, 145, 147, 149, 150, 151], '0': [7, 25, 39, 93, 114, 123, 125, 133], '8': [8, 18, 71, 75], '5': [11, 23, 28, 31, 38, 40, 59, 64, 67, 68, 74, 80, 95, 101, 116, 127, 137, 141, 148, 152], '4': [14, 33, 49, 146], '3': [36, 58, 62, 72, 79, 89], '1': [41, 50, 55, 60, 82, 92, 117], '6': [65, 76, 129, 130]}\n",
      "(10, 25)\n",
      "{'9': [0, 1, 4, 13, 20, 30, 32, 43, 44, 45, 48, 57, 73, 77, 81, 85, 98, 104, 105, 107, 108, 118, 138, 139], '2': [2, 6, 9, 24, 35, 46, 51, 53, 61, 63, 66, 78, 83, 87, 96, 97, 106, 110, 120, 121, 136], '7': [3, 5, 10, 12, 15, 16, 17, 19, 21, 22, 26, 27, 29, 34, 37, 42, 47, 52, 54, 56, 69, 70, 84, 86, 88, 90, 91, 94, 99, 100, 102, 103, 109, 111, 112, 113, 115, 119, 122, 124, 126, 128, 131, 132, 134, 135, 140, 142, 143, 144, 145, 147, 149, 150, 151], '0': [7, 25, 39, 93, 114, 123, 125, 133], '8': [8, 18, 71, 75], '5': [11, 23, 28, 31, 38, 40, 59, 64, 67, 68, 74, 80, 95, 101, 116, 127, 137, 141, 148, 152], '4': [14, 33, 49, 146], '3': [36, 58, 62, 72, 79, 89], '1': [41, 50, 55, 60, 82, 92, 117], '6': [65, 76, 129, 130]}\n",
      "(10, 25)\n",
      "{'9': [0, 1, 4, 13, 20, 30, 32, 43, 44, 45, 48, 57, 73, 77, 81, 85, 98, 104, 105, 107, 108, 118, 138, 139], '2': [2, 6, 9, 24, 35, 46, 51, 53, 61, 63, 66, 78, 83, 87, 96, 97, 106, 110, 120, 121, 136], '7': [3, 5, 10, 12, 15, 16, 17, 19, 21, 22, 26, 27, 29, 34, 37, 42, 47, 52, 54, 56, 69, 70, 84, 86, 88, 90, 91, 94, 99, 100, 102, 103, 109, 111, 112, 113, 115, 119, 122, 124, 126, 128, 131, 132, 134, 135, 140, 142, 143, 144, 145, 147, 149, 150, 151], '0': [7, 25, 39, 93, 114, 123, 125, 133], '8': [8, 18, 71, 75], '5': [11, 23, 28, 31, 38, 40, 59, 64, 67, 68, 74, 80, 95, 101, 116, 127, 137, 141, 148, 152], '4': [14, 33, 49, 146], '3': [36, 58, 62, 72, 79, 89], '1': [41, 50, 55, 60, 82, 92, 117], '6': [65, 76, 129, 130]}\n",
      "(10, 25)\n",
      "{'9': [0, 1, 4, 13, 20, 30, 32, 43, 44, 45, 48, 57, 73, 77, 81, 85, 98, 104, 105, 107, 108, 118, 138, 139], '2': [2, 6, 9, 24, 35, 46, 51, 53, 61, 63, 66, 78, 83, 87, 96, 97, 106, 110, 120, 121, 136], '7': [3, 5, 10, 12, 15, 16, 17, 19, 21, 22, 26, 27, 29, 34, 37, 42, 47, 52, 54, 56, 69, 70, 84, 86, 88, 90, 91, 94, 99, 100, 102, 103, 109, 111, 112, 113, 115, 119, 122, 124, 126, 128, 131, 132, 134, 135, 140, 142, 143, 144, 145, 147, 149, 150, 151], '0': [7, 25, 39, 93, 114, 123, 125, 133], '8': [8, 18, 71, 75], '5': [11, 23, 28, 31, 38, 40, 59, 64, 67, 68, 74, 80, 95, 101, 116, 127, 137, 141, 148, 152], '4': [14, 33, 49, 146], '3': [36, 58, 62, 72, 79, 89], '1': [41, 50, 55, 60, 82, 92, 117], '6': [65, 76, 129, 130]}\n",
      "(10, 25)\n",
      "{'9': [0, 1, 4, 13, 20, 30, 32, 43, 44, 45, 48, 57, 73, 77, 81, 85, 98, 104, 105, 107, 108, 118, 138, 139], '2': [2, 6, 9, 24, 35, 46, 51, 53, 61, 63, 66, 78, 83, 87, 96, 97, 106, 110, 120, 121, 136], '7': [3, 5, 10, 12, 15, 16, 17, 19, 21, 22, 26, 27, 29, 34, 37, 42, 47, 52, 54, 56, 69, 70, 84, 86, 88, 90, 91, 94, 99, 100, 102, 103, 109, 111, 112, 113, 115, 119, 122, 124, 126, 128, 131, 132, 134, 135, 140, 142, 143, 144, 145, 147, 149, 150, 151], '0': [7, 25, 39, 93, 114, 123, 125, 133], '8': [8, 18, 71, 75], '5': [11, 23, 28, 31, 38, 40, 59, 64, 67, 68, 74, 80, 95, 101, 116, 127, 137, 141, 148, 152], '4': [14, 33, 49, 146], '3': [36, 58, 62, 72, 79, 89], '1': [41, 50, 55, 60, 82, 92, 117], '6': [65, 76, 129, 130]}\n",
      "(10, 25)\n",
      "{'9': [0, 1, 4, 13, 20, 30, 32, 43, 44, 45, 48, 57, 73, 77, 81, 85, 98, 104, 105, 107, 108, 118, 138, 139], '2': [2, 6, 9, 24, 35, 46, 51, 53, 61, 63, 66, 78, 83, 87, 96, 97, 106, 110, 120, 121, 136], '7': [3, 5, 10, 12, 15, 16, 17, 19, 21, 22, 26, 27, 29, 34, 37, 42, 47, 52, 54, 56, 69, 70, 84, 86, 88, 90, 91, 94, 99, 100, 102, 103, 109, 111, 112, 113, 115, 119, 122, 124, 126, 128, 131, 132, 134, 135, 140, 142, 143, 144, 145, 147, 149, 150, 151], '0': [7, 25, 39, 93, 114, 123, 125, 133], '8': [8, 18, 71, 75], '5': [11, 23, 28, 31, 38, 40, 59, 64, 67, 68, 74, 80, 95, 101, 116, 127, 137, 141, 148, 152], '4': [14, 33, 49, 146], '3': [36, 58, 62, 72, 79, 89], '1': [41, 50, 55, 60, 82, 92, 117], '6': [65, 76, 129, 130]}\n",
      "(10, 25)\n"
     ]
    },
    {
     "data": {
      "text/plain": [
       "([<matplotlib.axis.XTick at 0x157c97550>,\n",
       "  <matplotlib.axis.XTick at 0x157c97520>,\n",
       "  <matplotlib.axis.XTick at 0x157c961c0>,\n",
       "  <matplotlib.axis.XTick at 0x156b5f070>,\n",
       "  <matplotlib.axis.XTick at 0x156b5f730>,\n",
       "  <matplotlib.axis.XTick at 0x156b5fe80>,\n",
       "  <matplotlib.axis.XTick at 0x156b5fc10>,\n",
       "  <matplotlib.axis.XTick at 0x156b4c5b0>,\n",
       "  <matplotlib.axis.XTick at 0x156b4cbb0>],\n",
       " [Text(0, 0, '2'),\n",
       "  Text(1, 0, '3'),\n",
       "  Text(2, 0, '4'),\n",
       "  Text(3, 0, '5'),\n",
       "  Text(4, 0, '6'),\n",
       "  Text(5, 0, '7'),\n",
       "  Text(6, 0, '8'),\n",
       "  Text(7, 0, '9'),\n",
       "  Text(8, 0, '10')])"
      ]
     },
     "execution_count": 432,
     "metadata": {},
     "output_type": "execute_result"
    },
    {
     "data": {
      "image/png": "[encoded data removed]",
      "text/plain": [
       "<Figure size 640x480 with 1 Axes>"
      ]
     },
     "metadata": {},
     "output_type": "display_data"
    }
   ],
   "source": [
    "k_list = [2,3,4,5,6,7,8,9,10]\n",
    "acc = []\n",
    "for k_svd in k_list:\n",
    "    reduced_matrix = train_recommendations(train,10, k_svd)\n",
    "    pred=test_recommendations(test.to_numpy(),reduced_matrix)\n",
    "    acc.append(accuracy(pred,test.to_numpy()))\n",
    "x = k_list\n",
    "default_x_ticks = range(len(x))\n",
    "plt.plot(default_x_ticks, acc)\n",
    "plt.xticks(default_x_ticks, x)"
   ]
  },
  {
   "cell_type": "code",
   "execution_count": 433,
   "metadata": {},
   "outputs": [
    {
     "name": "stdout",
     "output_type": "stream",
     "text": [
      "['Machine Learning\\n', 'The Web and the Mind ', 'Software Production Engineering\\n', 'Cloud Computing\\n', 'Mathematics For Machine Learning\\n', 'Data Visualization\\n', 'Visual Recognition\\n', 'Reinforcement Learning', 'Natural Language Processing\\n', 'Privacy in the Digital Age', 'Programming Languages\\n', 'Techno-economics of networks ', 'Technology Ethics and AI ', 'Digital Sociology ', 'Computer Graphics\\n', 'System design with FPGA ', 'Digital CMOS VLSI Design ', 'VLSI Architecture Design\\n', 'ASIC design ', 'High level synthesis and optimization of Digital Circuits ']\n",
      "*****************\n",
      "['Reinforcement Learning', 'Natural Language Processing\\n', 'Machine Learning\\n', 'Data Visualization\\n', 'Visual Recognition\\n', 'Mathematics For Machine Learning\\n', 'Software Production Engineering\\n', 'Cloud Computing\\n', 'Privacy in the Digital Age', 'Technology Ethics and AI ', 'Computer Graphics\\n', 'The Web and the Mind ', 'Techno-economics of networks ', 'VLSI Architecture Design\\n', 'System design with FPGA ', 'Digital Sociology ', 'Digital CMOS VLSI Design ', 'Programming Languages\\n', 'High level synthesis and optimization of Digital Circuits ', 'ASIC design ']\n",
      "*****************\n",
      "['Machine Learning\\n', 'Mathematics For Machine Learning\\n', 'Visual Recognition\\n', 'Data Visualization\\n', 'Software Production Engineering\\n', 'Cloud Computing\\n', 'Reinforcement Learning', 'Programming Languages\\n', 'Natural Language Processing\\n', 'Computer Graphics\\n', 'The Web and the Mind ', 'Techno-economics of networks ', 'Privacy in the Digital Age', 'Technology Ethics and AI ', 'Digital Sociology ', 'System design with FPGA ', 'Digital CMOS VLSI Design ', 'ASIC design ', 'VLSI Architecture Design\\n', 'High level synthesis and optimization of Digital Circuits ']\n",
      "*****************\n",
      "['Machine Learning\\n', 'Mathematics For Machine Learning\\n', 'Visual Recognition\\n', 'Data Visualization\\n', 'Software Production Engineering\\n', 'Cloud Computing\\n', 'Reinforcement Learning', 'Programming Languages\\n', 'Natural Language Processing\\n', 'Computer Graphics\\n', 'The Web and the Mind ', 'Techno-economics of networks ', 'Privacy in the Digital Age', 'Technology Ethics and AI ', 'Digital Sociology ', 'System design with FPGA ', 'Digital CMOS VLSI Design ', 'ASIC design ', 'VLSI Architecture Design\\n', 'High level synthesis and optimization of Digital Circuits ']\n",
      "*****************\n",
      "['Machine Learning\\n', 'Techno-economics of networks ', 'Mathematics For Machine Learning\\n', 'Privacy in the Digital Age', 'Software Production Engineering\\n', 'Visual Recognition\\n', 'The Web and the Mind ', 'Technology Ethics and AI ', 'Natural Language Processing\\n', 'Reinforcement Learning', 'Digital Sociology ', 'Data Visualization\\n', 'Computer Graphics\\n', 'Cloud Computing\\n', 'Programming Languages\\n', 'ASIC design ', 'Digital CMOS VLSI Design ', 'System design with FPGA ', 'VLSI Architecture Design\\n', 'High level synthesis and optimization of Digital Circuits ']\n",
      "*****************\n",
      "['Machine Learning\\n', 'Software Production Engineering\\n', 'Programming Languages\\n', 'Reinforcement Learning', 'Mathematics For Machine Learning\\n', 'Visual Recognition\\n', 'Cloud Computing\\n', 'Natural Language Processing\\n', 'Data Visualization\\n', 'Computer Graphics\\n', 'The Web and the Mind ', 'Technology Ethics and AI ', 'Privacy in the Digital Age', 'Techno-economics of networks ', 'Digital CMOS VLSI Design ', 'Digital Sociology ', 'System design with FPGA ', 'VLSI Architecture Design\\n', 'ASIC design ', 'High level synthesis and optimization of Digital Circuits ']\n",
      "*****************\n",
      "['Machine Learning\\n', 'Mathematics For Machine Learning\\n', 'Software Production Engineering\\n', 'Reinforcement Learning', 'Natural Language Processing\\n', 'Data Visualization\\n', 'The Web and the Mind ', 'Visual Recognition\\n', 'Programming Languages\\n', 'Cloud Computing\\n', 'Privacy in the Digital Age', 'Computer Graphics\\n', 'Technology Ethics and AI ', 'Digital CMOS VLSI Design ', 'System design with FPGA ', 'Techno-economics of networks ', 'VLSI Architecture Design\\n', 'ASIC design ', 'Digital Sociology ', 'High level synthesis and optimization of Digital Circuits ']\n",
      "*****************\n",
      "['Machine Learning\\n', 'Mathematics For Machine Learning\\n', 'Software Production Engineering\\n', 'Reinforcement Learning', 'Natural Language Processing\\n', 'Data Visualization\\n', 'The Web and the Mind ', 'Visual Recognition\\n', 'Programming Languages\\n', 'Cloud Computing\\n', 'Privacy in the Digital Age', 'Computer Graphics\\n', 'Technology Ethics and AI ', 'Digital CMOS VLSI Design ', 'System design with FPGA ', 'Techno-economics of networks ', 'VLSI Architecture Design\\n', 'ASIC design ', 'Digital Sociology ', 'High level synthesis and optimization of Digital Circuits ']\n",
      "*****************\n",
      "['Reinforcement Learning', 'Natural Language Processing\\n', 'Machine Learning\\n', 'Data Visualization\\n', 'Visual Recognition\\n', 'Mathematics For Machine Learning\\n', 'Software Production Engineering\\n', 'Cloud Computing\\n', 'Privacy in the Digital Age', 'Technology Ethics and AI ', 'Computer Graphics\\n', 'The Web and the Mind ', 'Techno-economics of networks ', 'VLSI Architecture Design\\n', 'System design with FPGA ', 'Digital Sociology ', 'Digital CMOS VLSI Design ', 'Programming Languages\\n', 'High level synthesis and optimization of Digital Circuits ', 'ASIC design ']\n",
      "*****************\n"
     ]
    }
   ],
   "source": [
    "for i in pred:\n",
    "    elective_ranked = get_electives_ranked(courses,i)\n",
    "    print(elective_ranked)\n",
    "    print(\"*****************\")"
   ]
  },
  {
   "attachments": {},
   "cell_type": "markdown",
   "metadata": {},
   "source": [
    "## Cluster Visualisation"
   ]
  },
  {
   "cell_type": "code",
   "execution_count": 434,
   "metadata": {},
   "outputs": [
    {
     "name": "stdout",
     "output_type": "stream",
     "text": [
      "{'1': [0, 17, 33, 41, 108, 115, 117], '7': [1, 5, 8, 11, 13, 14, 15, 16, 18, 19, 20, 21, 23, 24, 25, 31, 34, 37, 43, 45, 46, 50, 53, 54, 55, 57, 58, 62, 65, 68, 69, 70, 72, 74, 76, 78, 81, 87, 92, 96, 97, 103, 106, 113, 116, 119, 121, 124, 128, 129, 131, 133, 137, 138, 139, 141, 147, 148, 149, 150, 153], '0': [2, 59, 63, 107, 125, 143, 145, 156], '5': [3, 7, 22, 26, 40, 42, 44, 49, 60, 61, 67, 71, 75, 93, 99, 102, 114, 154, 158, 159], '2': [4, 27, 28, 29, 30, 32, 35, 47, 64, 80, 84, 89, 91, 98, 111, 120, 132, 135, 142, 151, 152, 160], '9': [6, 10, 12, 38, 39, 51, 52, 66, 73, 77, 83, 85, 90, 101, 105, 110, 123, 126, 130, 136, 140, 144, 146], '4': [9, 82, 127, 161], '3': [36, 79, 95, 100, 109, 112, 122, 155], '6': [48, 86, 88, 157], '8': [56, 94, 104, 118, 134]}\n",
      "(8, 25)\n",
      "(7, 25)\n",
      "(22, 25)\n",
      "(8, 25)\n",
      "(4, 25)\n",
      "(20, 25)\n",
      "(4, 25)\n",
      "(61, 25)\n",
      "(5, 25)\n",
      "(23, 25)\n"
     ]
    },
    {
     "data": {
      "image/png": "[encoded data removed]",
      "text/plain": [
       "<Figure size 2000x700 with 1 Axes>"
      ]
     },
     "metadata": {},
     "output_type": "display_data"
    }
   ],
   "source": [
    "from sklearn.decomposition import PCA\n",
    "cluster_dict = K_means(df[core_courses], 10, 50) \n",
    "print(cluster_dict)\n",
    "PCA_components = []\n",
    "colours = [\"red\", \"green\", \"blue\", \"yellow\", \"black\", \"purple\", \"pink\", \"orange\", \"cyan\", \"olive\"]\n",
    "plt.figure(figsize = (20, 7))\n",
    "ax = plt.axes(projection =\"3d\")\n",
    "for k in range(10):\n",
    "    # pand = pd.DataFrame(arr[np.array(cluster_dict[str(k)])], columns=courses)\n",
    "    # print(arr[np.array(cluster_dict[str(k)])])\n",
    "    print(df.loc[df.index.isin(cluster_dict[str(k)])].shape)\n",
    "    X_std = StandardScaler().fit_transform(df.loc[df.index.isin(cluster_dict[str(k)])])\n",
    "    pca = PCA(n_components=3)\n",
    "    principalComponents = pca.fit_transform(X_std)\n",
    "    # Plot the explained variances\n",
    "    features = range(pca.n_components_)\n",
    "    # plt.bar(features, pca.explained_variance_ratio_, color=\"red\")\n",
    "    # plt.xlabel('PCA features')\n",
    "    # plt.ylabel('variance %')\n",
    "    # plt.xticks(features)\n",
    "    # Save components to a DataFrame\n",
    "    PCA_components = pd.DataFrame(principalComponents)\n",
    "    ax.scatter3D(PCA_components[0], PCA_components[1],PCA_components[2], alpha=.5, color=colours[k])"
   ]
  },
  {
   "cell_type": "code",
   "execution_count": 435,
   "metadata": {},
   "outputs": [
    {
     "data": {
      "image/png": "[encoded data removed]",
      "text/plain": [
       "<Figure size 640x480 with 1 Axes>"
      ]
     },
     "metadata": {},
     "output_type": "display_data"
    }
   ],
   "source": [
    "ks = range(1, 10)\n",
    "inertias = []\n",
    "for k in ks:\n",
    "    # Create a KMeans instance with k clusters: model\n",
    "    model = KMeans(n_clusters=k)\n",
    "    \n",
    "    # Fit model to samples\n",
    "    model.fit(PCA_components.iloc[:,:3])\n",
    "    \n",
    "    # Append the inertia to the list of inertias\n",
    "    inertias.append(model.inertia_)\n",
    "    \n",
    "plt.plot(ks, inertias, '-o', color='black')\n",
    "plt.xlabel('number of clusters, k')\n",
    "plt.ylabel('inertia')\n",
    "plt.xticks(ks)\n",
    "plt.show()"
   ]
  }
 ],
 "metadata": {
  "kernelspec": {
   "display_name": "Python 3.10.6 64-bit",
   "language": "python",
   "name": "python3"
  },
  "language_info": {
   "codemirror_mode": {
    "name": "ipython",
    "version": 3
   },
   "file_extension": ".py",
   "mimetype": "text/x-python",
   "name": "python",
   "nbconvert_exporter": "python",
   "pygments_lexer": "ipython3",
   "version": "3.9.15"
  },
  "orig_nbformat": 4,
  "vscode": {
   "interpreter": {
    "hash": "e7370f93d1d0cde622a1f8e1c04877d8463912d04d973331ad4851f04de6915a"
   }
  }
 },
 "nbformat": 4,
 "nbformat_minor": 2
}
