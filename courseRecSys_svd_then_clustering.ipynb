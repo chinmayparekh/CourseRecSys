{
  "cells": [
    {
      "cell_type": "code",
      "execution_count": 491,
      "metadata": {
        "id": "iP5kUYKb0U7R"
      },
      "outputs": [],
      "source": [
        "import pandas as pd\n",
        "import numpy as np\n",
        "from sklearn.preprocessing import StandardScaler\n",
        "from sklearn.cluster import KMeans\n",
        "import matplotlib.pyplot as plt\n",
        "from sklearn.decomposition import TruncatedSVD\n",
        "from sklearn.model_selection import train_test_split\n",
        "import sys\n"
      ]
    },
    {
      "cell_type": "code",
      "execution_count": 492,
      "metadata": {
        "id": "8YigzDPP0U7V"
      },
      "outputs": [],
      "source": [
        "filename = 'courseRecSys.xlsx'\n",
        "splitProp = 0.95"
      ]
    },
    {
      "cell_type": "code",
      "execution_count": 493,
      "metadata": {
        "id": "Yz98GSBA0U7V"
      },
      "outputs": [],
      "source": [
        "def read_data(filename):\n",
        "    df = pd.read_excel(filename,\n",
        "    header=0,\n",
        "    index_col=False,\n",
        "    keep_default_na=True\n",
        "    )\n",
        "    return df"
      ]
    },
    {
      "cell_type": "code",
      "execution_count": 494,
      "metadata": {
        "id": "Ph7zPkHh0U7W"
      },
      "outputs": [],
      "source": [
        "def preprocess(df):\n",
        "    df=df.drop(['Start time','Completion time','Email','Name','Name(not mandatory)\\n','ID'], axis=1)\n",
        "    \n",
        "    df[\"avg\"] = df.mean(axis = 0, skipna=True, numeric_only=True)\n",
        "    df=df.apply(lambda x: x.fillna(x.mean()),axis=0)\n",
        "    df = df.drop([\"avg\"],axis =1)\n",
        "    return df"
      ]
    },
    {
      "cell_type": "code",
      "execution_count": 497,
      "metadata": {
        "colab": {
          "base_uri": "https://localhost:8080/",
          "height": 574
        },
        "id": "SWrMiBDB0U7Y",
        "outputId": "e8181ec7-b2ed-4b7e-e022-f415b1b490c8"
      },
      "outputs": [
        {
          "data": {
            "text/html": [
              "\n",
              "  <div id=\"df-18a39a2d-860b-4efe-9e6a-bb39ba0d94b8\">\n",
              "    <div class=\"colab-df-container\">\n",
              "      <div>\n",
              "<style scoped>\n",
              "    .dataframe tbody tr th:only-of-type {\n",
              "        vertical-align: middle;\n",
              "    }\n",
              "\n",
              "    .dataframe tbody tr th {\n",
              "        vertical-align: top;\n",
              "    }\n",
              "\n",
              "    .dataframe thead th {\n",
              "        text-align: right;\n",
              "    }\n",
              "</style>\n",
              "<table border=\"1\" class=\"dataframe\">\n",
              "  <thead>\n",
              "    <tr style=\"text-align: right;\">\n",
              "      <th></th>\n",
              "      <th>Data Structures and Algorithms</th>\n",
              "      <th>Computer Architecture\\n</th>\n",
              "      <th>Discrete Mathematics\\n</th>\n",
              "      <th>Economics</th>\n",
              "      <th>Programming-2</th>\n",
              "      <th>Machine Learning\\n</th>\n",
              "      <th>Mathematics For Machine Learning\\n</th>\n",
              "      <th>Visual Recognition\\n</th>\n",
              "      <th>Natural Language Processing\\n</th>\n",
              "      <th>Reinforcement Learning</th>\n",
              "      <th>...</th>\n",
              "      <th>Digital CMOS VLSI Design</th>\n",
              "      <th>System design with FPGA</th>\n",
              "      <th>ASIC design</th>\n",
              "      <th>VLSI Architecture Design\\n</th>\n",
              "      <th>High level synthesis and optimization of Digital Circuits</th>\n",
              "      <th>Digital Sociology</th>\n",
              "      <th>Privacy in the Digital Age</th>\n",
              "      <th>Technology Ethics and AI</th>\n",
              "      <th>Techno-economics of networks</th>\n",
              "      <th>The Web and the Mind</th>\n",
              "    </tr>\n",
              "  </thead>\n",
              "  <tbody>\n",
              "    <tr>\n",
              "      <th>0</th>\n",
              "      <td>0.30</td>\n",
              "      <td>0.85</td>\n",
              "      <td>0.85</td>\n",
              "      <td>0.90</td>\n",
              "      <td>0.70</td>\n",
              "      <td>0.70</td>\n",
              "      <td>0.80</td>\n",
              "      <td>0.620098</td>\n",
              "      <td>0.572638</td>\n",
              "      <td>0.603495</td>\n",
              "      <td>...</td>\n",
              "      <td>0.251538</td>\n",
              "      <td>0.246316</td>\n",
              "      <td>0.214805</td>\n",
              "      <td>0.234868</td>\n",
              "      <td>0.168056</td>\n",
              "      <td>0.318243</td>\n",
              "      <td>0.600000</td>\n",
              "      <td>0.423286</td>\n",
              "      <td>0.396622</td>\n",
              "      <td>0.510897</td>\n",
              "    </tr>\n",
              "    <tr>\n",
              "      <th>1</th>\n",
              "      <td>0.70</td>\n",
              "      <td>0.80</td>\n",
              "      <td>0.20</td>\n",
              "      <td>0.80</td>\n",
              "      <td>0.80</td>\n",
              "      <td>0.50</td>\n",
              "      <td>0.10</td>\n",
              "      <td>0.200000</td>\n",
              "      <td>0.572638</td>\n",
              "      <td>0.603495</td>\n",
              "      <td>...</td>\n",
              "      <td>0.251538</td>\n",
              "      <td>0.246316</td>\n",
              "      <td>0.214805</td>\n",
              "      <td>0.234868</td>\n",
              "      <td>0.168056</td>\n",
              "      <td>0.318243</td>\n",
              "      <td>0.500000</td>\n",
              "      <td>0.423286</td>\n",
              "      <td>0.396622</td>\n",
              "      <td>0.510897</td>\n",
              "    </tr>\n",
              "    <tr>\n",
              "      <th>2</th>\n",
              "      <td>0.70</td>\n",
              "      <td>0.00</td>\n",
              "      <td>1.00</td>\n",
              "      <td>1.00</td>\n",
              "      <td>1.00</td>\n",
              "      <td>1.00</td>\n",
              "      <td>1.00</td>\n",
              "      <td>0.800000</td>\n",
              "      <td>0.900000</td>\n",
              "      <td>1.000000</td>\n",
              "      <td>...</td>\n",
              "      <td>0.251538</td>\n",
              "      <td>0.246316</td>\n",
              "      <td>0.214805</td>\n",
              "      <td>0.234868</td>\n",
              "      <td>0.168056</td>\n",
              "      <td>0.318243</td>\n",
              "      <td>0.400000</td>\n",
              "      <td>0.423286</td>\n",
              "      <td>0.396622</td>\n",
              "      <td>0.510897</td>\n",
              "    </tr>\n",
              "    <tr>\n",
              "      <th>3</th>\n",
              "      <td>0.65</td>\n",
              "      <td>0.70</td>\n",
              "      <td>0.20</td>\n",
              "      <td>0.75</td>\n",
              "      <td>0.75</td>\n",
              "      <td>0.75</td>\n",
              "      <td>0.75</td>\n",
              "      <td>0.750000</td>\n",
              "      <td>0.572638</td>\n",
              "      <td>0.603495</td>\n",
              "      <td>...</td>\n",
              "      <td>0.251538</td>\n",
              "      <td>0.246316</td>\n",
              "      <td>0.214805</td>\n",
              "      <td>0.234868</td>\n",
              "      <td>0.168056</td>\n",
              "      <td>0.800000</td>\n",
              "      <td>0.452708</td>\n",
              "      <td>0.423286</td>\n",
              "      <td>0.800000</td>\n",
              "      <td>0.510897</td>\n",
              "    </tr>\n",
              "    <tr>\n",
              "      <th>4</th>\n",
              "      <td>0.70</td>\n",
              "      <td>0.60</td>\n",
              "      <td>0.20</td>\n",
              "      <td>0.00</td>\n",
              "      <td>0.80</td>\n",
              "      <td>0.50</td>\n",
              "      <td>0.60</td>\n",
              "      <td>0.400000</td>\n",
              "      <td>0.400000</td>\n",
              "      <td>0.200000</td>\n",
              "      <td>...</td>\n",
              "      <td>0.000000</td>\n",
              "      <td>0.000000</td>\n",
              "      <td>0.000000</td>\n",
              "      <td>0.000000</td>\n",
              "      <td>0.000000</td>\n",
              "      <td>0.000000</td>\n",
              "      <td>0.000000</td>\n",
              "      <td>0.000000</td>\n",
              "      <td>0.000000</td>\n",
              "      <td>0.000000</td>\n",
              "    </tr>\n",
              "    <tr>\n",
              "      <th>...</th>\n",
              "      <td>...</td>\n",
              "      <td>...</td>\n",
              "      <td>...</td>\n",
              "      <td>...</td>\n",
              "      <td>...</td>\n",
              "      <td>...</td>\n",
              "      <td>...</td>\n",
              "      <td>...</td>\n",
              "      <td>...</td>\n",
              "      <td>...</td>\n",
              "      <td>...</td>\n",
              "      <td>...</td>\n",
              "      <td>...</td>\n",
              "      <td>...</td>\n",
              "      <td>...</td>\n",
              "      <td>...</td>\n",
              "      <td>...</td>\n",
              "      <td>...</td>\n",
              "      <td>...</td>\n",
              "      <td>...</td>\n",
              "      <td>...</td>\n",
              "    </tr>\n",
              "    <tr>\n",
              "      <th>157</th>\n",
              "      <td>0.00</td>\n",
              "      <td>1.00</td>\n",
              "      <td>0.50</td>\n",
              "      <td>0.70</td>\n",
              "      <td>0.60</td>\n",
              "      <td>0.50</td>\n",
              "      <td>0.30</td>\n",
              "      <td>0.700000</td>\n",
              "      <td>0.572638</td>\n",
              "      <td>0.603495</td>\n",
              "      <td>...</td>\n",
              "      <td>0.251538</td>\n",
              "      <td>0.246316</td>\n",
              "      <td>0.214805</td>\n",
              "      <td>0.234868</td>\n",
              "      <td>0.168056</td>\n",
              "      <td>0.318243</td>\n",
              "      <td>0.000000</td>\n",
              "      <td>0.423286</td>\n",
              "      <td>0.396622</td>\n",
              "      <td>0.510897</td>\n",
              "    </tr>\n",
              "    <tr>\n",
              "      <th>158</th>\n",
              "      <td>1.00</td>\n",
              "      <td>0.00</td>\n",
              "      <td>0.00</td>\n",
              "      <td>0.70</td>\n",
              "      <td>0.70</td>\n",
              "      <td>0.00</td>\n",
              "      <td>0.00</td>\n",
              "      <td>0.000000</td>\n",
              "      <td>0.572638</td>\n",
              "      <td>0.603495</td>\n",
              "      <td>...</td>\n",
              "      <td>0.251538</td>\n",
              "      <td>0.246316</td>\n",
              "      <td>0.214805</td>\n",
              "      <td>0.234868</td>\n",
              "      <td>0.168056</td>\n",
              "      <td>0.318243</td>\n",
              "      <td>0.452708</td>\n",
              "      <td>0.423286</td>\n",
              "      <td>0.396622</td>\n",
              "      <td>0.200000</td>\n",
              "    </tr>\n",
              "    <tr>\n",
              "      <th>159</th>\n",
              "      <td>0.60</td>\n",
              "      <td>0.30</td>\n",
              "      <td>0.40</td>\n",
              "      <td>0.90</td>\n",
              "      <td>0.80</td>\n",
              "      <td>0.70</td>\n",
              "      <td>0.40</td>\n",
              "      <td>0.500000</td>\n",
              "      <td>0.400000</td>\n",
              "      <td>0.200000</td>\n",
              "      <td>...</td>\n",
              "      <td>0.251538</td>\n",
              "      <td>0.246316</td>\n",
              "      <td>0.214805</td>\n",
              "      <td>0.234868</td>\n",
              "      <td>0.168056</td>\n",
              "      <td>0.318243</td>\n",
              "      <td>1.000000</td>\n",
              "      <td>0.423286</td>\n",
              "      <td>0.396622</td>\n",
              "      <td>1.000000</td>\n",
              "    </tr>\n",
              "    <tr>\n",
              "      <th>160</th>\n",
              "      <td>0.80</td>\n",
              "      <td>0.60</td>\n",
              "      <td>0.20</td>\n",
              "      <td>0.40</td>\n",
              "      <td>0.70</td>\n",
              "      <td>0.70</td>\n",
              "      <td>0.80</td>\n",
              "      <td>0.620098</td>\n",
              "      <td>0.572638</td>\n",
              "      <td>0.700000</td>\n",
              "      <td>...</td>\n",
              "      <td>0.251538</td>\n",
              "      <td>0.246316</td>\n",
              "      <td>0.214805</td>\n",
              "      <td>0.234868</td>\n",
              "      <td>0.168056</td>\n",
              "      <td>0.318243</td>\n",
              "      <td>0.452708</td>\n",
              "      <td>0.423286</td>\n",
              "      <td>0.396622</td>\n",
              "      <td>0.510897</td>\n",
              "    </tr>\n",
              "    <tr>\n",
              "      <th>161</th>\n",
              "      <td>0.40</td>\n",
              "      <td>0.70</td>\n",
              "      <td>0.90</td>\n",
              "      <td>0.40</td>\n",
              "      <td>0.40</td>\n",
              "      <td>0.70</td>\n",
              "      <td>0.90</td>\n",
              "      <td>0.620098</td>\n",
              "      <td>0.572638</td>\n",
              "      <td>0.800000</td>\n",
              "      <td>...</td>\n",
              "      <td>0.251538</td>\n",
              "      <td>0.246316</td>\n",
              "      <td>0.214805</td>\n",
              "      <td>0.234868</td>\n",
              "      <td>0.168056</td>\n",
              "      <td>0.318243</td>\n",
              "      <td>0.452708</td>\n",
              "      <td>0.423286</td>\n",
              "      <td>0.396622</td>\n",
              "      <td>0.510897</td>\n",
              "    </tr>\n",
              "  </tbody>\n",
              "</table>\n",
              "<p>162 rows × 25 columns</p>\n",
              "</div>\n",
              "      <button class=\"colab-df-convert\" onclick=\"convertToInteractive('df-18a39a2d-860b-4efe-9e6a-bb39ba0d94b8')\"\n",
              "              title=\"Convert this dataframe to an interactive table.\"\n",
              "              style=\"display:none;\">\n",
              "        \n",
              "  <svg xmlns=\"http://www.w3.org/2000/svg\" height=\"24px\"viewBox=\"0 0 24 24\"\n",
              "       width=\"24px\">\n",
              "    <path d=\"M0 0h24v24H0V0z\" fill=\"none\"/>\n",
              "    <path d=\"M18.56 5.44l.94 2.06.94-2.06 2.06-.94-2.06-.94-.94-2.06-.94 2.06-2.06.94zm-11 1L8.5 8.5l.94-2.06 2.06-.94-2.06-.94L8.5 2.5l-.94 2.06-2.06.94zm10 10l.94 2.06.94-2.06 2.06-.94-2.06-.94-.94-2.06-.94 2.06-2.06.94z\"/><path d=\"M17.41 7.96l-1.37-1.37c-.4-.4-.92-.59-1.43-.59-.52 0-1.04.2-1.43.59L10.3 9.45l-7.72 7.72c-.78.78-.78 2.05 0 2.83L4 21.41c.39.39.9.59 1.41.59.51 0 1.02-.2 1.41-.59l7.78-7.78 2.81-2.81c.8-.78.8-2.07 0-2.86zM5.41 20L4 18.59l7.72-7.72 1.47 1.35L5.41 20z\"/>\n",
              "  </svg>\n",
              "      </button>\n",
              "      \n",
              "  <style>\n",
              "    .colab-df-container {\n",
              "      display:flex;\n",
              "      flex-wrap:wrap;\n",
              "      gap: 12px;\n",
              "    }\n",
              "\n",
              "    .colab-df-convert {\n",
              "      background-color: #E8F0FE;\n",
              "      border: none;\n",
              "      border-radius: 50%;\n",
              "      cursor: pointer;\n",
              "      display: none;\n",
              "      fill: #1967D2;\n",
              "      height: 32px;\n",
              "      padding: 0 0 0 0;\n",
              "      width: 32px;\n",
              "    }\n",
              "\n",
              "    .colab-df-convert:hover {\n",
              "      background-color: #E2EBFA;\n",
              "      box-shadow: 0px 1px 2px rgba(60, 64, 67, 0.3), 0px 1px 3px 1px rgba(60, 64, 67, 0.15);\n",
              "      fill: #174EA6;\n",
              "    }\n",
              "\n",
              "    [theme=dark] .colab-df-convert {\n",
              "      background-color: #3B4455;\n",
              "      fill: #D2E3FC;\n",
              "    }\n",
              "\n",
              "    [theme=dark] .colab-df-convert:hover {\n",
              "      background-color: #434B5C;\n",
              "      box-shadow: 0px 1px 3px 1px rgba(0, 0, 0, 0.15);\n",
              "      filter: drop-shadow(0px 1px 2px rgba(0, 0, 0, 0.3));\n",
              "      fill: #FFFFFF;\n",
              "    }\n",
              "  </style>\n",
              "\n",
              "      <script>\n",
              "        const buttonEl =\n",
              "          document.querySelector('#df-18a39a2d-860b-4efe-9e6a-bb39ba0d94b8 button.colab-df-convert');\n",
              "        buttonEl.style.display =\n",
              "          google.colab.kernel.accessAllowed ? 'block' : 'none';\n",
              "\n",
              "        async function convertToInteractive(key) {\n",
              "          const element = document.querySelector('#df-18a39a2d-860b-4efe-9e6a-bb39ba0d94b8');\n",
              "          const dataTable =\n",
              "            await google.colab.kernel.invokeFunction('convertToInteractive',\n",
              "                                                     [key], {});\n",
              "          if (!dataTable) return;\n",
              "\n",
              "          const docLinkHtml = 'Like what you see? Visit the ' +\n",
              "            '<a target=\"_blank\" href=https://colab.research.google.com/notebooks/data_table.ipynb>data table notebook</a>'\n",
              "            + ' to learn more about interactive tables.';\n",
              "          element.innerHTML = '';\n",
              "          dataTable['output_type'] = 'display_data';\n",
              "          await google.colab.output.renderOutput(dataTable, element);\n",
              "          const docLink = document.createElement('div');\n",
              "          docLink.innerHTML = docLinkHtml;\n",
              "          element.appendChild(docLink);\n",
              "        }\n",
              "      </script>\n",
              "    </div>\n",
              "  </div>\n",
              "  "
            ],
            "text/plain": [
              "     Data Structures and Algorithms  Computer Architecture\\n  \\\n",
              "0                              0.30                     0.85   \n",
              "1                              0.70                     0.80   \n",
              "2                              0.70                     0.00   \n",
              "3                              0.65                     0.70   \n",
              "4                              0.70                     0.60   \n",
              "..                              ...                      ...   \n",
              "157                            0.00                     1.00   \n",
              "158                            1.00                     0.00   \n",
              "159                            0.60                     0.30   \n",
              "160                            0.80                     0.60   \n",
              "161                            0.40                     0.70   \n",
              "\n",
              "     Discrete Mathematics\\n  Economics  Programming-2  Machine Learning\\n  \\\n",
              "0                      0.85       0.90           0.70                0.70   \n",
              "1                      0.20       0.80           0.80                0.50   \n",
              "2                      1.00       1.00           1.00                1.00   \n",
              "3                      0.20       0.75           0.75                0.75   \n",
              "4                      0.20       0.00           0.80                0.50   \n",
              "..                      ...        ...            ...                 ...   \n",
              "157                    0.50       0.70           0.60                0.50   \n",
              "158                    0.00       0.70           0.70                0.00   \n",
              "159                    0.40       0.90           0.80                0.70   \n",
              "160                    0.20       0.40           0.70                0.70   \n",
              "161                    0.90       0.40           0.40                0.70   \n",
              "\n",
              "     Mathematics For Machine Learning\\n  Visual Recognition\\n  \\\n",
              "0                                  0.80              0.620098   \n",
              "1                                  0.10              0.200000   \n",
              "2                                  1.00              0.800000   \n",
              "3                                  0.75              0.750000   \n",
              "4                                  0.60              0.400000   \n",
              "..                                  ...                   ...   \n",
              "157                                0.30              0.700000   \n",
              "158                                0.00              0.000000   \n",
              "159                                0.40              0.500000   \n",
              "160                                0.80              0.620098   \n",
              "161                                0.90              0.620098   \n",
              "\n",
              "     Natural Language Processing\\n  Reinforcement Learning  ...  \\\n",
              "0                         0.572638                0.603495  ...   \n",
              "1                         0.572638                0.603495  ...   \n",
              "2                         0.900000                1.000000  ...   \n",
              "3                         0.572638                0.603495  ...   \n",
              "4                         0.400000                0.200000  ...   \n",
              "..                             ...                     ...  ...   \n",
              "157                       0.572638                0.603495  ...   \n",
              "158                       0.572638                0.603495  ...   \n",
              "159                       0.400000                0.200000  ...   \n",
              "160                       0.572638                0.700000  ...   \n",
              "161                       0.572638                0.800000  ...   \n",
              "\n",
              "     Digital CMOS VLSI Design   System design with FPGA   ASIC design   \\\n",
              "0                     0.251538                  0.246316      0.214805   \n",
              "1                     0.251538                  0.246316      0.214805   \n",
              "2                     0.251538                  0.246316      0.214805   \n",
              "3                     0.251538                  0.246316      0.214805   \n",
              "4                     0.000000                  0.000000      0.000000   \n",
              "..                         ...                       ...           ...   \n",
              "157                   0.251538                  0.246316      0.214805   \n",
              "158                   0.251538                  0.246316      0.214805   \n",
              "159                   0.251538                  0.246316      0.214805   \n",
              "160                   0.251538                  0.246316      0.214805   \n",
              "161                   0.251538                  0.246316      0.214805   \n",
              "\n",
              "     VLSI Architecture Design\\n  \\\n",
              "0                      0.234868   \n",
              "1                      0.234868   \n",
              "2                      0.234868   \n",
              "3                      0.234868   \n",
              "4                      0.000000   \n",
              "..                          ...   \n",
              "157                    0.234868   \n",
              "158                    0.234868   \n",
              "159                    0.234868   \n",
              "160                    0.234868   \n",
              "161                    0.234868   \n",
              "\n",
              "     High level synthesis and optimization of Digital Circuits   \\\n",
              "0                                             0.168056            \n",
              "1                                             0.168056            \n",
              "2                                             0.168056            \n",
              "3                                             0.168056            \n",
              "4                                             0.000000            \n",
              "..                                                 ...            \n",
              "157                                           0.168056            \n",
              "158                                           0.168056            \n",
              "159                                           0.168056            \n",
              "160                                           0.168056            \n",
              "161                                           0.168056            \n",
              "\n",
              "     Digital Sociology   Privacy in the Digital Age  \\\n",
              "0              0.318243                    0.600000   \n",
              "1              0.318243                    0.500000   \n",
              "2              0.318243                    0.400000   \n",
              "3              0.800000                    0.452708   \n",
              "4              0.000000                    0.000000   \n",
              "..                  ...                         ...   \n",
              "157            0.318243                    0.000000   \n",
              "158            0.318243                    0.452708   \n",
              "159            0.318243                    1.000000   \n",
              "160            0.318243                    0.452708   \n",
              "161            0.318243                    0.452708   \n",
              "\n",
              "     Technology Ethics and AI   Techno-economics of networks   \\\n",
              "0                     0.423286                       0.396622   \n",
              "1                     0.423286                       0.396622   \n",
              "2                     0.423286                       0.396622   \n",
              "3                     0.423286                       0.800000   \n",
              "4                     0.000000                       0.000000   \n",
              "..                         ...                            ...   \n",
              "157                   0.423286                       0.396622   \n",
              "158                   0.423286                       0.396622   \n",
              "159                   0.423286                       0.396622   \n",
              "160                   0.423286                       0.396622   \n",
              "161                   0.423286                       0.396622   \n",
              "\n",
              "     The Web and the Mind   \n",
              "0                 0.510897  \n",
              "1                 0.510897  \n",
              "2                 0.510897  \n",
              "3                 0.510897  \n",
              "4                 0.000000  \n",
              "..                     ...  \n",
              "157               0.510897  \n",
              "158               0.200000  \n",
              "159               1.000000  \n",
              "160               0.510897  \n",
              "161               0.510897  \n",
              "\n",
              "[162 rows x 25 columns]"
            ]
          },
          "execution_count": 497,
          "metadata": {},
          "output_type": "execute_result"
        }
      ],
      "source": [
        "df=read_data(filename)\n",
        "df = preprocess(df)\n",
        "df"
      ]
    },
    {
      "cell_type": "markdown",
      "metadata": {
        "id": "nP9gwiVZ0U7Z"
      },
      "source": [
        "change 0.5 to average of ratings of that user"
      ]
    },
    {
      "cell_type": "code",
      "execution_count": 498,
      "metadata": {
        "id": "Gyq7T_oK0U7a"
      },
      "outputs": [],
      "source": [
        "train,test = train_test_split(df,train_size=splitProp, random_state=42,shuffle = True)"
      ]
    },
    {
      "cell_type": "code",
      "execution_count": 499,
      "metadata": {
        "colab": {
          "base_uri": "https://localhost:8080/"
        },
        "id": "Y_9Ez5OU0U7a",
        "outputId": "c4e4b33a-cefa-4e1b-8fbb-a2f0b97d5e17"
      },
      "outputs": [
        {
          "data": {
            "text/plain": [
              "(162, 25)"
            ]
          },
          "execution_count": 499,
          "metadata": {},
          "output_type": "execute_result"
        }
      ],
      "source": [
        "df.shape"
      ]
    },
    {
      "cell_type": "code",
      "execution_count": 500,
      "metadata": {
        "colab": {
          "base_uri": "https://localhost:8080/"
        },
        "id": "9OEV-Asz0U7b",
        "outputId": "9f2e628e-4165-4a71-9502-582d1d1573c1"
      },
      "outputs": [
        {
          "data": {
            "text/plain": [
              "(9, 25)"
            ]
          },
          "execution_count": 500,
          "metadata": {},
          "output_type": "execute_result"
        }
      ],
      "source": [
        "test.shape"
      ]
    },
    {
      "cell_type": "code",
      "execution_count": 501,
      "metadata": {
        "colab": {
          "base_uri": "https://localhost:8080/"
        },
        "id": "3P0IYDnV0U7b",
        "outputId": "c6427ed9-12e5-4cdb-f095-94ac0256e083"
      },
      "outputs": [
        {
          "data": {
            "text/plain": [
              "Data Structures and Algorithms                                0\n",
              "Computer Architecture\\n                                       0\n",
              "Discrete Mathematics\\n                                        0\n",
              "Economics                                                     0\n",
              "Programming-2                                                 0\n",
              "Machine Learning\\n                                            0\n",
              "Mathematics For Machine Learning\\n                            0\n",
              "Visual Recognition\\n                                          0\n",
              "Natural Language Processing\\n                                 0\n",
              "Reinforcement Learning                                        0\n",
              "Software Production Engineering\\n                             0\n",
              "Computer Graphics\\n                                           0\n",
              "Data Visualization\\n                                          0\n",
              "Programming Languages\\n                                       0\n",
              "Cloud Computing\\n                                             0\n",
              "Digital CMOS VLSI Design                                      0\n",
              "System design with FPGA                                       0\n",
              "ASIC design                                                   0\n",
              "VLSI Architecture Design\\n                                    0\n",
              "High level synthesis and optimization of Digital Circuits     0\n",
              "Digital Sociology                                             0\n",
              "Privacy in the Digital Age                                    0\n",
              "Technology Ethics and AI                                      0\n",
              "Techno-economics of networks                                  0\n",
              "The Web and the Mind                                          0\n",
              "dtype: int64"
            ]
          },
          "execution_count": 501,
          "metadata": {},
          "output_type": "execute_result"
        }
      ],
      "source": [
        "df.isna().sum()"
      ]
    },
    {
      "cell_type": "code",
      "execution_count": 502,
      "metadata": {
        "colab": {
          "base_uri": "https://localhost:8080/"
        },
        "id": "gKriFr1K0U7c",
        "outputId": "779beea9-bf89-409f-b272-74c0a5f7f6c4"
      },
      "outputs": [
        {
          "data": {
            "text/plain": [
              "Index(['Data Structures and Algorithms', 'Computer Architecture\\n',\n",
              "       'Discrete Mathematics\\n', 'Economics', 'Programming-2',\n",
              "       'Machine Learning\\n', 'Mathematics For Machine Learning\\n',\n",
              "       'Visual Recognition\\n', 'Natural Language Processing\\n',\n",
              "       'Reinforcement Learning', 'Software Production Engineering\\n',\n",
              "       'Computer Graphics\\n', 'Data Visualization\\n',\n",
              "       'Programming Languages\\n', 'Cloud Computing\\n',\n",
              "       'Digital CMOS VLSI Design ', 'System design with FPGA ', 'ASIC design ',\n",
              "       'VLSI Architecture Design\\n',\n",
              "       'High level synthesis and optimization of Digital Circuits ',\n",
              "       'Digital Sociology ', 'Privacy in the Digital Age',\n",
              "       'Technology Ethics and AI ', 'Techno-economics of networks ',\n",
              "       'The Web and the Mind '],\n",
              "      dtype='object')"
            ]
          },
          "execution_count": 502,
          "metadata": {},
          "output_type": "execute_result"
        }
      ],
      "source": [
        "courses = df.columns\n",
        "courses"
      ]
    },
    {
      "cell_type": "code",
      "execution_count": 503,
      "metadata": {
        "id": "PMNiVQG40U7c"
      },
      "outputs": [],
      "source": [
        "core_courses = ['Data Structures and Algorithms','Computer Architecture\\n','Discrete Mathematics\\n','Economics','Programming-2']"
      ]
    },
    {
      "cell_type": "code",
      "execution_count": 504,
      "metadata": {
        "id": "Os2o5k7I0U7c"
      },
      "outputs": [],
      "source": [
        "def visualize(point):\n",
        "    wcss = []  #Within Cluster Sum of Squares\n",
        "    for number_of_clusters in range(1, 15): \n",
        "        kmeans = KMeans(n_clusters = number_of_clusters, random_state = 42)\n",
        "        kmeans.fit(df[core_courses]) \n",
        "        wcss.append(kmeans.inertia_)\n",
        "    ks = np.arange(1,15,1)\n",
        "    plt.plot(ks, wcss)\n",
        "    plt.axvline(point, linestyle='--', color='r')\n",
        "    return wcss"
      ]
    },
    {
      "cell_type": "code",
      "execution_count": 505,
      "metadata": {
        "colab": {
          "base_uri": "https://localhost:8080/",
          "height": 1000
        },
        "id": "tlVhYQGz0U7d",
        "outputId": "216f6254-43eb-4adc-ea66-fc35687a84e1"
      },
      "outputs": [
        {
          "name": "stderr",
          "output_type": "stream",
          "text": [
            "/usr/local/lib/python3.9/dist-packages/sklearn/cluster/_kmeans.py:870: FutureWarning: The default value of `n_init` will change from 10 to 'auto' in 1.4. Set the value of `n_init` explicitly to suppress the warning\n",
            "  warnings.warn(\n",
            "/usr/local/lib/python3.9/dist-packages/sklearn/cluster/_kmeans.py:870: FutureWarning: The default value of `n_init` will change from 10 to 'auto' in 1.4. Set the value of `n_init` explicitly to suppress the warning\n",
            "  warnings.warn(\n",
            "/usr/local/lib/python3.9/dist-packages/sklearn/cluster/_kmeans.py:870: FutureWarning: The default value of `n_init` will change from 10 to 'auto' in 1.4. Set the value of `n_init` explicitly to suppress the warning\n",
            "  warnings.warn(\n",
            "/usr/local/lib/python3.9/dist-packages/sklearn/cluster/_kmeans.py:870: FutureWarning: The default value of `n_init` will change from 10 to 'auto' in 1.4. Set the value of `n_init` explicitly to suppress the warning\n",
            "  warnings.warn(\n",
            "/usr/local/lib/python3.9/dist-packages/sklearn/cluster/_kmeans.py:870: FutureWarning: The default value of `n_init` will change from 10 to 'auto' in 1.4. Set the value of `n_init` explicitly to suppress the warning\n",
            "  warnings.warn(\n",
            "/usr/local/lib/python3.9/dist-packages/sklearn/cluster/_kmeans.py:870: FutureWarning: The default value of `n_init` will change from 10 to 'auto' in 1.4. Set the value of `n_init` explicitly to suppress the warning\n",
            "  warnings.warn(\n",
            "/usr/local/lib/python3.9/dist-packages/sklearn/cluster/_kmeans.py:870: FutureWarning: The default value of `n_init` will change from 10 to 'auto' in 1.4. Set the value of `n_init` explicitly to suppress the warning\n",
            "  warnings.warn(\n",
            "/usr/local/lib/python3.9/dist-packages/sklearn/cluster/_kmeans.py:870: FutureWarning: The default value of `n_init` will change from 10 to 'auto' in 1.4. Set the value of `n_init` explicitly to suppress the warning\n",
            "  warnings.warn(\n",
            "/usr/local/lib/python3.9/dist-packages/sklearn/cluster/_kmeans.py:870: FutureWarning: The default value of `n_init` will change from 10 to 'auto' in 1.4. Set the value of `n_init` explicitly to suppress the warning\n",
            "  warnings.warn(\n",
            "/usr/local/lib/python3.9/dist-packages/sklearn/cluster/_kmeans.py:870: FutureWarning: The default value of `n_init` will change from 10 to 'auto' in 1.4. Set the value of `n_init` explicitly to suppress the warning\n",
            "  warnings.warn(\n",
            "/usr/local/lib/python3.9/dist-packages/sklearn/cluster/_kmeans.py:870: FutureWarning: The default value of `n_init` will change from 10 to 'auto' in 1.4. Set the value of `n_init` explicitly to suppress the warning\n",
            "  warnings.warn(\n",
            "/usr/local/lib/python3.9/dist-packages/sklearn/cluster/_kmeans.py:870: FutureWarning: The default value of `n_init` will change from 10 to 'auto' in 1.4. Set the value of `n_init` explicitly to suppress the warning\n",
            "  warnings.warn(\n",
            "/usr/local/lib/python3.9/dist-packages/sklearn/cluster/_kmeans.py:870: FutureWarning: The default value of `n_init` will change from 10 to 'auto' in 1.4. Set the value of `n_init` explicitly to suppress the warning\n",
            "  warnings.warn(\n",
            "/usr/local/lib/python3.9/dist-packages/sklearn/cluster/_kmeans.py:870: FutureWarning: The default value of `n_init` will change from 10 to 'auto' in 1.4. Set the value of `n_init` explicitly to suppress the warning\n",
            "  warnings.warn(\n"
          ]
        },
        {
          "data": {
            "text/plain": [
              "[82.11226015529863,\n",
              " 63.24078648485308,\n",
              " 51.758327711871,\n",
              " 44.96053632709337,\n",
              " 39.893986878723226,\n",
              " 36.14482368312088,\n",
              " 33.39870202326003,\n",
              " 30.569535969351197,\n",
              " 28.142142856387906,\n",
              " 25.495720837938936,\n",
              " 24.303521924994456,\n",
              " 22.250775245363172,\n",
              " 21.265056428481255,\n",
              " 19.7185773653146]"
            ]
          },
          "execution_count": 505,
          "metadata": {},
          "output_type": "execute_result"
        },
        {
          "data": {
            "image/png": "[encoded data removed]",
            "text/plain": [
              "<Figure size 432x288 with 1 Axes>"
            ]
          },
          "metadata": {
            "needs_background": "light"
          },
          "output_type": "display_data"
        }
      ],
      "source": [
        "visualize(5)"
      ]
    },
    {
      "cell_type": "code",
      "execution_count": 506,
      "metadata": {
        "id": "0Vv7a0IV0U7d"
      },
      "outputs": [],
      "source": [
        "def K_means(df, num_clusters, iters):\n",
        "    np_dat = df.to_numpy()\n",
        "    # Initialize the centroids\n",
        "    range_min = np.min(np_dat, axis = 0)\n",
        "    range_max = np.max(np_dat, axis = 0)\n",
        "    curr_centroids = []\n",
        "    np.random.seed(75)\n",
        "    for i in range(num_clusters):\n",
        "        curr_centroids.append(np.random.uniform(range_min, range_max))\n",
        "    clusters = {}\n",
        "    for it in range(iters):\n",
        "        # Repopulate clusters\n",
        "        clusters.clear()\n",
        "        for j in range(np_dat.shape[0]):\n",
        "            datapoint = np_dat[j]\n",
        "            min = sys.maxsize\n",
        "            min_index = 10\n",
        "            for k in range(num_clusters):\n",
        "                dist = np.linalg.norm(curr_centroids[k] - datapoint)\n",
        "                if(dist < min):\n",
        "                    min = dist\n",
        "                    min_index = k\n",
        "            if(clusters.get(str(min_index)) == None):\n",
        "                clusters[str(min_index)] = []\n",
        "            clusters[str(min_index)].append(j)\n",
        "        \n",
        "        # Recalculate Centroids\n",
        "        new_centroids = []\n",
        "        for k in range(num_clusters):\n",
        "            key = str(k)\n",
        "            if(clusters.get(key) == None): \n",
        "                n_centr = curr_centroids[k]\n",
        "                #n_centr = np.random.uniform(range_min, range_max)\n",
        "            else: n_centr = np.mean(np_dat[np.array(clusters[key])], axis = 0)\n",
        "            new_centroids.append(n_centr)\n",
        "        \n",
        "        #if((np.not_equal(new_centroids, curr_centroids).any()) != True ): break\n",
        "        curr_centroids = new_centroids\n",
        "        #print(it)\n",
        "    return clusters\n"
      ]
    },
    {
      "cell_type": "code",
      "execution_count": 507,
      "metadata": {
        "id": "tx73Wooq0U7e"
      },
      "outputs": [],
      "source": [
        "def get_clustered_df(df,num_clusters):\n",
        "    \"\"\" kmeans = KMeans(n_clusters = num_clusters, random_state = 42)\n",
        "    clustered_matrix = kmeans.fit_predict(df[core_courses]) \n",
        "    print(clustered_matrix.shape) \"\"\"\n",
        "    cluster_dict = K_means(df[core_courses], num_clusters, 50)\n",
        "    print(cluster_dict)\n",
        "    clustered_df =[]\n",
        "    arr = df.to_numpy()\n",
        "    for k in range(num_clusters):\n",
        "        key = str(k)\n",
        "        centr = np.nanmean(arr[np.array(cluster_dict[key])], axis = 0)\n",
        "        clustered_df.append(centr)\n",
        "    \n",
        "    return clustered_df"
      ]
    },
    {
      "cell_type": "code",
      "execution_count": 508,
      "metadata": {
        "id": "hbYSKBdD0U7e"
      },
      "outputs": [],
      "source": [
        "def old_get_clustered_df(df,num_clusters):\n",
        "    kmeans = KMeans(n_clusters = num_clusters, random_state = 42)\n",
        "    clustered_matrix = kmeans.fit_predict(df[core_courses]) \n",
        "    # print(clustered_matrix.shape)\n",
        "    arr = df.to_numpy()\n",
        "    clustered_df = []\n",
        "    for i in range(num_clusters):\n",
        "        users = 0\n",
        "        s=np.zeros(25)\n",
        "        for j in range(len(clustered_matrix)):#162\n",
        "            \n",
        "            if clustered_matrix[j]==i:\n",
        "                s+=arr[j]\n",
        "                users = users + 1\n",
        "        mean = s/users\n",
        "        clustered_df.append(mean)\n",
        "    return clustered_df"
      ]
    },
    {
      "cell_type": "code",
      "execution_count": 509,
      "metadata": {
        "colab": {
          "base_uri": "https://localhost:8080/"
        },
        "id": "BceYisXI0U7e",
        "outputId": "f8a58522-c3e2-4f66-f6cd-4af229a0ef90"
      },
      "outputs": [
        {
          "name": "stderr",
          "output_type": "stream",
          "text": [
            "/usr/local/lib/python3.9/dist-packages/sklearn/cluster/_kmeans.py:870: FutureWarning: The default value of `n_init` will change from 10 to 'auto' in 1.4. Set the value of `n_init` explicitly to suppress the warning\n",
            "  warnings.warn(\n"
          ]
        }
      ],
      "source": [
        "clustered_df = old_get_clustered_df(df,10)"
      ]
    },
    {
      "cell_type": "code",
      "execution_count": 516,
      "metadata": {
        "id": "kWH18Egm0U7f"
      },
      "outputs": [],
      "source": [
        "# df = pd.DataFrame(clustered_df, columns = courses)\n",
        "# df"
      ]
    },
    {
      "cell_type": "code",
      "execution_count": 517,
      "metadata": {
        "id": "K9WzQdTH0U7f"
      },
      "outputs": [],
      "source": [
        "def svd(A):\n",
        "    \n",
        "    # Step 1: Compute the transpose of A\n",
        "    AT = A.T\n",
        "    # Step 2: Compute the product A x AT\n",
        "    ATA = A.dot(AT)\n",
        "    # Step 3: Compute the eigenvalues and eigenvectors of ATA\n",
        "    eigenvalues, eigenvectors = np.linalg.eig(ATA)\n",
        "    # Step 4: Sort the eigenvalues in descending order\n",
        "    sorted_idx = eigenvalues.argsort()[::-1]\n",
        "    eigenvalues = eigenvalues[sorted_idx]\n",
        "    eigenvectors = eigenvectors[:, sorted_idx]\n",
        "    # Step 5: Compute the diagonal matrix Sigma\n",
        "    Sigma = np.sqrt(eigenvalues)\n",
        "    # Step 6: Compute the pseudo-inverse of Sigma\n",
        "    # inv_Sigma = np.zeros((A.shape[1], A.shape[0]))\n",
        "    # print(np.diag(1.0 / Sigma).shape, inv_Sigma[:A.shape[0], :A.shape[0]].shape)\n",
        "    # inv_Sigma[:A.shape[1], :A.shape[1]] = np.diag(1.0 / Sigma)\n",
        "    # Step 7: Compute the product AT x V x inv(Sigma)\n",
        "    V = AT.dot(eigenvectors)\n",
        "    # Step 8: Normalize the columns of V\n",
        "    V = V / np.linalg.norm(V, axis=0)\n",
        "    # Step 9: Compute the product A x U x Sigma^-1\n",
        "    U = A.dot(V) / Sigma\n",
        "    return U, Sigma, V.T"
      ]
    },
    {
      "cell_type": "markdown",
      "metadata": {
        "id": "OCxMuPM011zz"
      },
      "source": [
        "Changing this "
      ]
    },
    {
      "cell_type": "code",
      "execution_count": 518,
      "metadata": {
        "colab": {
          "base_uri": "https://localhost:8080/"
        },
        "id": "5W45gkeD2B8o",
        "outputId": "d5452074-589f-4984-b1b7-32afe8ad650c"
      },
      "outputs": [
        {
          "data": {
            "text/plain": [
              "((162, 25), pandas.core.frame.DataFrame, 25)"
            ]
          },
          "execution_count": 518,
          "metadata": {},
          "output_type": "execute_result"
        }
      ],
      "source": [
        "df.shape,type(df),len(clustered_df[0])"
      ]
    },
    {
      "cell_type": "code",
      "execution_count": 519,
      "metadata": {
        "id": "Y_x-BdIV4OvB"
      },
      "outputs": [],
      "source": [
        "# svd = TruncatedSVD(n_components=25, n_iter=7, random_state=42)\n",
        "# reduced_matrix = svd.fit_transform(np.array(df))"
      ]
    },
    {
      "cell_type": "code",
      "execution_count": 520,
      "metadata": {
        "id": "Fps2Bocg8nKb"
      },
      "outputs": [],
      "source": [
        "# reduced_matrix.shape"
      ]
    },
    {
      "cell_type": "markdown",
      "metadata": {
        "id": "jKtVhPeB3H_s"
      },
      "source": [
        "this works only if number of rows less than number of columns\n"
      ]
    },
    {
      "cell_type": "code",
      "execution_count": 521,
      "metadata": {
        "id": "l-uSNJuP0U7g"
      },
      "outputs": [],
      "source": [
        "U,sigma,VT = svd(np.array(df))"
      ]
    },
    {
      "cell_type": "code",
      "execution_count": 522,
      "metadata": {
        "colab": {
          "base_uri": "https://localhost:8080/"
        },
        "id": "ytBMGN_w0U7g",
        "outputId": "9f8f5f5d-6d68-4446-acb1-7ae220d63a54"
      },
      "outputs": [
        {
          "data": {
            "text/plain": [
              "((162, 162), (162,), (162, 25))"
            ]
          },
          "execution_count": 522,
          "metadata": {},
          "output_type": "execute_result"
        }
      ],
      "source": [
        " U.shape,sigma.shape,VT.shape"
      ]
    },
    {
      "cell_type": "code",
      "execution_count": 523,
      "metadata": {
        "id": "ZEn3u8sf0U7g"
      },
      "outputs": [],
      "source": [
        "k=6"
      ]
    },
    {
      "cell_type": "code",
      "execution_count": 524,
      "metadata": {
        "id": "vc_WMOY70U7g"
      },
      "outputs": [],
      "source": [
        "def reduced_svd(k,A):\n",
        "    U,sigma,VT = svd(A)\n",
        "    \n",
        "    reduced_matrix = np.dot(np.dot(U[:,:k],np.diag(sigma[:k])),VT[:k,:])\n",
        "    return reduced_matrix\n"
      ]
    },
    {
      "cell_type": "code",
      "execution_count": 525,
      "metadata": {
        "colab": {
          "base_uri": "https://localhost:8080/"
        },
        "id": "p_pd2cB-0U7g",
        "outputId": "823f6c20-b113-4d9a-ae3b-0ad11d67ba92"
      },
      "outputs": [
        {
          "name": "stderr",
          "output_type": "stream",
          "text": [
            "<ipython-input-525-61a84c9ec9ef>:3: ComplexWarning: Casting complex values to real discards the imaginary part\n",
            "  reduced_matrix = reduced_matrix.astype('float64')\n"
          ]
        }
      ],
      "source": [
        "reduced_matrix = reduced_svd(k,np.array(df))\n",
        "type(clustered_df),reduced_matrix.dtype\n",
        "reduced_matrix = reduced_matrix.astype('float64')"
      ]
    },
    {
      "cell_type": "code",
      "execution_count": 526,
      "metadata": {
        "colab": {
          "base_uri": "https://localhost:8080/"
        },
        "id": "LMU9JBFpAKxB",
        "outputId": "466137ad-2b64-40e1-826b-2db6ec0cbbaf"
      },
      "outputs": [
        {
          "data": {
            "text/plain": [
              "array([[0.66227248, 0.75470587, 0.60676975, ..., 0.44775342, 0.5203284 ,\n",
              "        0.44868342],\n",
              "       [0.61777432, 0.52616777, 0.32100208, ..., 0.55980216, 0.50002386,\n",
              "        0.66461383],\n",
              "       [0.69108075, 0.86815755, 0.64642942, ..., 0.3865782 , 0.34682603,\n",
              "        0.41293149],\n",
              "       ...,\n",
              "       [0.61747065, 0.47418661, 0.29019937, ..., 0.61611984, 0.60966198,\n",
              "        0.7603632 ],\n",
              "       [0.63927431, 0.56384257, 0.42388057, ..., 0.38360772, 0.31003629,\n",
              "        0.54146709],\n",
              "       [0.66148629, 0.69356602, 0.57717734, ..., 0.34693138, 0.34755055,\n",
              "        0.41259046]])"
            ]
          },
          "execution_count": 526,
          "metadata": {},
          "output_type": "execute_result"
        }
      ],
      "source": [
        "reduced_matrix"
      ]
    },
    {
      "cell_type": "code",
      "execution_count": 527,
      "metadata": {
        "colab": {
          "base_uri": "https://localhost:8080/",
          "height": 574
        },
        "id": "dBRuJ2oZ-alw",
        "outputId": "db56865f-11a4-48bf-f32a-f4b13934ba9f"
      },
      "outputs": [
        {
          "data": {
            "text/html": [
              "\n",
              "  <div id=\"df-44f5bb3b-a3c7-435c-8b48-da3c646b3ac7\">\n",
              "    <div class=\"colab-df-container\">\n",
              "      <div>\n",
              "<style scoped>\n",
              "    .dataframe tbody tr th:only-of-type {\n",
              "        vertical-align: middle;\n",
              "    }\n",
              "\n",
              "    .dataframe tbody tr th {\n",
              "        vertical-align: top;\n",
              "    }\n",
              "\n",
              "    .dataframe thead th {\n",
              "        text-align: right;\n",
              "    }\n",
              "</style>\n",
              "<table border=\"1\" class=\"dataframe\">\n",
              "  <thead>\n",
              "    <tr style=\"text-align: right;\">\n",
              "      <th></th>\n",
              "      <th>Data Structures and Algorithms</th>\n",
              "      <th>Computer Architecture\\n</th>\n",
              "      <th>Discrete Mathematics\\n</th>\n",
              "      <th>Economics</th>\n",
              "      <th>Programming-2</th>\n",
              "      <th>Machine Learning\\n</th>\n",
              "      <th>Mathematics For Machine Learning\\n</th>\n",
              "      <th>Visual Recognition\\n</th>\n",
              "      <th>Natural Language Processing\\n</th>\n",
              "      <th>Reinforcement Learning</th>\n",
              "      <th>...</th>\n",
              "      <th>Digital CMOS VLSI Design</th>\n",
              "      <th>System design with FPGA</th>\n",
              "      <th>ASIC design</th>\n",
              "      <th>VLSI Architecture Design\\n</th>\n",
              "      <th>High level synthesis and optimization of Digital Circuits</th>\n",
              "      <th>Digital Sociology</th>\n",
              "      <th>Privacy in the Digital Age</th>\n",
              "      <th>Technology Ethics and AI</th>\n",
              "      <th>Techno-economics of networks</th>\n",
              "      <th>The Web and the Mind</th>\n",
              "    </tr>\n",
              "  </thead>\n",
              "  <tbody>\n",
              "    <tr>\n",
              "      <th>0</th>\n",
              "      <td>0.662272</td>\n",
              "      <td>0.754706</td>\n",
              "      <td>0.606770</td>\n",
              "      <td>0.866471</td>\n",
              "      <td>0.678361</td>\n",
              "      <td>0.754309</td>\n",
              "      <td>0.754546</td>\n",
              "      <td>0.734753</td>\n",
              "      <td>0.587097</td>\n",
              "      <td>0.568253</td>\n",
              "      <td>...</td>\n",
              "      <td>0.227814</td>\n",
              "      <td>0.232103</td>\n",
              "      <td>0.232879</td>\n",
              "      <td>0.226829</td>\n",
              "      <td>0.190065</td>\n",
              "      <td>0.350018</td>\n",
              "      <td>0.484111</td>\n",
              "      <td>0.447753</td>\n",
              "      <td>0.520328</td>\n",
              "      <td>0.448683</td>\n",
              "    </tr>\n",
              "    <tr>\n",
              "      <th>1</th>\n",
              "      <td>0.617774</td>\n",
              "      <td>0.526168</td>\n",
              "      <td>0.321002</td>\n",
              "      <td>0.653107</td>\n",
              "      <td>0.734563</td>\n",
              "      <td>0.552262</td>\n",
              "      <td>0.354370</td>\n",
              "      <td>0.427375</td>\n",
              "      <td>0.430015</td>\n",
              "      <td>0.542794</td>\n",
              "      <td>...</td>\n",
              "      <td>0.279162</td>\n",
              "      <td>0.302173</td>\n",
              "      <td>0.245822</td>\n",
              "      <td>0.252464</td>\n",
              "      <td>0.175856</td>\n",
              "      <td>0.449521</td>\n",
              "      <td>0.635296</td>\n",
              "      <td>0.559802</td>\n",
              "      <td>0.500024</td>\n",
              "      <td>0.664614</td>\n",
              "    </tr>\n",
              "    <tr>\n",
              "      <th>2</th>\n",
              "      <td>0.691081</td>\n",
              "      <td>0.868158</td>\n",
              "      <td>0.646429</td>\n",
              "      <td>0.727203</td>\n",
              "      <td>0.570388</td>\n",
              "      <td>0.891337</td>\n",
              "      <td>0.924196</td>\n",
              "      <td>0.636582</td>\n",
              "      <td>0.956995</td>\n",
              "      <td>0.903178</td>\n",
              "      <td>...</td>\n",
              "      <td>0.215464</td>\n",
              "      <td>0.232673</td>\n",
              "      <td>0.201160</td>\n",
              "      <td>0.200910</td>\n",
              "      <td>0.178087</td>\n",
              "      <td>0.226770</td>\n",
              "      <td>0.468628</td>\n",
              "      <td>0.386578</td>\n",
              "      <td>0.346826</td>\n",
              "      <td>0.412931</td>\n",
              "    </tr>\n",
              "    <tr>\n",
              "      <th>3</th>\n",
              "      <td>0.596762</td>\n",
              "      <td>0.671559</td>\n",
              "      <td>0.457270</td>\n",
              "      <td>0.843168</td>\n",
              "      <td>0.668431</td>\n",
              "      <td>0.670877</td>\n",
              "      <td>0.593959</td>\n",
              "      <td>0.647824</td>\n",
              "      <td>0.564336</td>\n",
              "      <td>0.604032</td>\n",
              "      <td>...</td>\n",
              "      <td>0.246594</td>\n",
              "      <td>0.262362</td>\n",
              "      <td>0.238756</td>\n",
              "      <td>0.237196</td>\n",
              "      <td>0.190539</td>\n",
              "      <td>0.396742</td>\n",
              "      <td>0.585541</td>\n",
              "      <td>0.513182</td>\n",
              "      <td>0.541086</td>\n",
              "      <td>0.558300</td>\n",
              "    </tr>\n",
              "    <tr>\n",
              "      <th>4</th>\n",
              "      <td>0.677355</td>\n",
              "      <td>0.332099</td>\n",
              "      <td>0.542480</td>\n",
              "      <td>-0.016418</td>\n",
              "      <td>0.648040</td>\n",
              "      <td>0.612358</td>\n",
              "      <td>0.601291</td>\n",
              "      <td>0.360760</td>\n",
              "      <td>0.280436</td>\n",
              "      <td>0.269924</td>\n",
              "      <td>...</td>\n",
              "      <td>0.035422</td>\n",
              "      <td>-0.000124</td>\n",
              "      <td>-0.000809</td>\n",
              "      <td>0.022792</td>\n",
              "      <td>0.001658</td>\n",
              "      <td>0.019835</td>\n",
              "      <td>-0.001858</td>\n",
              "      <td>0.056887</td>\n",
              "      <td>0.018808</td>\n",
              "      <td>0.171096</td>\n",
              "    </tr>\n",
              "    <tr>\n",
              "      <th>...</th>\n",
              "      <td>...</td>\n",
              "      <td>...</td>\n",
              "      <td>...</td>\n",
              "      <td>...</td>\n",
              "      <td>...</td>\n",
              "      <td>...</td>\n",
              "      <td>...</td>\n",
              "      <td>...</td>\n",
              "      <td>...</td>\n",
              "      <td>...</td>\n",
              "      <td>...</td>\n",
              "      <td>...</td>\n",
              "      <td>...</td>\n",
              "      <td>...</td>\n",
              "      <td>...</td>\n",
              "      <td>...</td>\n",
              "      <td>...</td>\n",
              "      <td>...</td>\n",
              "      <td>...</td>\n",
              "      <td>...</td>\n",
              "      <td>...</td>\n",
              "    </tr>\n",
              "    <tr>\n",
              "      <th>157</th>\n",
              "      <td>0.482210</td>\n",
              "      <td>0.576015</td>\n",
              "      <td>0.427725</td>\n",
              "      <td>0.681376</td>\n",
              "      <td>0.531799</td>\n",
              "      <td>0.579379</td>\n",
              "      <td>0.565856</td>\n",
              "      <td>0.608610</td>\n",
              "      <td>0.470805</td>\n",
              "      <td>0.478990</td>\n",
              "      <td>...</td>\n",
              "      <td>0.211794</td>\n",
              "      <td>0.213628</td>\n",
              "      <td>0.204173</td>\n",
              "      <td>0.210345</td>\n",
              "      <td>0.173163</td>\n",
              "      <td>0.275708</td>\n",
              "      <td>0.415018</td>\n",
              "      <td>0.365252</td>\n",
              "      <td>0.416195</td>\n",
              "      <td>0.385036</td>\n",
              "    </tr>\n",
              "    <tr>\n",
              "      <th>158</th>\n",
              "      <td>0.416944</td>\n",
              "      <td>0.363592</td>\n",
              "      <td>0.122763</td>\n",
              "      <td>0.563155</td>\n",
              "      <td>0.569520</td>\n",
              "      <td>0.362445</td>\n",
              "      <td>0.143611</td>\n",
              "      <td>0.300745</td>\n",
              "      <td>0.319976</td>\n",
              "      <td>0.459702</td>\n",
              "      <td>...</td>\n",
              "      <td>0.250662</td>\n",
              "      <td>0.279894</td>\n",
              "      <td>0.216977</td>\n",
              "      <td>0.224754</td>\n",
              "      <td>0.154589</td>\n",
              "      <td>0.418063</td>\n",
              "      <td>0.617937</td>\n",
              "      <td>0.522114</td>\n",
              "      <td>0.453633</td>\n",
              "      <td>0.632510</td>\n",
              "    </tr>\n",
              "    <tr>\n",
              "      <th>159</th>\n",
              "      <td>0.617471</td>\n",
              "      <td>0.474187</td>\n",
              "      <td>0.290199</td>\n",
              "      <td>0.768954</td>\n",
              "      <td>0.829494</td>\n",
              "      <td>0.566769</td>\n",
              "      <td>0.338088</td>\n",
              "      <td>0.553635</td>\n",
              "      <td>0.346162</td>\n",
              "      <td>0.494880</td>\n",
              "      <td>...</td>\n",
              "      <td>0.216640</td>\n",
              "      <td>0.236637</td>\n",
              "      <td>0.195722</td>\n",
              "      <td>0.196617</td>\n",
              "      <td>0.138174</td>\n",
              "      <td>0.503717</td>\n",
              "      <td>0.693641</td>\n",
              "      <td>0.616120</td>\n",
              "      <td>0.609662</td>\n",
              "      <td>0.760363</td>\n",
              "    </tr>\n",
              "    <tr>\n",
              "      <th>160</th>\n",
              "      <td>0.639274</td>\n",
              "      <td>0.563843</td>\n",
              "      <td>0.423881</td>\n",
              "      <td>0.449183</td>\n",
              "      <td>0.731857</td>\n",
              "      <td>0.727414</td>\n",
              "      <td>0.622108</td>\n",
              "      <td>0.603915</td>\n",
              "      <td>0.626973</td>\n",
              "      <td>0.711526</td>\n",
              "      <td>...</td>\n",
              "      <td>0.268107</td>\n",
              "      <td>0.261939</td>\n",
              "      <td>0.201834</td>\n",
              "      <td>0.245709</td>\n",
              "      <td>0.180926</td>\n",
              "      <td>0.236545</td>\n",
              "      <td>0.472833</td>\n",
              "      <td>0.383608</td>\n",
              "      <td>0.310036</td>\n",
              "      <td>0.541467</td>\n",
              "    </tr>\n",
              "    <tr>\n",
              "      <th>161</th>\n",
              "      <td>0.661486</td>\n",
              "      <td>0.693566</td>\n",
              "      <td>0.577177</td>\n",
              "      <td>0.604377</td>\n",
              "      <td>0.667789</td>\n",
              "      <td>0.786964</td>\n",
              "      <td>0.783624</td>\n",
              "      <td>0.686686</td>\n",
              "      <td>0.669197</td>\n",
              "      <td>0.667924</td>\n",
              "      <td>...</td>\n",
              "      <td>0.232442</td>\n",
              "      <td>0.225481</td>\n",
              "      <td>0.201738</td>\n",
              "      <td>0.223172</td>\n",
              "      <td>0.180473</td>\n",
              "      <td>0.224196</td>\n",
              "      <td>0.400515</td>\n",
              "      <td>0.346931</td>\n",
              "      <td>0.347551</td>\n",
              "      <td>0.412590</td>\n",
              "    </tr>\n",
              "  </tbody>\n",
              "</table>\n",
              "<p>162 rows × 25 columns</p>\n",
              "</div>\n",
              "      <button class=\"colab-df-convert\" onclick=\"convertToInteractive('df-44f5bb3b-a3c7-435c-8b48-da3c646b3ac7')\"\n",
              "              title=\"Convert this dataframe to an interactive table.\"\n",
              "              style=\"display:none;\">\n",
              "        \n",
              "  <svg xmlns=\"http://www.w3.org/2000/svg\" height=\"24px\"viewBox=\"0 0 24 24\"\n",
              "       width=\"24px\">\n",
              "    <path d=\"M0 0h24v24H0V0z\" fill=\"none\"/>\n",
              "    <path d=\"M18.56 5.44l.94 2.06.94-2.06 2.06-.94-2.06-.94-.94-2.06-.94 2.06-2.06.94zm-11 1L8.5 8.5l.94-2.06 2.06-.94-2.06-.94L8.5 2.5l-.94 2.06-2.06.94zm10 10l.94 2.06.94-2.06 2.06-.94-2.06-.94-.94-2.06-.94 2.06-2.06.94z\"/><path d=\"M17.41 7.96l-1.37-1.37c-.4-.4-.92-.59-1.43-.59-.52 0-1.04.2-1.43.59L10.3 9.45l-7.72 7.72c-.78.78-.78 2.05 0 2.83L4 21.41c.39.39.9.59 1.41.59.51 0 1.02-.2 1.41-.59l7.78-7.78 2.81-2.81c.8-.78.8-2.07 0-2.86zM5.41 20L4 18.59l7.72-7.72 1.47 1.35L5.41 20z\"/>\n",
              "  </svg>\n",
              "      </button>\n",
              "      \n",
              "  <style>\n",
              "    .colab-df-container {\n",
              "      display:flex;\n",
              "      flex-wrap:wrap;\n",
              "      gap: 12px;\n",
              "    }\n",
              "\n",
              "    .colab-df-convert {\n",
              "      background-color: #E8F0FE;\n",
              "      border: none;\n",
              "      border-radius: 50%;\n",
              "      cursor: pointer;\n",
              "      display: none;\n",
              "      fill: #1967D2;\n",
              "      height: 32px;\n",
              "      padding: 0 0 0 0;\n",
              "      width: 32px;\n",
              "    }\n",
              "\n",
              "    .colab-df-convert:hover {\n",
              "      background-color: #E2EBFA;\n",
              "      box-shadow: 0px 1px 2px rgba(60, 64, 67, 0.3), 0px 1px 3px 1px rgba(60, 64, 67, 0.15);\n",
              "      fill: #174EA6;\n",
              "    }\n",
              "\n",
              "    [theme=dark] .colab-df-convert {\n",
              "      background-color: #3B4455;\n",
              "      fill: #D2E3FC;\n",
              "    }\n",
              "\n",
              "    [theme=dark] .colab-df-convert:hover {\n",
              "      background-color: #434B5C;\n",
              "      box-shadow: 0px 1px 3px 1px rgba(0, 0, 0, 0.15);\n",
              "      filter: drop-shadow(0px 1px 2px rgba(0, 0, 0, 0.3));\n",
              "      fill: #FFFFFF;\n",
              "    }\n",
              "  </style>\n",
              "\n",
              "      <script>\n",
              "        const buttonEl =\n",
              "          document.querySelector('#df-44f5bb3b-a3c7-435c-8b48-da3c646b3ac7 button.colab-df-convert');\n",
              "        buttonEl.style.display =\n",
              "          google.colab.kernel.accessAllowed ? 'block' : 'none';\n",
              "\n",
              "        async function convertToInteractive(key) {\n",
              "          const element = document.querySelector('#df-44f5bb3b-a3c7-435c-8b48-da3c646b3ac7');\n",
              "          const dataTable =\n",
              "            await google.colab.kernel.invokeFunction('convertToInteractive',\n",
              "                                                     [key], {});\n",
              "          if (!dataTable) return;\n",
              "\n",
              "          const docLinkHtml = 'Like what you see? Visit the ' +\n",
              "            '<a target=\"_blank\" href=https://colab.research.google.com/notebooks/data_table.ipynb>data table notebook</a>'\n",
              "            + ' to learn more about interactive tables.';\n",
              "          element.innerHTML = '';\n",
              "          dataTable['output_type'] = 'display_data';\n",
              "          await google.colab.output.renderOutput(dataTable, element);\n",
              "          const docLink = document.createElement('div');\n",
              "          docLink.innerHTML = docLinkHtml;\n",
              "          element.appendChild(docLink);\n",
              "        }\n",
              "      </script>\n",
              "    </div>\n",
              "  </div>\n",
              "  "
            ],
            "text/plain": [
              "     Data Structures and Algorithms  Computer Architecture\\n  \\\n",
              "0                          0.662272                 0.754706   \n",
              "1                          0.617774                 0.526168   \n",
              "2                          0.691081                 0.868158   \n",
              "3                          0.596762                 0.671559   \n",
              "4                          0.677355                 0.332099   \n",
              "..                              ...                      ...   \n",
              "157                        0.482210                 0.576015   \n",
              "158                        0.416944                 0.363592   \n",
              "159                        0.617471                 0.474187   \n",
              "160                        0.639274                 0.563843   \n",
              "161                        0.661486                 0.693566   \n",
              "\n",
              "     Discrete Mathematics\\n  Economics  Programming-2  Machine Learning\\n  \\\n",
              "0                  0.606770   0.866471       0.678361            0.754309   \n",
              "1                  0.321002   0.653107       0.734563            0.552262   \n",
              "2                  0.646429   0.727203       0.570388            0.891337   \n",
              "3                  0.457270   0.843168       0.668431            0.670877   \n",
              "4                  0.542480  -0.016418       0.648040            0.612358   \n",
              "..                      ...        ...            ...                 ...   \n",
              "157                0.427725   0.681376       0.531799            0.579379   \n",
              "158                0.122763   0.563155       0.569520            0.362445   \n",
              "159                0.290199   0.768954       0.829494            0.566769   \n",
              "160                0.423881   0.449183       0.731857            0.727414   \n",
              "161                0.577177   0.604377       0.667789            0.786964   \n",
              "\n",
              "     Mathematics For Machine Learning\\n  Visual Recognition\\n  \\\n",
              "0                              0.754546              0.734753   \n",
              "1                              0.354370              0.427375   \n",
              "2                              0.924196              0.636582   \n",
              "3                              0.593959              0.647824   \n",
              "4                              0.601291              0.360760   \n",
              "..                                  ...                   ...   \n",
              "157                            0.565856              0.608610   \n",
              "158                            0.143611              0.300745   \n",
              "159                            0.338088              0.553635   \n",
              "160                            0.622108              0.603915   \n",
              "161                            0.783624              0.686686   \n",
              "\n",
              "     Natural Language Processing\\n  Reinforcement Learning  ...  \\\n",
              "0                         0.587097                0.568253  ...   \n",
              "1                         0.430015                0.542794  ...   \n",
              "2                         0.956995                0.903178  ...   \n",
              "3                         0.564336                0.604032  ...   \n",
              "4                         0.280436                0.269924  ...   \n",
              "..                             ...                     ...  ...   \n",
              "157                       0.470805                0.478990  ...   \n",
              "158                       0.319976                0.459702  ...   \n",
              "159                       0.346162                0.494880  ...   \n",
              "160                       0.626973                0.711526  ...   \n",
              "161                       0.669197                0.667924  ...   \n",
              "\n",
              "     Digital CMOS VLSI Design   System design with FPGA   ASIC design   \\\n",
              "0                     0.227814                  0.232103      0.232879   \n",
              "1                     0.279162                  0.302173      0.245822   \n",
              "2                     0.215464                  0.232673      0.201160   \n",
              "3                     0.246594                  0.262362      0.238756   \n",
              "4                     0.035422                 -0.000124     -0.000809   \n",
              "..                         ...                       ...           ...   \n",
              "157                   0.211794                  0.213628      0.204173   \n",
              "158                   0.250662                  0.279894      0.216977   \n",
              "159                   0.216640                  0.236637      0.195722   \n",
              "160                   0.268107                  0.261939      0.201834   \n",
              "161                   0.232442                  0.225481      0.201738   \n",
              "\n",
              "     VLSI Architecture Design\\n  \\\n",
              "0                      0.226829   \n",
              "1                      0.252464   \n",
              "2                      0.200910   \n",
              "3                      0.237196   \n",
              "4                      0.022792   \n",
              "..                          ...   \n",
              "157                    0.210345   \n",
              "158                    0.224754   \n",
              "159                    0.196617   \n",
              "160                    0.245709   \n",
              "161                    0.223172   \n",
              "\n",
              "     High level synthesis and optimization of Digital Circuits   \\\n",
              "0                                             0.190065            \n",
              "1                                             0.175856            \n",
              "2                                             0.178087            \n",
              "3                                             0.190539            \n",
              "4                                             0.001658            \n",
              "..                                                 ...            \n",
              "157                                           0.173163            \n",
              "158                                           0.154589            \n",
              "159                                           0.138174            \n",
              "160                                           0.180926            \n",
              "161                                           0.180473            \n",
              "\n",
              "     Digital Sociology   Privacy in the Digital Age  \\\n",
              "0              0.350018                    0.484111   \n",
              "1              0.449521                    0.635296   \n",
              "2              0.226770                    0.468628   \n",
              "3              0.396742                    0.585541   \n",
              "4              0.019835                   -0.001858   \n",
              "..                  ...                         ...   \n",
              "157            0.275708                    0.415018   \n",
              "158            0.418063                    0.617937   \n",
              "159            0.503717                    0.693641   \n",
              "160            0.236545                    0.472833   \n",
              "161            0.224196                    0.400515   \n",
              "\n",
              "     Technology Ethics and AI   Techno-economics of networks   \\\n",
              "0                     0.447753                       0.520328   \n",
              "1                     0.559802                       0.500024   \n",
              "2                     0.386578                       0.346826   \n",
              "3                     0.513182                       0.541086   \n",
              "4                     0.056887                       0.018808   \n",
              "..                         ...                            ...   \n",
              "157                   0.365252                       0.416195   \n",
              "158                   0.522114                       0.453633   \n",
              "159                   0.616120                       0.609662   \n",
              "160                   0.383608                       0.310036   \n",
              "161                   0.346931                       0.347551   \n",
              "\n",
              "     The Web and the Mind   \n",
              "0                 0.448683  \n",
              "1                 0.664614  \n",
              "2                 0.412931  \n",
              "3                 0.558300  \n",
              "4                 0.171096  \n",
              "..                     ...  \n",
              "157               0.385036  \n",
              "158               0.632510  \n",
              "159               0.760363  \n",
              "160               0.541467  \n",
              "161               0.412590  \n",
              "\n",
              "[162 rows x 25 columns]"
            ]
          },
          "execution_count": 527,
          "metadata": {},
          "output_type": "execute_result"
        }
      ],
      "source": [
        "reduced_df = pd.DataFrame(reduced_matrix, columns = courses)\n",
        "reduced_df"
      ]
    },
    {
      "cell_type": "code",
      "execution_count": 528,
      "metadata": {
        "colab": {
          "base_uri": "https://localhost:8080/"
        },
        "id": "pu9PT6vA9_x1",
        "outputId": "6d1811a3-abe1-4099-a868-69ccca86e1ae"
      },
      "outputs": [
        {
          "name": "stderr",
          "output_type": "stream",
          "text": [
            "/usr/local/lib/python3.9/dist-packages/sklearn/cluster/_kmeans.py:870: FutureWarning: The default value of `n_init` will change from 10 to 'auto' in 1.4. Set the value of `n_init` explicitly to suppress the warning\n",
            "  warnings.warn(\n"
          ]
        }
      ],
      "source": [
        "clustered_df = old_get_clustered_df(reduced_df,10)"
      ]
    },
    {
      "cell_type": "code",
      "execution_count": 529,
      "metadata": {
        "id": "1Ii1IJiTCQ5b"
      },
      "outputs": [],
      "source": [
        "reduced_matrix = np.array(clustered_df)"
      ]
    },
    {
      "cell_type": "code",
      "execution_count": 530,
      "metadata": {
        "id": "gZAIGOop0U7g"
      },
      "outputs": [],
      "source": [
        "# reduced_matrix = truncated_matrix"
      ]
    },
    {
      "cell_type": "code",
      "execution_count": 531,
      "metadata": {
        "id": "2VHkNYMR0U7g"
      },
      "outputs": [],
      "source": [
        "def EuclDist(vec1,vec2):\n",
        "    return np.linalg.norm(vec1 - vec2)"
      ]
    },
    {
      "cell_type": "markdown",
      "metadata": {
        "id": "rKRqfRrH0U7g"
      },
      "source": [
        "new user with just core courses ratings. Now we need elective courses"
      ]
    },
    {
      "cell_type": "code",
      "execution_count": 532,
      "metadata": {
        "id": "DFh7-eYC0U7h"
      },
      "outputs": [],
      "source": [
        "new_user = [0.2,0.8,0.2,0.6,0.9]\n",
        "new_user2 =[ 0.699459,\t0.545405\t,0.325405\t,0.615135\t,0.737838]\n",
        "sooraj = [0.4, 0.8,0.85,0.9,0.7]\n",
        "chinmay = [0.9,0.2,0.4,0.6 ,0.8]\n",
        "kritin = [0,0,0,0,0]"
      ]
    },
    {
      "cell_type": "code",
      "execution_count": 533,
      "metadata": {
        "id": "oGWRSMJd0U7h"
      },
      "outputs": [],
      "source": [
        "\n",
        "def find_cluster(reduced_matrix,new_user):\n",
        "    \n",
        "    min=EuclDist(reduced_matrix[0,:5],new_user)\n",
        "    cluster = 0\n",
        "    for i in range(len(reduced_matrix)):\n",
        "        sim = EuclDist(reduced_matrix[i,:5],new_user)#euclidean distance\n",
        "        # print(sim)\n",
        "        if sim<min:\n",
        "            min = sim\n",
        "            cluster=i\n",
        "    return cluster\n"
      ]
    },
    {
      "cell_type": "code",
      "execution_count": 534,
      "metadata": {
        "colab": {
          "base_uri": "https://localhost:8080/"
        },
        "id": "rzmJJ_4T0U7h",
        "outputId": "2c15e1c9-8c49-4f6b-cceb-87b180908bc3"
      },
      "outputs": [
        {
          "data": {
            "text/plain": [
              "7"
            ]
          },
          "execution_count": 534,
          "metadata": {},
          "output_type": "execute_result"
        }
      ],
      "source": [
        "find_cluster(reduced_matrix,kritin)#testing"
      ]
    },
    {
      "cell_type": "code",
      "execution_count": 535,
      "metadata": {
        "id": "zznr7xkI0U7h"
      },
      "outputs": [],
      "source": [
        "def find_elective_ratings(reduced_matrix,new_user):\n",
        "    cluster = find_cluster(reduced_matrix,new_user)\n",
        "    elective_ratings = reduced_matrix[cluster,5:]\n",
        "    return elective_ratings\n"
      ]
    },
    {
      "cell_type": "code",
      "execution_count": 536,
      "metadata": {
        "id": "RO988AAY0U7h"
      },
      "outputs": [],
      "source": [
        "def find_elective_ratings_from_og(reduced_matrix,original,new_user):\n",
        "    cluster = find_cluster(reduced_matrix,new_user)\n",
        "    elective_ratings = original[cluster,5:]\n",
        "    return elective_ratings\n"
      ]
    },
    {
      "cell_type": "code",
      "execution_count": 537,
      "metadata": {
        "id": "MbUNI2Cu0U7h"
      },
      "outputs": [],
      "source": [
        "elective_ratings = find_elective_ratings(reduced_matrix,sooraj)"
      ]
    },
    {
      "cell_type": "code",
      "execution_count": 539,
      "metadata": {
        "colab": {
          "base_uri": "https://localhost:8080/"
        },
        "id": "OULvBq6C6n0O",
        "outputId": "58d692c6-cb9e-4254-9508-a7e13b985cf6"
      },
      "outputs": [
        {
          "data": {
            "text/plain": [
              "array([0.80416365, 0.75837948, 0.68803397, 0.62375356, 0.63077396,\n",
              "       0.61749064, 0.49820964, 0.63353374, 0.47513889, 0.5616382 ,\n",
              "       0.27388327, 0.27692207, 0.25591913, 0.26184263, 0.20351713,\n",
              "       0.36096858, 0.51011714, 0.47047515, 0.48431179, 0.51082872])"
            ]
          },
          "execution_count": 539,
          "metadata": {},
          "output_type": "execute_result"
        }
      ],
      "source": [
        "elective_ratings"
      ]
    },
    {
      "cell_type": "markdown",
      "metadata": {
        "id": "3MFVXt4o0U7h"
      },
      "source": [
        "# ranking of electives"
      ]
    },
    {
      "cell_type": "code",
      "execution_count": 540,
      "metadata": {
        "id": "rF14nzi70U7h"
      },
      "outputs": [],
      "source": [
        "def get_electives_ranked(courses,elective_ratings):\n",
        "    d={courses[5:][i]: elective_ratings[i] for i in range(20)}\n",
        "\n",
        "    elective_ranked = sorted(courses[5:], key=lambda x : -d[x])\n",
        "    return elective_ranked  "
      ]
    },
    {
      "cell_type": "code",
      "execution_count": 541,
      "metadata": {
        "id": "J0ZOBYxp0U7h"
      },
      "outputs": [],
      "source": [
        "elective_ranked = get_electives_ranked(courses,elective_ratings)\n"
      ]
    },
    {
      "cell_type": "code",
      "execution_count": 542,
      "metadata": {
        "colab": {
          "base_uri": "https://localhost:8080/"
        },
        "id": "MizflEsL0U7h",
        "outputId": "d98b2fe3-c304-47b6-fadb-557c915a5b87"
      },
      "outputs": [
        {
          "data": {
            "text/plain": [
              "['Machine Learning\\n',\n",
              " 'Mathematics For Machine Learning\\n',\n",
              " 'Visual Recognition\\n',\n",
              " 'Data Visualization\\n',\n",
              " 'Reinforcement Learning',\n",
              " 'Natural Language Processing\\n',\n",
              " 'Software Production Engineering\\n',\n",
              " 'Cloud Computing\\n',\n",
              " 'The Web and the Mind ',\n",
              " 'Privacy in the Digital Age',\n",
              " 'Computer Graphics\\n',\n",
              " 'Techno-economics of networks ',\n",
              " 'Programming Languages\\n',\n",
              " 'Technology Ethics and AI ',\n",
              " 'Digital Sociology ',\n",
              " 'System design with FPGA ',\n",
              " 'Digital CMOS VLSI Design ',\n",
              " 'VLSI Architecture Design\\n',\n",
              " 'ASIC design ',\n",
              " 'High level synthesis and optimization of Digital Circuits ']"
            ]
          },
          "execution_count": 542,
          "metadata": {},
          "output_type": "execute_result"
        }
      ],
      "source": [
        "elective_ranked"
      ]
    },
    {
      "cell_type": "code",
      "execution_count": 545,
      "metadata": {
        "id": "YeJWqANs0U7i"
      },
      "outputs": [],
      "source": [
        "def train_recommendations(X_train,num_clusters):\n",
        "    \n",
        "    reduced_svd_matrix=reduced_svd(6,np.array(X_train)).astype('float64')\n",
        "    reduced_df = pd.DataFrame(reduced_svd_matrix, columns = courses)\n",
        "    clustered_df=old_get_clustered_df(reduced_df,num_clusters)\n",
        "    return np.array(clustered_df)"
      ]
    },
    {
      "cell_type": "code",
      "execution_count": 546,
      "metadata": {
        "id": "_Jm9cqsX0U7i"
      },
      "outputs": [],
      "source": [
        "def test_recommendations(X_test,reduced_matrix):\n",
        "    pred = []\n",
        "    for i in range(len(X_test)):\n",
        "        new_user = X_test[i]\n",
        "        elective_ratings = find_elective_ratings(reduced_matrix,new_user[:5])\n",
        "        elective_ranked = get_electives_ranked(courses,elective_ratings)\n",
        "        pred.append(elective_ratings)\n",
        "    return pred\n"
      ]
    },
    {
      "cell_type": "code",
      "execution_count": 547,
      "metadata": {
        "colab": {
          "base_uri": "https://localhost:8080/"
        },
        "id": "fpjzFSXC0U7i",
        "outputId": "6b500e2a-f444-4454-d781-2cbffae78fb5"
      },
      "outputs": [
        {
          "name": "stderr",
          "output_type": "stream",
          "text": [
            "<ipython-input-545-7d8391063fd5>:5: ComplexWarning: Casting complex values to real discards the imaginary part\n",
            "  reduced_svd_matrix=reduced_svd(6,np.array(X_train)).astype('float64')\n",
            "/usr/local/lib/python3.9/dist-packages/sklearn/cluster/_kmeans.py:870: FutureWarning: The default value of `n_init` will change from 10 to 'auto' in 1.4. Set the value of `n_init` explicitly to suppress the warning\n",
            "  warnings.warn(\n"
          ]
        }
      ],
      "source": [
        "reduced_matrix = train_recommendations(train,10)"
      ]
    },
    {
      "cell_type": "code",
      "execution_count": 548,
      "metadata": {
        "id": "GN81NWRF0U7i"
      },
      "outputs": [],
      "source": [
        "pred=test_recommendations(test.to_numpy(),reduced_matrix)"
      ]
    },
    {
      "cell_type": "code",
      "execution_count": 549,
      "metadata": {
        "id": "Q3CDzAIM0U7i"
      },
      "outputs": [],
      "source": [
        "def accuracy(pred,test):\n",
        "    mse =[]\n",
        "    for i in range(len(pred)):\n",
        "        mse.append((EuclDist(pred[i],test[i][5:])))\n",
        "\n",
        "    return sum(mse)/len(mse)"
      ]
    },
    {
      "cell_type": "code",
      "execution_count": 550,
      "metadata": {
        "colab": {
          "base_uri": "https://localhost:8080/"
        },
        "id": "fg3pniJw0U7i",
        "outputId": "c881b86e-7f01-4b86-e358-120d873cb75b"
      },
      "outputs": [
        {
          "data": {
            "text/plain": [
              "1.4419365035341474"
            ]
          },
          "execution_count": 550,
          "metadata": {},
          "output_type": "execute_result"
        }
      ],
      "source": [
        "accuracy(pred,test.to_numpy())"
      ]
    },
    {
      "cell_type": "code",
      "execution_count": 551,
      "metadata": {
        "colab": {
          "base_uri": "https://localhost:8080/"
        },
        "id": "a6J35SkG0U7i",
        "outputId": "90aeb75a-196c-4363-999f-8cfe25774b29"
      },
      "outputs": [
        {
          "name": "stdout",
          "output_type": "stream",
          "text": [
            "['The Web and the Mind ', 'Machine Learning\\n', 'Privacy in the Digital Age', 'Data Visualization\\n', 'Software Production Engineering\\n', 'Cloud Computing\\n', 'Reinforcement Learning', 'Visual Recognition\\n', 'Techno-economics of networks ', 'Technology Ethics and AI ', 'Programming Languages\\n', 'Computer Graphics\\n', 'Natural Language Processing\\n', 'Mathematics For Machine Learning\\n', 'Digital Sociology ', 'System design with FPGA ', 'Digital CMOS VLSI Design ', 'ASIC design ', 'VLSI Architecture Design\\n', 'High level synthesis and optimization of Digital Circuits ']\n",
            "*****************\n",
            "['The Web and the Mind ', 'Machine Learning\\n', 'Privacy in the Digital Age', 'Data Visualization\\n', 'Software Production Engineering\\n', 'Cloud Computing\\n', 'Reinforcement Learning', 'Visual Recognition\\n', 'Techno-economics of networks ', 'Technology Ethics and AI ', 'Programming Languages\\n', 'Computer Graphics\\n', 'Natural Language Processing\\n', 'Mathematics For Machine Learning\\n', 'Digital Sociology ', 'System design with FPGA ', 'Digital CMOS VLSI Design ', 'ASIC design ', 'VLSI Architecture Design\\n', 'High level synthesis and optimization of Digital Circuits ']\n",
            "*****************\n",
            "['Machine Learning\\n', 'Mathematics For Machine Learning\\n', 'Visual Recognition\\n', 'Software Production Engineering\\n', 'Data Visualization\\n', 'Natural Language Processing\\n', 'Reinforcement Learning', 'Cloud Computing\\n', 'Programming Languages\\n', 'Computer Graphics\\n', 'The Web and the Mind ', 'Techno-economics of networks ', 'Technology Ethics and AI ', 'Privacy in the Digital Age', 'Digital Sociology ', 'Digital CMOS VLSI Design ', 'VLSI Architecture Design\\n', 'System design with FPGA ', 'ASIC design ', 'High level synthesis and optimization of Digital Circuits ']\n",
            "*****************\n",
            "['Machine Learning\\n', 'Mathematics For Machine Learning\\n', 'Data Visualization\\n', 'Software Production Engineering\\n', 'Visual Recognition\\n', 'Privacy in the Digital Age', 'The Web and the Mind ', 'Techno-economics of networks ', 'Reinforcement Learning', 'Technology Ethics and AI ', 'Natural Language Processing\\n', 'Cloud Computing\\n', 'Computer Graphics\\n', 'Programming Languages\\n', 'Digital Sociology ', 'System design with FPGA ', 'Digital CMOS VLSI Design ', 'ASIC design ', 'VLSI Architecture Design\\n', 'High level synthesis and optimization of Digital Circuits ']\n",
            "*****************\n",
            "['Machine Learning\\n', 'Mathematics For Machine Learning\\n', 'Programming Languages\\n', 'Reinforcement Learning', 'Software Production Engineering\\n', 'Cloud Computing\\n', 'Visual Recognition\\n', 'Data Visualization\\n', 'Natural Language Processing\\n', 'The Web and the Mind ', 'Computer Graphics\\n', 'Privacy in the Digital Age', 'Technology Ethics and AI ', 'Techno-economics of networks ', 'Digital CMOS VLSI Design ', 'System design with FPGA ', 'VLSI Architecture Design\\n', 'Digital Sociology ', 'ASIC design ', 'High level synthesis and optimization of Digital Circuits ']\n",
            "*****************\n",
            "['Machine Learning\\n', 'Mathematics For Machine Learning\\n', 'Reinforcement Learning', 'Natural Language Processing\\n', 'Visual Recognition\\n', 'Cloud Computing\\n', 'Programming Languages\\n', 'Software Production Engineering\\n', 'Data Visualization\\n', 'Computer Graphics\\n', 'The Web and the Mind ', 'Privacy in the Digital Age', 'Digital CMOS VLSI Design ', 'Technology Ethics and AI ', 'VLSI Architecture Design\\n', 'High level synthesis and optimization of Digital Circuits ', 'System design with FPGA ', 'Techno-economics of networks ', 'ASIC design ', 'Digital Sociology ']\n",
            "*****************\n",
            "['Machine Learning\\n', 'Mathematics For Machine Learning\\n', 'Programming Languages\\n', 'Reinforcement Learning', 'Software Production Engineering\\n', 'Cloud Computing\\n', 'Visual Recognition\\n', 'Data Visualization\\n', 'Natural Language Processing\\n', 'The Web and the Mind ', 'Computer Graphics\\n', 'Privacy in the Digital Age', 'Technology Ethics and AI ', 'Techno-economics of networks ', 'Digital CMOS VLSI Design ', 'System design with FPGA ', 'VLSI Architecture Design\\n', 'Digital Sociology ', 'ASIC design ', 'High level synthesis and optimization of Digital Circuits ']\n",
            "*****************\n",
            "['Machine Learning\\n', 'Reinforcement Learning', 'Natural Language Processing\\n', 'Mathematics For Machine Learning\\n', 'Digital CMOS VLSI Design ', 'System design with FPGA ', 'VLSI Architecture Design\\n', 'Software Production Engineering\\n', 'The Web and the Mind ', 'ASIC design ', 'Privacy in the Digital Age', 'Programming Languages\\n', 'High level synthesis and optimization of Digital Circuits ', 'Visual Recognition\\n', 'Data Visualization\\n', 'Technology Ethics and AI ', 'Cloud Computing\\n', 'Computer Graphics\\n', 'Digital Sociology ', 'Techno-economics of networks ']\n",
            "*****************\n",
            "['Machine Learning\\n', 'Mathematics For Machine Learning\\n', 'Data Visualization\\n', 'Software Production Engineering\\n', 'Visual Recognition\\n', 'Privacy in the Digital Age', 'The Web and the Mind ', 'Techno-economics of networks ', 'Reinforcement Learning', 'Technology Ethics and AI ', 'Natural Language Processing\\n', 'Cloud Computing\\n', 'Computer Graphics\\n', 'Programming Languages\\n', 'Digital Sociology ', 'System design with FPGA ', 'Digital CMOS VLSI Design ', 'ASIC design ', 'VLSI Architecture Design\\n', 'High level synthesis and optimization of Digital Circuits ']\n",
            "*****************\n"
          ]
        }
      ],
      "source": [
        "for i in pred:\n",
        "    elective_ranked = get_electives_ranked(courses,i)\n",
        "    print(elective_ranked)\n",
        "    print(\"*****************\")"
      ]
    },
    {
      "cell_type": "code",
      "execution_count": 552,
      "metadata": {
        "colab": {
          "base_uri": "https://localhost:8080/",
          "height": 574
        },
        "id": "duNo72hv0U7j",
        "outputId": "b8aa8e9e-dc3b-49a4-ddb8-b386b89482cf"
      },
      "outputs": [
        {
          "data": {
            "text/html": [
              "\n",
              "  <div id=\"df-6a856215-0cf3-4e8f-b3c4-c2d458ee15b1\">\n",
              "    <div class=\"colab-df-container\">\n",
              "      <div>\n",
              "<style scoped>\n",
              "    .dataframe tbody tr th:only-of-type {\n",
              "        vertical-align: middle;\n",
              "    }\n",
              "\n",
              "    .dataframe tbody tr th {\n",
              "        vertical-align: top;\n",
              "    }\n",
              "\n",
              "    .dataframe thead th {\n",
              "        text-align: right;\n",
              "    }\n",
              "</style>\n",
              "<table border=\"1\" class=\"dataframe\">\n",
              "  <thead>\n",
              "    <tr style=\"text-align: right;\">\n",
              "      <th></th>\n",
              "      <th>Data Structures and Algorithms</th>\n",
              "      <th>Computer Architecture\\n</th>\n",
              "      <th>Discrete Mathematics\\n</th>\n",
              "      <th>Economics</th>\n",
              "      <th>Programming-2</th>\n",
              "      <th>Machine Learning\\n</th>\n",
              "      <th>Mathematics For Machine Learning\\n</th>\n",
              "      <th>Visual Recognition\\n</th>\n",
              "      <th>Natural Language Processing\\n</th>\n",
              "      <th>Reinforcement Learning</th>\n",
              "      <th>...</th>\n",
              "      <th>Digital CMOS VLSI Design</th>\n",
              "      <th>System design with FPGA</th>\n",
              "      <th>ASIC design</th>\n",
              "      <th>VLSI Architecture Design\\n</th>\n",
              "      <th>High level synthesis and optimization of Digital Circuits</th>\n",
              "      <th>Digital Sociology</th>\n",
              "      <th>Privacy in the Digital Age</th>\n",
              "      <th>Technology Ethics and AI</th>\n",
              "      <th>Techno-economics of networks</th>\n",
              "      <th>The Web and the Mind</th>\n",
              "    </tr>\n",
              "  </thead>\n",
              "  <tbody>\n",
              "    <tr>\n",
              "      <th>0</th>\n",
              "      <td>0.30</td>\n",
              "      <td>0.85</td>\n",
              "      <td>0.85</td>\n",
              "      <td>0.90</td>\n",
              "      <td>0.70</td>\n",
              "      <td>0.70</td>\n",
              "      <td>0.80</td>\n",
              "      <td>0.620098</td>\n",
              "      <td>0.572638</td>\n",
              "      <td>0.603495</td>\n",
              "      <td>...</td>\n",
              "      <td>0.251538</td>\n",
              "      <td>0.246316</td>\n",
              "      <td>0.214805</td>\n",
              "      <td>0.234868</td>\n",
              "      <td>0.168056</td>\n",
              "      <td>0.318243</td>\n",
              "      <td>0.600000</td>\n",
              "      <td>0.423286</td>\n",
              "      <td>0.396622</td>\n",
              "      <td>0.510897</td>\n",
              "    </tr>\n",
              "    <tr>\n",
              "      <th>1</th>\n",
              "      <td>0.70</td>\n",
              "      <td>0.80</td>\n",
              "      <td>0.20</td>\n",
              "      <td>0.80</td>\n",
              "      <td>0.80</td>\n",
              "      <td>0.50</td>\n",
              "      <td>0.10</td>\n",
              "      <td>0.200000</td>\n",
              "      <td>0.572638</td>\n",
              "      <td>0.603495</td>\n",
              "      <td>...</td>\n",
              "      <td>0.251538</td>\n",
              "      <td>0.246316</td>\n",
              "      <td>0.214805</td>\n",
              "      <td>0.234868</td>\n",
              "      <td>0.168056</td>\n",
              "      <td>0.318243</td>\n",
              "      <td>0.500000</td>\n",
              "      <td>0.423286</td>\n",
              "      <td>0.396622</td>\n",
              "      <td>0.510897</td>\n",
              "    </tr>\n",
              "    <tr>\n",
              "      <th>2</th>\n",
              "      <td>0.70</td>\n",
              "      <td>0.00</td>\n",
              "      <td>1.00</td>\n",
              "      <td>1.00</td>\n",
              "      <td>1.00</td>\n",
              "      <td>1.00</td>\n",
              "      <td>1.00</td>\n",
              "      <td>0.800000</td>\n",
              "      <td>0.900000</td>\n",
              "      <td>1.000000</td>\n",
              "      <td>...</td>\n",
              "      <td>0.251538</td>\n",
              "      <td>0.246316</td>\n",
              "      <td>0.214805</td>\n",
              "      <td>0.234868</td>\n",
              "      <td>0.168056</td>\n",
              "      <td>0.318243</td>\n",
              "      <td>0.400000</td>\n",
              "      <td>0.423286</td>\n",
              "      <td>0.396622</td>\n",
              "      <td>0.510897</td>\n",
              "    </tr>\n",
              "    <tr>\n",
              "      <th>3</th>\n",
              "      <td>0.65</td>\n",
              "      <td>0.70</td>\n",
              "      <td>0.20</td>\n",
              "      <td>0.75</td>\n",
              "      <td>0.75</td>\n",
              "      <td>0.75</td>\n",
              "      <td>0.75</td>\n",
              "      <td>0.750000</td>\n",
              "      <td>0.572638</td>\n",
              "      <td>0.603495</td>\n",
              "      <td>...</td>\n",
              "      <td>0.251538</td>\n",
              "      <td>0.246316</td>\n",
              "      <td>0.214805</td>\n",
              "      <td>0.234868</td>\n",
              "      <td>0.168056</td>\n",
              "      <td>0.800000</td>\n",
              "      <td>0.452708</td>\n",
              "      <td>0.423286</td>\n",
              "      <td>0.800000</td>\n",
              "      <td>0.510897</td>\n",
              "    </tr>\n",
              "    <tr>\n",
              "      <th>4</th>\n",
              "      <td>0.70</td>\n",
              "      <td>0.60</td>\n",
              "      <td>0.20</td>\n",
              "      <td>0.00</td>\n",
              "      <td>0.80</td>\n",
              "      <td>0.50</td>\n",
              "      <td>0.60</td>\n",
              "      <td>0.400000</td>\n",
              "      <td>0.400000</td>\n",
              "      <td>0.200000</td>\n",
              "      <td>...</td>\n",
              "      <td>0.000000</td>\n",
              "      <td>0.000000</td>\n",
              "      <td>0.000000</td>\n",
              "      <td>0.000000</td>\n",
              "      <td>0.000000</td>\n",
              "      <td>0.000000</td>\n",
              "      <td>0.000000</td>\n",
              "      <td>0.000000</td>\n",
              "      <td>0.000000</td>\n",
              "      <td>0.000000</td>\n",
              "    </tr>\n",
              "    <tr>\n",
              "      <th>...</th>\n",
              "      <td>...</td>\n",
              "      <td>...</td>\n",
              "      <td>...</td>\n",
              "      <td>...</td>\n",
              "      <td>...</td>\n",
              "      <td>...</td>\n",
              "      <td>...</td>\n",
              "      <td>...</td>\n",
              "      <td>...</td>\n",
              "      <td>...</td>\n",
              "      <td>...</td>\n",
              "      <td>...</td>\n",
              "      <td>...</td>\n",
              "      <td>...</td>\n",
              "      <td>...</td>\n",
              "      <td>...</td>\n",
              "      <td>...</td>\n",
              "      <td>...</td>\n",
              "      <td>...</td>\n",
              "      <td>...</td>\n",
              "      <td>...</td>\n",
              "    </tr>\n",
              "    <tr>\n",
              "      <th>157</th>\n",
              "      <td>0.00</td>\n",
              "      <td>1.00</td>\n",
              "      <td>0.50</td>\n",
              "      <td>0.70</td>\n",
              "      <td>0.60</td>\n",
              "      <td>0.50</td>\n",
              "      <td>0.30</td>\n",
              "      <td>0.700000</td>\n",
              "      <td>0.572638</td>\n",
              "      <td>0.603495</td>\n",
              "      <td>...</td>\n",
              "      <td>0.251538</td>\n",
              "      <td>0.246316</td>\n",
              "      <td>0.214805</td>\n",
              "      <td>0.234868</td>\n",
              "      <td>0.168056</td>\n",
              "      <td>0.318243</td>\n",
              "      <td>0.000000</td>\n",
              "      <td>0.423286</td>\n",
              "      <td>0.396622</td>\n",
              "      <td>0.510897</td>\n",
              "    </tr>\n",
              "    <tr>\n",
              "      <th>158</th>\n",
              "      <td>1.00</td>\n",
              "      <td>0.00</td>\n",
              "      <td>0.00</td>\n",
              "      <td>0.70</td>\n",
              "      <td>0.70</td>\n",
              "      <td>0.00</td>\n",
              "      <td>0.00</td>\n",
              "      <td>0.000000</td>\n",
              "      <td>0.572638</td>\n",
              "      <td>0.603495</td>\n",
              "      <td>...</td>\n",
              "      <td>0.251538</td>\n",
              "      <td>0.246316</td>\n",
              "      <td>0.214805</td>\n",
              "      <td>0.234868</td>\n",
              "      <td>0.168056</td>\n",
              "      <td>0.318243</td>\n",
              "      <td>0.452708</td>\n",
              "      <td>0.423286</td>\n",
              "      <td>0.396622</td>\n",
              "      <td>0.200000</td>\n",
              "    </tr>\n",
              "    <tr>\n",
              "      <th>159</th>\n",
              "      <td>0.60</td>\n",
              "      <td>0.30</td>\n",
              "      <td>0.40</td>\n",
              "      <td>0.90</td>\n",
              "      <td>0.80</td>\n",
              "      <td>0.70</td>\n",
              "      <td>0.40</td>\n",
              "      <td>0.500000</td>\n",
              "      <td>0.400000</td>\n",
              "      <td>0.200000</td>\n",
              "      <td>...</td>\n",
              "      <td>0.251538</td>\n",
              "      <td>0.246316</td>\n",
              "      <td>0.214805</td>\n",
              "      <td>0.234868</td>\n",
              "      <td>0.168056</td>\n",
              "      <td>0.318243</td>\n",
              "      <td>1.000000</td>\n",
              "      <td>0.423286</td>\n",
              "      <td>0.396622</td>\n",
              "      <td>1.000000</td>\n",
              "    </tr>\n",
              "    <tr>\n",
              "      <th>160</th>\n",
              "      <td>0.80</td>\n",
              "      <td>0.60</td>\n",
              "      <td>0.20</td>\n",
              "      <td>0.40</td>\n",
              "      <td>0.70</td>\n",
              "      <td>0.70</td>\n",
              "      <td>0.80</td>\n",
              "      <td>0.620098</td>\n",
              "      <td>0.572638</td>\n",
              "      <td>0.700000</td>\n",
              "      <td>...</td>\n",
              "      <td>0.251538</td>\n",
              "      <td>0.246316</td>\n",
              "      <td>0.214805</td>\n",
              "      <td>0.234868</td>\n",
              "      <td>0.168056</td>\n",
              "      <td>0.318243</td>\n",
              "      <td>0.452708</td>\n",
              "      <td>0.423286</td>\n",
              "      <td>0.396622</td>\n",
              "      <td>0.510897</td>\n",
              "    </tr>\n",
              "    <tr>\n",
              "      <th>161</th>\n",
              "      <td>0.40</td>\n",
              "      <td>0.70</td>\n",
              "      <td>0.90</td>\n",
              "      <td>0.40</td>\n",
              "      <td>0.40</td>\n",
              "      <td>0.70</td>\n",
              "      <td>0.90</td>\n",
              "      <td>0.620098</td>\n",
              "      <td>0.572638</td>\n",
              "      <td>0.800000</td>\n",
              "      <td>...</td>\n",
              "      <td>0.251538</td>\n",
              "      <td>0.246316</td>\n",
              "      <td>0.214805</td>\n",
              "      <td>0.234868</td>\n",
              "      <td>0.168056</td>\n",
              "      <td>0.318243</td>\n",
              "      <td>0.452708</td>\n",
              "      <td>0.423286</td>\n",
              "      <td>0.396622</td>\n",
              "      <td>0.510897</td>\n",
              "    </tr>\n",
              "  </tbody>\n",
              "</table>\n",
              "<p>162 rows × 25 columns</p>\n",
              "</div>\n",
              "      <button class=\"colab-df-convert\" onclick=\"convertToInteractive('df-6a856215-0cf3-4e8f-b3c4-c2d458ee15b1')\"\n",
              "              title=\"Convert this dataframe to an interactive table.\"\n",
              "              style=\"display:none;\">\n",
              "        \n",
              "  <svg xmlns=\"http://www.w3.org/2000/svg\" height=\"24px\"viewBox=\"0 0 24 24\"\n",
              "       width=\"24px\">\n",
              "    <path d=\"M0 0h24v24H0V0z\" fill=\"none\"/>\n",
              "    <path d=\"M18.56 5.44l.94 2.06.94-2.06 2.06-.94-2.06-.94-.94-2.06-.94 2.06-2.06.94zm-11 1L8.5 8.5l.94-2.06 2.06-.94-2.06-.94L8.5 2.5l-.94 2.06-2.06.94zm10 10l.94 2.06.94-2.06 2.06-.94-2.06-.94-.94-2.06-.94 2.06-2.06.94z\"/><path d=\"M17.41 7.96l-1.37-1.37c-.4-.4-.92-.59-1.43-.59-.52 0-1.04.2-1.43.59L10.3 9.45l-7.72 7.72c-.78.78-.78 2.05 0 2.83L4 21.41c.39.39.9.59 1.41.59.51 0 1.02-.2 1.41-.59l7.78-7.78 2.81-2.81c.8-.78.8-2.07 0-2.86zM5.41 20L4 18.59l7.72-7.72 1.47 1.35L5.41 20z\"/>\n",
              "  </svg>\n",
              "      </button>\n",
              "      \n",
              "  <style>\n",
              "    .colab-df-container {\n",
              "      display:flex;\n",
              "      flex-wrap:wrap;\n",
              "      gap: 12px;\n",
              "    }\n",
              "\n",
              "    .colab-df-convert {\n",
              "      background-color: #E8F0FE;\n",
              "      border: none;\n",
              "      border-radius: 50%;\n",
              "      cursor: pointer;\n",
              "      display: none;\n",
              "      fill: #1967D2;\n",
              "      height: 32px;\n",
              "      padding: 0 0 0 0;\n",
              "      width: 32px;\n",
              "    }\n",
              "\n",
              "    .colab-df-convert:hover {\n",
              "      background-color: #E2EBFA;\n",
              "      box-shadow: 0px 1px 2px rgba(60, 64, 67, 0.3), 0px 1px 3px 1px rgba(60, 64, 67, 0.15);\n",
              "      fill: #174EA6;\n",
              "    }\n",
              "\n",
              "    [theme=dark] .colab-df-convert {\n",
              "      background-color: #3B4455;\n",
              "      fill: #D2E3FC;\n",
              "    }\n",
              "\n",
              "    [theme=dark] .colab-df-convert:hover {\n",
              "      background-color: #434B5C;\n",
              "      box-shadow: 0px 1px 3px 1px rgba(0, 0, 0, 0.15);\n",
              "      filter: drop-shadow(0px 1px 2px rgba(0, 0, 0, 0.3));\n",
              "      fill: #FFFFFF;\n",
              "    }\n",
              "  </style>\n",
              "\n",
              "      <script>\n",
              "        const buttonEl =\n",
              "          document.querySelector('#df-6a856215-0cf3-4e8f-b3c4-c2d458ee15b1 button.colab-df-convert');\n",
              "        buttonEl.style.display =\n",
              "          google.colab.kernel.accessAllowed ? 'block' : 'none';\n",
              "\n",
              "        async function convertToInteractive(key) {\n",
              "          const element = document.querySelector('#df-6a856215-0cf3-4e8f-b3c4-c2d458ee15b1');\n",
              "          const dataTable =\n",
              "            await google.colab.kernel.invokeFunction('convertToInteractive',\n",
              "                                                     [key], {});\n",
              "          if (!dataTable) return;\n",
              "\n",
              "          const docLinkHtml = 'Like what you see? Visit the ' +\n",
              "            '<a target=\"_blank\" href=https://colab.research.google.com/notebooks/data_table.ipynb>data table notebook</a>'\n",
              "            + ' to learn more about interactive tables.';\n",
              "          element.innerHTML = '';\n",
              "          dataTable['output_type'] = 'display_data';\n",
              "          await google.colab.output.renderOutput(dataTable, element);\n",
              "          const docLink = document.createElement('div');\n",
              "          docLink.innerHTML = docLinkHtml;\n",
              "          element.appendChild(docLink);\n",
              "        }\n",
              "      </script>\n",
              "    </div>\n",
              "  </div>\n",
              "  "
            ],
            "text/plain": [
              "     Data Structures and Algorithms  Computer Architecture\\n  \\\n",
              "0                              0.30                     0.85   \n",
              "1                              0.70                     0.80   \n",
              "2                              0.70                     0.00   \n",
              "3                              0.65                     0.70   \n",
              "4                              0.70                     0.60   \n",
              "..                              ...                      ...   \n",
              "157                            0.00                     1.00   \n",
              "158                            1.00                     0.00   \n",
              "159                            0.60                     0.30   \n",
              "160                            0.80                     0.60   \n",
              "161                            0.40                     0.70   \n",
              "\n",
              "     Discrete Mathematics\\n  Economics  Programming-2  Machine Learning\\n  \\\n",
              "0                      0.85       0.90           0.70                0.70   \n",
              "1                      0.20       0.80           0.80                0.50   \n",
              "2                      1.00       1.00           1.00                1.00   \n",
              "3                      0.20       0.75           0.75                0.75   \n",
              "4                      0.20       0.00           0.80                0.50   \n",
              "..                      ...        ...            ...                 ...   \n",
              "157                    0.50       0.70           0.60                0.50   \n",
              "158                    0.00       0.70           0.70                0.00   \n",
              "159                    0.40       0.90           0.80                0.70   \n",
              "160                    0.20       0.40           0.70                0.70   \n",
              "161                    0.90       0.40           0.40                0.70   \n",
              "\n",
              "     Mathematics For Machine Learning\\n  Visual Recognition\\n  \\\n",
              "0                                  0.80              0.620098   \n",
              "1                                  0.10              0.200000   \n",
              "2                                  1.00              0.800000   \n",
              "3                                  0.75              0.750000   \n",
              "4                                  0.60              0.400000   \n",
              "..                                  ...                   ...   \n",
              "157                                0.30              0.700000   \n",
              "158                                0.00              0.000000   \n",
              "159                                0.40              0.500000   \n",
              "160                                0.80              0.620098   \n",
              "161                                0.90              0.620098   \n",
              "\n",
              "     Natural Language Processing\\n  Reinforcement Learning  ...  \\\n",
              "0                         0.572638                0.603495  ...   \n",
              "1                         0.572638                0.603495  ...   \n",
              "2                         0.900000                1.000000  ...   \n",
              "3                         0.572638                0.603495  ...   \n",
              "4                         0.400000                0.200000  ...   \n",
              "..                             ...                     ...  ...   \n",
              "157                       0.572638                0.603495  ...   \n",
              "158                       0.572638                0.603495  ...   \n",
              "159                       0.400000                0.200000  ...   \n",
              "160                       0.572638                0.700000  ...   \n",
              "161                       0.572638                0.800000  ...   \n",
              "\n",
              "     Digital CMOS VLSI Design   System design with FPGA   ASIC design   \\\n",
              "0                     0.251538                  0.246316      0.214805   \n",
              "1                     0.251538                  0.246316      0.214805   \n",
              "2                     0.251538                  0.246316      0.214805   \n",
              "3                     0.251538                  0.246316      0.214805   \n",
              "4                     0.000000                  0.000000      0.000000   \n",
              "..                         ...                       ...           ...   \n",
              "157                   0.251538                  0.246316      0.214805   \n",
              "158                   0.251538                  0.246316      0.214805   \n",
              "159                   0.251538                  0.246316      0.214805   \n",
              "160                   0.251538                  0.246316      0.214805   \n",
              "161                   0.251538                  0.246316      0.214805   \n",
              "\n",
              "     VLSI Architecture Design\\n  \\\n",
              "0                      0.234868   \n",
              "1                      0.234868   \n",
              "2                      0.234868   \n",
              "3                      0.234868   \n",
              "4                      0.000000   \n",
              "..                          ...   \n",
              "157                    0.234868   \n",
              "158                    0.234868   \n",
              "159                    0.234868   \n",
              "160                    0.234868   \n",
              "161                    0.234868   \n",
              "\n",
              "     High level synthesis and optimization of Digital Circuits   \\\n",
              "0                                             0.168056            \n",
              "1                                             0.168056            \n",
              "2                                             0.168056            \n",
              "3                                             0.168056            \n",
              "4                                             0.000000            \n",
              "..                                                 ...            \n",
              "157                                           0.168056            \n",
              "158                                           0.168056            \n",
              "159                                           0.168056            \n",
              "160                                           0.168056            \n",
              "161                                           0.168056            \n",
              "\n",
              "     Digital Sociology   Privacy in the Digital Age  \\\n",
              "0              0.318243                    0.600000   \n",
              "1              0.318243                    0.500000   \n",
              "2              0.318243                    0.400000   \n",
              "3              0.800000                    0.452708   \n",
              "4              0.000000                    0.000000   \n",
              "..                  ...                         ...   \n",
              "157            0.318243                    0.000000   \n",
              "158            0.318243                    0.452708   \n",
              "159            0.318243                    1.000000   \n",
              "160            0.318243                    0.452708   \n",
              "161            0.318243                    0.452708   \n",
              "\n",
              "     Technology Ethics and AI   Techno-economics of networks   \\\n",
              "0                     0.423286                       0.396622   \n",
              "1                     0.423286                       0.396622   \n",
              "2                     0.423286                       0.396622   \n",
              "3                     0.423286                       0.800000   \n",
              "4                     0.000000                       0.000000   \n",
              "..                         ...                            ...   \n",
              "157                   0.423286                       0.396622   \n",
              "158                   0.423286                       0.396622   \n",
              "159                   0.423286                       0.396622   \n",
              "160                   0.423286                       0.396622   \n",
              "161                   0.423286                       0.396622   \n",
              "\n",
              "     The Web and the Mind   \n",
              "0                 0.510897  \n",
              "1                 0.510897  \n",
              "2                 0.510897  \n",
              "3                 0.510897  \n",
              "4                 0.000000  \n",
              "..                     ...  \n",
              "157               0.510897  \n",
              "158               0.200000  \n",
              "159               1.000000  \n",
              "160               0.510897  \n",
              "161               0.510897  \n",
              "\n",
              "[162 rows x 25 columns]"
            ]
          },
          "execution_count": 552,
          "metadata": {},
          "output_type": "execute_result"
        }
      ],
      "source": [
        "df"
      ]
    },
    {
      "cell_type": "code",
      "execution_count": 553,
      "metadata": {
        "colab": {
          "base_uri": "https://localhost:8080/",
          "height": 279
        },
        "id": "nI2-OTRC0U7j",
        "outputId": "8e4bd209-768a-40a1-f021-7ab4d7b38014"
      },
      "outputs": [
        {
          "data": {
            "image/png": "[encoded data removed]",
            "text/plain": [
              "<Figure size 432x288 with 1 Axes>"
            ]
          },
          "metadata": {
            "needs_background": "light"
          },
          "output_type": "display_data"
        }
      ],
      "source": [
        "from sklearn.decomposition import PCA\n",
        "X_std = StandardScaler().fit_transform(df)\n",
        "pca = PCA(n_components=4)\n",
        "principalComponents = pca.fit_transform(X_std)\n",
        "# Plot the explained variances\n",
        "features = range(pca.n_components_)\n",
        "plt.bar(features, pca.explained_variance_ratio_, color='black')\n",
        "plt.xlabel('PCA features')\n",
        "plt.ylabel('variance %')\n",
        "plt.xticks(features)\n",
        "# Save components to a DataFrame\n",
        "PCA_components = pd.DataFrame(principalComponents)"
      ]
    },
    {
      "cell_type": "code",
      "execution_count": 556,
      "metadata": {
        "colab": {
          "base_uri": "https://localhost:8080/",
          "height": 297
        },
        "id": "S4GqNV440U7j",
        "outputId": "1d3c96cf-b061-41f4-819b-301fe684c3e0"
      },
      "outputs": [
        {
          "data": {
            "text/plain": [
              "Text(0, 0.5, 'PCA 3')"
            ]
          },
          "execution_count": 556,
          "metadata": {},
          "output_type": "execute_result"
        },
        {
          "data": {
            "image/png": "[encoded data removed]",
            "text/plain": [
              "<Figure size 432x288 with 1 Axes>"
            ]
          },
          "metadata": {
            "needs_background": "light"
          },
          "output_type": "display_data"
        }
      ],
      "source": [
        "plt.scatter(PCA_components[0], PCA_components[1], alpha=.5, color='black')\n",
        "plt.xlabel('PCA 2')\n",
        "plt.ylabel('PCA 3')\n"
      ]
    },
    {
      "cell_type": "code",
      "execution_count": 555,
      "metadata": {
        "colab": {
          "base_uri": "https://localhost:8080/",
          "height": 620
        },
        "id": "docA0r-90U7j",
        "outputId": "5f48d6bc-a82d-4537-a2ee-625935d781e7"
      },
      "outputs": [
        {
          "name": "stderr",
          "output_type": "stream",
          "text": [
            "/usr/local/lib/python3.9/dist-packages/sklearn/cluster/_kmeans.py:870: FutureWarning: The default value of `n_init` will change from 10 to 'auto' in 1.4. Set the value of `n_init` explicitly to suppress the warning\n",
            "  warnings.warn(\n",
            "/usr/local/lib/python3.9/dist-packages/sklearn/cluster/_kmeans.py:870: FutureWarning: The default value of `n_init` will change from 10 to 'auto' in 1.4. Set the value of `n_init` explicitly to suppress the warning\n",
            "  warnings.warn(\n",
            "/usr/local/lib/python3.9/dist-packages/sklearn/cluster/_kmeans.py:870: FutureWarning: The default value of `n_init` will change from 10 to 'auto' in 1.4. Set the value of `n_init` explicitly to suppress the warning\n",
            "  warnings.warn(\n",
            "/usr/local/lib/python3.9/dist-packages/sklearn/cluster/_kmeans.py:870: FutureWarning: The default value of `n_init` will change from 10 to 'auto' in 1.4. Set the value of `n_init` explicitly to suppress the warning\n",
            "  warnings.warn(\n",
            "/usr/local/lib/python3.9/dist-packages/sklearn/cluster/_kmeans.py:870: FutureWarning: The default value of `n_init` will change from 10 to 'auto' in 1.4. Set the value of `n_init` explicitly to suppress the warning\n",
            "  warnings.warn(\n",
            "/usr/local/lib/python3.9/dist-packages/sklearn/cluster/_kmeans.py:870: FutureWarning: The default value of `n_init` will change from 10 to 'auto' in 1.4. Set the value of `n_init` explicitly to suppress the warning\n",
            "  warnings.warn(\n",
            "/usr/local/lib/python3.9/dist-packages/sklearn/cluster/_kmeans.py:870: FutureWarning: The default value of `n_init` will change from 10 to 'auto' in 1.4. Set the value of `n_init` explicitly to suppress the warning\n",
            "  warnings.warn(\n",
            "/usr/local/lib/python3.9/dist-packages/sklearn/cluster/_kmeans.py:870: FutureWarning: The default value of `n_init` will change from 10 to 'auto' in 1.4. Set the value of `n_init` explicitly to suppress the warning\n",
            "  warnings.warn(\n",
            "/usr/local/lib/python3.9/dist-packages/sklearn/cluster/_kmeans.py:870: FutureWarning: The default value of `n_init` will change from 10 to 'auto' in 1.4. Set the value of `n_init` explicitly to suppress the warning\n",
            "  warnings.warn(\n"
          ]
        },
        {
          "data": {
            "image/png": "[encoded data removed]",
            "text/plain": [
              "<Figure size 432x288 with 1 Axes>"
            ]
          },
          "metadata": {
            "needs_background": "light"
          },
          "output_type": "display_data"
        }
      ],
      "source": [
        "ks = range(1, 10)\n",
        "inertias = []\n",
        "for k in ks:\n",
        "    # Create a KMeans instance with k clusters: model\n",
        "    model = KMeans(n_clusters=k)\n",
        "    \n",
        "    # Fit model to samples\n",
        "    model.fit(PCA_components.iloc[:,:3])\n",
        "    \n",
        "    # Append the inertia to the list of inertias\n",
        "    inertias.append(model.inertia_)\n",
        "    \n",
        "plt.plot(ks, inertias, '-o', color='black')\n",
        "plt.xlabel('number of clusters, k')\n",
        "plt.ylabel('inertia')\n",
        "plt.xticks(ks)\n",
        "plt.show()"
      ]
    },
    {
      "cell_type": "code",
      "execution_count": 555,
      "metadata": {
        "id": "QnvEu2dj0U7j"
      },
      "outputs": [],
      "source": []
    }
  ],
  "metadata": {
    "colab": {
      "provenance": []
    },
    "kernelspec": {
      "display_name": "Python 3.10.6 64-bit",
      "language": "python",
      "name": "python3"
    },
    "language_info": {
      "codemirror_mode": {
        "name": "ipython",
        "version": 3
      },
      "file_extension": ".py",
      "mimetype": "text/x-python",
      "name": "python",
      "nbconvert_exporter": "python",
      "pygments_lexer": "ipython3",
      "version": "3.10.8"
    },
    "orig_nbformat": 4,
    "vscode": {
      "interpreter": {
        "hash": "e7370f93d1d0cde622a1f8e1c04877d8463912d04d973331ad4851f04de6915a"
      }
    }
  },
  "nbformat": 4,
  "nbformat_minor": 0
}
