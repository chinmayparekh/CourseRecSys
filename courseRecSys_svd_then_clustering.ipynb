{
  "cells": [
    {
      "cell_type": "code",
      "execution_count": 377,
      "metadata": {
        "id": "iP5kUYKb0U7R"
      },
      "outputs": [],
      "source": [
        "import pandas as pd\n",
        "import numpy as np\n",
        "from sklearn.preprocessing import StandardScaler\n",
        "from sklearn.cluster import KMeans\n",
        "import matplotlib.pyplot as plt\n",
        "from sklearn.decomposition import TruncatedSVD\n",
        "from sklearn.model_selection import train_test_split\n",
        "import sys\n"
      ]
    },
    {
      "cell_type": "code",
      "execution_count": 378,
      "metadata": {
        "id": "8YigzDPP0U7V"
      },
      "outputs": [],
      "source": [
        "filename = 'courseRecSys.xlsx'\n",
        "splitProp = 0.95"
      ]
    },
    {
      "cell_type": "code",
      "execution_count": 379,
      "metadata": {
        "id": "Yz98GSBA0U7V"
      },
      "outputs": [],
      "source": [
        "def read_data(filename):\n",
        "    df = pd.read_excel(filename,\n",
        "    header=0,\n",
        "    index_col=False,\n",
        "    keep_default_na=True\n",
        "    )\n",
        "    return df"
      ]
    },
    {
      "cell_type": "code",
      "execution_count": 380,
      "metadata": {
        "id": "Ph7zPkHh0U7W"
      },
      "outputs": [],
      "source": [
        "def preprocess(df):\n",
        "    df=df.drop(['Start time','Completion time','Email','Name','Name(not mandatory)\\n','ID'], axis=1)\n",
        "    \n",
        "    df[\"avg\"] = df.mean(axis = 0, skipna=True, numeric_only=True)\n",
        "    df=df.apply(lambda x: x.fillna(x.mean()),axis=0)\n",
        "    df = df.drop([\"avg\"],axis =1)\n",
        "    return df"
      ]
    },
    {
      "cell_type": "code",
      "execution_count": 381,
      "metadata": {
        "colab": {
          "base_uri": "https://localhost:8080/",
          "height": 574
        },
        "id": "SWrMiBDB0U7Y",
        "outputId": "e8181ec7-b2ed-4b7e-e022-f415b1b490c8"
      },
      "outputs": [
        {
          "data": {
            "text/html": [
              "<div>\n",
              "<style scoped>\n",
              "    .dataframe tbody tr th:only-of-type {\n",
              "        vertical-align: middle;\n",
              "    }\n",
              "\n",
              "    .dataframe tbody tr th {\n",
              "        vertical-align: top;\n",
              "    }\n",
              "\n",
              "    .dataframe thead th {\n",
              "        text-align: right;\n",
              "    }\n",
              "</style>\n",
              "<table border=\"1\" class=\"dataframe\">\n",
              "  <thead>\n",
              "    <tr style=\"text-align: right;\">\n",
              "      <th></th>\n",
              "      <th>Data Structures and Algorithms</th>\n",
              "      <th>Computer Architecture\\n</th>\n",
              "      <th>Discrete Mathematics\\n</th>\n",
              "      <th>Economics</th>\n",
              "      <th>Programming-2</th>\n",
              "      <th>Machine Learning\\n</th>\n",
              "      <th>Mathematics For Machine Learning\\n</th>\n",
              "      <th>Visual Recognition\\n</th>\n",
              "      <th>Natural Language Processing\\n</th>\n",
              "      <th>Reinforcement Learning</th>\n",
              "      <th>...</th>\n",
              "      <th>Digital CMOS VLSI Design</th>\n",
              "      <th>System design with FPGA</th>\n",
              "      <th>ASIC design</th>\n",
              "      <th>VLSI Architecture Design\\n</th>\n",
              "      <th>High level synthesis and optimization of Digital Circuits</th>\n",
              "      <th>Digital Sociology</th>\n",
              "      <th>Privacy in the Digital Age</th>\n",
              "      <th>Technology Ethics and AI</th>\n",
              "      <th>Techno-economics of networks</th>\n",
              "      <th>The Web and the Mind</th>\n",
              "    </tr>\n",
              "  </thead>\n",
              "  <tbody>\n",
              "    <tr>\n",
              "      <th>0</th>\n",
              "      <td>0.30</td>\n",
              "      <td>0.85</td>\n",
              "      <td>0.85</td>\n",
              "      <td>0.90</td>\n",
              "      <td>0.70</td>\n",
              "      <td>0.70</td>\n",
              "      <td>0.80</td>\n",
              "      <td>0.620098</td>\n",
              "      <td>0.572638</td>\n",
              "      <td>0.603495</td>\n",
              "      <td>...</td>\n",
              "      <td>0.251538</td>\n",
              "      <td>0.246316</td>\n",
              "      <td>0.214805</td>\n",
              "      <td>0.234868</td>\n",
              "      <td>0.168056</td>\n",
              "      <td>0.318243</td>\n",
              "      <td>0.600000</td>\n",
              "      <td>0.423286</td>\n",
              "      <td>0.396622</td>\n",
              "      <td>0.510897</td>\n",
              "    </tr>\n",
              "    <tr>\n",
              "      <th>1</th>\n",
              "      <td>0.70</td>\n",
              "      <td>0.80</td>\n",
              "      <td>0.20</td>\n",
              "      <td>0.80</td>\n",
              "      <td>0.80</td>\n",
              "      <td>0.50</td>\n",
              "      <td>0.10</td>\n",
              "      <td>0.200000</td>\n",
              "      <td>0.572638</td>\n",
              "      <td>0.603495</td>\n",
              "      <td>...</td>\n",
              "      <td>0.251538</td>\n",
              "      <td>0.246316</td>\n",
              "      <td>0.214805</td>\n",
              "      <td>0.234868</td>\n",
              "      <td>0.168056</td>\n",
              "      <td>0.318243</td>\n",
              "      <td>0.500000</td>\n",
              "      <td>0.423286</td>\n",
              "      <td>0.396622</td>\n",
              "      <td>0.510897</td>\n",
              "    </tr>\n",
              "    <tr>\n",
              "      <th>2</th>\n",
              "      <td>0.70</td>\n",
              "      <td>0.00</td>\n",
              "      <td>1.00</td>\n",
              "      <td>1.00</td>\n",
              "      <td>1.00</td>\n",
              "      <td>1.00</td>\n",
              "      <td>1.00</td>\n",
              "      <td>0.800000</td>\n",
              "      <td>0.900000</td>\n",
              "      <td>1.000000</td>\n",
              "      <td>...</td>\n",
              "      <td>0.251538</td>\n",
              "      <td>0.246316</td>\n",
              "      <td>0.214805</td>\n",
              "      <td>0.234868</td>\n",
              "      <td>0.168056</td>\n",
              "      <td>0.318243</td>\n",
              "      <td>0.400000</td>\n",
              "      <td>0.423286</td>\n",
              "      <td>0.396622</td>\n",
              "      <td>0.510897</td>\n",
              "    </tr>\n",
              "    <tr>\n",
              "      <th>3</th>\n",
              "      <td>0.65</td>\n",
              "      <td>0.70</td>\n",
              "      <td>0.20</td>\n",
              "      <td>0.75</td>\n",
              "      <td>0.75</td>\n",
              "      <td>0.75</td>\n",
              "      <td>0.75</td>\n",
              "      <td>0.750000</td>\n",
              "      <td>0.572638</td>\n",
              "      <td>0.603495</td>\n",
              "      <td>...</td>\n",
              "      <td>0.251538</td>\n",
              "      <td>0.246316</td>\n",
              "      <td>0.214805</td>\n",
              "      <td>0.234868</td>\n",
              "      <td>0.168056</td>\n",
              "      <td>0.800000</td>\n",
              "      <td>0.452708</td>\n",
              "      <td>0.423286</td>\n",
              "      <td>0.800000</td>\n",
              "      <td>0.510897</td>\n",
              "    </tr>\n",
              "    <tr>\n",
              "      <th>4</th>\n",
              "      <td>0.70</td>\n",
              "      <td>0.60</td>\n",
              "      <td>0.20</td>\n",
              "      <td>0.00</td>\n",
              "      <td>0.80</td>\n",
              "      <td>0.50</td>\n",
              "      <td>0.60</td>\n",
              "      <td>0.400000</td>\n",
              "      <td>0.400000</td>\n",
              "      <td>0.200000</td>\n",
              "      <td>...</td>\n",
              "      <td>0.000000</td>\n",
              "      <td>0.000000</td>\n",
              "      <td>0.000000</td>\n",
              "      <td>0.000000</td>\n",
              "      <td>0.000000</td>\n",
              "      <td>0.000000</td>\n",
              "      <td>0.000000</td>\n",
              "      <td>0.000000</td>\n",
              "      <td>0.000000</td>\n",
              "      <td>0.000000</td>\n",
              "    </tr>\n",
              "    <tr>\n",
              "      <th>...</th>\n",
              "      <td>...</td>\n",
              "      <td>...</td>\n",
              "      <td>...</td>\n",
              "      <td>...</td>\n",
              "      <td>...</td>\n",
              "      <td>...</td>\n",
              "      <td>...</td>\n",
              "      <td>...</td>\n",
              "      <td>...</td>\n",
              "      <td>...</td>\n",
              "      <td>...</td>\n",
              "      <td>...</td>\n",
              "      <td>...</td>\n",
              "      <td>...</td>\n",
              "      <td>...</td>\n",
              "      <td>...</td>\n",
              "      <td>...</td>\n",
              "      <td>...</td>\n",
              "      <td>...</td>\n",
              "      <td>...</td>\n",
              "      <td>...</td>\n",
              "    </tr>\n",
              "    <tr>\n",
              "      <th>157</th>\n",
              "      <td>0.00</td>\n",
              "      <td>1.00</td>\n",
              "      <td>0.50</td>\n",
              "      <td>0.70</td>\n",
              "      <td>0.60</td>\n",
              "      <td>0.50</td>\n",
              "      <td>0.30</td>\n",
              "      <td>0.700000</td>\n",
              "      <td>0.572638</td>\n",
              "      <td>0.603495</td>\n",
              "      <td>...</td>\n",
              "      <td>0.251538</td>\n",
              "      <td>0.246316</td>\n",
              "      <td>0.214805</td>\n",
              "      <td>0.234868</td>\n",
              "      <td>0.168056</td>\n",
              "      <td>0.318243</td>\n",
              "      <td>0.000000</td>\n",
              "      <td>0.423286</td>\n",
              "      <td>0.396622</td>\n",
              "      <td>0.510897</td>\n",
              "    </tr>\n",
              "    <tr>\n",
              "      <th>158</th>\n",
              "      <td>1.00</td>\n",
              "      <td>0.00</td>\n",
              "      <td>0.00</td>\n",
              "      <td>0.70</td>\n",
              "      <td>0.70</td>\n",
              "      <td>0.00</td>\n",
              "      <td>0.00</td>\n",
              "      <td>0.000000</td>\n",
              "      <td>0.572638</td>\n",
              "      <td>0.603495</td>\n",
              "      <td>...</td>\n",
              "      <td>0.251538</td>\n",
              "      <td>0.246316</td>\n",
              "      <td>0.214805</td>\n",
              "      <td>0.234868</td>\n",
              "      <td>0.168056</td>\n",
              "      <td>0.318243</td>\n",
              "      <td>0.452708</td>\n",
              "      <td>0.423286</td>\n",
              "      <td>0.396622</td>\n",
              "      <td>0.200000</td>\n",
              "    </tr>\n",
              "    <tr>\n",
              "      <th>159</th>\n",
              "      <td>0.60</td>\n",
              "      <td>0.30</td>\n",
              "      <td>0.40</td>\n",
              "      <td>0.90</td>\n",
              "      <td>0.80</td>\n",
              "      <td>0.70</td>\n",
              "      <td>0.40</td>\n",
              "      <td>0.500000</td>\n",
              "      <td>0.400000</td>\n",
              "      <td>0.200000</td>\n",
              "      <td>...</td>\n",
              "      <td>0.251538</td>\n",
              "      <td>0.246316</td>\n",
              "      <td>0.214805</td>\n",
              "      <td>0.234868</td>\n",
              "      <td>0.168056</td>\n",
              "      <td>0.318243</td>\n",
              "      <td>1.000000</td>\n",
              "      <td>0.423286</td>\n",
              "      <td>0.396622</td>\n",
              "      <td>1.000000</td>\n",
              "    </tr>\n",
              "    <tr>\n",
              "      <th>160</th>\n",
              "      <td>0.80</td>\n",
              "      <td>0.60</td>\n",
              "      <td>0.20</td>\n",
              "      <td>0.40</td>\n",
              "      <td>0.70</td>\n",
              "      <td>0.70</td>\n",
              "      <td>0.80</td>\n",
              "      <td>0.620098</td>\n",
              "      <td>0.572638</td>\n",
              "      <td>0.700000</td>\n",
              "      <td>...</td>\n",
              "      <td>0.251538</td>\n",
              "      <td>0.246316</td>\n",
              "      <td>0.214805</td>\n",
              "      <td>0.234868</td>\n",
              "      <td>0.168056</td>\n",
              "      <td>0.318243</td>\n",
              "      <td>0.452708</td>\n",
              "      <td>0.423286</td>\n",
              "      <td>0.396622</td>\n",
              "      <td>0.510897</td>\n",
              "    </tr>\n",
              "    <tr>\n",
              "      <th>161</th>\n",
              "      <td>0.40</td>\n",
              "      <td>0.70</td>\n",
              "      <td>0.90</td>\n",
              "      <td>0.40</td>\n",
              "      <td>0.40</td>\n",
              "      <td>0.70</td>\n",
              "      <td>0.90</td>\n",
              "      <td>0.620098</td>\n",
              "      <td>0.572638</td>\n",
              "      <td>0.800000</td>\n",
              "      <td>...</td>\n",
              "      <td>0.251538</td>\n",
              "      <td>0.246316</td>\n",
              "      <td>0.214805</td>\n",
              "      <td>0.234868</td>\n",
              "      <td>0.168056</td>\n",
              "      <td>0.318243</td>\n",
              "      <td>0.452708</td>\n",
              "      <td>0.423286</td>\n",
              "      <td>0.396622</td>\n",
              "      <td>0.510897</td>\n",
              "    </tr>\n",
              "  </tbody>\n",
              "</table>\n",
              "<p>162 rows × 25 columns</p>\n",
              "</div>"
            ],
            "text/plain": [
              "     Data Structures and Algorithms  Computer Architecture\\n  \\\n",
              "0                              0.30                     0.85   \n",
              "1                              0.70                     0.80   \n",
              "2                              0.70                     0.00   \n",
              "3                              0.65                     0.70   \n",
              "4                              0.70                     0.60   \n",
              "..                              ...                      ...   \n",
              "157                            0.00                     1.00   \n",
              "158                            1.00                     0.00   \n",
              "159                            0.60                     0.30   \n",
              "160                            0.80                     0.60   \n",
              "161                            0.40                     0.70   \n",
              "\n",
              "     Discrete Mathematics\\n  Economics  Programming-2  Machine Learning\\n  \\\n",
              "0                      0.85       0.90           0.70                0.70   \n",
              "1                      0.20       0.80           0.80                0.50   \n",
              "2                      1.00       1.00           1.00                1.00   \n",
              "3                      0.20       0.75           0.75                0.75   \n",
              "4                      0.20       0.00           0.80                0.50   \n",
              "..                      ...        ...            ...                 ...   \n",
              "157                    0.50       0.70           0.60                0.50   \n",
              "158                    0.00       0.70           0.70                0.00   \n",
              "159                    0.40       0.90           0.80                0.70   \n",
              "160                    0.20       0.40           0.70                0.70   \n",
              "161                    0.90       0.40           0.40                0.70   \n",
              "\n",
              "     Mathematics For Machine Learning\\n  Visual Recognition\\n  \\\n",
              "0                                  0.80              0.620098   \n",
              "1                                  0.10              0.200000   \n",
              "2                                  1.00              0.800000   \n",
              "3                                  0.75              0.750000   \n",
              "4                                  0.60              0.400000   \n",
              "..                                  ...                   ...   \n",
              "157                                0.30              0.700000   \n",
              "158                                0.00              0.000000   \n",
              "159                                0.40              0.500000   \n",
              "160                                0.80              0.620098   \n",
              "161                                0.90              0.620098   \n",
              "\n",
              "     Natural Language Processing\\n  Reinforcement Learning  ...  \\\n",
              "0                         0.572638                0.603495  ...   \n",
              "1                         0.572638                0.603495  ...   \n",
              "2                         0.900000                1.000000  ...   \n",
              "3                         0.572638                0.603495  ...   \n",
              "4                         0.400000                0.200000  ...   \n",
              "..                             ...                     ...  ...   \n",
              "157                       0.572638                0.603495  ...   \n",
              "158                       0.572638                0.603495  ...   \n",
              "159                       0.400000                0.200000  ...   \n",
              "160                       0.572638                0.700000  ...   \n",
              "161                       0.572638                0.800000  ...   \n",
              "\n",
              "     Digital CMOS VLSI Design   System design with FPGA   ASIC design   \\\n",
              "0                     0.251538                  0.246316      0.214805   \n",
              "1                     0.251538                  0.246316      0.214805   \n",
              "2                     0.251538                  0.246316      0.214805   \n",
              "3                     0.251538                  0.246316      0.214805   \n",
              "4                     0.000000                  0.000000      0.000000   \n",
              "..                         ...                       ...           ...   \n",
              "157                   0.251538                  0.246316      0.214805   \n",
              "158                   0.251538                  0.246316      0.214805   \n",
              "159                   0.251538                  0.246316      0.214805   \n",
              "160                   0.251538                  0.246316      0.214805   \n",
              "161                   0.251538                  0.246316      0.214805   \n",
              "\n",
              "     VLSI Architecture Design\\n  \\\n",
              "0                      0.234868   \n",
              "1                      0.234868   \n",
              "2                      0.234868   \n",
              "3                      0.234868   \n",
              "4                      0.000000   \n",
              "..                          ...   \n",
              "157                    0.234868   \n",
              "158                    0.234868   \n",
              "159                    0.234868   \n",
              "160                    0.234868   \n",
              "161                    0.234868   \n",
              "\n",
              "     High level synthesis and optimization of Digital Circuits   \\\n",
              "0                                             0.168056            \n",
              "1                                             0.168056            \n",
              "2                                             0.168056            \n",
              "3                                             0.168056            \n",
              "4                                             0.000000            \n",
              "..                                                 ...            \n",
              "157                                           0.168056            \n",
              "158                                           0.168056            \n",
              "159                                           0.168056            \n",
              "160                                           0.168056            \n",
              "161                                           0.168056            \n",
              "\n",
              "     Digital Sociology   Privacy in the Digital Age  \\\n",
              "0              0.318243                    0.600000   \n",
              "1              0.318243                    0.500000   \n",
              "2              0.318243                    0.400000   \n",
              "3              0.800000                    0.452708   \n",
              "4              0.000000                    0.000000   \n",
              "..                  ...                         ...   \n",
              "157            0.318243                    0.000000   \n",
              "158            0.318243                    0.452708   \n",
              "159            0.318243                    1.000000   \n",
              "160            0.318243                    0.452708   \n",
              "161            0.318243                    0.452708   \n",
              "\n",
              "     Technology Ethics and AI   Techno-economics of networks   \\\n",
              "0                     0.423286                       0.396622   \n",
              "1                     0.423286                       0.396622   \n",
              "2                     0.423286                       0.396622   \n",
              "3                     0.423286                       0.800000   \n",
              "4                     0.000000                       0.000000   \n",
              "..                         ...                            ...   \n",
              "157                   0.423286                       0.396622   \n",
              "158                   0.423286                       0.396622   \n",
              "159                   0.423286                       0.396622   \n",
              "160                   0.423286                       0.396622   \n",
              "161                   0.423286                       0.396622   \n",
              "\n",
              "     The Web and the Mind   \n",
              "0                 0.510897  \n",
              "1                 0.510897  \n",
              "2                 0.510897  \n",
              "3                 0.510897  \n",
              "4                 0.000000  \n",
              "..                     ...  \n",
              "157               0.510897  \n",
              "158               0.200000  \n",
              "159               1.000000  \n",
              "160               0.510897  \n",
              "161               0.510897  \n",
              "\n",
              "[162 rows x 25 columns]"
            ]
          },
          "execution_count": 381,
          "metadata": {},
          "output_type": "execute_result"
        }
      ],
      "source": [
        "df=read_data(filename)\n",
        "df = preprocess(df)\n",
        "df"
      ]
    },
    {
      "cell_type": "markdown",
      "metadata": {
        "id": "nP9gwiVZ0U7Z"
      },
      "source": [
        "change 0.5 to average of ratings of that user"
      ]
    },
    {
      "cell_type": "code",
      "execution_count": 382,
      "metadata": {
        "id": "Gyq7T_oK0U7a"
      },
      "outputs": [],
      "source": [
        "train,test = train_test_split(df,train_size=splitProp, random_state=42,shuffle = True)"
      ]
    },
    {
      "cell_type": "code",
      "execution_count": 383,
      "metadata": {
        "colab": {
          "base_uri": "https://localhost:8080/"
        },
        "id": "Y_9Ez5OU0U7a",
        "outputId": "c4e4b33a-cefa-4e1b-8fbb-a2f0b97d5e17"
      },
      "outputs": [
        {
          "data": {
            "text/plain": [
              "(162, 25)"
            ]
          },
          "execution_count": 383,
          "metadata": {},
          "output_type": "execute_result"
        }
      ],
      "source": [
        "df.shape"
      ]
    },
    {
      "cell_type": "code",
      "execution_count": 384,
      "metadata": {
        "colab": {
          "base_uri": "https://localhost:8080/"
        },
        "id": "9OEV-Asz0U7b",
        "outputId": "9f2e628e-4165-4a71-9502-582d1d1573c1"
      },
      "outputs": [
        {
          "data": {
            "text/plain": [
              "(9, 25)"
            ]
          },
          "execution_count": 384,
          "metadata": {},
          "output_type": "execute_result"
        }
      ],
      "source": [
        "test.shape"
      ]
    },
    {
      "cell_type": "code",
      "execution_count": 385,
      "metadata": {
        "colab": {
          "base_uri": "https://localhost:8080/"
        },
        "id": "3P0IYDnV0U7b",
        "outputId": "c6427ed9-12e5-4cdb-f095-94ac0256e083"
      },
      "outputs": [
        {
          "data": {
            "text/plain": [
              "Data Structures and Algorithms                                0\n",
              "Computer Architecture\\n                                       0\n",
              "Discrete Mathematics\\n                                        0\n",
              "Economics                                                     0\n",
              "Programming-2                                                 0\n",
              "Machine Learning\\n                                            0\n",
              "Mathematics For Machine Learning\\n                            0\n",
              "Visual Recognition\\n                                          0\n",
              "Natural Language Processing\\n                                 0\n",
              "Reinforcement Learning                                        0\n",
              "Software Production Engineering\\n                             0\n",
              "Computer Graphics\\n                                           0\n",
              "Data Visualization\\n                                          0\n",
              "Programming Languages\\n                                       0\n",
              "Cloud Computing\\n                                             0\n",
              "Digital CMOS VLSI Design                                      0\n",
              "System design with FPGA                                       0\n",
              "ASIC design                                                   0\n",
              "VLSI Architecture Design\\n                                    0\n",
              "High level synthesis and optimization of Digital Circuits     0\n",
              "Digital Sociology                                             0\n",
              "Privacy in the Digital Age                                    0\n",
              "Technology Ethics and AI                                      0\n",
              "Techno-economics of networks                                  0\n",
              "The Web and the Mind                                          0\n",
              "dtype: int64"
            ]
          },
          "execution_count": 385,
          "metadata": {},
          "output_type": "execute_result"
        }
      ],
      "source": [
        "df.isna().sum()"
      ]
    },
    {
      "cell_type": "code",
      "execution_count": 386,
      "metadata": {
        "colab": {
          "base_uri": "https://localhost:8080/"
        },
        "id": "gKriFr1K0U7c",
        "outputId": "779beea9-bf89-409f-b272-74c0a5f7f6c4"
      },
      "outputs": [
        {
          "data": {
            "text/plain": [
              "Index(['Data Structures and Algorithms', 'Computer Architecture\\n',\n",
              "       'Discrete Mathematics\\n', 'Economics', 'Programming-2',\n",
              "       'Machine Learning\\n', 'Mathematics For Machine Learning\\n',\n",
              "       'Visual Recognition\\n', 'Natural Language Processing\\n',\n",
              "       'Reinforcement Learning', 'Software Production Engineering\\n',\n",
              "       'Computer Graphics\\n', 'Data Visualization\\n',\n",
              "       'Programming Languages\\n', 'Cloud Computing\\n',\n",
              "       'Digital CMOS VLSI Design ', 'System design with FPGA ', 'ASIC design ',\n",
              "       'VLSI Architecture Design\\n',\n",
              "       'High level synthesis and optimization of Digital Circuits ',\n",
              "       'Digital Sociology ', 'Privacy in the Digital Age',\n",
              "       'Technology Ethics and AI ', 'Techno-economics of networks ',\n",
              "       'The Web and the Mind '],\n",
              "      dtype='object')"
            ]
          },
          "execution_count": 386,
          "metadata": {},
          "output_type": "execute_result"
        }
      ],
      "source": [
        "courses = df.columns\n",
        "courses"
      ]
    },
    {
      "cell_type": "code",
      "execution_count": 387,
      "metadata": {
        "id": "PMNiVQG40U7c"
      },
      "outputs": [],
      "source": [
        "core_courses = ['Data Structures and Algorithms','Computer Architecture\\n','Discrete Mathematics\\n','Economics','Programming-2']"
      ]
    },
    {
      "cell_type": "code",
      "execution_count": 388,
      "metadata": {
        "id": "Os2o5k7I0U7c"
      },
      "outputs": [],
      "source": [
        "def visualize(point):\n",
        "    wcss = []  #Within Cluster Sum of Squares\n",
        "    for number_of_clusters in range(1, 15): \n",
        "        kmeans = KMeans(n_clusters = number_of_clusters, random_state = 42)\n",
        "        kmeans.fit(df[core_courses]) \n",
        "        wcss.append(kmeans.inertia_)\n",
        "    ks = np.arange(1,15,1)\n",
        "    plt.plot(ks, wcss)\n",
        "    plt.axvline(point, linestyle='--', color='r')\n",
        "    return wcss"
      ]
    },
    {
      "cell_type": "code",
      "execution_count": 389,
      "metadata": {
        "colab": {
          "base_uri": "https://localhost:8080/",
          "height": 1000
        },
        "id": "tlVhYQGz0U7d",
        "outputId": "216f6254-43eb-4adc-ea66-fc35687a84e1"
      },
      "outputs": [
        {
          "data": {
            "text/plain": [
              "[82.11226015529861,\n",
              " 63.24078648485308,\n",
              " 51.59371019141971,\n",
              " 44.925208436514524,\n",
              " 39.88330675972086,\n",
              " 36.1746361281475,\n",
              " 33.398702023260036,\n",
              " 30.5695359693512,\n",
              " 28.1421428563879,\n",
              " 25.519097800451988,\n",
              " 24.303521924994463,\n",
              " 22.250775245363172,\n",
              " 21.26505642848125,\n",
              " 19.7185773653146]"
            ]
          },
          "execution_count": 389,
          "metadata": {},
          "output_type": "execute_result"
        },
        {
          "data": {
            "image/png": "[encoded data removed]",
            "text/plain": [
              "<Figure size 640x480 with 1 Axes>"
            ]
          },
          "metadata": {},
          "output_type": "display_data"
        }
      ],
      "source": [
        "visualize(5)"
      ]
    },
    {
      "cell_type": "code",
      "execution_count": 449,
      "metadata": {
        "id": "0Vv7a0IV0U7d"
      },
      "outputs": [],
      "source": [
        "def K_means(df, num_clusters, iters):\n",
        "    np_dat = df.to_numpy()\n",
        "    # Initialize the centroids\n",
        "    range_min = np.min(np_dat, axis = 0)\n",
        "    range_max = np.max(np_dat, axis = 0)\n",
        "    curr_centroids = []\n",
        "    np.random.seed(100)\n",
        "    for i in range(num_clusters):\n",
        "        curr_centroids.append(np.random.uniform(range_min, range_max))\n",
        "    clusters = {}\n",
        "    for it in range(iters):\n",
        "        # Repopulate clusters\n",
        "        clusters.clear()\n",
        "        for j in range(np_dat.shape[0]):\n",
        "            datapoint = np_dat[j]\n",
        "            min = sys.maxsize\n",
        "            min_index = 10\n",
        "            for k in range(num_clusters):\n",
        "                dist = np.linalg.norm(curr_centroids[k] - datapoint)\n",
        "                if(dist < min):\n",
        "                    min = dist\n",
        "                    min_index = k\n",
        "            if(clusters.get(str(min_index)) == None):\n",
        "                clusters[str(min_index)] = []\n",
        "            clusters[str(min_index)].append(j)\n",
        "        \n",
        "        # Recalculate Centroids\n",
        "        new_centroids = []\n",
        "        for k in range(num_clusters):\n",
        "            key = str(k)\n",
        "            if(clusters.get(key) == None): \n",
        "                n_centr = curr_centroids[k]\n",
        "                #n_centr = np.random.uniform(range_min, range_max)\n",
        "            else: n_centr = np.mean(np_dat[np.array(clusters[key])], axis = 0)\n",
        "            new_centroids.append(n_centr)\n",
        "        \n",
        "        #if((np.not_equal(new_centroids, curr_centroids).any()) != True ): break\n",
        "        curr_centroids = new_centroids\n",
        "        #print(it)\n",
        "    return clusters\n"
      ]
    },
    {
      "cell_type": "code",
      "execution_count": 391,
      "metadata": {
        "id": "tx73Wooq0U7e"
      },
      "outputs": [],
      "source": [
        "def get_clustered_df(df,num_clusters):\n",
        "    \"\"\" kmeans = KMeans(n_clusters = num_clusters, random_state = 42)\n",
        "    clustered_matrix = kmeans.fit_predict(df[core_courses]) \n",
        "    print(clustered_matrix.shape) \"\"\"\n",
        "    cluster_dict = K_means(df[core_courses], num_clusters, 50)\n",
        "    print(cluster_dict)\n",
        "    clustered_df =[]\n",
        "    arr = df.to_numpy()\n",
        "    for k in range(num_clusters):\n",
        "        key = str(k)\n",
        "        centr = np.nanmean(arr[np.array(cluster_dict[key])], axis = 0)\n",
        "        clustered_df.append(centr)\n",
        "    \n",
        "    return clustered_df"
      ]
    },
    {
      "cell_type": "code",
      "execution_count": 392,
      "metadata": {
        "id": "hbYSKBdD0U7e"
      },
      "outputs": [],
      "source": [
        "def old_get_clustered_df(df,num_clusters):\n",
        "    kmeans = KMeans(n_clusters = num_clusters, random_state = 200)\n",
        "    clustered_matrix = kmeans.fit_predict(df[core_courses]) \n",
        "    # print(clustered_matrix.shape)\n",
        "    arr = df.to_numpy()\n",
        "    clustered_df = []\n",
        "    for i in range(num_clusters):\n",
        "        users = 0\n",
        "        s=np.zeros(25)\n",
        "        for j in range(len(clustered_matrix)):#162\n",
        "            \n",
        "            if clustered_matrix[j]==i:\n",
        "                s+=arr[j]\n",
        "                users = users + 1\n",
        "        mean = s/users\n",
        "        clustered_df.append(mean)\n",
        "    return clustered_df"
      ]
    },
    {
      "cell_type": "code",
      "execution_count": 393,
      "metadata": {
        "colab": {
          "base_uri": "https://localhost:8080/"
        },
        "id": "BceYisXI0U7e",
        "outputId": "f8a58522-c3e2-4f66-f6cd-4af229a0ef90"
      },
      "outputs": [],
      "source": [
        "clustered_df = old_get_clustered_df(df,10)"
      ]
    },
    {
      "cell_type": "code",
      "execution_count": 394,
      "metadata": {
        "id": "kWH18Egm0U7f"
      },
      "outputs": [],
      "source": [
        "# df = pd.DataFrame(clustered_df, columns = courses)\n",
        "# df"
      ]
    },
    {
      "cell_type": "code",
      "execution_count": 395,
      "metadata": {
        "id": "K9WzQdTH0U7f"
      },
      "outputs": [],
      "source": [
        "def svd(A):\n",
        "    \n",
        "    # Step 1: Compute the transpose of A\n",
        "    AT = A.T\n",
        "    # Step 2: Compute the product A x AT\n",
        "    ATA = A.dot(AT)\n",
        "    # Step 3: Compute the eigenvalues and eigenvectors of ATA\n",
        "    eigenvalues, eigenvectors = np.linalg.eig(ATA)\n",
        "    # Step 4: Sort the eigenvalues in descending order\n",
        "    sorted_idx = eigenvalues.argsort()[::-1]\n",
        "    eigenvalues = eigenvalues[sorted_idx]\n",
        "    eigenvectors = eigenvectors[:, sorted_idx]\n",
        "    # Step 5: Compute the diagonal matrix Sigma\n",
        "    Sigma = np.sqrt(eigenvalues)\n",
        "    # Step 6: Compute the pseudo-inverse of Sigma\n",
        "    # inv_Sigma = np.zeros((A.shape[1], A.shape[0]))\n",
        "    # print(np.diag(1.0 / Sigma).shape, inv_Sigma[:A.shape[0], :A.shape[0]].shape)\n",
        "    # inv_Sigma[:A.shape[1], :A.shape[1]] = np.diag(1.0 / Sigma)\n",
        "    # Step 7: Compute the product AT x V x inv(Sigma)\n",
        "    V = AT.dot(eigenvectors)\n",
        "    # Step 8: Normalize the columns of V\n",
        "    V = V / np.linalg.norm(V, axis=0)\n",
        "    # Step 9: Compute the product A x U x Sigma^-1\n",
        "    U = A.dot(V) / Sigma\n",
        "    return U, Sigma, V.T"
      ]
    },
    {
      "cell_type": "markdown",
      "metadata": {
        "id": "OCxMuPM011zz"
      },
      "source": [
        "Changing this "
      ]
    },
    {
      "cell_type": "code",
      "execution_count": 396,
      "metadata": {
        "colab": {
          "base_uri": "https://localhost:8080/"
        },
        "id": "5W45gkeD2B8o",
        "outputId": "d5452074-589f-4984-b1b7-32afe8ad650c"
      },
      "outputs": [
        {
          "data": {
            "text/plain": [
              "((162, 25), pandas.core.frame.DataFrame, 25)"
            ]
          },
          "execution_count": 396,
          "metadata": {},
          "output_type": "execute_result"
        }
      ],
      "source": [
        "df.shape,type(df),len(clustered_df[0])"
      ]
    },
    {
      "cell_type": "code",
      "execution_count": 397,
      "metadata": {
        "id": "Y_x-BdIV4OvB"
      },
      "outputs": [],
      "source": [
        "# svd = TruncatedSVD(n_components=25, n_iter=7, random_state=42)\n",
        "# reduced_matrix = svd.fit_transform(np.array(df))"
      ]
    },
    {
      "cell_type": "code",
      "execution_count": 398,
      "metadata": {
        "id": "Fps2Bocg8nKb"
      },
      "outputs": [],
      "source": [
        "# reduced_matrix.shape"
      ]
    },
    {
      "cell_type": "markdown",
      "metadata": {
        "id": "jKtVhPeB3H_s"
      },
      "source": [
        "this works only if number of rows less than number of columns\n"
      ]
    },
    {
      "cell_type": "code",
      "execution_count": 399,
      "metadata": {
        "id": "l-uSNJuP0U7g"
      },
      "outputs": [],
      "source": [
        "U,sigma,VT = svd(np.array(df))"
      ]
    },
    {
      "cell_type": "code",
      "execution_count": 400,
      "metadata": {
        "colab": {
          "base_uri": "https://localhost:8080/"
        },
        "id": "ytBMGN_w0U7g",
        "outputId": "9f8f5f5d-6d68-4446-acb1-7ae220d63a54"
      },
      "outputs": [
        {
          "data": {
            "text/plain": [
              "((162, 162), (162,), (162, 25))"
            ]
          },
          "execution_count": 400,
          "metadata": {},
          "output_type": "execute_result"
        }
      ],
      "source": [
        " U.shape,sigma.shape,VT.shape"
      ]
    },
    {
      "cell_type": "code",
      "execution_count": 401,
      "metadata": {
        "id": "ZEn3u8sf0U7g"
      },
      "outputs": [],
      "source": [
        "k=6"
      ]
    },
    {
      "cell_type": "code",
      "execution_count": 402,
      "metadata": {
        "id": "vc_WMOY70U7g"
      },
      "outputs": [],
      "source": [
        "def reduced_svd(k,A):\n",
        "    U,sigma,VT = svd(A)\n",
        "    \n",
        "    reduced_matrix = np.dot(np.dot(U[:,:k],np.diag(sigma[:k])),VT[:k,:])\n",
        "    return reduced_matrix\n"
      ]
    },
    {
      "cell_type": "code",
      "execution_count": 403,
      "metadata": {
        "colab": {
          "base_uri": "https://localhost:8080/"
        },
        "id": "p_pd2cB-0U7g",
        "outputId": "823f6c20-b113-4d9a-ae3b-0ad11d67ba92"
      },
      "outputs": [
        {
          "name": "stderr",
          "output_type": "stream",
          "text": [
            "/var/folders/sq/1c_479xx58d7g62wy3fqmnl80000gn/T/ipykernel_60340/345045986.py:3: ComplexWarning: Casting complex values to real discards the imaginary part\n",
            "  reduced_matrix = reduced_matrix.astype('float64')\n"
          ]
        }
      ],
      "source": [
        "reduced_matrix = reduced_svd(k,np.array(df))\n",
        "type(clustered_df),reduced_matrix.dtype\n",
        "reduced_matrix = reduced_matrix.astype('float64')"
      ]
    },
    {
      "cell_type": "code",
      "execution_count": 404,
      "metadata": {
        "colab": {
          "base_uri": "https://localhost:8080/"
        },
        "id": "LMU9JBFpAKxB",
        "outputId": "466137ad-2b64-40e1-826b-2db6ec0cbbaf"
      },
      "outputs": [
        {
          "data": {
            "text/plain": [
              "array([[0.66227248, 0.75470587, 0.60676975, ..., 0.44775342, 0.5203284 ,\n",
              "        0.44868342],\n",
              "       [0.61777432, 0.52616777, 0.32100208, ..., 0.55980216, 0.50002386,\n",
              "        0.66461383],\n",
              "       [0.69108075, 0.86815755, 0.64642942, ..., 0.3865782 , 0.34682603,\n",
              "        0.41293149],\n",
              "       ...,\n",
              "       [0.61747065, 0.47418661, 0.29019937, ..., 0.61611984, 0.60966198,\n",
              "        0.7603632 ],\n",
              "       [0.63927431, 0.56384257, 0.42388057, ..., 0.38360772, 0.31003629,\n",
              "        0.54146709],\n",
              "       [0.66148629, 0.69356602, 0.57717734, ..., 0.34693138, 0.34755055,\n",
              "        0.41259046]])"
            ]
          },
          "execution_count": 404,
          "metadata": {},
          "output_type": "execute_result"
        }
      ],
      "source": [
        "reduced_matrix"
      ]
    },
    {
      "cell_type": "code",
      "execution_count": 405,
      "metadata": {
        "colab": {
          "base_uri": "https://localhost:8080/",
          "height": 574
        },
        "id": "dBRuJ2oZ-alw",
        "outputId": "db56865f-11a4-48bf-f32a-f4b13934ba9f"
      },
      "outputs": [
        {
          "data": {
            "text/html": [
              "<div>\n",
              "<style scoped>\n",
              "    .dataframe tbody tr th:only-of-type {\n",
              "        vertical-align: middle;\n",
              "    }\n",
              "\n",
              "    .dataframe tbody tr th {\n",
              "        vertical-align: top;\n",
              "    }\n",
              "\n",
              "    .dataframe thead th {\n",
              "        text-align: right;\n",
              "    }\n",
              "</style>\n",
              "<table border=\"1\" class=\"dataframe\">\n",
              "  <thead>\n",
              "    <tr style=\"text-align: right;\">\n",
              "      <th></th>\n",
              "      <th>Data Structures and Algorithms</th>\n",
              "      <th>Computer Architecture\\n</th>\n",
              "      <th>Discrete Mathematics\\n</th>\n",
              "      <th>Economics</th>\n",
              "      <th>Programming-2</th>\n",
              "      <th>Machine Learning\\n</th>\n",
              "      <th>Mathematics For Machine Learning\\n</th>\n",
              "      <th>Visual Recognition\\n</th>\n",
              "      <th>Natural Language Processing\\n</th>\n",
              "      <th>Reinforcement Learning</th>\n",
              "      <th>...</th>\n",
              "      <th>Digital CMOS VLSI Design</th>\n",
              "      <th>System design with FPGA</th>\n",
              "      <th>ASIC design</th>\n",
              "      <th>VLSI Architecture Design\\n</th>\n",
              "      <th>High level synthesis and optimization of Digital Circuits</th>\n",
              "      <th>Digital Sociology</th>\n",
              "      <th>Privacy in the Digital Age</th>\n",
              "      <th>Technology Ethics and AI</th>\n",
              "      <th>Techno-economics of networks</th>\n",
              "      <th>The Web and the Mind</th>\n",
              "    </tr>\n",
              "  </thead>\n",
              "  <tbody>\n",
              "    <tr>\n",
              "      <th>0</th>\n",
              "      <td>0.662272</td>\n",
              "      <td>0.754706</td>\n",
              "      <td>0.606770</td>\n",
              "      <td>0.866471</td>\n",
              "      <td>0.678361</td>\n",
              "      <td>0.754309</td>\n",
              "      <td>0.754546</td>\n",
              "      <td>0.734753</td>\n",
              "      <td>0.587097</td>\n",
              "      <td>0.568253</td>\n",
              "      <td>...</td>\n",
              "      <td>0.227814</td>\n",
              "      <td>0.232103</td>\n",
              "      <td>0.232879</td>\n",
              "      <td>0.226829</td>\n",
              "      <td>0.190065</td>\n",
              "      <td>0.350018</td>\n",
              "      <td>0.484111</td>\n",
              "      <td>0.447753</td>\n",
              "      <td>0.520328</td>\n",
              "      <td>0.448683</td>\n",
              "    </tr>\n",
              "    <tr>\n",
              "      <th>1</th>\n",
              "      <td>0.617774</td>\n",
              "      <td>0.526168</td>\n",
              "      <td>0.321002</td>\n",
              "      <td>0.653107</td>\n",
              "      <td>0.734563</td>\n",
              "      <td>0.552262</td>\n",
              "      <td>0.354370</td>\n",
              "      <td>0.427375</td>\n",
              "      <td>0.430015</td>\n",
              "      <td>0.542794</td>\n",
              "      <td>...</td>\n",
              "      <td>0.279162</td>\n",
              "      <td>0.302173</td>\n",
              "      <td>0.245822</td>\n",
              "      <td>0.252464</td>\n",
              "      <td>0.175856</td>\n",
              "      <td>0.449521</td>\n",
              "      <td>0.635296</td>\n",
              "      <td>0.559802</td>\n",
              "      <td>0.500024</td>\n",
              "      <td>0.664614</td>\n",
              "    </tr>\n",
              "    <tr>\n",
              "      <th>2</th>\n",
              "      <td>0.691081</td>\n",
              "      <td>0.868158</td>\n",
              "      <td>0.646429</td>\n",
              "      <td>0.727203</td>\n",
              "      <td>0.570388</td>\n",
              "      <td>0.891337</td>\n",
              "      <td>0.924196</td>\n",
              "      <td>0.636582</td>\n",
              "      <td>0.956995</td>\n",
              "      <td>0.903178</td>\n",
              "      <td>...</td>\n",
              "      <td>0.215464</td>\n",
              "      <td>0.232673</td>\n",
              "      <td>0.201160</td>\n",
              "      <td>0.200910</td>\n",
              "      <td>0.178087</td>\n",
              "      <td>0.226770</td>\n",
              "      <td>0.468628</td>\n",
              "      <td>0.386578</td>\n",
              "      <td>0.346826</td>\n",
              "      <td>0.412931</td>\n",
              "    </tr>\n",
              "    <tr>\n",
              "      <th>3</th>\n",
              "      <td>0.596762</td>\n",
              "      <td>0.671559</td>\n",
              "      <td>0.457270</td>\n",
              "      <td>0.843168</td>\n",
              "      <td>0.668431</td>\n",
              "      <td>0.670877</td>\n",
              "      <td>0.593959</td>\n",
              "      <td>0.647824</td>\n",
              "      <td>0.564336</td>\n",
              "      <td>0.604032</td>\n",
              "      <td>...</td>\n",
              "      <td>0.246594</td>\n",
              "      <td>0.262362</td>\n",
              "      <td>0.238756</td>\n",
              "      <td>0.237196</td>\n",
              "      <td>0.190539</td>\n",
              "      <td>0.396742</td>\n",
              "      <td>0.585541</td>\n",
              "      <td>0.513182</td>\n",
              "      <td>0.541086</td>\n",
              "      <td>0.558300</td>\n",
              "    </tr>\n",
              "    <tr>\n",
              "      <th>4</th>\n",
              "      <td>0.677355</td>\n",
              "      <td>0.332099</td>\n",
              "      <td>0.542480</td>\n",
              "      <td>-0.016418</td>\n",
              "      <td>0.648040</td>\n",
              "      <td>0.612358</td>\n",
              "      <td>0.601291</td>\n",
              "      <td>0.360760</td>\n",
              "      <td>0.280436</td>\n",
              "      <td>0.269924</td>\n",
              "      <td>...</td>\n",
              "      <td>0.035422</td>\n",
              "      <td>-0.000124</td>\n",
              "      <td>-0.000809</td>\n",
              "      <td>0.022792</td>\n",
              "      <td>0.001658</td>\n",
              "      <td>0.019835</td>\n",
              "      <td>-0.001858</td>\n",
              "      <td>0.056887</td>\n",
              "      <td>0.018808</td>\n",
              "      <td>0.171096</td>\n",
              "    </tr>\n",
              "    <tr>\n",
              "      <th>...</th>\n",
              "      <td>...</td>\n",
              "      <td>...</td>\n",
              "      <td>...</td>\n",
              "      <td>...</td>\n",
              "      <td>...</td>\n",
              "      <td>...</td>\n",
              "      <td>...</td>\n",
              "      <td>...</td>\n",
              "      <td>...</td>\n",
              "      <td>...</td>\n",
              "      <td>...</td>\n",
              "      <td>...</td>\n",
              "      <td>...</td>\n",
              "      <td>...</td>\n",
              "      <td>...</td>\n",
              "      <td>...</td>\n",
              "      <td>...</td>\n",
              "      <td>...</td>\n",
              "      <td>...</td>\n",
              "      <td>...</td>\n",
              "      <td>...</td>\n",
              "    </tr>\n",
              "    <tr>\n",
              "      <th>157</th>\n",
              "      <td>0.482210</td>\n",
              "      <td>0.576015</td>\n",
              "      <td>0.427725</td>\n",
              "      <td>0.681376</td>\n",
              "      <td>0.531799</td>\n",
              "      <td>0.579379</td>\n",
              "      <td>0.565856</td>\n",
              "      <td>0.608610</td>\n",
              "      <td>0.470805</td>\n",
              "      <td>0.478990</td>\n",
              "      <td>...</td>\n",
              "      <td>0.211794</td>\n",
              "      <td>0.213628</td>\n",
              "      <td>0.204173</td>\n",
              "      <td>0.210345</td>\n",
              "      <td>0.173163</td>\n",
              "      <td>0.275708</td>\n",
              "      <td>0.415018</td>\n",
              "      <td>0.365252</td>\n",
              "      <td>0.416195</td>\n",
              "      <td>0.385036</td>\n",
              "    </tr>\n",
              "    <tr>\n",
              "      <th>158</th>\n",
              "      <td>0.416944</td>\n",
              "      <td>0.363592</td>\n",
              "      <td>0.122763</td>\n",
              "      <td>0.563155</td>\n",
              "      <td>0.569520</td>\n",
              "      <td>0.362445</td>\n",
              "      <td>0.143611</td>\n",
              "      <td>0.300745</td>\n",
              "      <td>0.319976</td>\n",
              "      <td>0.459702</td>\n",
              "      <td>...</td>\n",
              "      <td>0.250662</td>\n",
              "      <td>0.279894</td>\n",
              "      <td>0.216977</td>\n",
              "      <td>0.224754</td>\n",
              "      <td>0.154589</td>\n",
              "      <td>0.418063</td>\n",
              "      <td>0.617937</td>\n",
              "      <td>0.522114</td>\n",
              "      <td>0.453633</td>\n",
              "      <td>0.632510</td>\n",
              "    </tr>\n",
              "    <tr>\n",
              "      <th>159</th>\n",
              "      <td>0.617471</td>\n",
              "      <td>0.474187</td>\n",
              "      <td>0.290199</td>\n",
              "      <td>0.768954</td>\n",
              "      <td>0.829494</td>\n",
              "      <td>0.566769</td>\n",
              "      <td>0.338088</td>\n",
              "      <td>0.553635</td>\n",
              "      <td>0.346162</td>\n",
              "      <td>0.494880</td>\n",
              "      <td>...</td>\n",
              "      <td>0.216640</td>\n",
              "      <td>0.236637</td>\n",
              "      <td>0.195722</td>\n",
              "      <td>0.196617</td>\n",
              "      <td>0.138174</td>\n",
              "      <td>0.503717</td>\n",
              "      <td>0.693641</td>\n",
              "      <td>0.616120</td>\n",
              "      <td>0.609662</td>\n",
              "      <td>0.760363</td>\n",
              "    </tr>\n",
              "    <tr>\n",
              "      <th>160</th>\n",
              "      <td>0.639274</td>\n",
              "      <td>0.563843</td>\n",
              "      <td>0.423881</td>\n",
              "      <td>0.449183</td>\n",
              "      <td>0.731857</td>\n",
              "      <td>0.727414</td>\n",
              "      <td>0.622108</td>\n",
              "      <td>0.603915</td>\n",
              "      <td>0.626973</td>\n",
              "      <td>0.711526</td>\n",
              "      <td>...</td>\n",
              "      <td>0.268107</td>\n",
              "      <td>0.261939</td>\n",
              "      <td>0.201834</td>\n",
              "      <td>0.245709</td>\n",
              "      <td>0.180926</td>\n",
              "      <td>0.236545</td>\n",
              "      <td>0.472833</td>\n",
              "      <td>0.383608</td>\n",
              "      <td>0.310036</td>\n",
              "      <td>0.541467</td>\n",
              "    </tr>\n",
              "    <tr>\n",
              "      <th>161</th>\n",
              "      <td>0.661486</td>\n",
              "      <td>0.693566</td>\n",
              "      <td>0.577177</td>\n",
              "      <td>0.604377</td>\n",
              "      <td>0.667789</td>\n",
              "      <td>0.786964</td>\n",
              "      <td>0.783624</td>\n",
              "      <td>0.686686</td>\n",
              "      <td>0.669197</td>\n",
              "      <td>0.667924</td>\n",
              "      <td>...</td>\n",
              "      <td>0.232442</td>\n",
              "      <td>0.225481</td>\n",
              "      <td>0.201738</td>\n",
              "      <td>0.223172</td>\n",
              "      <td>0.180473</td>\n",
              "      <td>0.224196</td>\n",
              "      <td>0.400515</td>\n",
              "      <td>0.346931</td>\n",
              "      <td>0.347551</td>\n",
              "      <td>0.412590</td>\n",
              "    </tr>\n",
              "  </tbody>\n",
              "</table>\n",
              "<p>162 rows × 25 columns</p>\n",
              "</div>"
            ],
            "text/plain": [
              "     Data Structures and Algorithms  Computer Architecture\\n  \\\n",
              "0                          0.662272                 0.754706   \n",
              "1                          0.617774                 0.526168   \n",
              "2                          0.691081                 0.868158   \n",
              "3                          0.596762                 0.671559   \n",
              "4                          0.677355                 0.332099   \n",
              "..                              ...                      ...   \n",
              "157                        0.482210                 0.576015   \n",
              "158                        0.416944                 0.363592   \n",
              "159                        0.617471                 0.474187   \n",
              "160                        0.639274                 0.563843   \n",
              "161                        0.661486                 0.693566   \n",
              "\n",
              "     Discrete Mathematics\\n  Economics  Programming-2  Machine Learning\\n  \\\n",
              "0                  0.606770   0.866471       0.678361            0.754309   \n",
              "1                  0.321002   0.653107       0.734563            0.552262   \n",
              "2                  0.646429   0.727203       0.570388            0.891337   \n",
              "3                  0.457270   0.843168       0.668431            0.670877   \n",
              "4                  0.542480  -0.016418       0.648040            0.612358   \n",
              "..                      ...        ...            ...                 ...   \n",
              "157                0.427725   0.681376       0.531799            0.579379   \n",
              "158                0.122763   0.563155       0.569520            0.362445   \n",
              "159                0.290199   0.768954       0.829494            0.566769   \n",
              "160                0.423881   0.449183       0.731857            0.727414   \n",
              "161                0.577177   0.604377       0.667789            0.786964   \n",
              "\n",
              "     Mathematics For Machine Learning\\n  Visual Recognition\\n  \\\n",
              "0                              0.754546              0.734753   \n",
              "1                              0.354370              0.427375   \n",
              "2                              0.924196              0.636582   \n",
              "3                              0.593959              0.647824   \n",
              "4                              0.601291              0.360760   \n",
              "..                                  ...                   ...   \n",
              "157                            0.565856              0.608610   \n",
              "158                            0.143611              0.300745   \n",
              "159                            0.338088              0.553635   \n",
              "160                            0.622108              0.603915   \n",
              "161                            0.783624              0.686686   \n",
              "\n",
              "     Natural Language Processing\\n  Reinforcement Learning  ...  \\\n",
              "0                         0.587097                0.568253  ...   \n",
              "1                         0.430015                0.542794  ...   \n",
              "2                         0.956995                0.903178  ...   \n",
              "3                         0.564336                0.604032  ...   \n",
              "4                         0.280436                0.269924  ...   \n",
              "..                             ...                     ...  ...   \n",
              "157                       0.470805                0.478990  ...   \n",
              "158                       0.319976                0.459702  ...   \n",
              "159                       0.346162                0.494880  ...   \n",
              "160                       0.626973                0.711526  ...   \n",
              "161                       0.669197                0.667924  ...   \n",
              "\n",
              "     Digital CMOS VLSI Design   System design with FPGA   ASIC design   \\\n",
              "0                     0.227814                  0.232103      0.232879   \n",
              "1                     0.279162                  0.302173      0.245822   \n",
              "2                     0.215464                  0.232673      0.201160   \n",
              "3                     0.246594                  0.262362      0.238756   \n",
              "4                     0.035422                 -0.000124     -0.000809   \n",
              "..                         ...                       ...           ...   \n",
              "157                   0.211794                  0.213628      0.204173   \n",
              "158                   0.250662                  0.279894      0.216977   \n",
              "159                   0.216640                  0.236637      0.195722   \n",
              "160                   0.268107                  0.261939      0.201834   \n",
              "161                   0.232442                  0.225481      0.201738   \n",
              "\n",
              "     VLSI Architecture Design\\n  \\\n",
              "0                      0.226829   \n",
              "1                      0.252464   \n",
              "2                      0.200910   \n",
              "3                      0.237196   \n",
              "4                      0.022792   \n",
              "..                          ...   \n",
              "157                    0.210345   \n",
              "158                    0.224754   \n",
              "159                    0.196617   \n",
              "160                    0.245709   \n",
              "161                    0.223172   \n",
              "\n",
              "     High level synthesis and optimization of Digital Circuits   \\\n",
              "0                                             0.190065            \n",
              "1                                             0.175856            \n",
              "2                                             0.178087            \n",
              "3                                             0.190539            \n",
              "4                                             0.001658            \n",
              "..                                                 ...            \n",
              "157                                           0.173163            \n",
              "158                                           0.154589            \n",
              "159                                           0.138174            \n",
              "160                                           0.180926            \n",
              "161                                           0.180473            \n",
              "\n",
              "     Digital Sociology   Privacy in the Digital Age  \\\n",
              "0              0.350018                    0.484111   \n",
              "1              0.449521                    0.635296   \n",
              "2              0.226770                    0.468628   \n",
              "3              0.396742                    0.585541   \n",
              "4              0.019835                   -0.001858   \n",
              "..                  ...                         ...   \n",
              "157            0.275708                    0.415018   \n",
              "158            0.418063                    0.617937   \n",
              "159            0.503717                    0.693641   \n",
              "160            0.236545                    0.472833   \n",
              "161            0.224196                    0.400515   \n",
              "\n",
              "     Technology Ethics and AI   Techno-economics of networks   \\\n",
              "0                     0.447753                       0.520328   \n",
              "1                     0.559802                       0.500024   \n",
              "2                     0.386578                       0.346826   \n",
              "3                     0.513182                       0.541086   \n",
              "4                     0.056887                       0.018808   \n",
              "..                         ...                            ...   \n",
              "157                   0.365252                       0.416195   \n",
              "158                   0.522114                       0.453633   \n",
              "159                   0.616120                       0.609662   \n",
              "160                   0.383608                       0.310036   \n",
              "161                   0.346931                       0.347551   \n",
              "\n",
              "     The Web and the Mind   \n",
              "0                 0.448683  \n",
              "1                 0.664614  \n",
              "2                 0.412931  \n",
              "3                 0.558300  \n",
              "4                 0.171096  \n",
              "..                     ...  \n",
              "157               0.385036  \n",
              "158               0.632510  \n",
              "159               0.760363  \n",
              "160               0.541467  \n",
              "161               0.412590  \n",
              "\n",
              "[162 rows x 25 columns]"
            ]
          },
          "execution_count": 405,
          "metadata": {},
          "output_type": "execute_result"
        }
      ],
      "source": [
        "reduced_df = pd.DataFrame(reduced_matrix, columns = courses)\n",
        "reduced_df"
      ]
    },
    {
      "cell_type": "code",
      "execution_count": 406,
      "metadata": {
        "colab": {
          "base_uri": "https://localhost:8080/"
        },
        "id": "pu9PT6vA9_x1",
        "outputId": "6d1811a3-abe1-4099-a868-69ccca86e1ae"
      },
      "outputs": [],
      "source": [
        "clustered_df = old_get_clustered_df(reduced_df,10)"
      ]
    },
    {
      "cell_type": "code",
      "execution_count": 407,
      "metadata": {
        "id": "1Ii1IJiTCQ5b"
      },
      "outputs": [],
      "source": [
        "reduced_matrix = np.array(clustered_df)"
      ]
    },
    {
      "cell_type": "code",
      "execution_count": 408,
      "metadata": {
        "id": "gZAIGOop0U7g"
      },
      "outputs": [],
      "source": [
        "# reduced_matrix = truncated_matrix"
      ]
    },
    {
      "cell_type": "code",
      "execution_count": 409,
      "metadata": {
        "id": "2VHkNYMR0U7g"
      },
      "outputs": [],
      "source": [
        "def EuclDist(vec1,vec2):\n",
        "    return np.linalg.norm(vec1 - vec2)"
      ]
    },
    {
      "cell_type": "markdown",
      "metadata": {
        "id": "rKRqfRrH0U7g"
      },
      "source": [
        "new user with just core courses ratings. Now we need elective courses"
      ]
    },
    {
      "cell_type": "code",
      "execution_count": 410,
      "metadata": {
        "id": "DFh7-eYC0U7h"
      },
      "outputs": [],
      "source": [
        "new_user = [0.2,0.8,0.2,0.6,0.9]\n",
        "new_user2 =[ 0.699459,\t0.545405\t,0.325405\t,0.615135\t,0.737838]\n",
        "sooraj = [0.4, 0.8,0.85,0.9,0.7]\n",
        "chinmay = [0.9,0.2,0.4,0.6 ,0.8]\n",
        "kritin = [0,0,0,0,0]"
      ]
    },
    {
      "cell_type": "code",
      "execution_count": 411,
      "metadata": {
        "id": "oGWRSMJd0U7h"
      },
      "outputs": [],
      "source": [
        "\n",
        "def find_cluster(reduced_matrix,new_user):\n",
        "    \n",
        "    min=EuclDist(reduced_matrix[0,:5],new_user)\n",
        "    cluster = 0\n",
        "    for i in range(len(reduced_matrix)):\n",
        "        sim = EuclDist(reduced_matrix[i,:5],new_user)#euclidean distance\n",
        "        # print(sim)\n",
        "        if sim<min:\n",
        "            min = sim\n",
        "            cluster=i\n",
        "    return cluster\n"
      ]
    },
    {
      "cell_type": "code",
      "execution_count": 412,
      "metadata": {
        "colab": {
          "base_uri": "https://localhost:8080/"
        },
        "id": "rzmJJ_4T0U7h",
        "outputId": "2c15e1c9-8c49-4f6b-cceb-87b180908bc3"
      },
      "outputs": [
        {
          "data": {
            "text/plain": [
              "8"
            ]
          },
          "execution_count": 412,
          "metadata": {},
          "output_type": "execute_result"
        }
      ],
      "source": [
        "find_cluster(reduced_matrix,kritin)#testing"
      ]
    },
    {
      "cell_type": "code",
      "execution_count": 413,
      "metadata": {
        "id": "zznr7xkI0U7h"
      },
      "outputs": [],
      "source": [
        "def find_elective_ratings(reduced_matrix,new_user):\n",
        "    cluster = find_cluster(reduced_matrix,new_user)\n",
        "    elective_ratings = reduced_matrix[cluster,5:]\n",
        "    return elective_ratings\n"
      ]
    },
    {
      "cell_type": "code",
      "execution_count": 414,
      "metadata": {
        "id": "RO988AAY0U7h"
      },
      "outputs": [],
      "source": [
        "def find_elective_ratings_from_og(reduced_matrix,original,new_user):\n",
        "    cluster = find_cluster(reduced_matrix,new_user)\n",
        "    elective_ratings = original[cluster,5:]\n",
        "    return elective_ratings\n"
      ]
    },
    {
      "cell_type": "code",
      "execution_count": 415,
      "metadata": {
        "id": "MbUNI2Cu0U7h"
      },
      "outputs": [],
      "source": [
        "elective_ratings = find_elective_ratings(reduced_matrix,sooraj)"
      ]
    },
    {
      "cell_type": "code",
      "execution_count": 416,
      "metadata": {
        "colab": {
          "base_uri": "https://localhost:8080/"
        },
        "id": "OULvBq6C6n0O",
        "outputId": "58d692c6-cb9e-4254-9508-a7e13b985cf6"
      },
      "outputs": [
        {
          "data": {
            "text/plain": [
              "array([0.77731484, 0.70909113, 0.67304724, 0.58633341, 0.6016184 ,\n",
              "       0.67692837, 0.49926116, 0.64509455, 0.46398919, 0.58160406,\n",
              "       0.18657384, 0.20055453, 0.19248367, 0.17712786, 0.14522865,\n",
              "       0.40723069, 0.55474402, 0.51539651, 0.55264417, 0.56191616])"
            ]
          },
          "execution_count": 416,
          "metadata": {},
          "output_type": "execute_result"
        }
      ],
      "source": [
        "elective_ratings"
      ]
    },
    {
      "cell_type": "markdown",
      "metadata": {
        "id": "3MFVXt4o0U7h"
      },
      "source": [
        "# ranking of electives"
      ]
    },
    {
      "cell_type": "code",
      "execution_count": 417,
      "metadata": {
        "id": "rF14nzi70U7h"
      },
      "outputs": [],
      "source": [
        "def get_electives_ranked(courses,elective_ratings):\n",
        "    d={courses[5:][i]: elective_ratings[i] for i in range(20)}\n",
        "\n",
        "    elective_ranked = sorted(courses[5:], key=lambda x : -d[x])\n",
        "    return elective_ranked  "
      ]
    },
    {
      "cell_type": "code",
      "execution_count": 418,
      "metadata": {
        "id": "J0ZOBYxp0U7h"
      },
      "outputs": [],
      "source": [
        "elective_ranked = get_electives_ranked(courses,elective_ratings)\n"
      ]
    },
    {
      "cell_type": "code",
      "execution_count": 419,
      "metadata": {
        "colab": {
          "base_uri": "https://localhost:8080/"
        },
        "id": "MizflEsL0U7h",
        "outputId": "d98b2fe3-c304-47b6-fadb-557c915a5b87"
      },
      "outputs": [
        {
          "data": {
            "text/plain": [
              "['Machine Learning\\n',\n",
              " 'Mathematics For Machine Learning\\n',\n",
              " 'Software Production Engineering\\n',\n",
              " 'Visual Recognition\\n',\n",
              " 'Data Visualization\\n',\n",
              " 'Reinforcement Learning',\n",
              " 'Natural Language Processing\\n',\n",
              " 'Cloud Computing\\n',\n",
              " 'The Web and the Mind ',\n",
              " 'Privacy in the Digital Age',\n",
              " 'Techno-economics of networks ',\n",
              " 'Technology Ethics and AI ',\n",
              " 'Computer Graphics\\n',\n",
              " 'Programming Languages\\n',\n",
              " 'Digital Sociology ',\n",
              " 'System design with FPGA ',\n",
              " 'ASIC design ',\n",
              " 'Digital CMOS VLSI Design ',\n",
              " 'VLSI Architecture Design\\n',\n",
              " 'High level synthesis and optimization of Digital Circuits ']"
            ]
          },
          "execution_count": 419,
          "metadata": {},
          "output_type": "execute_result"
        }
      ],
      "source": [
        "elective_ranked"
      ]
    },
    {
      "cell_type": "code",
      "execution_count": 450,
      "metadata": {
        "id": "YeJWqANs0U7i"
      },
      "outputs": [],
      "source": [
        "def train_recommendations(X_train,num_clusters):\n",
        "    \n",
        "    reduced_svd_matrix=reduced_svd(6,np.array(X_train)).astype('float64')\n",
        "    reduced_df = pd.DataFrame(reduced_svd_matrix, columns = courses)\n",
        "    clustered_df=get_clustered_df(reduced_df,num_clusters)\n",
        "    return np.array(clustered_df)"
      ]
    },
    {
      "cell_type": "code",
      "execution_count": 421,
      "metadata": {
        "id": "_Jm9cqsX0U7i"
      },
      "outputs": [],
      "source": [
        "def test_recommendations(X_test,reduced_matrix):\n",
        "    pred = []\n",
        "    for i in range(len(X_test)):\n",
        "        new_user = X_test[i]\n",
        "        elective_ratings = find_elective_ratings(reduced_matrix,new_user[:5])\n",
        "        elective_ranked = get_electives_ranked(courses,elective_ratings)\n",
        "        pred.append(elective_ratings)\n",
        "    return pred\n"
      ]
    },
    {
      "cell_type": "code",
      "execution_count": 455,
      "metadata": {
        "colab": {
          "base_uri": "https://localhost:8080/"
        },
        "id": "fpjzFSXC0U7i",
        "outputId": "6b500e2a-f444-4454-d781-2cbffae78fb5"
      },
      "outputs": [
        {
          "name": "stdout",
          "output_type": "stream",
          "text": [
            "{'1': [0, 1, 4, 5, 7, 13, 14, 17, 19, 21, 24, 25, 26, 27, 30, 32, 33, 34, 39, 42, 43, 44, 45, 47, 48, 52, 54, 56, 57, 62, 69, 70, 72, 73, 79, 81, 84, 85, 86, 88, 90, 91, 94, 98, 99, 100, 102, 103, 105, 107, 108, 109, 111, 112, 113, 114, 115, 118, 122, 123, 124, 125, 126, 128, 131, 132, 134, 135, 138, 139, 140, 142, 143, 145, 150, 151], '2': [2, 6, 8, 9, 18, 20, 29, 35, 41, 51, 53, 55, 61, 63, 71, 75, 78, 83, 96, 97, 104, 106, 110, 120, 121, 129], '0': [3, 10, 11, 12, 15, 16, 22, 23, 28, 31, 36, 37, 38, 40, 46, 49, 50, 58, 59, 60, 64, 65, 66, 67, 68, 74, 76, 77, 80, 82, 87, 89, 92, 93, 95, 101, 116, 117, 119, 127, 130, 133, 136, 137, 141, 144, 146, 147, 148, 149, 152]}\n"
          ]
        },
        {
          "name": "stderr",
          "output_type": "stream",
          "text": [
            "/var/folders/sq/1c_479xx58d7g62wy3fqmnl80000gn/T/ipykernel_60340/1373134139.py:3: ComplexWarning: Casting complex values to real discards the imaginary part\n",
            "  reduced_svd_matrix=reduced_svd(6,np.array(X_train)).astype('float64')\n"
          ]
        }
      ],
      "source": [
        "reduced_matrix = train_recommendations(train,3)"
      ]
    },
    {
      "cell_type": "code",
      "execution_count": 456,
      "metadata": {
        "id": "GN81NWRF0U7i"
      },
      "outputs": [],
      "source": [
        "pred=test_recommendations(test.to_numpy(),reduced_matrix)"
      ]
    },
    {
      "cell_type": "code",
      "execution_count": 441,
      "metadata": {
        "id": "Q3CDzAIM0U7i"
      },
      "outputs": [],
      "source": [
        "def accuracy(pred,test):\n",
        "    mse =[]\n",
        "    for i in range(len(pred)):\n",
        "        mse.append((EuclDist(pred[i],test[i][5:])))\n",
        "\n",
        "    return sum(mse)/len(mse)"
      ]
    },
    {
      "cell_type": "code",
      "execution_count": 457,
      "metadata": {
        "colab": {
          "base_uri": "https://localhost:8080/"
        },
        "id": "fg3pniJw0U7i",
        "outputId": "c881b86e-7f01-4b86-e358-120d873cb75b"
      },
      "outputs": [
        {
          "data": {
            "text/plain": [
              "1.3275195478405517"
            ]
          },
          "execution_count": 457,
          "metadata": {},
          "output_type": "execute_result"
        }
      ],
      "source": [
        "accuracy(pred,test.to_numpy())"
      ]
    },
    {
      "cell_type": "code",
      "execution_count": 427,
      "metadata": {
        "colab": {
          "base_uri": "https://localhost:8080/"
        },
        "id": "a6J35SkG0U7i",
        "outputId": "90aeb75a-196c-4363-999f-8cfe25774b29"
      },
      "outputs": [
        {
          "name": "stdout",
          "output_type": "stream",
          "text": [
            "['Software Production Engineering\\n', 'Cloud Computing\\n', 'Machine Learning\\n', 'The Web and the Mind ', 'Programming Languages\\n', 'Data Visualization\\n', 'Visual Recognition\\n', 'Privacy in the Digital Age', 'Reinforcement Learning', 'Technology Ethics and AI ', 'Computer Graphics\\n', 'Mathematics For Machine Learning\\n', 'Techno-economics of networks ', 'Natural Language Processing\\n', 'Digital Sociology ', 'System design with FPGA ', 'Digital CMOS VLSI Design ', 'VLSI Architecture Design\\n', 'ASIC design ', 'High level synthesis and optimization of Digital Circuits ']\n",
            "*****************\n",
            "['Privacy in the Digital Age', 'The Web and the Mind ', 'Reinforcement Learning', 'Technology Ethics and AI ', 'Techno-economics of networks ', 'Natural Language Processing\\n', 'Data Visualization\\n', 'Machine Learning\\n', 'Visual Recognition\\n', 'Software Production Engineering\\n', 'Cloud Computing\\n', 'Digital Sociology ', 'Computer Graphics\\n', 'Mathematics For Machine Learning\\n', 'Programming Languages\\n', 'System design with FPGA ', 'ASIC design ', 'Digital CMOS VLSI Design ', 'VLSI Architecture Design\\n', 'High level synthesis and optimization of Digital Circuits ']\n",
            "*****************\n",
            "['Machine Learning\\n', 'Mathematics For Machine Learning\\n', 'Visual Recognition\\n', 'Software Production Engineering\\n', 'Natural Language Processing\\n', 'Data Visualization\\n', 'Reinforcement Learning', 'Techno-economics of networks ', 'Privacy in the Digital Age', 'Cloud Computing\\n', 'The Web and the Mind ', 'Technology Ethics and AI ', 'Computer Graphics\\n', 'Programming Languages\\n', 'Digital Sociology ', 'System design with FPGA ', 'Digital CMOS VLSI Design ', 'ASIC design ', 'VLSI Architecture Design\\n', 'High level synthesis and optimization of Digital Circuits ']\n",
            "*****************\n",
            "['Machine Learning\\n', 'Mathematics For Machine Learning\\n', 'Visual Recognition\\n', 'Data Visualization\\n', 'Software Production Engineering\\n', 'Reinforcement Learning', 'Natural Language Processing\\n', 'Cloud Computing\\n', 'The Web and the Mind ', 'Programming Languages\\n', 'Privacy in the Digital Age', 'Computer Graphics\\n', 'Techno-economics of networks ', 'Technology Ethics and AI ', 'Digital Sociology ', 'Digital CMOS VLSI Design ', 'System design with FPGA ', 'VLSI Architecture Design\\n', 'ASIC design ', 'High level synthesis and optimization of Digital Circuits ']\n",
            "*****************\n",
            "['Machine Learning\\n', 'Mathematics For Machine Learning\\n', 'Reinforcement Learning', 'Software Production Engineering\\n', 'Programming Languages\\n', 'Visual Recognition\\n', 'Cloud Computing\\n', 'Natural Language Processing\\n', 'Data Visualization\\n', 'The Web and the Mind ', 'Computer Graphics\\n', 'Privacy in the Digital Age', 'Technology Ethics and AI ', 'Techno-economics of networks ', 'Digital CMOS VLSI Design ', 'System design with FPGA ', 'Digital Sociology ', 'VLSI Architecture Design\\n', 'ASIC design ', 'High level synthesis and optimization of Digital Circuits ']\n",
            "*****************\n",
            "['Machine Learning\\n', 'Mathematics For Machine Learning\\n', 'Reinforcement Learning', 'Natural Language Processing\\n', 'Visual Recognition\\n', 'Cloud Computing\\n', 'Programming Languages\\n', 'Software Production Engineering\\n', 'Data Visualization\\n', 'Computer Graphics\\n', 'The Web and the Mind ', 'Privacy in the Digital Age', 'Digital CMOS VLSI Design ', 'Technology Ethics and AI ', 'VLSI Architecture Design\\n', 'High level synthesis and optimization of Digital Circuits ', 'System design with FPGA ', 'Techno-economics of networks ', 'ASIC design ', 'Digital Sociology ']\n",
            "*****************\n",
            "['Machine Learning\\n', 'Mathematics For Machine Learning\\n', 'Reinforcement Learning', 'Software Production Engineering\\n', 'Programming Languages\\n', 'Visual Recognition\\n', 'Cloud Computing\\n', 'Natural Language Processing\\n', 'Data Visualization\\n', 'The Web and the Mind ', 'Computer Graphics\\n', 'Privacy in the Digital Age', 'Technology Ethics and AI ', 'Techno-economics of networks ', 'Digital CMOS VLSI Design ', 'System design with FPGA ', 'Digital Sociology ', 'VLSI Architecture Design\\n', 'ASIC design ', 'High level synthesis and optimization of Digital Circuits ']\n",
            "*****************\n",
            "['Machine Learning\\n', 'Mathematics For Machine Learning\\n', 'Software Production Engineering\\n', 'Visual Recognition\\n', 'Data Visualization\\n', 'Cloud Computing\\n', 'Programming Languages\\n', 'Natural Language Processing\\n', 'Reinforcement Learning', 'Computer Graphics\\n', 'The Web and the Mind ', 'Technology Ethics and AI ', 'Techno-economics of networks ', 'Privacy in the Digital Age', 'Digital Sociology ', 'Digital CMOS VLSI Design ', 'VLSI Architecture Design\\n', 'System design with FPGA ', 'ASIC design ', 'High level synthesis and optimization of Digital Circuits ']\n",
            "*****************\n",
            "['Machine Learning\\n', 'Mathematics For Machine Learning\\n', 'Visual Recognition\\n', 'Software Production Engineering\\n', 'Natural Language Processing\\n', 'Data Visualization\\n', 'Reinforcement Learning', 'Techno-economics of networks ', 'Privacy in the Digital Age', 'Cloud Computing\\n', 'The Web and the Mind ', 'Technology Ethics and AI ', 'Computer Graphics\\n', 'Programming Languages\\n', 'Digital Sociology ', 'System design with FPGA ', 'Digital CMOS VLSI Design ', 'ASIC design ', 'VLSI Architecture Design\\n', 'High level synthesis and optimization of Digital Circuits ']\n",
            "*****************\n"
          ]
        }
      ],
      "source": [
        "for i in pred:\n",
        "    elective_ranked = get_electives_ranked(courses,i)\n",
        "    print(elective_ranked)\n",
        "    print(\"*****************\")"
      ]
    },
    {
      "cell_type": "code",
      "execution_count": 428,
      "metadata": {
        "colab": {
          "base_uri": "https://localhost:8080/",
          "height": 574
        },
        "id": "duNo72hv0U7j",
        "outputId": "b8aa8e9e-dc3b-49a4-ddb8-b386b89482cf"
      },
      "outputs": [
        {
          "data": {
            "text/html": [
              "<div>\n",
              "<style scoped>\n",
              "    .dataframe tbody tr th:only-of-type {\n",
              "        vertical-align: middle;\n",
              "    }\n",
              "\n",
              "    .dataframe tbody tr th {\n",
              "        vertical-align: top;\n",
              "    }\n",
              "\n",
              "    .dataframe thead th {\n",
              "        text-align: right;\n",
              "    }\n",
              "</style>\n",
              "<table border=\"1\" class=\"dataframe\">\n",
              "  <thead>\n",
              "    <tr style=\"text-align: right;\">\n",
              "      <th></th>\n",
              "      <th>Data Structures and Algorithms</th>\n",
              "      <th>Computer Architecture\\n</th>\n",
              "      <th>Discrete Mathematics\\n</th>\n",
              "      <th>Economics</th>\n",
              "      <th>Programming-2</th>\n",
              "      <th>Machine Learning\\n</th>\n",
              "      <th>Mathematics For Machine Learning\\n</th>\n",
              "      <th>Visual Recognition\\n</th>\n",
              "      <th>Natural Language Processing\\n</th>\n",
              "      <th>Reinforcement Learning</th>\n",
              "      <th>...</th>\n",
              "      <th>Digital CMOS VLSI Design</th>\n",
              "      <th>System design with FPGA</th>\n",
              "      <th>ASIC design</th>\n",
              "      <th>VLSI Architecture Design\\n</th>\n",
              "      <th>High level synthesis and optimization of Digital Circuits</th>\n",
              "      <th>Digital Sociology</th>\n",
              "      <th>Privacy in the Digital Age</th>\n",
              "      <th>Technology Ethics and AI</th>\n",
              "      <th>Techno-economics of networks</th>\n",
              "      <th>The Web and the Mind</th>\n",
              "    </tr>\n",
              "  </thead>\n",
              "  <tbody>\n",
              "    <tr>\n",
              "      <th>0</th>\n",
              "      <td>0.30</td>\n",
              "      <td>0.85</td>\n",
              "      <td>0.85</td>\n",
              "      <td>0.90</td>\n",
              "      <td>0.70</td>\n",
              "      <td>0.70</td>\n",
              "      <td>0.80</td>\n",
              "      <td>0.620098</td>\n",
              "      <td>0.572638</td>\n",
              "      <td>0.603495</td>\n",
              "      <td>...</td>\n",
              "      <td>0.251538</td>\n",
              "      <td>0.246316</td>\n",
              "      <td>0.214805</td>\n",
              "      <td>0.234868</td>\n",
              "      <td>0.168056</td>\n",
              "      <td>0.318243</td>\n",
              "      <td>0.600000</td>\n",
              "      <td>0.423286</td>\n",
              "      <td>0.396622</td>\n",
              "      <td>0.510897</td>\n",
              "    </tr>\n",
              "    <tr>\n",
              "      <th>1</th>\n",
              "      <td>0.70</td>\n",
              "      <td>0.80</td>\n",
              "      <td>0.20</td>\n",
              "      <td>0.80</td>\n",
              "      <td>0.80</td>\n",
              "      <td>0.50</td>\n",
              "      <td>0.10</td>\n",
              "      <td>0.200000</td>\n",
              "      <td>0.572638</td>\n",
              "      <td>0.603495</td>\n",
              "      <td>...</td>\n",
              "      <td>0.251538</td>\n",
              "      <td>0.246316</td>\n",
              "      <td>0.214805</td>\n",
              "      <td>0.234868</td>\n",
              "      <td>0.168056</td>\n",
              "      <td>0.318243</td>\n",
              "      <td>0.500000</td>\n",
              "      <td>0.423286</td>\n",
              "      <td>0.396622</td>\n",
              "      <td>0.510897</td>\n",
              "    </tr>\n",
              "    <tr>\n",
              "      <th>2</th>\n",
              "      <td>0.70</td>\n",
              "      <td>0.00</td>\n",
              "      <td>1.00</td>\n",
              "      <td>1.00</td>\n",
              "      <td>1.00</td>\n",
              "      <td>1.00</td>\n",
              "      <td>1.00</td>\n",
              "      <td>0.800000</td>\n",
              "      <td>0.900000</td>\n",
              "      <td>1.000000</td>\n",
              "      <td>...</td>\n",
              "      <td>0.251538</td>\n",
              "      <td>0.246316</td>\n",
              "      <td>0.214805</td>\n",
              "      <td>0.234868</td>\n",
              "      <td>0.168056</td>\n",
              "      <td>0.318243</td>\n",
              "      <td>0.400000</td>\n",
              "      <td>0.423286</td>\n",
              "      <td>0.396622</td>\n",
              "      <td>0.510897</td>\n",
              "    </tr>\n",
              "    <tr>\n",
              "      <th>3</th>\n",
              "      <td>0.65</td>\n",
              "      <td>0.70</td>\n",
              "      <td>0.20</td>\n",
              "      <td>0.75</td>\n",
              "      <td>0.75</td>\n",
              "      <td>0.75</td>\n",
              "      <td>0.75</td>\n",
              "      <td>0.750000</td>\n",
              "      <td>0.572638</td>\n",
              "      <td>0.603495</td>\n",
              "      <td>...</td>\n",
              "      <td>0.251538</td>\n",
              "      <td>0.246316</td>\n",
              "      <td>0.214805</td>\n",
              "      <td>0.234868</td>\n",
              "      <td>0.168056</td>\n",
              "      <td>0.800000</td>\n",
              "      <td>0.452708</td>\n",
              "      <td>0.423286</td>\n",
              "      <td>0.800000</td>\n",
              "      <td>0.510897</td>\n",
              "    </tr>\n",
              "    <tr>\n",
              "      <th>4</th>\n",
              "      <td>0.70</td>\n",
              "      <td>0.60</td>\n",
              "      <td>0.20</td>\n",
              "      <td>0.00</td>\n",
              "      <td>0.80</td>\n",
              "      <td>0.50</td>\n",
              "      <td>0.60</td>\n",
              "      <td>0.400000</td>\n",
              "      <td>0.400000</td>\n",
              "      <td>0.200000</td>\n",
              "      <td>...</td>\n",
              "      <td>0.000000</td>\n",
              "      <td>0.000000</td>\n",
              "      <td>0.000000</td>\n",
              "      <td>0.000000</td>\n",
              "      <td>0.000000</td>\n",
              "      <td>0.000000</td>\n",
              "      <td>0.000000</td>\n",
              "      <td>0.000000</td>\n",
              "      <td>0.000000</td>\n",
              "      <td>0.000000</td>\n",
              "    </tr>\n",
              "    <tr>\n",
              "      <th>...</th>\n",
              "      <td>...</td>\n",
              "      <td>...</td>\n",
              "      <td>...</td>\n",
              "      <td>...</td>\n",
              "      <td>...</td>\n",
              "      <td>...</td>\n",
              "      <td>...</td>\n",
              "      <td>...</td>\n",
              "      <td>...</td>\n",
              "      <td>...</td>\n",
              "      <td>...</td>\n",
              "      <td>...</td>\n",
              "      <td>...</td>\n",
              "      <td>...</td>\n",
              "      <td>...</td>\n",
              "      <td>...</td>\n",
              "      <td>...</td>\n",
              "      <td>...</td>\n",
              "      <td>...</td>\n",
              "      <td>...</td>\n",
              "      <td>...</td>\n",
              "    </tr>\n",
              "    <tr>\n",
              "      <th>157</th>\n",
              "      <td>0.00</td>\n",
              "      <td>1.00</td>\n",
              "      <td>0.50</td>\n",
              "      <td>0.70</td>\n",
              "      <td>0.60</td>\n",
              "      <td>0.50</td>\n",
              "      <td>0.30</td>\n",
              "      <td>0.700000</td>\n",
              "      <td>0.572638</td>\n",
              "      <td>0.603495</td>\n",
              "      <td>...</td>\n",
              "      <td>0.251538</td>\n",
              "      <td>0.246316</td>\n",
              "      <td>0.214805</td>\n",
              "      <td>0.234868</td>\n",
              "      <td>0.168056</td>\n",
              "      <td>0.318243</td>\n",
              "      <td>0.000000</td>\n",
              "      <td>0.423286</td>\n",
              "      <td>0.396622</td>\n",
              "      <td>0.510897</td>\n",
              "    </tr>\n",
              "    <tr>\n",
              "      <th>158</th>\n",
              "      <td>1.00</td>\n",
              "      <td>0.00</td>\n",
              "      <td>0.00</td>\n",
              "      <td>0.70</td>\n",
              "      <td>0.70</td>\n",
              "      <td>0.00</td>\n",
              "      <td>0.00</td>\n",
              "      <td>0.000000</td>\n",
              "      <td>0.572638</td>\n",
              "      <td>0.603495</td>\n",
              "      <td>...</td>\n",
              "      <td>0.251538</td>\n",
              "      <td>0.246316</td>\n",
              "      <td>0.214805</td>\n",
              "      <td>0.234868</td>\n",
              "      <td>0.168056</td>\n",
              "      <td>0.318243</td>\n",
              "      <td>0.452708</td>\n",
              "      <td>0.423286</td>\n",
              "      <td>0.396622</td>\n",
              "      <td>0.200000</td>\n",
              "    </tr>\n",
              "    <tr>\n",
              "      <th>159</th>\n",
              "      <td>0.60</td>\n",
              "      <td>0.30</td>\n",
              "      <td>0.40</td>\n",
              "      <td>0.90</td>\n",
              "      <td>0.80</td>\n",
              "      <td>0.70</td>\n",
              "      <td>0.40</td>\n",
              "      <td>0.500000</td>\n",
              "      <td>0.400000</td>\n",
              "      <td>0.200000</td>\n",
              "      <td>...</td>\n",
              "      <td>0.251538</td>\n",
              "      <td>0.246316</td>\n",
              "      <td>0.214805</td>\n",
              "      <td>0.234868</td>\n",
              "      <td>0.168056</td>\n",
              "      <td>0.318243</td>\n",
              "      <td>1.000000</td>\n",
              "      <td>0.423286</td>\n",
              "      <td>0.396622</td>\n",
              "      <td>1.000000</td>\n",
              "    </tr>\n",
              "    <tr>\n",
              "      <th>160</th>\n",
              "      <td>0.80</td>\n",
              "      <td>0.60</td>\n",
              "      <td>0.20</td>\n",
              "      <td>0.40</td>\n",
              "      <td>0.70</td>\n",
              "      <td>0.70</td>\n",
              "      <td>0.80</td>\n",
              "      <td>0.620098</td>\n",
              "      <td>0.572638</td>\n",
              "      <td>0.700000</td>\n",
              "      <td>...</td>\n",
              "      <td>0.251538</td>\n",
              "      <td>0.246316</td>\n",
              "      <td>0.214805</td>\n",
              "      <td>0.234868</td>\n",
              "      <td>0.168056</td>\n",
              "      <td>0.318243</td>\n",
              "      <td>0.452708</td>\n",
              "      <td>0.423286</td>\n",
              "      <td>0.396622</td>\n",
              "      <td>0.510897</td>\n",
              "    </tr>\n",
              "    <tr>\n",
              "      <th>161</th>\n",
              "      <td>0.40</td>\n",
              "      <td>0.70</td>\n",
              "      <td>0.90</td>\n",
              "      <td>0.40</td>\n",
              "      <td>0.40</td>\n",
              "      <td>0.70</td>\n",
              "      <td>0.90</td>\n",
              "      <td>0.620098</td>\n",
              "      <td>0.572638</td>\n",
              "      <td>0.800000</td>\n",
              "      <td>...</td>\n",
              "      <td>0.251538</td>\n",
              "      <td>0.246316</td>\n",
              "      <td>0.214805</td>\n",
              "      <td>0.234868</td>\n",
              "      <td>0.168056</td>\n",
              "      <td>0.318243</td>\n",
              "      <td>0.452708</td>\n",
              "      <td>0.423286</td>\n",
              "      <td>0.396622</td>\n",
              "      <td>0.510897</td>\n",
              "    </tr>\n",
              "  </tbody>\n",
              "</table>\n",
              "<p>162 rows × 25 columns</p>\n",
              "</div>"
            ],
            "text/plain": [
              "     Data Structures and Algorithms  Computer Architecture\\n  \\\n",
              "0                              0.30                     0.85   \n",
              "1                              0.70                     0.80   \n",
              "2                              0.70                     0.00   \n",
              "3                              0.65                     0.70   \n",
              "4                              0.70                     0.60   \n",
              "..                              ...                      ...   \n",
              "157                            0.00                     1.00   \n",
              "158                            1.00                     0.00   \n",
              "159                            0.60                     0.30   \n",
              "160                            0.80                     0.60   \n",
              "161                            0.40                     0.70   \n",
              "\n",
              "     Discrete Mathematics\\n  Economics  Programming-2  Machine Learning\\n  \\\n",
              "0                      0.85       0.90           0.70                0.70   \n",
              "1                      0.20       0.80           0.80                0.50   \n",
              "2                      1.00       1.00           1.00                1.00   \n",
              "3                      0.20       0.75           0.75                0.75   \n",
              "4                      0.20       0.00           0.80                0.50   \n",
              "..                      ...        ...            ...                 ...   \n",
              "157                    0.50       0.70           0.60                0.50   \n",
              "158                    0.00       0.70           0.70                0.00   \n",
              "159                    0.40       0.90           0.80                0.70   \n",
              "160                    0.20       0.40           0.70                0.70   \n",
              "161                    0.90       0.40           0.40                0.70   \n",
              "\n",
              "     Mathematics For Machine Learning\\n  Visual Recognition\\n  \\\n",
              "0                                  0.80              0.620098   \n",
              "1                                  0.10              0.200000   \n",
              "2                                  1.00              0.800000   \n",
              "3                                  0.75              0.750000   \n",
              "4                                  0.60              0.400000   \n",
              "..                                  ...                   ...   \n",
              "157                                0.30              0.700000   \n",
              "158                                0.00              0.000000   \n",
              "159                                0.40              0.500000   \n",
              "160                                0.80              0.620098   \n",
              "161                                0.90              0.620098   \n",
              "\n",
              "     Natural Language Processing\\n  Reinforcement Learning  ...  \\\n",
              "0                         0.572638                0.603495  ...   \n",
              "1                         0.572638                0.603495  ...   \n",
              "2                         0.900000                1.000000  ...   \n",
              "3                         0.572638                0.603495  ...   \n",
              "4                         0.400000                0.200000  ...   \n",
              "..                             ...                     ...  ...   \n",
              "157                       0.572638                0.603495  ...   \n",
              "158                       0.572638                0.603495  ...   \n",
              "159                       0.400000                0.200000  ...   \n",
              "160                       0.572638                0.700000  ...   \n",
              "161                       0.572638                0.800000  ...   \n",
              "\n",
              "     Digital CMOS VLSI Design   System design with FPGA   ASIC design   \\\n",
              "0                     0.251538                  0.246316      0.214805   \n",
              "1                     0.251538                  0.246316      0.214805   \n",
              "2                     0.251538                  0.246316      0.214805   \n",
              "3                     0.251538                  0.246316      0.214805   \n",
              "4                     0.000000                  0.000000      0.000000   \n",
              "..                         ...                       ...           ...   \n",
              "157                   0.251538                  0.246316      0.214805   \n",
              "158                   0.251538                  0.246316      0.214805   \n",
              "159                   0.251538                  0.246316      0.214805   \n",
              "160                   0.251538                  0.246316      0.214805   \n",
              "161                   0.251538                  0.246316      0.214805   \n",
              "\n",
              "     VLSI Architecture Design\\n  \\\n",
              "0                      0.234868   \n",
              "1                      0.234868   \n",
              "2                      0.234868   \n",
              "3                      0.234868   \n",
              "4                      0.000000   \n",
              "..                          ...   \n",
              "157                    0.234868   \n",
              "158                    0.234868   \n",
              "159                    0.234868   \n",
              "160                    0.234868   \n",
              "161                    0.234868   \n",
              "\n",
              "     High level synthesis and optimization of Digital Circuits   \\\n",
              "0                                             0.168056            \n",
              "1                                             0.168056            \n",
              "2                                             0.168056            \n",
              "3                                             0.168056            \n",
              "4                                             0.000000            \n",
              "..                                                 ...            \n",
              "157                                           0.168056            \n",
              "158                                           0.168056            \n",
              "159                                           0.168056            \n",
              "160                                           0.168056            \n",
              "161                                           0.168056            \n",
              "\n",
              "     Digital Sociology   Privacy in the Digital Age  \\\n",
              "0              0.318243                    0.600000   \n",
              "1              0.318243                    0.500000   \n",
              "2              0.318243                    0.400000   \n",
              "3              0.800000                    0.452708   \n",
              "4              0.000000                    0.000000   \n",
              "..                  ...                         ...   \n",
              "157            0.318243                    0.000000   \n",
              "158            0.318243                    0.452708   \n",
              "159            0.318243                    1.000000   \n",
              "160            0.318243                    0.452708   \n",
              "161            0.318243                    0.452708   \n",
              "\n",
              "     Technology Ethics and AI   Techno-economics of networks   \\\n",
              "0                     0.423286                       0.396622   \n",
              "1                     0.423286                       0.396622   \n",
              "2                     0.423286                       0.396622   \n",
              "3                     0.423286                       0.800000   \n",
              "4                     0.000000                       0.000000   \n",
              "..                         ...                            ...   \n",
              "157                   0.423286                       0.396622   \n",
              "158                   0.423286                       0.396622   \n",
              "159                   0.423286                       0.396622   \n",
              "160                   0.423286                       0.396622   \n",
              "161                   0.423286                       0.396622   \n",
              "\n",
              "     The Web and the Mind   \n",
              "0                 0.510897  \n",
              "1                 0.510897  \n",
              "2                 0.510897  \n",
              "3                 0.510897  \n",
              "4                 0.000000  \n",
              "..                     ...  \n",
              "157               0.510897  \n",
              "158               0.200000  \n",
              "159               1.000000  \n",
              "160               0.510897  \n",
              "161               0.510897  \n",
              "\n",
              "[162 rows x 25 columns]"
            ]
          },
          "execution_count": 428,
          "metadata": {},
          "output_type": "execute_result"
        }
      ],
      "source": [
        "df"
      ]
    },
    {
      "cell_type": "code",
      "execution_count": 454,
      "metadata": {},
      "outputs": [
        {
          "name": "stderr",
          "output_type": "stream",
          "text": [
            "/var/folders/sq/1c_479xx58d7g62wy3fqmnl80000gn/T/ipykernel_60340/1373134139.py:3: ComplexWarning: Casting complex values to real discards the imaginary part\n",
            "  reduced_svd_matrix=reduced_svd(6,np.array(X_train)).astype('float64')\n",
            "/var/folders/sq/1c_479xx58d7g62wy3fqmnl80000gn/T/ipykernel_60340/1373134139.py:3: ComplexWarning: Casting complex values to real discards the imaginary part\n",
            "  reduced_svd_matrix=reduced_svd(6,np.array(X_train)).astype('float64')\n",
            "/var/folders/sq/1c_479xx58d7g62wy3fqmnl80000gn/T/ipykernel_60340/1373134139.py:3: ComplexWarning: Casting complex values to real discards the imaginary part\n",
            "  reduced_svd_matrix=reduced_svd(6,np.array(X_train)).astype('float64')\n"
          ]
        },
        {
          "name": "stdout",
          "output_type": "stream",
          "text": [
            "{'1': [0, 1, 4, 5, 7, 13, 14, 17, 19, 21, 24, 25, 26, 27, 30, 32, 33, 34, 39, 42, 43, 44, 45, 47, 48, 52, 54, 56, 57, 62, 69, 70, 72, 73, 79, 81, 84, 85, 86, 88, 90, 91, 94, 98, 99, 100, 102, 103, 105, 107, 108, 109, 111, 112, 113, 114, 115, 118, 122, 123, 124, 125, 126, 128, 131, 132, 134, 135, 138, 139, 140, 142, 143, 145, 150, 151], '2': [2, 6, 8, 9, 18, 20, 29, 35, 41, 51, 53, 55, 61, 63, 71, 75, 78, 83, 96, 97, 104, 106, 110, 120, 121, 129], '0': [3, 10, 11, 12, 15, 16, 22, 23, 28, 31, 36, 37, 38, 40, 46, 49, 50, 58, 59, 60, 64, 65, 66, 67, 68, 74, 76, 77, 80, 82, 87, 89, 92, 93, 95, 101, 116, 117, 119, 127, 130, 133, 136, 137, 141, 144, 146, 147, 148, 149, 152]}\n",
            "{'1': [0, 4, 8, 13, 14, 20, 29, 32, 33, 45, 73, 75, 85, 98, 104, 105, 107, 108, 118, 138], '3': [1, 5, 7, 17, 19, 21, 24, 25, 26, 27, 30, 34, 39, 42, 43, 44, 47, 48, 52, 54, 56, 57, 62, 69, 70, 72, 79, 81, 84, 86, 88, 90, 91, 92, 94, 99, 100, 102, 103, 109, 111, 112, 113, 114, 115, 123, 124, 125, 126, 128, 131, 132, 134, 135, 139, 140, 142, 143, 145, 150, 151], '2': [2, 6, 9, 18, 35, 41, 51, 53, 55, 61, 63, 71, 78, 83, 96, 97, 106, 110, 120, 121, 129], '0': [3, 10, 11, 12, 15, 16, 22, 23, 28, 31, 36, 37, 38, 40, 46, 49, 50, 58, 59, 60, 64, 65, 66, 67, 68, 74, 76, 77, 80, 82, 87, 89, 93, 95, 101, 116, 117, 119, 122, 127, 130, 133, 136, 137, 141, 144, 146, 147, 148, 149, 152]}\n",
            "{'3': [0, 5, 17, 19, 21, 26, 27, 30, 34, 39, 48, 52, 70, 79, 81, 86, 88, 90, 92, 94, 98, 100, 111, 112, 114, 115, 124, 125, 131, 134, 135, 139, 140, 143, 145, 151], '4': [1, 3, 7, 10, 11, 12, 13, 14, 15, 16, 22, 24, 25, 36, 37, 42, 43, 44, 46, 47, 50, 54, 56, 57, 60, 62, 64, 68, 69, 72, 73, 77, 84, 85, 89, 91, 93, 99, 101, 102, 103, 108, 109, 113, 117, 119, 122, 123, 126, 128, 132, 136, 138, 142, 146, 147, 150], '2': [2, 6, 9, 18, 35, 41, 51, 53, 55, 61, 63, 71, 78, 83, 96, 97, 106, 110, 120, 121, 129], '1': [4, 8, 20, 29, 32, 33, 45, 75, 104, 105, 107, 118], '0': [23, 28, 31, 38, 40, 49, 58, 59, 65, 66, 67, 74, 76, 80, 82, 87, 95, 116, 127, 130, 133, 137, 141, 144, 148, 149, 152]}\n"
          ]
        },
        {
          "name": "stderr",
          "output_type": "stream",
          "text": [
            "/var/folders/sq/1c_479xx58d7g62wy3fqmnl80000gn/T/ipykernel_60340/1373134139.py:3: ComplexWarning: Casting complex values to real discards the imaginary part\n",
            "  reduced_svd_matrix=reduced_svd(6,np.array(X_train)).astype('float64')\n",
            "/var/folders/sq/1c_479xx58d7g62wy3fqmnl80000gn/T/ipykernel_60340/1373134139.py:3: ComplexWarning: Casting complex values to real discards the imaginary part\n",
            "  reduced_svd_matrix=reduced_svd(6,np.array(X_train)).astype('float64')\n"
          ]
        },
        {
          "name": "stdout",
          "output_type": "stream",
          "text": [
            "{'4': [0, 1, 5, 19, 24, 27, 30, 39, 43, 44, 48, 52, 73, 79, 81, 84, 85, 86, 88, 90, 94, 98, 100, 107, 111, 124, 131, 134, 139, 140, 151], '2': [2, 6, 9, 18, 35, 41, 51, 53, 55, 61, 63, 66, 71, 78, 83, 96, 97, 106, 110, 120, 121, 129], '0': [3, 7, 10, 11, 12, 13, 14, 15, 16, 22, 25, 36, 37, 42, 46, 47, 50, 54, 56, 57, 60, 62, 64, 68, 69, 72, 77, 89, 91, 93, 99, 101, 102, 103, 108, 109, 113, 117, 119, 122, 123, 126, 128, 132, 136, 138, 142, 146, 147, 150], '1': [4, 8, 20, 29, 32, 33, 45, 75, 104, 105, 118], '3': [17, 21, 26, 34, 70, 92, 112, 114, 115, 125, 135, 143, 145], '5': [23, 28, 31, 38, 40, 49, 58, 59, 65, 67, 74, 76, 80, 82, 87, 95, 116, 127, 130, 133, 137, 141, 144, 148, 149, 152]}\n",
            "{'4': [0, 1, 5, 13, 19, 24, 27, 30, 39, 43, 44, 48, 52, 57, 73, 79, 81, 84, 85, 86, 88, 90, 94, 98, 100, 107, 108, 111, 124, 131, 134, 139, 140, 151], '2': [2, 18, 35, 51, 53, 55, 61, 63, 83, 96, 110, 120], '0': [3, 7, 10, 11, 12, 14, 15, 16, 22, 25, 36, 37, 42, 46, 47, 50, 54, 56, 60, 62, 69, 72, 82, 91, 92, 93, 99, 102, 103, 109, 113, 117, 119, 122, 123, 126, 128, 132, 142, 146, 150], '1': [4, 8, 20, 29, 32, 33, 45, 75, 104, 105, 118], '6': [6, 9, 31, 38, 40, 41, 49, 64, 66, 68, 71, 74, 77, 78, 87, 89, 97, 101, 106, 121, 129, 136, 138, 147, 152], '3': [17, 21, 26, 34, 70, 112, 114, 115, 125, 135, 143, 145], '5': [23, 28, 58, 59, 65, 67, 76, 80, 95, 116, 127, 130, 133, 137, 141, 144, 148, 149]}\n",
            "{'4': [0, 1, 13, 19, 24, 27, 30, 43, 44, 48, 52, 57, 73, 79, 81, 84, 85, 86, 90, 98, 100, 107, 108, 111, 124, 134, 139, 140, 151], '2': [2, 18, 35, 51, 53, 55, 61, 63, 83, 96, 110, 120], '0': [3, 7, 10, 11, 12, 14, 15, 16, 22, 25, 36, 37, 42, 46, 47, 50, 60, 62, 69, 82, 91, 93, 99, 102, 103, 109, 113, 117, 119, 122, 123, 126, 128, 132, 142, 146, 150], '1': [4, 8, 20, 29, 32, 33, 45, 75, 104, 105, 118], '3': [5, 17, 34, 39, 54, 56, 70, 72, 88, 92, 94, 112, 114, 125, 131, 135, 143], '6': [6, 9, 31, 38, 41, 49, 64, 66, 68, 71, 74, 77, 78, 87, 89, 97, 101, 106, 121, 129, 136, 138, 147, 152], '7': [21, 26, 115, 145], '5': [23, 28, 40, 58, 59, 65, 67, 76, 80, 95, 116, 127, 130, 133, 137, 141, 144, 148, 149]}\n"
          ]
        },
        {
          "name": "stderr",
          "output_type": "stream",
          "text": [
            "/var/folders/sq/1c_479xx58d7g62wy3fqmnl80000gn/T/ipykernel_60340/1373134139.py:3: ComplexWarning: Casting complex values to real discards the imaginary part\n",
            "  reduced_svd_matrix=reduced_svd(6,np.array(X_train)).astype('float64')\n"
          ]
        },
        {
          "data": {
            "image/png": "[encoded data removed]",
            "text/plain": [
              "<Figure size 640x480 with 1 Axes>"
            ]
          },
          "metadata": {},
          "output_type": "display_data"
        }
      ],
      "source": [
        "lt = [3,4,5,6,7, 8]\n",
        "acc = []\n",
        "for num_clusters in lt:\n",
        "    reduced_matrix = train_recommendations(train,num_clusters)\n",
        "    pred=test_recommendations(test.to_numpy(),reduced_matrix)\n",
        "    acc.append(accuracy(pred,test.to_numpy()))\n",
        "x = lt\n",
        "default_x_ticks = range(len(x))\n",
        "plt.plot(default_x_ticks, acc)\n",
        "plt.xticks(default_x_ticks, x)\n",
        "plt.show()   "
      ]
    },
    {
      "cell_type": "code",
      "execution_count": 429,
      "metadata": {
        "colab": {
          "base_uri": "https://localhost:8080/",
          "height": 279
        },
        "id": "nI2-OTRC0U7j",
        "outputId": "8e4bd209-768a-40a1-f021-7ab4d7b38014"
      },
      "outputs": [
        {
          "data": {
            "image/png": "[encoded data removed]",
            "text/plain": [
              "<Figure size 640x480 with 1 Axes>"
            ]
          },
          "metadata": {},
          "output_type": "display_data"
        }
      ],
      "source": [
        "from sklearn.decomposition import PCA\n",
        "X_std = StandardScaler().fit_transform(df)\n",
        "pca = PCA(n_components=4)\n",
        "principalComponents = pca.fit_transform(X_std)\n",
        "# Plot the explained variances\n",
        "features = range(pca.n_components_)\n",
        "plt.bar(features, pca.explained_variance_ratio_, color='black')\n",
        "plt.xlabel('PCA features')\n",
        "plt.ylabel('variance %')\n",
        "plt.xticks(features)\n",
        "# Save components to a DataFrame\n",
        "PCA_components = pd.DataFrame(principalComponents)"
      ]
    },
    {
      "cell_type": "code",
      "execution_count": 430,
      "metadata": {
        "colab": {
          "base_uri": "https://localhost:8080/",
          "height": 297
        },
        "id": "S4GqNV440U7j",
        "outputId": "1d3c96cf-b061-41f4-819b-301fe684c3e0"
      },
      "outputs": [
        {
          "data": {
            "text/plain": [
              "Text(0, 0.5, 'PCA 3')"
            ]
          },
          "execution_count": 430,
          "metadata": {},
          "output_type": "execute_result"
        },
        {
          "data": {
            "image/png": "[encoded data removed]",
            "text/plain": [
              "<Figure size 640x480 with 1 Axes>"
            ]
          },
          "metadata": {},
          "output_type": "display_data"
        }
      ],
      "source": [
        "plt.scatter(PCA_components[0], PCA_components[1], alpha=.5, color='black')\n",
        "plt.xlabel('PCA 2')\n",
        "plt.ylabel('PCA 3')\n"
      ]
    },
    {
      "cell_type": "code",
      "execution_count": 431,
      "metadata": {
        "colab": {
          "base_uri": "https://localhost:8080/",
          "height": 620
        },
        "id": "docA0r-90U7j",
        "outputId": "5f48d6bc-a82d-4537-a2ee-625935d781e7"
      },
      "outputs": [
        {
          "data": {
            "image/png": "[encoded data removed]",
            "text/plain": [
              "<Figure size 640x480 with 1 Axes>"
            ]
          },
          "metadata": {},
          "output_type": "display_data"
        }
      ],
      "source": [
        "ks = range(1, 10)\n",
        "inertias = []\n",
        "for k in ks:\n",
        "    # Create a KMeans instance with k clusters: model\n",
        "    model = KMeans(n_clusters=k)\n",
        "    \n",
        "    # Fit model to samples\n",
        "    model.fit(PCA_components.iloc[:,:3])\n",
        "    \n",
        "    # Append the inertia to the list of inertias\n",
        "    inertias.append(model.inertia_)\n",
        "    \n",
        "plt.plot(ks, inertias, '-o', color='black')\n",
        "plt.xlabel('number of clusters, k')\n",
        "plt.ylabel('inertia')\n",
        "plt.xticks(ks)\n",
        "plt.show()"
      ]
    },
    {
      "cell_type": "code",
      "execution_count": null,
      "metadata": {
        "id": "QnvEu2dj0U7j"
      },
      "outputs": [],
      "source": []
    }
  ],
  "metadata": {
    "colab": {
      "provenance": []
    },
    "kernelspec": {
      "display_name": "Python 3.10.6 64-bit",
      "language": "python",
      "name": "python3"
    },
    "language_info": {
      "codemirror_mode": {
        "name": "ipython",
        "version": 3
      },
      "file_extension": ".py",
      "mimetype": "text/x-python",
      "name": "python",
      "nbconvert_exporter": "python",
      "pygments_lexer": "ipython3",
      "version": "3.9.15"
    },
    "orig_nbformat": 4,
    "vscode": {
      "interpreter": {
        "hash": "e7370f93d1d0cde622a1f8e1c04877d8463912d04d973331ad4851f04de6915a"
      }
    }
  },
  "nbformat": 4,
  "nbformat_minor": 0
}
