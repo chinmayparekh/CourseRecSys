{
 "cells": [
  {
   "cell_type": "code",
   "execution_count": 120,
   "metadata": {},
   "outputs": [],
   "source": [
    "import pandas as pd\n",
    "import numpy as np\n",
    "from sklearn.preprocessing import StandardScaler\n",
    "from sklearn.cluster import KMeans\n",
    "import matplotlib.pyplot as plt\n",
    "from sklearn.decomposition import TruncatedSVD\n",
    "from sklearn.model_selection import train_test_split\n",
    "import sys\n"
   ]
  },
  {
   "cell_type": "code",
   "execution_count": 121,
   "metadata": {},
   "outputs": [],
   "source": [
    "filename = 'courseRecSys.xlsx'\n",
    "splitProp = 0.95"
   ]
  },
  {
   "cell_type": "code",
   "execution_count": 122,
   "metadata": {},
   "outputs": [],
   "source": [
    "def read_data(filename):\n",
    "    df = pd.read_excel(filename,\n",
    "    header=0,\n",
    "    index_col=False,\n",
    "    keep_default_na=True\n",
    "    )\n",
    "    return df"
   ]
  },
  {
   "cell_type": "code",
   "execution_count": 123,
   "metadata": {},
   "outputs": [],
   "source": [
    "def preprocess(df):\n",
    "    df=df.drop(['Start time','Completion time','Email','Name','Name(not mandatory)\\n','ID'], axis=1)\n",
    "    df[\"avg\"] = df.mean(axis = 0, skipna=True, numeric_only=True)\n",
    "    df=df.apply(lambda x: x.fillna(x.mean()),axis=0)\n",
    "    df = df.drop([\"avg\"],axis =1)\n",
    "    return df"
   ]
  },
  {
   "cell_type": "code",
   "execution_count": 124,
   "metadata": {},
   "outputs": [
    {
     "data": {
      "text/html": [
       "<div>\n",
       "<style scoped>\n",
       "    .dataframe tbody tr th:only-of-type {\n",
       "        vertical-align: middle;\n",
       "    }\n",
       "\n",
       "    .dataframe tbody tr th {\n",
       "        vertical-align: top;\n",
       "    }\n",
       "\n",
       "    .dataframe thead th {\n",
       "        text-align: right;\n",
       "    }\n",
       "</style>\n",
       "<table border=\"1\" class=\"dataframe\">\n",
       "  <thead>\n",
       "    <tr style=\"text-align: right;\">\n",
       "      <th></th>\n",
       "      <th>Data Structures and Algorithms</th>\n",
       "      <th>Computer Architecture\\n</th>\n",
       "      <th>Discrete Mathematics\\n</th>\n",
       "      <th>Economics</th>\n",
       "      <th>Programming-2</th>\n",
       "      <th>Machine Learning\\n</th>\n",
       "      <th>Mathematics For Machine Learning\\n</th>\n",
       "      <th>Visual Recognition\\n</th>\n",
       "      <th>Natural Language Processing\\n</th>\n",
       "      <th>Reinforcement Learning</th>\n",
       "      <th>...</th>\n",
       "      <th>Digital CMOS VLSI Design</th>\n",
       "      <th>System design with FPGA</th>\n",
       "      <th>ASIC design</th>\n",
       "      <th>VLSI Architecture Design\\n</th>\n",
       "      <th>High level synthesis and optimization of Digital Circuits</th>\n",
       "      <th>Digital Sociology</th>\n",
       "      <th>Privacy in the Digital Age</th>\n",
       "      <th>Technology Ethics and AI</th>\n",
       "      <th>Techno-economics of networks</th>\n",
       "      <th>The Web and the Mind</th>\n",
       "    </tr>\n",
       "  </thead>\n",
       "  <tbody>\n",
       "    <tr>\n",
       "      <th>0</th>\n",
       "      <td>0.30</td>\n",
       "      <td>0.85</td>\n",
       "      <td>0.85</td>\n",
       "      <td>0.90</td>\n",
       "      <td>0.70</td>\n",
       "      <td>0.70</td>\n",
       "      <td>0.80</td>\n",
       "      <td>0.620098</td>\n",
       "      <td>0.572638</td>\n",
       "      <td>0.603495</td>\n",
       "      <td>...</td>\n",
       "      <td>0.251538</td>\n",
       "      <td>0.246316</td>\n",
       "      <td>0.214805</td>\n",
       "      <td>0.234868</td>\n",
       "      <td>0.168056</td>\n",
       "      <td>0.318243</td>\n",
       "      <td>0.600000</td>\n",
       "      <td>0.423286</td>\n",
       "      <td>0.396622</td>\n",
       "      <td>0.510897</td>\n",
       "    </tr>\n",
       "    <tr>\n",
       "      <th>1</th>\n",
       "      <td>0.70</td>\n",
       "      <td>0.80</td>\n",
       "      <td>0.20</td>\n",
       "      <td>0.80</td>\n",
       "      <td>0.80</td>\n",
       "      <td>0.50</td>\n",
       "      <td>0.10</td>\n",
       "      <td>0.200000</td>\n",
       "      <td>0.572638</td>\n",
       "      <td>0.603495</td>\n",
       "      <td>...</td>\n",
       "      <td>0.251538</td>\n",
       "      <td>0.246316</td>\n",
       "      <td>0.214805</td>\n",
       "      <td>0.234868</td>\n",
       "      <td>0.168056</td>\n",
       "      <td>0.318243</td>\n",
       "      <td>0.500000</td>\n",
       "      <td>0.423286</td>\n",
       "      <td>0.396622</td>\n",
       "      <td>0.510897</td>\n",
       "    </tr>\n",
       "    <tr>\n",
       "      <th>2</th>\n",
       "      <td>0.70</td>\n",
       "      <td>0.00</td>\n",
       "      <td>1.00</td>\n",
       "      <td>1.00</td>\n",
       "      <td>1.00</td>\n",
       "      <td>1.00</td>\n",
       "      <td>1.00</td>\n",
       "      <td>0.800000</td>\n",
       "      <td>0.900000</td>\n",
       "      <td>1.000000</td>\n",
       "      <td>...</td>\n",
       "      <td>0.251538</td>\n",
       "      <td>0.246316</td>\n",
       "      <td>0.214805</td>\n",
       "      <td>0.234868</td>\n",
       "      <td>0.168056</td>\n",
       "      <td>0.318243</td>\n",
       "      <td>0.400000</td>\n",
       "      <td>0.423286</td>\n",
       "      <td>0.396622</td>\n",
       "      <td>0.510897</td>\n",
       "    </tr>\n",
       "    <tr>\n",
       "      <th>3</th>\n",
       "      <td>0.65</td>\n",
       "      <td>0.70</td>\n",
       "      <td>0.20</td>\n",
       "      <td>0.75</td>\n",
       "      <td>0.75</td>\n",
       "      <td>0.75</td>\n",
       "      <td>0.75</td>\n",
       "      <td>0.750000</td>\n",
       "      <td>0.572638</td>\n",
       "      <td>0.603495</td>\n",
       "      <td>...</td>\n",
       "      <td>0.251538</td>\n",
       "      <td>0.246316</td>\n",
       "      <td>0.214805</td>\n",
       "      <td>0.234868</td>\n",
       "      <td>0.168056</td>\n",
       "      <td>0.800000</td>\n",
       "      <td>0.452708</td>\n",
       "      <td>0.423286</td>\n",
       "      <td>0.800000</td>\n",
       "      <td>0.510897</td>\n",
       "    </tr>\n",
       "    <tr>\n",
       "      <th>4</th>\n",
       "      <td>0.70</td>\n",
       "      <td>0.60</td>\n",
       "      <td>0.20</td>\n",
       "      <td>0.00</td>\n",
       "      <td>0.80</td>\n",
       "      <td>0.50</td>\n",
       "      <td>0.60</td>\n",
       "      <td>0.400000</td>\n",
       "      <td>0.400000</td>\n",
       "      <td>0.200000</td>\n",
       "      <td>...</td>\n",
       "      <td>0.000000</td>\n",
       "      <td>0.000000</td>\n",
       "      <td>0.000000</td>\n",
       "      <td>0.000000</td>\n",
       "      <td>0.000000</td>\n",
       "      <td>0.000000</td>\n",
       "      <td>0.000000</td>\n",
       "      <td>0.000000</td>\n",
       "      <td>0.000000</td>\n",
       "      <td>0.000000</td>\n",
       "    </tr>\n",
       "    <tr>\n",
       "      <th>...</th>\n",
       "      <td>...</td>\n",
       "      <td>...</td>\n",
       "      <td>...</td>\n",
       "      <td>...</td>\n",
       "      <td>...</td>\n",
       "      <td>...</td>\n",
       "      <td>...</td>\n",
       "      <td>...</td>\n",
       "      <td>...</td>\n",
       "      <td>...</td>\n",
       "      <td>...</td>\n",
       "      <td>...</td>\n",
       "      <td>...</td>\n",
       "      <td>...</td>\n",
       "      <td>...</td>\n",
       "      <td>...</td>\n",
       "      <td>...</td>\n",
       "      <td>...</td>\n",
       "      <td>...</td>\n",
       "      <td>...</td>\n",
       "      <td>...</td>\n",
       "    </tr>\n",
       "    <tr>\n",
       "      <th>157</th>\n",
       "      <td>0.00</td>\n",
       "      <td>1.00</td>\n",
       "      <td>0.50</td>\n",
       "      <td>0.70</td>\n",
       "      <td>0.60</td>\n",
       "      <td>0.50</td>\n",
       "      <td>0.30</td>\n",
       "      <td>0.700000</td>\n",
       "      <td>0.572638</td>\n",
       "      <td>0.603495</td>\n",
       "      <td>...</td>\n",
       "      <td>0.251538</td>\n",
       "      <td>0.246316</td>\n",
       "      <td>0.214805</td>\n",
       "      <td>0.234868</td>\n",
       "      <td>0.168056</td>\n",
       "      <td>0.318243</td>\n",
       "      <td>0.000000</td>\n",
       "      <td>0.423286</td>\n",
       "      <td>0.396622</td>\n",
       "      <td>0.510897</td>\n",
       "    </tr>\n",
       "    <tr>\n",
       "      <th>158</th>\n",
       "      <td>1.00</td>\n",
       "      <td>0.00</td>\n",
       "      <td>0.00</td>\n",
       "      <td>0.70</td>\n",
       "      <td>0.70</td>\n",
       "      <td>0.00</td>\n",
       "      <td>0.00</td>\n",
       "      <td>0.000000</td>\n",
       "      <td>0.572638</td>\n",
       "      <td>0.603495</td>\n",
       "      <td>...</td>\n",
       "      <td>0.251538</td>\n",
       "      <td>0.246316</td>\n",
       "      <td>0.214805</td>\n",
       "      <td>0.234868</td>\n",
       "      <td>0.168056</td>\n",
       "      <td>0.318243</td>\n",
       "      <td>0.452708</td>\n",
       "      <td>0.423286</td>\n",
       "      <td>0.396622</td>\n",
       "      <td>0.200000</td>\n",
       "    </tr>\n",
       "    <tr>\n",
       "      <th>159</th>\n",
       "      <td>0.60</td>\n",
       "      <td>0.30</td>\n",
       "      <td>0.40</td>\n",
       "      <td>0.90</td>\n",
       "      <td>0.80</td>\n",
       "      <td>0.70</td>\n",
       "      <td>0.40</td>\n",
       "      <td>0.500000</td>\n",
       "      <td>0.400000</td>\n",
       "      <td>0.200000</td>\n",
       "      <td>...</td>\n",
       "      <td>0.251538</td>\n",
       "      <td>0.246316</td>\n",
       "      <td>0.214805</td>\n",
       "      <td>0.234868</td>\n",
       "      <td>0.168056</td>\n",
       "      <td>0.318243</td>\n",
       "      <td>1.000000</td>\n",
       "      <td>0.423286</td>\n",
       "      <td>0.396622</td>\n",
       "      <td>1.000000</td>\n",
       "    </tr>\n",
       "    <tr>\n",
       "      <th>160</th>\n",
       "      <td>0.80</td>\n",
       "      <td>0.60</td>\n",
       "      <td>0.20</td>\n",
       "      <td>0.40</td>\n",
       "      <td>0.70</td>\n",
       "      <td>0.70</td>\n",
       "      <td>0.80</td>\n",
       "      <td>0.620098</td>\n",
       "      <td>0.572638</td>\n",
       "      <td>0.700000</td>\n",
       "      <td>...</td>\n",
       "      <td>0.251538</td>\n",
       "      <td>0.246316</td>\n",
       "      <td>0.214805</td>\n",
       "      <td>0.234868</td>\n",
       "      <td>0.168056</td>\n",
       "      <td>0.318243</td>\n",
       "      <td>0.452708</td>\n",
       "      <td>0.423286</td>\n",
       "      <td>0.396622</td>\n",
       "      <td>0.510897</td>\n",
       "    </tr>\n",
       "    <tr>\n",
       "      <th>161</th>\n",
       "      <td>0.40</td>\n",
       "      <td>0.70</td>\n",
       "      <td>0.90</td>\n",
       "      <td>0.40</td>\n",
       "      <td>0.40</td>\n",
       "      <td>0.70</td>\n",
       "      <td>0.90</td>\n",
       "      <td>0.620098</td>\n",
       "      <td>0.572638</td>\n",
       "      <td>0.800000</td>\n",
       "      <td>...</td>\n",
       "      <td>0.251538</td>\n",
       "      <td>0.246316</td>\n",
       "      <td>0.214805</td>\n",
       "      <td>0.234868</td>\n",
       "      <td>0.168056</td>\n",
       "      <td>0.318243</td>\n",
       "      <td>0.452708</td>\n",
       "      <td>0.423286</td>\n",
       "      <td>0.396622</td>\n",
       "      <td>0.510897</td>\n",
       "    </tr>\n",
       "  </tbody>\n",
       "</table>\n",
       "<p>162 rows × 25 columns</p>\n",
       "</div>"
      ],
      "text/plain": [
       "     Data Structures and Algorithms  Computer Architecture\\n  \\\n",
       "0                              0.30                     0.85   \n",
       "1                              0.70                     0.80   \n",
       "2                              0.70                     0.00   \n",
       "3                              0.65                     0.70   \n",
       "4                              0.70                     0.60   \n",
       "..                              ...                      ...   \n",
       "157                            0.00                     1.00   \n",
       "158                            1.00                     0.00   \n",
       "159                            0.60                     0.30   \n",
       "160                            0.80                     0.60   \n",
       "161                            0.40                     0.70   \n",
       "\n",
       "     Discrete Mathematics\\n  Economics  Programming-2  Machine Learning\\n  \\\n",
       "0                      0.85       0.90           0.70                0.70   \n",
       "1                      0.20       0.80           0.80                0.50   \n",
       "2                      1.00       1.00           1.00                1.00   \n",
       "3                      0.20       0.75           0.75                0.75   \n",
       "4                      0.20       0.00           0.80                0.50   \n",
       "..                      ...        ...            ...                 ...   \n",
       "157                    0.50       0.70           0.60                0.50   \n",
       "158                    0.00       0.70           0.70                0.00   \n",
       "159                    0.40       0.90           0.80                0.70   \n",
       "160                    0.20       0.40           0.70                0.70   \n",
       "161                    0.90       0.40           0.40                0.70   \n",
       "\n",
       "     Mathematics For Machine Learning\\n  Visual Recognition\\n  \\\n",
       "0                                  0.80              0.620098   \n",
       "1                                  0.10              0.200000   \n",
       "2                                  1.00              0.800000   \n",
       "3                                  0.75              0.750000   \n",
       "4                                  0.60              0.400000   \n",
       "..                                  ...                   ...   \n",
       "157                                0.30              0.700000   \n",
       "158                                0.00              0.000000   \n",
       "159                                0.40              0.500000   \n",
       "160                                0.80              0.620098   \n",
       "161                                0.90              0.620098   \n",
       "\n",
       "     Natural Language Processing\\n  Reinforcement Learning  ...  \\\n",
       "0                         0.572638                0.603495  ...   \n",
       "1                         0.572638                0.603495  ...   \n",
       "2                         0.900000                1.000000  ...   \n",
       "3                         0.572638                0.603495  ...   \n",
       "4                         0.400000                0.200000  ...   \n",
       "..                             ...                     ...  ...   \n",
       "157                       0.572638                0.603495  ...   \n",
       "158                       0.572638                0.603495  ...   \n",
       "159                       0.400000                0.200000  ...   \n",
       "160                       0.572638                0.700000  ...   \n",
       "161                       0.572638                0.800000  ...   \n",
       "\n",
       "     Digital CMOS VLSI Design   System design with FPGA   ASIC design   \\\n",
       "0                     0.251538                  0.246316      0.214805   \n",
       "1                     0.251538                  0.246316      0.214805   \n",
       "2                     0.251538                  0.246316      0.214805   \n",
       "3                     0.251538                  0.246316      0.214805   \n",
       "4                     0.000000                  0.000000      0.000000   \n",
       "..                         ...                       ...           ...   \n",
       "157                   0.251538                  0.246316      0.214805   \n",
       "158                   0.251538                  0.246316      0.214805   \n",
       "159                   0.251538                  0.246316      0.214805   \n",
       "160                   0.251538                  0.246316      0.214805   \n",
       "161                   0.251538                  0.246316      0.214805   \n",
       "\n",
       "     VLSI Architecture Design\\n  \\\n",
       "0                      0.234868   \n",
       "1                      0.234868   \n",
       "2                      0.234868   \n",
       "3                      0.234868   \n",
       "4                      0.000000   \n",
       "..                          ...   \n",
       "157                    0.234868   \n",
       "158                    0.234868   \n",
       "159                    0.234868   \n",
       "160                    0.234868   \n",
       "161                    0.234868   \n",
       "\n",
       "     High level synthesis and optimization of Digital Circuits   \\\n",
       "0                                             0.168056            \n",
       "1                                             0.168056            \n",
       "2                                             0.168056            \n",
       "3                                             0.168056            \n",
       "4                                             0.000000            \n",
       "..                                                 ...            \n",
       "157                                           0.168056            \n",
       "158                                           0.168056            \n",
       "159                                           0.168056            \n",
       "160                                           0.168056            \n",
       "161                                           0.168056            \n",
       "\n",
       "     Digital Sociology   Privacy in the Digital Age  \\\n",
       "0              0.318243                    0.600000   \n",
       "1              0.318243                    0.500000   \n",
       "2              0.318243                    0.400000   \n",
       "3              0.800000                    0.452708   \n",
       "4              0.000000                    0.000000   \n",
       "..                  ...                         ...   \n",
       "157            0.318243                    0.000000   \n",
       "158            0.318243                    0.452708   \n",
       "159            0.318243                    1.000000   \n",
       "160            0.318243                    0.452708   \n",
       "161            0.318243                    0.452708   \n",
       "\n",
       "     Technology Ethics and AI   Techno-economics of networks   \\\n",
       "0                     0.423286                       0.396622   \n",
       "1                     0.423286                       0.396622   \n",
       "2                     0.423286                       0.396622   \n",
       "3                     0.423286                       0.800000   \n",
       "4                     0.000000                       0.000000   \n",
       "..                         ...                            ...   \n",
       "157                   0.423286                       0.396622   \n",
       "158                   0.423286                       0.396622   \n",
       "159                   0.423286                       0.396622   \n",
       "160                   0.423286                       0.396622   \n",
       "161                   0.423286                       0.396622   \n",
       "\n",
       "     The Web and the Mind   \n",
       "0                 0.510897  \n",
       "1                 0.510897  \n",
       "2                 0.510897  \n",
       "3                 0.510897  \n",
       "4                 0.000000  \n",
       "..                     ...  \n",
       "157               0.510897  \n",
       "158               0.200000  \n",
       "159               1.000000  \n",
       "160               0.510897  \n",
       "161               0.510897  \n",
       "\n",
       "[162 rows x 25 columns]"
      ]
     },
     "execution_count": 124,
     "metadata": {},
     "output_type": "execute_result"
    }
   ],
   "source": [
    "df=read_data(filename)\n",
    "df = preprocess(df)\n",
    "df"
   ]
  },
  {
   "cell_type": "markdown",
   "metadata": {},
   "source": [
    "change 0.5 to average of ratings of that user"
   ]
  },
  {
   "cell_type": "code",
   "execution_count": 125,
   "metadata": {},
   "outputs": [],
   "source": [
    "all_users = df"
   ]
  },
  {
   "cell_type": "code",
   "execution_count": 126,
   "metadata": {},
   "outputs": [],
   "source": [
    "train,test = train_test_split(df,train_size=splitProp, random_state=42,shuffle = True)"
   ]
  },
  {
   "cell_type": "code",
   "execution_count": 127,
   "metadata": {},
   "outputs": [
    {
     "data": {
      "text/plain": [
       "(162, 25)"
      ]
     },
     "execution_count": 127,
     "metadata": {},
     "output_type": "execute_result"
    }
   ],
   "source": [
    "df.shape"
   ]
  },
  {
   "cell_type": "code",
   "execution_count": 128,
   "metadata": {},
   "outputs": [
    {
     "data": {
      "text/plain": [
       "(9, 25)"
      ]
     },
     "execution_count": 128,
     "metadata": {},
     "output_type": "execute_result"
    }
   ],
   "source": [
    "test.shape"
   ]
  },
  {
   "cell_type": "code",
   "execution_count": 129,
   "metadata": {},
   "outputs": [],
   "source": [
    "# df.isna().sum()"
   ]
  },
  {
   "cell_type": "code",
   "execution_count": 130,
   "metadata": {},
   "outputs": [],
   "source": [
    "courses = df.columns\n",
    "# courses"
   ]
  },
  {
   "cell_type": "code",
   "execution_count": 131,
   "metadata": {},
   "outputs": [],
   "source": [
    "core_courses = ['Data Structures and Algorithms','Computer Architecture\\n','Discrete Mathematics\\n','Economics','Programming-2']"
   ]
  },
  {
   "cell_type": "code",
   "execution_count": 132,
   "metadata": {},
   "outputs": [],
   "source": [
    "# def visualize(point):\n",
    "#     wcss = []  #Within Cluster Sum of Squares\n",
    "#     for number_of_clusters in range(1, 15): \n",
    "#         kmeans = KMeans(n_clusters = number_of_clusters, random_state = 42)\n",
    "#         kmeans.fit(df[core_courses]) \n",
    "#         wcss.append(kmeans.inertia_)\n",
    "#     ks = np.arange(1,15,1)\n",
    "#     plt.plot(ks, wcss)\n",
    "#     plt.axvline(point, linestyle='--', color='r')\n",
    "#     return wcss"
   ]
  },
  {
   "cell_type": "code",
   "execution_count": 133,
   "metadata": {},
   "outputs": [],
   "source": [
    "# visualize(5)"
   ]
  },
  {
   "cell_type": "code",
   "execution_count": 134,
   "metadata": {},
   "outputs": [],
   "source": [
    "def K_means(df, num_clusters, iters):\n",
    "    np_dat = df.to_numpy()\n",
    "    # Initialize the centroids\n",
    "    range_min = np.min(np_dat, axis = 0)\n",
    "    range_max = np.max(np_dat, axis = 0)\n",
    "    curr_centroids = []\n",
    "    np.random.seed(75)\n",
    "    for i in range(num_clusters):\n",
    "        curr_centroids.append(np.random.uniform(range_min, range_max))\n",
    "    clusters = {}\n",
    "    for it in range(iters):\n",
    "        # Repopulate clusters\n",
    "        clusters.clear()\n",
    "        for j in range(np_dat.shape[0]):\n",
    "            datapoint = np_dat[j]\n",
    "            min = sys.maxsize\n",
    "            min_index = 10\n",
    "            for k in range(num_clusters):\n",
    "                dist = np.linalg.norm(curr_centroids[k] - datapoint)\n",
    "                if(dist < min):\n",
    "                    min = dist\n",
    "                    min_index = k\n",
    "            if(clusters.get(str(min_index)) == None):\n",
    "                clusters[str(min_index)] = []\n",
    "            clusters[str(min_index)].append(j)\n",
    "        \n",
    "        # Recalculate Centroids\n",
    "        new_centroids = []\n",
    "        for k in range(num_clusters):\n",
    "            key = str(k)\n",
    "            if(clusters.get(key) == None): \n",
    "                n_centr = curr_centroids[k]\n",
    "                #n_centr = np.random.uniform(range_min, range_max)\n",
    "            else: n_centr = np.mean(np_dat[np.array(clusters[key])], axis = 0)\n",
    "            new_centroids.append(n_centr)\n",
    "        \n",
    "        #if((np.not_equal(new_centroids, curr_centroids).any()) != True ): break\n",
    "        curr_centroids = new_centroids\n",
    "        #print(it)\n",
    "    return clusters\n"
   ]
  },
  {
   "cell_type": "code",
   "execution_count": 135,
   "metadata": {},
   "outputs": [],
   "source": [
    "def get_clustered_df(df,num_clusters):\n",
    "    cluster_dict = K_means(df[core_courses], num_clusters, 50)\n",
    "    print(cluster_dict)\n",
    "    clustered_df =[]\n",
    "    arr = df.to_numpy()\n",
    "    for k in range(num_clusters):\n",
    "        key = str(k)\n",
    "        centr = np.nanmean(arr[np.array(cluster_dict[key])], axis = 0)\n",
    "        clustered_df.append(centr)\n",
    "    return clustered_df"
   ]
  },
  {
   "cell_type": "code",
   "execution_count": 136,
   "metadata": {},
   "outputs": [
    {
     "name": "stdout",
     "output_type": "stream",
     "text": [
      "{'7': [0, 17, 33, 41, 70, 117, 157], '9': [1, 3, 15, 20, 31, 42, 48, 49, 50, 55, 61, 71, 74, 75, 78, 86, 88, 102, 106, 109, 147, 152, 159], '0': [2, 59, 63, 107, 125, 143, 145, 156], '4': [4, 7, 27, 29, 30, 35, 40, 44, 60, 64, 67, 84, 89, 93, 98, 101, 120, 132, 135, 136, 142, 151, 154, 158, 160], '2': [5, 8, 10, 11, 13, 14, 16, 18, 19, 21, 23, 24, 25, 34, 37, 43, 45, 46, 51, 53, 54, 57, 58, 62, 65, 68, 69, 72, 76, 77, 81, 85, 87, 92, 96, 97, 103, 113, 116, 119, 121, 124, 128, 129, 130, 131, 133, 137, 138, 139, 141, 144, 148, 149, 150, 153], '8': [6, 38, 39, 52, 66, 73, 83, 90, 105, 110, 123, 126, 140], '6': [9, 82, 127, 161], '1': [12, 28, 32, 47, 56, 80, 91, 94, 104, 108, 115, 118, 134, 146], '3': [22, 26, 99, 111, 114], '5': [36, 79, 95, 100, 112, 122, 155]}\n"
     ]
    }
   ],
   "source": [
    "clustered_df = get_clustered_df(df,10)"
   ]
  },
  {
   "cell_type": "code",
   "execution_count": 137,
   "metadata": {},
   "outputs": [
    {
     "data": {
      "text/html": [
       "<div>\n",
       "<style scoped>\n",
       "    .dataframe tbody tr th:only-of-type {\n",
       "        vertical-align: middle;\n",
       "    }\n",
       "\n",
       "    .dataframe tbody tr th {\n",
       "        vertical-align: top;\n",
       "    }\n",
       "\n",
       "    .dataframe thead th {\n",
       "        text-align: right;\n",
       "    }\n",
       "</style>\n",
       "<table border=\"1\" class=\"dataframe\">\n",
       "  <thead>\n",
       "    <tr style=\"text-align: right;\">\n",
       "      <th></th>\n",
       "      <th>Data Structures and Algorithms</th>\n",
       "      <th>Computer Architecture\\n</th>\n",
       "      <th>Discrete Mathematics\\n</th>\n",
       "      <th>Economics</th>\n",
       "      <th>Programming-2</th>\n",
       "      <th>Machine Learning\\n</th>\n",
       "      <th>Mathematics For Machine Learning\\n</th>\n",
       "      <th>Visual Recognition\\n</th>\n",
       "      <th>Natural Language Processing\\n</th>\n",
       "      <th>Reinforcement Learning</th>\n",
       "      <th>...</th>\n",
       "      <th>Digital CMOS VLSI Design</th>\n",
       "      <th>System design with FPGA</th>\n",
       "      <th>ASIC design</th>\n",
       "      <th>VLSI Architecture Design\\n</th>\n",
       "      <th>High level synthesis and optimization of Digital Circuits</th>\n",
       "      <th>Digital Sociology</th>\n",
       "      <th>Privacy in the Digital Age</th>\n",
       "      <th>Technology Ethics and AI</th>\n",
       "      <th>Techno-economics of networks</th>\n",
       "      <th>The Web and the Mind</th>\n",
       "    </tr>\n",
       "  </thead>\n",
       "  <tbody>\n",
       "    <tr>\n",
       "      <th>0</th>\n",
       "      <td>0.900000</td>\n",
       "      <td>0.202500</td>\n",
       "      <td>0.868750</td>\n",
       "      <td>0.906250</td>\n",
       "      <td>0.887500</td>\n",
       "      <td>0.700833</td>\n",
       "      <td>0.652823</td>\n",
       "      <td>0.567524</td>\n",
       "      <td>0.521580</td>\n",
       "      <td>0.488374</td>\n",
       "      <td>...</td>\n",
       "      <td>0.213269</td>\n",
       "      <td>0.198158</td>\n",
       "      <td>0.219903</td>\n",
       "      <td>0.192434</td>\n",
       "      <td>0.171528</td>\n",
       "      <td>0.456841</td>\n",
       "      <td>0.631589</td>\n",
       "      <td>0.549143</td>\n",
       "      <td>0.661655</td>\n",
       "      <td>0.555449</td>\n",
       "    </tr>\n",
       "    <tr>\n",
       "      <th>1</th>\n",
       "      <td>0.753571</td>\n",
       "      <td>0.228571</td>\n",
       "      <td>0.750000</td>\n",
       "      <td>0.096429</td>\n",
       "      <td>0.914286</td>\n",
       "      <td>0.908094</td>\n",
       "      <td>0.842512</td>\n",
       "      <td>0.731443</td>\n",
       "      <td>0.549325</td>\n",
       "      <td>0.665284</td>\n",
       "      <td>...</td>\n",
       "      <td>0.186374</td>\n",
       "      <td>0.116541</td>\n",
       "      <td>0.091002</td>\n",
       "      <td>0.179229</td>\n",
       "      <td>0.086310</td>\n",
       "      <td>0.175676</td>\n",
       "      <td>0.304539</td>\n",
       "      <td>0.331408</td>\n",
       "      <td>0.205695</td>\n",
       "      <td>0.484020</td>\n",
       "    </tr>\n",
       "    <tr>\n",
       "      <th>2</th>\n",
       "      <td>0.890893</td>\n",
       "      <td>0.860536</td>\n",
       "      <td>0.803036</td>\n",
       "      <td>0.784107</td>\n",
       "      <td>0.911786</td>\n",
       "      <td>0.827559</td>\n",
       "      <td>0.816084</td>\n",
       "      <td>0.700205</td>\n",
       "      <td>0.573415</td>\n",
       "      <td>0.628471</td>\n",
       "      <td>...</td>\n",
       "      <td>0.286703</td>\n",
       "      <td>0.291316</td>\n",
       "      <td>0.268711</td>\n",
       "      <td>0.273038</td>\n",
       "      <td>0.237822</td>\n",
       "      <td>0.377799</td>\n",
       "      <td>0.449959</td>\n",
       "      <td>0.460564</td>\n",
       "      <td>0.473721</td>\n",
       "      <td>0.512363</td>\n",
       "    </tr>\n",
       "    <tr>\n",
       "      <th>3</th>\n",
       "      <td>0.240000</td>\n",
       "      <td>0.040000</td>\n",
       "      <td>0.200000</td>\n",
       "      <td>0.600000</td>\n",
       "      <td>0.920000</td>\n",
       "      <td>0.840000</td>\n",
       "      <td>0.540000</td>\n",
       "      <td>0.480000</td>\n",
       "      <td>0.429055</td>\n",
       "      <td>0.441398</td>\n",
       "      <td>...</td>\n",
       "      <td>0.150923</td>\n",
       "      <td>0.147789</td>\n",
       "      <td>0.128883</td>\n",
       "      <td>0.140921</td>\n",
       "      <td>0.100833</td>\n",
       "      <td>0.390946</td>\n",
       "      <td>0.401083</td>\n",
       "      <td>0.453971</td>\n",
       "      <td>0.437973</td>\n",
       "      <td>0.506538</td>\n",
       "    </tr>\n",
       "    <tr>\n",
       "      <th>4</th>\n",
       "      <td>0.894000</td>\n",
       "      <td>0.450000</td>\n",
       "      <td>0.176000</td>\n",
       "      <td>0.332000</td>\n",
       "      <td>0.822000</td>\n",
       "      <td>0.754533</td>\n",
       "      <td>0.590903</td>\n",
       "      <td>0.524412</td>\n",
       "      <td>0.527750</td>\n",
       "      <td>0.556719</td>\n",
       "      <td>...</td>\n",
       "      <td>0.200738</td>\n",
       "      <td>0.158232</td>\n",
       "      <td>0.143106</td>\n",
       "      <td>0.152737</td>\n",
       "      <td>0.080667</td>\n",
       "      <td>0.252757</td>\n",
       "      <td>0.404975</td>\n",
       "      <td>0.347177</td>\n",
       "      <td>0.290243</td>\n",
       "      <td>0.419487</td>\n",
       "    </tr>\n",
       "    <tr>\n",
       "      <th>5</th>\n",
       "      <td>0.975714</td>\n",
       "      <td>0.940000</td>\n",
       "      <td>0.648571</td>\n",
       "      <td>0.851429</td>\n",
       "      <td>0.278571</td>\n",
       "      <td>0.800952</td>\n",
       "      <td>0.674655</td>\n",
       "      <td>0.702871</td>\n",
       "      <td>0.692182</td>\n",
       "      <td>0.700999</td>\n",
       "      <td>...</td>\n",
       "      <td>0.260440</td>\n",
       "      <td>0.287519</td>\n",
       "      <td>0.109944</td>\n",
       "      <td>0.359962</td>\n",
       "      <td>0.157738</td>\n",
       "      <td>0.279247</td>\n",
       "      <td>0.478958</td>\n",
       "      <td>0.409980</td>\n",
       "      <td>0.369981</td>\n",
       "      <td>0.390385</td>\n",
       "    </tr>\n",
       "    <tr>\n",
       "      <th>6</th>\n",
       "      <td>0.600000</td>\n",
       "      <td>0.850000</td>\n",
       "      <td>0.875000</td>\n",
       "      <td>0.150000</td>\n",
       "      <td>0.200000</td>\n",
       "      <td>0.826665</td>\n",
       "      <td>0.805647</td>\n",
       "      <td>0.435049</td>\n",
       "      <td>0.679479</td>\n",
       "      <td>0.501748</td>\n",
       "      <td>...</td>\n",
       "      <td>0.188654</td>\n",
       "      <td>0.184737</td>\n",
       "      <td>0.161104</td>\n",
       "      <td>0.176151</td>\n",
       "      <td>0.126042</td>\n",
       "      <td>0.238682</td>\n",
       "      <td>0.276354</td>\n",
       "      <td>0.317464</td>\n",
       "      <td>0.297466</td>\n",
       "      <td>0.383173</td>\n",
       "    </tr>\n",
       "    <tr>\n",
       "      <th>7</th>\n",
       "      <td>0.303767</td>\n",
       "      <td>0.835714</td>\n",
       "      <td>0.780336</td>\n",
       "      <td>0.910361</td>\n",
       "      <td>0.855411</td>\n",
       "      <td>0.631316</td>\n",
       "      <td>0.572167</td>\n",
       "      <td>0.620411</td>\n",
       "      <td>0.581299</td>\n",
       "      <td>0.480934</td>\n",
       "      <td>...</td>\n",
       "      <td>0.208242</td>\n",
       "      <td>0.190226</td>\n",
       "      <td>0.153432</td>\n",
       "      <td>0.167763</td>\n",
       "      <td>0.148611</td>\n",
       "      <td>0.370174</td>\n",
       "      <td>0.557767</td>\n",
       "      <td>0.502347</td>\n",
       "      <td>0.469015</td>\n",
       "      <td>0.536355</td>\n",
       "    </tr>\n",
       "    <tr>\n",
       "      <th>8</th>\n",
       "      <td>0.976923</td>\n",
       "      <td>0.961538</td>\n",
       "      <td>0.983846</td>\n",
       "      <td>0.046154</td>\n",
       "      <td>0.969231</td>\n",
       "      <td>0.892308</td>\n",
       "      <td>0.830769</td>\n",
       "      <td>0.509238</td>\n",
       "      <td>0.780406</td>\n",
       "      <td>0.708230</td>\n",
       "      <td>...</td>\n",
       "      <td>0.365740</td>\n",
       "      <td>0.345020</td>\n",
       "      <td>0.296863</td>\n",
       "      <td>0.303036</td>\n",
       "      <td>0.205556</td>\n",
       "      <td>0.199324</td>\n",
       "      <td>0.535240</td>\n",
       "      <td>0.393571</td>\n",
       "      <td>0.229470</td>\n",
       "      <td>0.638807</td>\n",
       "    </tr>\n",
       "    <tr>\n",
       "      <th>9</th>\n",
       "      <td>0.663043</td>\n",
       "      <td>0.743478</td>\n",
       "      <td>0.156522</td>\n",
       "      <td>0.839130</td>\n",
       "      <td>0.795652</td>\n",
       "      <td>0.783478</td>\n",
       "      <td>0.613816</td>\n",
       "      <td>0.579582</td>\n",
       "      <td>0.507669</td>\n",
       "      <td>0.597324</td>\n",
       "      <td>...</td>\n",
       "      <td>0.252843</td>\n",
       "      <td>0.309108</td>\n",
       "      <td>0.267307</td>\n",
       "      <td>0.254291</td>\n",
       "      <td>0.151510</td>\n",
       "      <td>0.344301</td>\n",
       "      <td>0.494538</td>\n",
       "      <td>0.435913</td>\n",
       "      <td>0.437368</td>\n",
       "      <td>0.587347</td>\n",
       "    </tr>\n",
       "  </tbody>\n",
       "</table>\n",
       "<p>10 rows × 25 columns</p>\n",
       "</div>"
      ],
      "text/plain": [
       "   Data Structures and Algorithms  Computer Architecture\\n  \\\n",
       "0                        0.900000                 0.202500   \n",
       "1                        0.753571                 0.228571   \n",
       "2                        0.890893                 0.860536   \n",
       "3                        0.240000                 0.040000   \n",
       "4                        0.894000                 0.450000   \n",
       "5                        0.975714                 0.940000   \n",
       "6                        0.600000                 0.850000   \n",
       "7                        0.303767                 0.835714   \n",
       "8                        0.976923                 0.961538   \n",
       "9                        0.663043                 0.743478   \n",
       "\n",
       "   Discrete Mathematics\\n  Economics  Programming-2  Machine Learning\\n  \\\n",
       "0                0.868750   0.906250       0.887500            0.700833   \n",
       "1                0.750000   0.096429       0.914286            0.908094   \n",
       "2                0.803036   0.784107       0.911786            0.827559   \n",
       "3                0.200000   0.600000       0.920000            0.840000   \n",
       "4                0.176000   0.332000       0.822000            0.754533   \n",
       "5                0.648571   0.851429       0.278571            0.800952   \n",
       "6                0.875000   0.150000       0.200000            0.826665   \n",
       "7                0.780336   0.910361       0.855411            0.631316   \n",
       "8                0.983846   0.046154       0.969231            0.892308   \n",
       "9                0.156522   0.839130       0.795652            0.783478   \n",
       "\n",
       "   Mathematics For Machine Learning\\n  Visual Recognition\\n  \\\n",
       "0                            0.652823              0.567524   \n",
       "1                            0.842512              0.731443   \n",
       "2                            0.816084              0.700205   \n",
       "3                            0.540000              0.480000   \n",
       "4                            0.590903              0.524412   \n",
       "5                            0.674655              0.702871   \n",
       "6                            0.805647              0.435049   \n",
       "7                            0.572167              0.620411   \n",
       "8                            0.830769              0.509238   \n",
       "9                            0.613816              0.579582   \n",
       "\n",
       "   Natural Language Processing\\n  Reinforcement Learning  ...  \\\n",
       "0                       0.521580                0.488374  ...   \n",
       "1                       0.549325                0.665284  ...   \n",
       "2                       0.573415                0.628471  ...   \n",
       "3                       0.429055                0.441398  ...   \n",
       "4                       0.527750                0.556719  ...   \n",
       "5                       0.692182                0.700999  ...   \n",
       "6                       0.679479                0.501748  ...   \n",
       "7                       0.581299                0.480934  ...   \n",
       "8                       0.780406                0.708230  ...   \n",
       "9                       0.507669                0.597324  ...   \n",
       "\n",
       "   Digital CMOS VLSI Design   System design with FPGA   ASIC design   \\\n",
       "0                   0.213269                  0.198158      0.219903   \n",
       "1                   0.186374                  0.116541      0.091002   \n",
       "2                   0.286703                  0.291316      0.268711   \n",
       "3                   0.150923                  0.147789      0.128883   \n",
       "4                   0.200738                  0.158232      0.143106   \n",
       "5                   0.260440                  0.287519      0.109944   \n",
       "6                   0.188654                  0.184737      0.161104   \n",
       "7                   0.208242                  0.190226      0.153432   \n",
       "8                   0.365740                  0.345020      0.296863   \n",
       "9                   0.252843                  0.309108      0.267307   \n",
       "\n",
       "   VLSI Architecture Design\\n  \\\n",
       "0                    0.192434   \n",
       "1                    0.179229   \n",
       "2                    0.273038   \n",
       "3                    0.140921   \n",
       "4                    0.152737   \n",
       "5                    0.359962   \n",
       "6                    0.176151   \n",
       "7                    0.167763   \n",
       "8                    0.303036   \n",
       "9                    0.254291   \n",
       "\n",
       "   High level synthesis and optimization of Digital Circuits   \\\n",
       "0                                           0.171528            \n",
       "1                                           0.086310            \n",
       "2                                           0.237822            \n",
       "3                                           0.100833            \n",
       "4                                           0.080667            \n",
       "5                                           0.157738            \n",
       "6                                           0.126042            \n",
       "7                                           0.148611            \n",
       "8                                           0.205556            \n",
       "9                                           0.151510            \n",
       "\n",
       "   Digital Sociology   Privacy in the Digital Age  Technology Ethics and AI   \\\n",
       "0            0.456841                    0.631589                   0.549143   \n",
       "1            0.175676                    0.304539                   0.331408   \n",
       "2            0.377799                    0.449959                   0.460564   \n",
       "3            0.390946                    0.401083                   0.453971   \n",
       "4            0.252757                    0.404975                   0.347177   \n",
       "5            0.279247                    0.478958                   0.409980   \n",
       "6            0.238682                    0.276354                   0.317464   \n",
       "7            0.370174                    0.557767                   0.502347   \n",
       "8            0.199324                    0.535240                   0.393571   \n",
       "9            0.344301                    0.494538                   0.435913   \n",
       "\n",
       "   Techno-economics of networks   The Web and the Mind   \n",
       "0                       0.661655               0.555449  \n",
       "1                       0.205695               0.484020  \n",
       "2                       0.473721               0.512363  \n",
       "3                       0.437973               0.506538  \n",
       "4                       0.290243               0.419487  \n",
       "5                       0.369981               0.390385  \n",
       "6                       0.297466               0.383173  \n",
       "7                       0.469015               0.536355  \n",
       "8                       0.229470               0.638807  \n",
       "9                       0.437368               0.587347  \n",
       "\n",
       "[10 rows x 25 columns]"
      ]
     },
     "execution_count": 137,
     "metadata": {},
     "output_type": "execute_result"
    }
   ],
   "source": [
    "df = pd.DataFrame(clustered_df, columns = courses)\n",
    "df"
   ]
  },
  {
   "cell_type": "code",
   "execution_count": 138,
   "metadata": {},
   "outputs": [],
   "source": [
    "def svd(A):\n",
    "    \n",
    "    # Step 1: Compute the transpose of A\n",
    "    AT = A.T\n",
    "    # Step 2: Compute the product A x AT\n",
    "    ATA = A.dot(AT)\n",
    "    # Step 3: Compute the eigenvalues and eigenvectors of ATA\n",
    "    eigenvalues, eigenvectors = np.linalg.eig(ATA)\n",
    "    # Step 4: Sort the eigenvalues in descending order\n",
    "    sorted_idx = eigenvalues.argsort()[::-1]\n",
    "    eigenvalues = eigenvalues[sorted_idx]\n",
    "    eigenvectors = eigenvectors[:, sorted_idx]\n",
    "    # Step 5: Compute the diagonal matrix Sigma\n",
    "    Sigma = np.sqrt(eigenvalues)\n",
    "    # Step 6: Compute the pseudo-inverse of Sigma\n",
    "    inv_Sigma = np.zeros((A.shape[1], A.shape[0]))\n",
    "    print(A.shape)\n",
    "    inv_Sigma[:A.shape[0], :A.shape[0]] = np.diag(1.0 / Sigma)\n",
    "    # Step 7: Compute the product AT x V x inv(Sigma)\n",
    "    V = AT.dot(eigenvectors)\n",
    "    # Step 8: Normalize the columns of V\n",
    "    V = V / np.linalg.norm(V, axis=0)\n",
    "    # Step 9: Compute the product A x U x Sigma^-1\n",
    "    U = A.dot(V) / Sigma\n",
    "    return U, Sigma, V.T"
   ]
  },
  {
   "cell_type": "code",
   "execution_count": 139,
   "metadata": {},
   "outputs": [
    {
     "name": "stdout",
     "output_type": "stream",
     "text": [
      "(10, 25)\n"
     ]
    }
   ],
   "source": [
    "U,sigma,VT = svd(np.array(clustered_df))"
   ]
  },
  {
   "cell_type": "code",
   "execution_count": 140,
   "metadata": {},
   "outputs": [
    {
     "data": {
      "text/plain": [
       "((10, 10), (10,), (10, 25))"
      ]
     },
     "execution_count": 140,
     "metadata": {},
     "output_type": "execute_result"
    }
   ],
   "source": [
    "U.shape,sigma.shape,VT.shape"
   ]
  },
  {
   "cell_type": "code",
   "execution_count": 141,
   "metadata": {},
   "outputs": [],
   "source": [
    "k=6"
   ]
  },
  {
   "cell_type": "code",
   "execution_count": 142,
   "metadata": {},
   "outputs": [],
   "source": [
    "def reduced_svd(k,A):\n",
    "    U,sigma,VT = svd(A)\n",
    "    reduced_matrix = np.dot(np.dot(U[:,:k],np.diag(sigma[:k])),VT[:k,:])\n",
    "    return reduced_matrix\n"
   ]
  },
  {
   "cell_type": "code",
   "execution_count": 143,
   "metadata": {},
   "outputs": [
    {
     "name": "stdout",
     "output_type": "stream",
     "text": [
      "(10, 25)\n"
     ]
    },
    {
     "data": {
      "text/plain": [
       "list"
      ]
     },
     "execution_count": 143,
     "metadata": {},
     "output_type": "execute_result"
    }
   ],
   "source": [
    "reduced_matrix = reduced_svd(k,np.array(clustered_df))\n",
    "type(clustered_df)"
   ]
  },
  {
   "cell_type": "code",
   "execution_count": 144,
   "metadata": {},
   "outputs": [],
   "source": [
    "def EuclDist(vec1,vec2):\n",
    "    return np.linalg.norm(vec1 - vec2)"
   ]
  },
  {
   "cell_type": "code",
   "execution_count": 145,
   "metadata": {},
   "outputs": [],
   "source": [
    "def CosineSimilarity(vec1,vec2):\n",
    "    return np.dot(vec1,vec2)/(np.linalg.norm(vec1)*np.linalg.norm(vec1))\n"
   ]
  },
  {
   "cell_type": "markdown",
   "metadata": {},
   "source": [
    "new user with just core courses ratings. Now we need elective courses"
   ]
  },
  {
   "cell_type": "code",
   "execution_count": 146,
   "metadata": {},
   "outputs": [],
   "source": [
    "new_user = [0.2,0.8,0.2,0.6,0.9]\n",
    "new_user2 =[ 0.699459,\t0.545405\t,0.325405\t,0.615135\t,0.737838]\n",
    "sooraj = [0.4, 0.8,0.85,0.9,0.7]\n",
    "chinmay = [0.9,0.2,0.4,0.6 ,0.8]\n",
    "kritin = [0,0,0,0,0]"
   ]
  },
  {
   "cell_type": "code",
   "execution_count": 193,
   "metadata": {},
   "outputs": [
    {
     "data": {
      "text/plain": [
       "['Data Structures and Algorithms',\n",
       " 'Computer Architecture\\n',\n",
       " 'Discrete Mathematics\\n',\n",
       " 'Economics',\n",
       " 'Programming-2']"
      ]
     },
     "execution_count": 193,
     "metadata": {},
     "output_type": "execute_result"
    }
   ],
   "source": [
    "core_courses"
   ]
  },
  {
   "cell_type": "code",
   "execution_count": 147,
   "metadata": {},
   "outputs": [],
   "source": [
    "\n",
    "def find_cluster(reduced_matrix,new_user):\n",
    "    \n",
    "    min=EuclDist(reduced_matrix[0,:5],new_user)\n",
    "    cluster = 0\n",
    "    for i in range(len(reduced_matrix)):\n",
    "        sim = EuclDist(reduced_matrix[i,:5],new_user)#euclidean distance\n",
    "        # print(sim)\n",
    "        if sim<min:\n",
    "            min = sim\n",
    "            cluster=i\n",
    "    return cluster\n"
   ]
  },
  {
   "cell_type": "code",
   "execution_count": 155,
   "metadata": {},
   "outputs": [],
   "source": [
    "def findSimilarUsers(reduced_matrix,new_user):\n",
    "    similarity_user_cosines = []\n",
    "    for user in reduced_matrix:\n",
    "        # print(user)\n",
    "        theta = CosineSimilarity(user[0:5],new_user)\n",
    "        similarity_user_cosines.append(theta)\n",
    "    return similarity_user_cosines\n",
    "    "
   ]
  },
  {
   "cell_type": "code",
   "execution_count": 149,
   "metadata": {},
   "outputs": [
    {
     "data": {
      "text/plain": [
       "(10, 25)"
      ]
     },
     "execution_count": 149,
     "metadata": {},
     "output_type": "execute_result"
    }
   ],
   "source": [
    "reduced_matrix.shape"
   ]
  },
  {
   "cell_type": "code",
   "execution_count": 152,
   "metadata": {},
   "outputs": [
    {
     "data": {
      "text/plain": [
       "numpy.ndarray"
      ]
     },
     "execution_count": 152,
     "metadata": {},
     "output_type": "execute_result"
    }
   ],
   "source": [
    "all_users = all_users.to_numpy()\n",
    "type(all_users)\n"
   ]
  },
  {
   "cell_type": "code",
   "execution_count": 156,
   "metadata": {},
   "outputs": [
    {
     "data": {
      "text/plain": [
       "[0.7336860670194005,\n",
       " 0.8244897959183675,\n",
       " 0.5272206303724927,\n",
       " 0.8929001203369433,\n",
       " 0.9019607843137254,\n",
       " 0.7347670250896058,\n",
       " 0.525,\n",
       " 0.7462686567164178,\n",
       " 0.623826714801444,\n",
       " 0.6260162601626016,\n",
       " 0.6929895245769541,\n",
       " 0.7835256493366178,\n",
       " 0.6373626373626374,\n",
       " 0.6972789115646256,\n",
       " 0.639871382636656,\n",
       " 0.8,\n",
       " 0.7455830388692579,\n",
       " 0.691860465116279,\n",
       " 0.7424242424242424,\n",
       " 0.7046263345195729,\n",
       " 0.77602523659306,\n",
       " 0.6030150753768845,\n",
       " 0.8272251308900522,\n",
       " 0.62953995157385,\n",
       " 0.5774647887323943,\n",
       " 0.6809815950920246,\n",
       " 0.9299363057324842,\n",
       " 0.8451327433628318,\n",
       " 0.8251748251748252,\n",
       " 0.2,\n",
       " 0.8142076502732241,\n",
       " 0.8287895310796072,\n",
       " 0.6090909090909091,\n",
       " 0.7599999999999999,\n",
       " 0.7556390977443608,\n",
       " 0.6826086956521739,\n",
       " 0.6445993031358886,\n",
       " 0.7016393442622951,\n",
       " 0.525,\n",
       " 0.5960057952899064,\n",
       " 0.8571428571428571,\n",
       " 0.6821192052980133,\n",
       " 0.7499999999999999,\n",
       " 0.7046979865771812,\n",
       " 0.818181818181818,\n",
       " 0.5399999999999999,\n",
       " 0.6375321336760926,\n",
       " 0.6399999999999999,\n",
       " 0.7666666666666667,\n",
       " 1.0944881889763782,\n",
       " 0.625,\n",
       " 0.6420454545454544,\n",
       " 0.525,\n",
       " 0.6014669926650367,\n",
       " 0.6121212121212122,\n",
       " 0.625,\n",
       " 0.4333333333333334,\n",
       " 0.661596958174905,\n",
       " 0.6840891621829364,\n",
       " 0.6258064516129033,\n",
       " 0.8750000000000001,\n",
       " 1.0193548387096776,\n",
       " 0.5399999999999999,\n",
       " 0.6071938532671518,\n",
       " 0.7199999999999999,\n",
       " 0.605,\n",
       " 0.525,\n",
       " 0.5666666666666668,\n",
       " 0.6173184357541899,\n",
       " 0.6571428571428573,\n",
       " 0.6929577464788733,\n",
       " 0.8817204301075269,\n",
       " 0.7999999999999998,\n",
       " 0.5787965616045844,\n",
       " 0.625,\n",
       " 0.6528189910979229,\n",
       " 0.6451612903225806,\n",
       " 0.5647058823529413,\n",
       " 0.7106109324758842,\n",
       " 0.6142857142857142,\n",
       " 0.8413547237076651,\n",
       " 0.7108239095315025,\n",
       " 0.40000000000000013,\n",
       " 0.525,\n",
       " 0.6666666666666666,\n",
       " 0.652585579024035,\n",
       " 0.6999999999999998,\n",
       " 0.6049966239027685,\n",
       " 0.8222222222222222,\n",
       " 0.6666666666666666,\n",
       " 0.525,\n",
       " 0.857142857142857,\n",
       " 0.5612472160356348,\n",
       " 0.8541666666666667,\n",
       " 0.726027397260274,\n",
       " 0.5333333333333333,\n",
       " 0.5623342175066314,\n",
       " 0.6201923076923077,\n",
       " 0.8669950738916257,\n",
       " 0.9016393442622952,\n",
       " 0.44999999999999996,\n",
       " 0.702290076335878,\n",
       " 0.7114624505928853,\n",
       " 0.7031963470319634,\n",
       " 0.4333333333333334,\n",
       " 0.525,\n",
       " 0.846808510638298,\n",
       " 0.5917808219178082,\n",
       " 0.5499999999999999,\n",
       " 0.6307692307692307,\n",
       " 0.525,\n",
       " 0.9,\n",
       " 0.715319662243667,\n",
       " 0.5399999999999999,\n",
       " 0.7499999999999999,\n",
       " 0.5499999999999999,\n",
       " 0.7040816326530613,\n",
       " 0.6579055824481042,\n",
       " 0.5432098765432098,\n",
       " 0.5399999999999999,\n",
       " 0.5499999999999999,\n",
       " 0.5399999999999999,\n",
       " 0.4900990099009902,\n",
       " 0.525,\n",
       " 0.5399999999999999,\n",
       " 0.5544217687074832,\n",
       " 0.6486486486486486,\n",
       " 0.7008547008547008,\n",
       " 0.6479638580861214,\n",
       " 0.5399999999999999,\n",
       " 0.5647058823529413,\n",
       " 0.6191504679625628,\n",
       " 0.6333333333333335,\n",
       " 0.5999999999999999,\n",
       " 0.4333333333333334,\n",
       " 0.6690391459074733,\n",
       " 0.7987220447284346,\n",
       " 0.5399999999999999,\n",
       " 0.5399999999999999,\n",
       " 0.5399999999999999,\n",
       " 0.525,\n",
       " 0.5766233766233765,\n",
       " 0.5499999999999999,\n",
       " 0.475,\n",
       " 0.5775401069518717,\n",
       " 0.50990099009901,\n",
       " 0.6482758620689656,\n",
       " 0.6610169491525425,\n",
       " 0.6644951140065146,\n",
       " 0.6210588935157642,\n",
       " 0.6210588935157642,\n",
       " 0.6333333333333335,\n",
       " 0.851063829787234,\n",
       " 0.8235294117647057,\n",
       " 0.5666666666666668,\n",
       " 0.6042402826855124,\n",
       " 0.6352459016393444,\n",
       " 0.8857142857142856,\n",
       " 0.6313131313131313,\n",
       " 0.825242718446602,\n",
       " 0.9171597633136094,\n",
       " 0.7977528089887638]"
      ]
     },
     "execution_count": 156,
     "metadata": {},
     "output_type": "execute_result"
    }
   ],
   "source": [
    "min = findSimilarUsers(all_users,new_user)\n",
    "min"
   ]
  },
  {
   "cell_type": "code",
   "execution_count": null,
   "metadata": {},
   "outputs": [
    {
     "data": {
      "text/plain": [
       "0.6440642057031719"
      ]
     },
     "execution_count": 64,
     "metadata": {},
     "output_type": "execute_result"
    }
   ],
   "source": [
    "cos = CosineSimilarity(reduced_matrix[0][0:5],new_user)\n",
    "cos"
   ]
  },
  {
   "cell_type": "code",
   "execution_count": null,
   "metadata": {},
   "outputs": [
    {
     "data": {
      "text/plain": [
       "3"
      ]
     },
     "execution_count": 31,
     "metadata": {},
     "output_type": "execute_result"
    }
   ],
   "source": [
    "find_cluster(reduced_matrix,kritin)#testing"
   ]
  },
  {
   "cell_type": "code",
   "execution_count": null,
   "metadata": {},
   "outputs": [],
   "source": [
    "def find_elective_ratings(reduced_matrix,new_user):\n",
    "    cluster = find_cluster(reduced_matrix,new_user)\n",
    "    elective_ratings = reduced_matrix[cluster,5:]\n",
    "    return elective_ratings\n"
   ]
  },
  {
   "cell_type": "code",
   "execution_count": null,
   "metadata": {},
   "outputs": [],
   "source": [
    "def find_elective_ratings_from_og(reduced_matrix,original,new_user):\n",
    "    cluster = find_cluster(reduced_matrix,new_user)\n",
    "    elective_ratings = original[cluster,5:]\n",
    "    return elective_ratings\n"
   ]
  },
  {
   "cell_type": "code",
   "execution_count": null,
   "metadata": {},
   "outputs": [],
   "source": [
    "elective_ratings = find_elective_ratings(reduced_matrix,kritin)"
   ]
  },
  {
   "cell_type": "code",
   "execution_count": null,
   "metadata": {},
   "outputs": [],
   "source": [
    "elective_ratings2 = find_elective_ratings_from_og(reduced_matrix,np.array(clustered_df),kritin)"
   ]
  },
  {
   "cell_type": "markdown",
   "metadata": {},
   "source": [
    "# ranking of electives"
   ]
  },
  {
   "cell_type": "code",
   "execution_count": 162,
   "metadata": {},
   "outputs": [
    {
     "data": {
      "text/plain": [
       "((162, 25), 162)"
      ]
     },
     "execution_count": 162,
     "metadata": {},
     "output_type": "execute_result"
    }
   ],
   "source": [
    "all_users.shape,len(min)\n"
   ]
  },
  {
   "cell_type": "code",
   "execution_count": 166,
   "metadata": {},
   "outputs": [],
   "source": [
    "d={tuple(all_users[i]):min[i] for i in range(len(all_users))}\n"
   ]
  },
  {
   "cell_type": "code",
   "execution_count": null,
   "metadata": {},
   "outputs": [],
   "source": []
  },
  {
   "cell_type": "code",
   "execution_count": 167,
   "metadata": {},
   "outputs": [],
   "source": [
    "def getClosestUsers(min,all_users):\n",
    "    users_ranked = sorted(all_users,key=lambda x:d[tuple(x)])\n",
    "    return users_ranked"
   ]
  },
  {
   "cell_type": "code",
   "execution_count": 176,
   "metadata": {},
   "outputs": [
    {
     "name": "stdout",
     "output_type": "stream",
     "text": [
      "0\n",
      "1\n",
      "2\n",
      "3\n",
      "4\n"
     ]
    }
   ],
   "source": [
    "for i in range(5):\n",
    "    print(i)"
   ]
  },
  {
   "cell_type": "code",
   "execution_count": 189,
   "metadata": {},
   "outputs": [
    {
     "data": {
      "text/plain": [
       "array([1.        , 0.2       , 0.8       , 0.        , 0.6       ,\n",
       "       1.        , 1.        , 0.4       , 0.3       , 0.3       ,\n",
       "       0.9       , 0.2       , 0.4       , 0.3       , 0.5       ,\n",
       "       0.2       , 0.        , 0.        , 0.2       , 0.        ,\n",
       "       0.        , 0.        , 0.        , 0.        , 0.30217949])"
      ]
     },
     "execution_count": 189,
     "metadata": {},
     "output_type": "execute_result"
    }
   ],
   "source": [
    "users_ranked = getClosestUsers(min,all_users)\n",
    "user_rating = np.zeros(25)\n",
    "for i in range(5):\n",
    "    user_rating = np.add(users_ranked[i],user_rating)\n",
    "user_rating = user_rating/5\n",
    "user_rating"
   ]
  },
  {
   "cell_type": "code",
   "execution_count": null,
   "metadata": {},
   "outputs": [],
   "source": [
    "def get_electives_ranked(courses,elective_ratings):\n",
    "    d={courses[5:][i]: elective_ratings[i] for i in range(20)}\n",
    "\n",
    "    elective_ranked = sorted(courses[5:], key=lambda x : -d[x])\n",
    "    return elective_ranked  "
   ]
  },
  {
   "cell_type": "code",
   "execution_count": 192,
   "metadata": {},
   "outputs": [
    {
     "data": {
      "text/plain": [
       "['Machine Learning\\n',\n",
       " 'Software Production Engineering\\n',\n",
       " 'Computer Graphics\\n',\n",
       " 'Digital CMOS VLSI Design ',\n",
       " 'Visual Recognition\\n',\n",
       " 'Reinforcement Learning',\n",
       " 'High level synthesis and optimization of Digital Circuits ',\n",
       " 'Data Visualization\\n',\n",
       " 'ASIC design ',\n",
       " 'Programming Languages\\n',\n",
       " 'Cloud Computing\\n',\n",
       " 'VLSI Architecture Design\\n',\n",
       " 'Mathematics For Machine Learning\\n',\n",
       " 'System design with FPGA ',\n",
       " 'Digital Sociology ',\n",
       " 'Techno-economics of networks ',\n",
       " 'Natural Language Processing\\n',\n",
       " 'Privacy in the Digital Age',\n",
       " 'Technology Ethics and AI ',\n",
       " 'The Web and the Mind ']"
      ]
     },
     "execution_count": 192,
     "metadata": {},
     "output_type": "execute_result"
    }
   ],
   "source": [
    "user_elective_ranked=get_electives_ranked(courses,user_rating)\n",
    "user_elective_ranked"
   ]
  },
  {
   "cell_type": "code",
   "execution_count": null,
   "metadata": {},
   "outputs": [],
   "source": [
    "elective_ranked = get_electives_ranked(courses,elective_ratings)\n"
   ]
  },
  {
   "cell_type": "code",
   "execution_count": null,
   "metadata": {},
   "outputs": [
    {
     "data": {
      "text/plain": [
       "['Machine Learning\\n',\n",
       " 'Software Production Engineering\\n',\n",
       " 'Programming Languages\\n',\n",
       " 'Cloud Computing\\n',\n",
       " 'Visual Recognition\\n',\n",
       " 'Mathematics For Machine Learning\\n',\n",
       " 'Data Visualization\\n',\n",
       " 'The Web and the Mind ',\n",
       " 'Reinforcement Learning',\n",
       " 'Technology Ethics and AI ',\n",
       " 'Techno-economics of networks ',\n",
       " 'Privacy in the Digital Age',\n",
       " 'Natural Language Processing\\n',\n",
       " 'Digital Sociology ',\n",
       " 'Computer Graphics\\n',\n",
       " 'Digital CMOS VLSI Design ',\n",
       " 'ASIC design ',\n",
       " 'System design with FPGA ',\n",
       " 'VLSI Architecture Design\\n',\n",
       " 'High level synthesis and optimization of Digital Circuits ']"
      ]
     },
     "execution_count": 38,
     "metadata": {},
     "output_type": "execute_result"
    }
   ],
   "source": [
    "elective_ranked"
   ]
  },
  {
   "cell_type": "code",
   "execution_count": null,
   "metadata": {},
   "outputs": [
    {
     "data": {
      "text/plain": [
       "['Machine Learning\\n',\n",
       " 'Software Production Engineering\\n',\n",
       " 'Programming Languages\\n',\n",
       " 'Data Visualization\\n',\n",
       " 'Cloud Computing\\n',\n",
       " 'Mathematics For Machine Learning\\n',\n",
       " 'The Web and the Mind ',\n",
       " 'Visual Recognition\\n',\n",
       " 'Technology Ethics and AI ',\n",
       " 'Reinforcement Learning',\n",
       " 'Techno-economics of networks ',\n",
       " 'Natural Language Processing\\n',\n",
       " 'Privacy in the Digital Age',\n",
       " 'Digital Sociology ',\n",
       " 'Computer Graphics\\n',\n",
       " 'Digital CMOS VLSI Design ',\n",
       " 'System design with FPGA ',\n",
       " 'VLSI Architecture Design\\n',\n",
       " 'ASIC design ',\n",
       " 'High level synthesis and optimization of Digital Circuits ']"
      ]
     },
     "execution_count": 39,
     "metadata": {},
     "output_type": "execute_result"
    }
   ],
   "source": [
    "elective_ranked2 = get_electives_ranked(courses,elective_ratings2)\n",
    "elective_ranked2"
   ]
  },
  {
   "cell_type": "markdown",
   "metadata": {},
   "source": [
    "change the nan values to average of the item instead of average of user ratings. -- done\n",
    "\n",
    "in find elective rating find the ratings from the clustered matrix and not reduced matrix."
   ]
  },
  {
   "cell_type": "code",
   "execution_count": null,
   "metadata": {},
   "outputs": [],
   "source": [
    "def train_recommendations(X_train,num_clusters):\n",
    "    clustered_df=get_clustered_df(X_train,num_clusters)\n",
    "    reduced_matrix=reduced_svd(6,np.array(clustered_df))\n",
    "    return reduced_matrix"
   ]
  },
  {
   "cell_type": "code",
   "execution_count": null,
   "metadata": {},
   "outputs": [],
   "source": [
    "def train_recommendations(X_train,num_clusters):\n",
    "    clustered_df=get_clustered_df(X_train,num_clusters)\n",
    "    reduced_matrix=reduced_svd(6,np.array(clustered_df))\n",
    "    return reduced_matrix"
   ]
  },
  {
   "cell_type": "code",
   "execution_count": null,
   "metadata": {},
   "outputs": [],
   "source": [
    "def test_recommendations(X_test,reduced_matrix):\n",
    "    pred = []\n",
    "    for i in range(len(X_test)):\n",
    "        new_user = X_test[i]\n",
    "        elective_ratings = find_elective_ratings(reduced_matrix,new_user[:5])\n",
    "        elective_ranked = get_electives_ranked(courses,elective_ratings)\n",
    "        pred.append(elective_ratings)\n",
    "    return pred\n"
   ]
  },
  {
   "cell_type": "code",
   "execution_count": null,
   "metadata": {},
   "outputs": [
    {
     "name": "stdout",
     "output_type": "stream",
     "text": [
      "{'2': [0, 1, 5, 10, 12, 16, 17, 19, 21, 26, 27, 29, 34, 37, 42, 43, 44, 47, 48, 52, 54, 56, 57, 69, 70, 84, 86, 88, 90, 91, 94, 98, 99, 100, 102, 108, 111, 112, 113, 115, 119, 122, 124, 128, 131, 132, 134, 135, 139, 140, 142, 143, 145, 150, 151], '4': [2, 6, 9, 24, 35, 46, 51, 61, 63, 74, 77, 78, 87, 96, 110, 120, 121, 136], '9': [3, 11, 15, 22, 28, 40, 65, 67, 68, 80, 95, 109, 116, 126, 127, 129, 130, 137, 144, 147, 148, 149, 152], '8': [4, 13, 20, 30, 32, 45, 73, 81, 85, 104, 105, 107, 118, 138], '0': [7, 23, 25, 39, 64, 93, 101, 114, 123, 125, 133, 141], '1': [8, 18, 41, 53, 55, 66, 71, 75, 97, 106], '6': [14, 33, 49, 146], '3': [31, 38, 59, 83], '5': [36, 58, 62, 72, 79, 89], '7': [50, 60, 76, 82, 92, 103, 117]}\n",
      "(10, 25)\n"
     ]
    }
   ],
   "source": [
    "reduced_matrix = train_recommendations(train,10)"
   ]
  },
  {
   "cell_type": "code",
   "execution_count": null,
   "metadata": {},
   "outputs": [],
   "source": [
    "pred=test_recommendations(test.to_numpy(),reduced_matrix)"
   ]
  },
  {
   "cell_type": "code",
   "execution_count": null,
   "metadata": {},
   "outputs": [],
   "source": [
    "def get_error(pred,test):\n",
    "    mse =[]\n",
    "    for i in range(len(pred)):\n",
    "        mse.append((EuclDist(pred[i],test[i][5:])))\n",
    "\n",
    "    return sum(mse)/len(mse)"
   ]
  },
  {
   "cell_type": "code",
   "execution_count": null,
   "metadata": {},
   "outputs": [
    {
     "data": {
      "text/plain": [
       "1.375241208468509"
      ]
     },
     "execution_count": 53,
     "metadata": {},
     "output_type": "execute_result"
    }
   ],
   "source": [
    "get_error(pred,test.to_numpy())"
   ]
  },
  {
   "cell_type": "code",
   "execution_count": null,
   "metadata": {},
   "outputs": [],
   "source": [
    "# for i in pred:\n",
    "#     elective_ranked = get_electives_ranked(courses,i)\n",
    "#     print(elective_ranked)\n",
    "#     print(\"*****************\")"
   ]
  },
  {
   "cell_type": "markdown",
   "metadata": {},
   "source": [
    "https://medium.com/more-python-less-problems/principal-component-analysis-and-k-means-clustering-to-visualize-a-high-dimensional-dataset-577b2a7a5fe2"
   ]
  },
  {
   "cell_type": "code",
   "execution_count": null,
   "metadata": {},
   "outputs": [
    {
     "data": {
      "image/png": "[encoded data removed]",
      "text/plain": [
       "<Figure size 640x480 with 1 Axes>"
      ]
     },
     "metadata": {},
     "output_type": "display_data"
    }
   ],
   "source": [
    "from sklearn.decomposition import PCA\n",
    "X_std = StandardScaler().fit_transform(df)\n",
    "pca = PCA(n_components=4)\n",
    "principalComponents = pca.fit_transform(X_std)\n",
    "# Plot the explained variances\n",
    "features = range(pca.n_components_)\n",
    "plt.bar(features, pca.explained_variance_ratio_, color='black')\n",
    "plt.xlabel('PCA features')\n",
    "plt.ylabel('variance %')\n",
    "plt.xticks(features)\n",
    "# Save components to a DataFrame\n",
    "PCA_components = pd.DataFrame(principalComponents)"
   ]
  },
  {
   "cell_type": "code",
   "execution_count": null,
   "metadata": {},
   "outputs": [
    {
     "data": {
      "text/plain": [
       "Text(0, 0.5, 'PCA 3')"
      ]
     },
     "execution_count": 341,
     "metadata": {},
     "output_type": "execute_result"
    },
    {
     "data": {
      "image/png": "[encoded data removed]",
      "text/plain": [
       "<Figure size 640x480 with 1 Axes>"
      ]
     },
     "metadata": {},
     "output_type": "display_data"
    }
   ],
   "source": [
    "plt.scatter(PCA_components[1], PCA_components[2], alpha=.5, color='black')\n",
    "plt.xlabel('PCA 2')\n",
    "plt.ylabel('PCA 3')\n"
   ]
  },
  {
   "cell_type": "code",
   "execution_count": null,
   "metadata": {},
   "outputs": [
    {
     "data": {
      "image/png": "[encoded data removed]",
      "text/plain": [
       "<Figure size 640x480 with 1 Axes>"
      ]
     },
     "metadata": {},
     "output_type": "display_data"
    }
   ],
   "source": [
    "ks = range(1, 10)\n",
    "inertias = []\n",
    "for k in ks:\n",
    "    # Create a KMeans instance with k clusters: model\n",
    "    model = KMeans(n_clusters=k)\n",
    "    \n",
    "    # Fit model to samples\n",
    "    model.fit(PCA_components.iloc[:,:3])\n",
    "    \n",
    "    # Append the inertia to the list of inertias\n",
    "    inertias.append(model.inertia_)\n",
    "    \n",
    "plt.plot(ks, inertias, '-o', color='black')\n",
    "plt.xlabel('number of clusters, k')\n",
    "plt.ylabel('inertia')\n",
    "plt.xticks(ks)\n",
    "plt.show()"
   ]
  },
  {
   "cell_type": "code",
   "execution_count": null,
   "metadata": {},
   "outputs": [],
   "source": []
  }
 ],
 "metadata": {
  "kernelspec": {
   "display_name": "Python 3.10.6 64-bit",
   "language": "python",
   "name": "python3"
  },
  "language_info": {
   "codemirror_mode": {
    "name": "ipython",
    "version": 3
   },
   "file_extension": ".py",
   "mimetype": "text/x-python",
   "name": "python",
   "nbconvert_exporter": "python",
   "pygments_lexer": "ipython3",
   "version": "3.10.6"
  },
  "orig_nbformat": 4,
  "vscode": {
   "interpreter": {
    "hash": "e7370f93d1d0cde622a1f8e1c04877d8463912d04d973331ad4851f04de6915a"
   }
  }
 },
 "nbformat": 4,
 "nbformat_minor": 2
}
